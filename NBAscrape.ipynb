{
 "cells": [
  {
   "cell_type": "code",
   "execution_count": 1,
   "id": "039c5b4f",
   "metadata": {},
   "outputs": [],
   "source": [
    "%load_ext autoreload\n",
    "%autoreload 2"
   ]
  },
  {
   "cell_type": "code",
   "execution_count": 2,
   "id": "3ccbaa1e-76ff-4159-9439-56afdc39033c",
   "metadata": {},
   "outputs": [],
   "source": [
    "from bs4 import BeautifulSoup\n",
    "import requests\n",
    "from pathlib import Path\n",
    "import pandas as pd\n",
    "import re\n",
    "import os\n",
    "import pickle\n",
    "import sqlite3\n",
    "import numpy as np\n",
    "import datetime\n",
    "#import html5lib\n",
    "headers = {'User-Agent':'Mozilla/5.0'}\n",
    "import time\n",
    "from nba.nba import data"
   ]
  },
  {
   "cell_type": "markdown",
   "id": "7d02d27d",
   "metadata": {},
   "source": [
    "#need 18 dec - april  \n",
    "#need all of 20  \n",
    "21 past feb 17  "
   ]
  },
  {
   "cell_type": "code",
   "execution_count": 3,
   "id": "b2458a22",
   "metadata": {},
   "outputs": [
    {
     "name": "stdout",
     "output_type": "stream",
     "text": [
      "boston_id: 1610612738\n"
     ]
    }
   ],
   "source": [
    "from nba_api.stats.static import teams\n",
    "nba_teams = teams.get_teams()\n",
    "\n",
    "# Select the dictionary for the Pacers, which contains their team ID\n",
    "bos = [team for team in nba_teams if team['abbreviation'] == 'BOS'][0]\n",
    "bos_id = bos['id']\n",
    "print(f'boston_id: {bos_id}')"
   ]
  },
  {
   "cell_type": "code",
   "execution_count": null,
   "id": "c4c61434",
   "metadata": {},
   "outputs": [],
   "source": []
  },
  {
   "cell_type": "code",
   "execution_count": 4,
   "id": "29724183",
   "metadata": {},
   "outputs": [],
   "source": [
    "from nba_api.stats.endpoints import leaguegamefinder\n",
    "from nba_api.stats.library.parameters import Season\n",
    "from nba_api.stats.library.parameters import SeasonType\n",
    "\n",
    "\n",
    "gamefinder = leaguegamefinder.LeagueGameFinder(league_id_nullable = '00',\n",
    "                                               date_from_nullable = '10/01/2017',\n",
    "                                               season_type_nullable = 'Regular Season'\n",
    "                                                \n",
    "                                               )  \n",
    "game_dates = gamefinder.get_data_frames()[0]['GAME_DATE'].unique()\n",
    "games_dict = gamefinder.get_normalized_dict()\n",
    "games = games_dict['LeagueGameFinderResults']\n",
    "game_ids = list(set([v for l in games for k,v in l.items() if k=='GAME_ID']))\n",
    "# game = games[0]\n",
    "# game_id = game['GAME_ID']\n",
    "# game_matchup = game['MATCHUP']\n",
    "\n",
    "# print(f'Searching through {len(games)} game(s) for the game_id of {game_id} where {game_matchup}')"
   ]
  },
  {
   "cell_type": "markdown",
   "id": "a576fed1",
   "metadata": {},
   "source": [
    "### Shooting information"
   ]
  },
  {
   "cell_type": "code",
   "execution_count": 5,
   "id": "4d04117f",
   "metadata": {},
   "outputs": [],
   "source": [
    "from nba_api.stats.endpoints import CommonTeamRoster,LeagueDashPlayerShotLocations,CommonPlayerInfo,PlayerProfileV2,PlayerNextNGames,DraftCombineStats,LeagueDashPtStats,LeagueDashTeamShotLocations\n",
    "#shots = LeagueDashPlayerShotLocations(date_from_nullable = '02/13/2024',team_id_nullable = 1610612738).get_data_frames()"
   ]
  },
  {
   "cell_type": "code",
   "execution_count": null,
   "id": "51a9cda8",
   "metadata": {},
   "outputs": [],
   "source": [
    "DraftCombinePlayerAnthro().get_data_frames()[0]"
   ]
  },
  {
   "cell_type": "code",
   "execution_count": 28,
   "id": "92e82193",
   "metadata": {},
   "outputs": [],
   "source": [
    "octdf = pd.DataFrame([pd.to_datetime(x) for x in game_dates  if pd.to_datetime(x).month==10],columns = ['day'])"
   ]
  },
  {
   "cell_type": "code",
   "execution_count": 36,
   "id": "f04c1329",
   "metadata": {},
   "outputs": [],
   "source": [
    "octdf['year'] = [x.year for x in octdf.day]"
   ]
  },
  {
   "cell_type": "code",
   "execution_count": 56,
   "id": "edca860b",
   "metadata": {},
   "outputs": [],
   "source": [
    "starts = [pd.to_datetime(x) for x in octdf.groupby('year').day.min().values]"
   ]
  },
  {
   "cell_type": "code",
   "execution_count": 57,
   "id": "e9d30178",
   "metadata": {},
   "outputs": [],
   "source": [
    "for date in game_dates:\n",
    "    if date in starts:\n",
    "        print(True)"
   ]
  },
  {
   "cell_type": "code",
   "execution_count": 54,
   "id": "9a252c1c",
   "metadata": {},
   "outputs": [
    {
     "data": {
      "text/plain": [
       "array(False)"
      ]
     },
     "execution_count": 54,
     "metadata": {},
     "output_type": "execute_result"
    }
   ],
   "source": [
    "np.isin(pd.to_datetime(date),starts)"
   ]
  },
  {
   "cell_type": "code",
   "execution_count": 51,
   "id": "5bc87d35",
   "metadata": {},
   "outputs": [
    {
     "name": "stderr",
     "output_type": "stream",
     "text": [
      "/var/folders/y5/cm5rrvr94yx214kzmtmsbvz40000gn/T/ipykernel_16922/826002457.py:1: FutureWarning: elementwise comparison failed; returning scalar instead, but in the future will perform elementwise comparison\n",
      "  np.any(starts == date)\n"
     ]
    },
    {
     "data": {
      "text/plain": [
       "False"
      ]
     },
     "execution_count": 51,
     "metadata": {},
     "output_type": "execute_result"
    }
   ],
   "source": [
    "np.any(starts == date)"
   ]
  },
  {
   "cell_type": "code",
   "execution_count": 59,
   "id": "0256b95b",
   "metadata": {},
   "outputs": [
    {
     "data": {
      "text/plain": [
       "'2023-03-01'"
      ]
     },
     "execution_count": 59,
     "metadata": {},
     "output_type": "execute_result"
    }
   ],
   "source": [
    "date"
   ]
  },
  {
   "cell_type": "code",
   "execution_count": 60,
   "id": "79faf934",
   "metadata": {},
   "outputs": [
    {
     "name": "stdout",
     "output_type": "stream",
     "text": [
      "starting at 20:23\n",
      "through 25 days in 0.24 with 0 missing\n",
      "through 50 days in 0.37 with 0 missing\n",
      "through 75 days in 0.53 with 0 missing\n",
      "through 100 days in 0.66 with 0 missing\n",
      "through 125 days in 0.84 with 0 missing\n",
      "through 150 days in 1.13 with 0 missing\n",
      "saved 2023-24 season rebs\n",
      "through 175 days in 1.58 with 0 missing\n",
      "through 200 days in 1.95 with 0 missing\n",
      "through 225 days in 3.18 with 0 missing\n",
      "through 250 days in 3.60 with 0 missing\n",
      "through 275 days in 4.26 with 0 missing\n",
      "through 300 days in 4.75 with 0 missing\n",
      "saved 2022-23 season rebs\n",
      "through 325 days in 8.45 with 0 missing\n",
      "through 350 days in 8.84 with 0 missing\n",
      "through 375 days in 9.29 with 0 missing\n",
      "through 400 days in 9.74 with 0 missing\n",
      "through 425 days in 10.22 with 0 missing\n",
      "through 475 days in 11.13 with 0 missing\n",
      "saved 2021-22 season rebs\n",
      "through 500 days in 11.64 with 0 missing\n",
      "through 525 days in 12.21 with 0 missing\n",
      "through 550 days in 12.68 with 0 missing\n",
      "through 575 days in 13.15 with 0 missing\n",
      "through 600 days in 13.53 with 0 missing\n",
      "through 625 days in 16.69 with 0 missing\n",
      "through 650 days in 17.36 with 0 missing\n",
      "through 675 days in 17.90 with 0 missing\n",
      "through 700 days in 18.42 with 0 missing\n",
      "through 725 days in 19.02 with 0 missing\n",
      "through 750 days in 23.01 with 0 missing\n",
      "through 775 days in 23.70 with 0 missing\n",
      "saved 2019-20 season rebs\n",
      "through 800 days in 26.04 with 0 missing\n",
      "through 825 days in 26.41 with 0 missing\n",
      "through 850 days in 26.86 with 0 missing\n",
      "through 875 days in 27.26 with 0 missing\n",
      "through 925 days in 28.45 with 0 missing\n",
      "saved 2018-19 season rebs\n",
      "through 950 days in 29.13 with 0 missing\n",
      "through 975 days in 29.76 with 0 missing\n",
      "through 1000 days in 30.14 with 0 missing\n",
      "through 1025 days in 30.54 with 0 missing\n",
      "through 1050 days in 30.94 with 0 missing\n",
      "through 1075 days in 34.26 with 0 missing\n",
      "through 1100 days in 34.76 with 0 missing\n",
      "saved 2017-18 season rebs\n",
      "finished at 20:58\n",
      "missing 0\n"
     ]
    }
   ],
   "source": [
    "missing = []\n",
    "l = []\n",
    "final = pd.DataFrame()\n",
    "t = time.time()\n",
    "games = gamefinder.get_data_frames()[0][['GAME_DATE','TEAM_ID','GAME_ID']]\n",
    "games.GAME_DATE = pd.to_datetime(games.GAME_DATE)\n",
    "print('starting at {}'.format(time.strftime('%H:%M')))\n",
    "for ct,date in enumerate(game_dates):\n",
    "    try:\n",
    "        d = pd.to_datetime(date)\n",
    "        season = '{}-{}'.format(d.year,str(d.year+1)[-2:]) if d.month>=10 else '{}-{}'.format(d.year-1,str(d.year)[-2:])\n",
    "\n",
    "        rbs = LeagueDashPtStats(pt_measure_type='Rebounding',player_or_team='Player',\n",
    "                               date_from_nullable=date,\n",
    "                               date_to_nullable = date,\n",
    "                               season = season\n",
    "                               ).get_data_frames()[0][['PLAYER_ID','TEAM_ID','OREB','OREB_CONTEST','OREB_CHANCES','OREB_CHANCE_DEFER','AVG_OREB_DIST',\n",
    "                             'DREB','DREB_CONTEST','DREB_CHANCES','DREB_CHANCE_DEFER','AVG_DREB_DIST']]\n",
    "        temp = rbs.merge(games[games.GAME_DATE==d],how='left',on=['TEAM_ID'])\n",
    "        final = pd.concat([final,temp])\n",
    "    except:\n",
    "        missing.append(date)\n",
    "    if ct % 18 == 0:\n",
    "        time.sleep(np.random.choice(range(1,12),1)[0])\n",
    "    elif (ct % 25 == 0) & (ct!=0):\n",
    "        print('through {} days in {:.2f} with {:,} missing'.format(ct,((time.time() -t)/60),len(missing)))\n",
    "        \n",
    "    l.append(final.to_dict(orient='records'))\n",
    "    if d in starts:\n",
    "        pickle.dump(l,open('nba/data/pickle/plyrRebs{}.pkl'.format(season),'wb'))   \n",
    "        print('\\tsaved {} season rebs'.format(season))\n",
    "        l = []\n",
    "        final = pd.DataFrame()\n",
    "\n",
    "print('finished at {}'.format(time.strftime('%H:%M')))\n",
    "print('missing {:_}'.format(len(missing)))"
   ]
  },
  {
   "cell_type": "code",
   "execution_count": 62,
   "id": "7578cdcf",
   "metadata": {},
   "outputs": [
    {
     "data": {
      "text/plain": [
       "['advbox.pkl',\n",
       " 'plyrRebsupt800.pkl',\n",
       " 'plyrRebs2019-20pkl',\n",
       " 'shooting2.pkl',\n",
       " 'quarter2Info.pkl',\n",
       " 'shooting.pkl',\n",
       " 'plyrRebs2017-18pkl',\n",
       " 'plyrRebs2023-24pkl',\n",
       " 'plyrRebsup701up.pkl',\n",
       " 'dribbleThru500days.pkl',\n",
       " 'plyrRebs2021-22pkl',\n",
       " 'drbShots.pkl',\n",
       " 'plyrRebs2022-23pkl',\n",
       " 'baskets.pkl',\n",
       " 'plyrShots.pkl',\n",
       " 'quarterInfo.pkl',\n",
       " 'box.pkl',\n",
       " 'plyrRebs2018-19pkl']"
      ]
     },
     "execution_count": 62,
     "metadata": {},
     "output_type": "execute_result"
    }
   ],
   "source": [
    "os.listdir('nba/data/pickle')"
   ]
  },
  {
   "cell_type": "code",
   "execution_count": 64,
   "id": "3b91ef8e",
   "metadata": {},
   "outputs": [],
   "source": [
    "rbs23 = pd.read_pickle('nba/data/pickle/plyrRebs2023-24pkl')"
   ]
  },
  {
   "cell_type": "code",
   "execution_count": null,
   "id": "d91bef29",
   "metadata": {},
   "outputs": [],
   "source": [
    "PlyrCombine"
   ]
  },
  {
   "cell_type": "code",
   "execution_count": null,
   "id": "26525cd9",
   "metadata": {},
   "outputs": [],
   "source": [
    "for date in game_dates:\n",
    "\n",
    "    rbs = LeagueDashPtStats(pt_measure_type='Rebounding',player_or_team='Player',\n",
    "                           date_from_nullable=date,\n",
    "                           ate_to_nullable = date).get_data_frames()[0]\n",
    "    rbs['GAME_DATE'] = date"
   ]
  },
  {
   "cell_type": "code",
   "execution_count": null,
   "id": "ee3fb04d",
   "metadata": {},
   "outputs": [],
   "source": [
    "rbs.get_data_frames()[0]["
   ]
  },
  {
   "cell_type": "markdown",
   "id": "0185a02b",
   "metadata": {},
   "source": [
    "### First Baskets"
   ]
  },
  {
   "cell_type": "code",
   "execution_count": 69,
   "id": "26669a71",
   "metadata": {},
   "outputs": [],
   "source": [
    "from nba_api.stats.endpoints import BoxScoreSummaryV2,BoxScoreTraditionalV2,BoxScoreAdvancedV2,PlayByPlayV2,LeagueDashOppPtShot"
   ]
  },
  {
   "cell_type": "code",
   "execution_count": null,
   "id": "349445ab",
   "metadata": {},
   "outputs": [],
   "source": [
    "box = BoxScoreAdvancedV2('0022300061')"
   ]
  },
  {
   "cell_type": "code",
   "execution_count": null,
   "id": "1c97ba8e",
   "metadata": {},
   "outputs": [],
   "source": [
    "box.get_data_frames()[0]"
   ]
  },
  {
   "cell_type": "code",
   "execution_count": 7,
   "id": "5bd249f3",
   "metadata": {},
   "outputs": [
    {
     "ename": "KeyboardInterrupt",
     "evalue": "",
     "output_type": "error",
     "traceback": [
      "\u001b[0;31m---------------------------------------------------------------------------\u001b[0m",
      "\u001b[0;31mKeyboardInterrupt\u001b[0m                         Traceback (most recent call last)",
      "\u001b[0;32m~/opt/anaconda3/lib/python3.9/site-packages/pandas/io/pickle.py\u001b[0m in \u001b[0;36mread_pickle\u001b[0;34m(filepath_or_buffer, compression, storage_options)\u001b[0m\n\u001b[1;32m    204\u001b[0m                     \u001b[0mwarnings\u001b[0m\u001b[0;34m.\u001b[0m\u001b[0msimplefilter\u001b[0m\u001b[0;34m(\u001b[0m\u001b[0;34m\"ignore\"\u001b[0m\u001b[0;34m,\u001b[0m \u001b[0mWarning\u001b[0m\u001b[0;34m)\u001b[0m\u001b[0;34m\u001b[0m\u001b[0;34m\u001b[0m\u001b[0m\n\u001b[0;32m--> 205\u001b[0;31m                     \u001b[0;32mreturn\u001b[0m \u001b[0mpickle\u001b[0m\u001b[0;34m.\u001b[0m\u001b[0mload\u001b[0m\u001b[0;34m(\u001b[0m\u001b[0mhandles\u001b[0m\u001b[0;34m.\u001b[0m\u001b[0mhandle\u001b[0m\u001b[0;34m)\u001b[0m\u001b[0;34m\u001b[0m\u001b[0;34m\u001b[0m\u001b[0m\n\u001b[0m\u001b[1;32m    206\u001b[0m             \u001b[0;32mexcept\u001b[0m \u001b[0mexcs_to_catch\u001b[0m\u001b[0;34m:\u001b[0m\u001b[0;34m\u001b[0m\u001b[0;34m\u001b[0m\u001b[0m\n",
      "\u001b[0;32m~/opt/anaconda3/lib/python3.9/site-packages/pandas/_libs/tslibs/timestamps.pyx\u001b[0m in \u001b[0;36mpandas._libs.tslibs.timestamps._unpickle_timestamp\u001b[0;34m()\u001b[0m\n",
      "\u001b[0;32m~/opt/anaconda3/lib/python3.9/site-packages/pandas/_libs/tslibs/timestamps.pyx\u001b[0m in \u001b[0;36mpandas._libs.tslibs.timestamps.Timestamp.__new__\u001b[0;34m()\u001b[0m\n",
      "\u001b[0;32m~/opt/anaconda3/lib/python3.9/site-packages/pandas/_libs/tslibs/conversion.pyx\u001b[0m in \u001b[0;36mpandas._libs.tslibs.conversion.convert_to_tsobject\u001b[0;34m()\u001b[0m\n",
      "\u001b[0;31mKeyboardInterrupt\u001b[0m: ",
      "\nDuring handling of the above exception, another exception occurred:\n",
      "\u001b[0;31mKeyboardInterrupt\u001b[0m                         Traceback (most recent call last)",
      "\u001b[0;32m/var/folders/y5/cm5rrvr94yx214kzmtmsbvz40000gn/T/ipykernel_16007/3794123207.py\u001b[0m in \u001b[0;36m<module>\u001b[0;34m\u001b[0m\n\u001b[0;32m----> 1\u001b[0;31m \u001b[0mrbs1\u001b[0m \u001b[0;34m=\u001b[0m \u001b[0mpd\u001b[0m\u001b[0;34m.\u001b[0m\u001b[0mread_pickle\u001b[0m\u001b[0;34m(\u001b[0m\u001b[0;34m'nba/data/pickle/plyrRebsup701up.pkl'\u001b[0m\u001b[0;34m)\u001b[0m\u001b[0;34m\u001b[0m\u001b[0;34m\u001b[0m\u001b[0m\n\u001b[0m",
      "\u001b[0;32m~/opt/anaconda3/lib/python3.9/site-packages/pandas/io/pickle.py\u001b[0m in \u001b[0;36mread_pickle\u001b[0;34m(filepath_or_buffer, compression, storage_options)\u001b[0m\n\u001b[1;32m    203\u001b[0m                     \u001b[0;31m# We want to silence any warnings about, e.g. moved modules.\u001b[0m\u001b[0;34m\u001b[0m\u001b[0;34m\u001b[0m\u001b[0m\n\u001b[1;32m    204\u001b[0m                     \u001b[0mwarnings\u001b[0m\u001b[0;34m.\u001b[0m\u001b[0msimplefilter\u001b[0m\u001b[0;34m(\u001b[0m\u001b[0;34m\"ignore\"\u001b[0m\u001b[0;34m,\u001b[0m \u001b[0mWarning\u001b[0m\u001b[0;34m)\u001b[0m\u001b[0;34m\u001b[0m\u001b[0;34m\u001b[0m\u001b[0m\n\u001b[0;32m--> 205\u001b[0;31m                     \u001b[0;32mreturn\u001b[0m \u001b[0mpickle\u001b[0m\u001b[0;34m.\u001b[0m\u001b[0mload\u001b[0m\u001b[0;34m(\u001b[0m\u001b[0mhandles\u001b[0m\u001b[0;34m.\u001b[0m\u001b[0mhandle\u001b[0m\u001b[0;34m)\u001b[0m\u001b[0;34m\u001b[0m\u001b[0;34m\u001b[0m\u001b[0m\n\u001b[0m\u001b[1;32m    206\u001b[0m             \u001b[0;32mexcept\u001b[0m \u001b[0mexcs_to_catch\u001b[0m\u001b[0;34m:\u001b[0m\u001b[0;34m\u001b[0m\u001b[0;34m\u001b[0m\u001b[0m\n\u001b[1;32m    207\u001b[0m                 \u001b[0;31m# e.g.\u001b[0m\u001b[0;34m\u001b[0m\u001b[0;34m\u001b[0m\u001b[0m\n",
      "\u001b[0;31mKeyboardInterrupt\u001b[0m: "
     ]
    }
   ],
   "source": [
    "rbs1 = pd.read_pickle('nba/data/pickle/plyrRebsup701up.pkl')"
   ]
  },
  {
   "cell_type": "code",
   "execution_count": 83,
   "id": "cc11cdde",
   "metadata": {},
   "outputs": [],
   "source": [
    "df = LeagueDashPlayerShotLocations(date_from_nullable = date,\n",
    "                             date_to_nullable = date,\n",
    "                             season=season).get_data_frames()[0]\n",
    "df = clean_shot_columns(df)\n",
    "df['GAME_DATE'] = date\n",
    "final = df.merge(temp,how='left',on=['GAME_DATE','TEAM_ID'])\n",
    "l.append(final.to_dict(orient='records'))"
   ]
  },
  {
   "cell_type": "markdown",
   "id": "8a560533",
   "metadata": {},
   "source": [
    "#### player Shooting"
   ]
  },
  {
   "cell_type": "code",
   "execution_count": 85,
   "id": "8b3b27a0",
   "metadata": {},
   "outputs": [
    {
     "name": "stdout",
     "output_type": "stream",
     "text": [
      "starting at 07:16\n",
      "through 25 days in 0.30\n",
      "through 50 days in 1.90\n",
      "through 75 days in 3.59\n",
      "through 100 days in 5.29\n",
      "through 125 days in 6.89\n",
      "through 150 days in 8.68\n",
      "\tsaved 2023-24 season player shots\n",
      "through 175 days in 11.26\n",
      "through 200 days in 32.01\n",
      "through 225 days in 68.67\n",
      "through 250 days in 90.46\n",
      "through 275 days in 100.97\n",
      "through 300 days in 113.03\n",
      "\tsaved 2022-23 season player shots\n",
      "through 325 days in 151.75\n",
      "through 350 days in 164.79\n",
      "through 375 days in 183.63\n",
      "through 400 days in 200.98\n",
      "through 425 days in 248.86\n",
      "through 475 days in 290.77\n",
      "\tsaved 2021-22 season player shots\n",
      "through 500 days in 318.51\n",
      "through 525 days in 336.88\n",
      "through 550 days in 338.51\n",
      "through 575 days in 340.28\n",
      "through 600 days in 356.80\n",
      "through 625 days in 358.60\n",
      "through 650 days in 360.30\n",
      "through 675 days in 361.97\n",
      "through 700 days in 363.65\n",
      "through 725 days in 365.36\n",
      "through 750 days in 367.04\n",
      "through 775 days in 368.67\n",
      "\tsaved 2019-20 season player shots\n",
      "through 800 days in 370.44\n",
      "through 825 days in 372.04\n",
      "through 850 days in 373.84\n",
      "through 875 days in 375.44\n",
      "through 925 days in 379.21\n",
      "\tsaved 2018-19 season player shots\n",
      "through 950 days in 380.77\n",
      "through 975 days in 382.64\n",
      "through 1000 days in 384.43\n",
      "through 1025 days in 386.14\n",
      "through 1050 days in 388.01\n",
      "through 1075 days in 389.69\n",
      "through 1100 days in 391.56\n",
      "\tsaved 2017-18 season player shots\n",
      "finished at 13:48\n",
      "missing 29\n"
     ]
    }
   ],
   "source": [
    "missing = []\n",
    "l = []\n",
    "t = time.time()\n",
    "print('starting at {}'.format(time.strftime('%H:%M')))\n",
    "temp = gamefinder.get_data_frames()[0][['GAME_DATE','TEAM_ID','GAME_ID']]\n",
    "temp = temp[temp.GAME_DATE==date]\n",
    "for ct,date in enumerate(game_dates):\n",
    "    d = pd.to_datetime(date)\n",
    "    season = '{}-{}'.format(d.year,str(d.year+1)[-2:]) if d.month>=10 else '{}-{}'.format(d.year-1,str(d.year)[-2:])\n",
    "    try:\n",
    "        df = LeagueDashPlayerShotLocations(date_from_nullable = date,\n",
    "                                     date_to_nullable = date,\n",
    "                                     season=season).get_data_frames()[0]\n",
    "        df = clean_shot_columns(df)\n",
    "        df['GAME_DATE'] = date\n",
    "        final = df.merge(temp,how='left',on=['GAME_DATE','TEAM_ID'])\n",
    "        l.append(final.to_dict(orient='records'))\n",
    "    except:\n",
    "        missing.append(date)\n",
    "    if ct % 18 == 0:\n",
    "        time.sleep(np.random.choice(range(1,12),1)[0])\n",
    "    elif (ct % 25 == 0) & (ct!=0):\n",
    "        print('through {} days in {:.2f}'.format(ct,((time.time() -t)/60)))\n",
    "\n",
    "    if d in starts:\n",
    "        pickle.dump(l,open('nba/data/pickle/plyrShots{}.pkl'.format(season),'wb'))   \n",
    "        print('\\tsaved {} season player shots'.format(season))\n",
    "        l = []\n",
    "        final = pd.DataFrame()   \n",
    "print('finished at {}'.format(time.strftime('%H:%M')))\n",
    "print('missing {:_}'.format(len(missing)))"
   ]
  },
  {
   "cell_type": "markdown",
   "id": "6bf15188",
   "metadata": {},
   "source": [
    "### Shots by dribbles"
   ]
  },
  {
   "cell_type": "code",
   "execution_count": 68,
   "id": "55010e22",
   "metadata": {},
   "outputs": [
    {
     "ename": "NameError",
     "evalue": "name 'LeagueDashOppPtShot' is not defined",
     "output_type": "error",
     "traceback": [
      "\u001b[0;31m---------------------------------------------------------------------------\u001b[0m",
      "\u001b[0;31mNameError\u001b[0m                                 Traceback (most recent call last)",
      "\u001b[0;32m/var/folders/y5/cm5rrvr94yx214kzmtmsbvz40000gn/T/ipykernel_16922/1971359970.py\u001b[0m in \u001b[0;36m<module>\u001b[0;34m\u001b[0m\n\u001b[0;32m----> 1\u001b[0;31m df = LeagueDashOppPtShot(date_from_nullable = date,\n\u001b[0m\u001b[1;32m      2\u001b[0m                                      \u001b[0mdate_to_nullable\u001b[0m \u001b[0;34m=\u001b[0m \u001b[0mdate\u001b[0m\u001b[0;34m,\u001b[0m\u001b[0;34m\u001b[0m\u001b[0;34m\u001b[0m\u001b[0m\n\u001b[1;32m      3\u001b[0m                                      season=season).get_data_frames()[0]\n",
      "\u001b[0;31mNameError\u001b[0m: name 'LeagueDashOppPtShot' is not defined"
     ]
    }
   ],
   "source": [
    "df = LeagueDashOppPtShot(date_from_nullable = date,\n",
    "                                     date_to_nullable = date,\n",
    "                                     season=season).get_data_frames()[0]"
   ]
  },
  {
   "cell_type": "code",
   "execution_count": 79,
   "id": "9b2c4478",
   "metadata": {},
   "outputs": [
    {
     "data": {
      "text/plain": [
       "array(['2024-04-14', '2024-04-12', '2024-04-11', '2024-04-10',\n",
       "       '2024-04-09', '2024-04-07', '2024-04-06', '2024-04-05',\n",
       "       '2024-04-04', '2024-04-03', '2024-04-02', '2024-04-01',\n",
       "       '2024-03-31', '2024-03-30', '2024-03-29', '2024-03-28',\n",
       "       '2024-03-27', '2024-03-26', '2024-03-25', '2024-03-24',\n",
       "       '2024-03-23', '2024-03-22', '2024-03-21', '2024-03-20',\n",
       "       '2024-03-19'], dtype=object)"
      ]
     },
     "execution_count": 79,
     "metadata": {},
     "output_type": "execute_result"
    }
   ],
   "source": [
    "game_dates[:25]"
   ]
  },
  {
   "cell_type": "code",
   "execution_count": 75,
   "id": "9331c1f4",
   "metadata": {},
   "outputs": [
    {
     "name": "stdout",
     "output_type": "stream",
     "text": [
      "starting at 20:39\n",
      "through 25 days in 0.53\n",
      "through 50 days in 0.93\n",
      "through 75 days in 1.53\n",
      "through 100 days in 1.96\n",
      "through 125 days in 2.35\n",
      "through 150 days in 2.89\n",
      "\tsaved 2023-24 season drible shots\n",
      "through 175 days in 3.50\n",
      "through 200 days in 4.08\n",
      "through 225 days in 4.59\n",
      "through 250 days in 5.01\n",
      "through 275 days in 5.63\n",
      "through 300 days in 6.05\n",
      "\tsaved 2022-23 season drible shots\n",
      "through 325 days in 6.58\n",
      "through 350 days in 6.96\n",
      "through 375 days in 7.38\n",
      "through 400 days in 8.06\n",
      "through 425 days in 8.47\n",
      "through 475 days in 9.29\n",
      "\tsaved 2021-22 season drible shots\n",
      "through 500 days in 9.67\n",
      "through 525 days in 10.24\n",
      "through 550 days in 10.78\n",
      "through 575 days in 11.20\n",
      "through 600 days in 11.78\n",
      "through 625 days in 12.27\n",
      "through 650 days in 12.79\n",
      "through 675 days in 13.31\n",
      "through 700 days in 13.84\n",
      "through 725 days in 14.28\n",
      "through 750 days in 14.82\n",
      "through 775 days in 15.38\n",
      "\tsaved 2019-20 season drible shots\n",
      "through 800 days in 15.98\n",
      "through 825 days in 16.39\n",
      "through 850 days in 17.08\n",
      "through 875 days in 17.55\n",
      "through 925 days in 18.70\n",
      "\tsaved 2018-19 season drible shots\n",
      "through 950 days in 19.18\n",
      "through 975 days in 19.88\n",
      "through 1000 days in 20.41\n",
      "through 1025 days in 20.92\n",
      "through 1050 days in 21.64\n",
      "through 1075 days in 22.14\n",
      "through 1100 days in 22.70\n",
      "\tsaved 2017-18 season drible shots\n",
      "finished at 21:02\n",
      "missing 1_115\n"
     ]
    }
   ],
   "source": [
    "l = []\n",
    "drib = ['0 Dribbles','1 Dribble','2 Dribbles','3-6 Dribbles','7+ Dribbles']\n",
    "missing = []\n",
    "final = pd.DataFrame()\n",
    "t = time.time()\n",
    "games = gamefinder.get_data_frames()[0][['GAME_DATE','TEAM_ID','GAME_ID']]\n",
    "games.GAME_DATE = pd.to_datetime(games.GAME_DATE)\n",
    "print('starting at {}'.format(time.strftime('%H:%M')))\n",
    "\n",
    "for ct,date in enumerate(game_dates):\n",
    "    d = pd.to_datetime(date)\n",
    "    season = '{}-{}'.format(d.year,str(d.year+1)[-2:]) if d.month>=10 else '{}-{}'.format(d.year-1,str(d.year)[-2:])\n",
    "    drb = pd.DataFrame()\n",
    "    try:\n",
    "        for dribbleCount in drib:\n",
    "            drbShots = LeagueDashOppPtShot(date_from_nullable = date,\n",
    "                                date_to_nullable = date,\n",
    "                                           season=season,\n",
    "                                dribble_range_nullable=dribbleCount).get_data_frames()[0]\n",
    "            df = lgDashOppColums(drbShots,dribbleCount)\n",
    "            drb = pd.concat([drb,df])\n",
    "            time.sleep(1)\n",
    "        drb = drb.merge(games[games.GAME_DATE==d],how='left',on=['TEAM_ID'])\n",
    "        drb = drb.groupby(['TEAM_ID','GAME_ID','GAME_DATE']).sum().reset_index()\n",
    "    except:\n",
    "        missing.append(date)\n",
    "    final = pd.concat([final,drb])\n",
    "    if ct % 18 == 0:\n",
    "        time.sleep(np.random.choice(range(1,12),1)[0])\n",
    "    elif (ct % 25 == 0) & (ct!=0):\n",
    "        print('through {} days in {:.2f}'.format(ct,((time.time() -t)/60)))\n",
    "    l.append(drb.to_dict(orient='records'))\n",
    "\n",
    "    if d in starts:\n",
    "        pickle.dump(l,open('nba/data/pickle/drbShots{}.pkl'.format(season),'wb'))   \n",
    "        print('\\tsaved {} season drible shots'.format(season))\n",
    "        l = []\n",
    "        drb = pd.DataFrame()\n",
    "print('finished at {}'.format(time.strftime('%H:%M')))\n",
    "print('missing {:_}'.format(len(missing)))"
   ]
  },
  {
   "cell_type": "code",
   "execution_count": 74,
   "id": "7fb4f0e8",
   "metadata": {},
   "outputs": [
    {
     "name": "stdout",
     "output_type": "stream",
     "text": [
      "starting at 06:17\n",
      "through 25 days in 2.65\n",
      "through 50 days in 5.35\n",
      "through 75 days in 7.70\n",
      "through 100 days in 10.00\n",
      "through 150 days in 87.18\n",
      "\tsaved 2023-24 season team Shots allowed\n",
      "through 175 days in 89.50\n",
      "through 200 days in 92.07\n",
      "through 225 days in 94.50\n",
      "through 250 days in 96.86\n",
      "through 275 days in 99.15\n",
      "through 300 days in 101.73\n",
      "\tsaved 2022-23 season team Shots allowed\n",
      "through 325 days in 104.36\n",
      "through 350 days in 106.73\n",
      "through 375 days in 109.32\n",
      "through 400 days in 111.79\n",
      "through 425 days in 114.23\n",
      "through 475 days in 118.96\n",
      "\tsaved 2021-22 season team Shots allowed\n",
      "through 500 days in 121.87\n",
      "through 525 days in 124.44\n",
      "through 550 days in 126.66\n",
      "through 575 days in 129.33\n",
      "through 600 days in 131.70\n",
      "through 625 days in 134.00\n",
      "through 650 days in 136.72\n",
      "through 675 days in 139.00\n",
      "through 700 days in 141.40\n",
      "through 725 days in 144.05\n",
      "through 750 days in 162.71\n",
      "through 775 days in 165.17\n",
      "\tsaved 2019-20 season team Shots allowed\n",
      "through 800 days in 167.79\n",
      "through 825 days in 170.14\n",
      "through 850 days in 172.68\n",
      "through 875 days in 175.23\n",
      "through 925 days in 180.26\n",
      "\tsaved 2018-19 season team Shots allowed\n",
      "through 950 days in 182.68\n",
      "through 975 days in 185.10\n",
      "through 1000 days in 187.30\n",
      "through 1025 days in 189.71\n",
      "through 1050 days in 192.08\n",
      "through 1075 days in 194.33\n",
      "through 1100 days in 196.75\n",
      "\tsaved 2017-18 season team Shots allowed\n",
      "Seasons uploaded, missing 12 days of games\n"
     ]
    }
   ],
   "source": [
    "#team defense shooting\n",
    "l = []\n",
    "missing = []\n",
    "t = time.time()\n",
    "print('starting at {}'.format(time.strftime('%H:%M')))\n",
    "\n",
    "for ct,date in enumerate(game_dates):\n",
    "    try:\n",
    "        d = pd.to_datetime(date)\n",
    "        season = '{}-{}'.format(d.year,str(d.year+1)[-2:]) if d.month>=10 else '{}-{}'.format(d.year-1,str(d.year)[-2:])\n",
    "        oppShots = LeagueDashTeamShotLocations(measure_type_simple='Opponent',\n",
    "                                          date_from_nullable = date,\n",
    "                                           date_to_nullable = date,\n",
    "                                       season=season\n",
    "                           ).get_data_frames()[0]\n",
    "        oppShots.columns = ['{}_{}'.format(re.sub(' |-','_',a),b) if a!='' else b for a,b in oppShots.columns]\n",
    "        oppShots = oppShots.filter([col for col in oppShots.columns if re.search('_PCT$',col)==None])\n",
    "        oppShots['GAME_DATE'] = date\n",
    "        wide =  LeagueDashOppPtShot(date_from_nullable = date,\n",
    "                          date_to_nullable = date, season=season,\n",
    "                              close_def_dist_range_nullable = '6+ Feet - Wide Open').get_data_frames()[0]\n",
    "        wide = wide.filter([col for col in wide.columns if (re.search('_FREQUENCY$|PCT$|^G|FGM|FGA',col)==None) &\n",
    "                                                    (wide[col].dtype!=object)] )\n",
    "        wide.columns = [col if re.search('FG',col)==None else 'WIDEOPEN_{}'.format(col) for col in wide.columns]\n",
    "        wide['GAME_DATE'] = date\n",
    "\n",
    "        op = LeagueDashOppPtShot(date_from_nullable = date,\n",
    "                          date_to_nullable = date,season=season,\n",
    "                              close_def_dist_range_nullable = '4-6 Feet - Open').get_data_frames()[0]\n",
    "        op = op.filter([col for col in op.columns if (re.search('_FREQUENCY$|PCT$|^G|FGM|FGA',col)==None) &\n",
    "                                                    (op[col].dtype!=object)] )\n",
    "        op.columns = [col if re.search('FG',col)==None  else 'OPEN_{}'.format(col) for col in op.columns]\n",
    "        op['GAME_DATE'] = date\n",
    "        final = oppShots.merge(wide.merge(op,how='left',on=['TEAM_ID','GAME_DATE']),how='left',on=['TEAM_ID','GAME_DATE'])\n",
    "        l.append(final.to_dict(orient='records'))\n",
    "        if ct % 18 == 0:\n",
    "            time.sleep(np.random.choice(range(1,12),1)[0])\n",
    "        elif (ct % 25 == 0) & (ct!=0):\n",
    "            print('through {} days in {:.2f}'.format(ct,((time.time() -t)/60)))\n",
    "        if d in starts:\n",
    "            pickle.dump(l,open('nba/data/pickle/teamShotAllowed{}.pkl'.format(season),'wb'))   \n",
    "            print('\\tsaved {} season team Shots allowed'.format(season))\n",
    "            l = []\n",
    "            final = pd.DataFrame()\n",
    "    except:\n",
    "        missing.append(date)\n",
    "print('Seasons uploaded, missing {:,} days of games'.format(len(missing)))\n",
    "#pickle.dump(l,open('nba/data/pickle/shooting2.pkl','wb'))    "
   ]
  },
  {
   "cell_type": "code",
   "execution_count": 82,
   "id": "ff1d2b5e",
   "metadata": {},
   "outputs": [],
   "source": [
    "def clean_shot_columns(df):\n",
    "    df.columns = ['{}_{}'.format(re.sub(' |-','_',a),b) if a!='' else b for a,b in df.columns]\n",
    "    df = df.filter([col for col in df.columns if (re.search('ID$|^Restricted|^Mid|^In_The|^Right|^Left|^Above',col)!=None) &\n",
    "                                (re.search('PCT$',col)==None)])\n",
    "    return df"
   ]
  },
  {
   "cell_type": "code",
   "execution_count": null,
   "id": "31d0045c",
   "metadata": {},
   "outputs": [],
   "source": [
    "class data:\n",
    "    #probably want to get our db connection here and the last updated date\n",
    "    def __init__(self):\n",
    "        conn = sqlite3.connection('nba.db')\n",
    "        lastGame = conn.cursor().exucute('select max(game_date) from games')\n",
    "    \n",
    "    def clean_lgdash_opp_columns(df,dribble):\n",
    "        df = df.filter([col for col in df.columns if (re.search('_FREQUENCY$|PCT$|^G|FGM|FGA',col)==None) &\n",
    "                                                        (df[col].dtype!=object)] )\n",
    "        if dribble != False:\n",
    "            df.columns = ['{}_{}'.format(col,dribble.replace(' ','_')) if col!='TEAM_ID' else col for col in df.columns] \n",
    "        return df\n",
    "    \n",
    "    def clean_shot_columns(df):\n",
    "        df.columns = ['{}_{}'.format(re.sub(' |-','_',a),b) if a!='' else b for a,b in df.columns]\n",
    "        df = df.filter([col for col in df.columns if (re.search('ID$|^Restricted|^Mid|^In_The|^Right|^Left|^Above',col)!=None) &\n",
    "                                    (re.search('PCT$',col)==None)])\n",
    "    return df\n",
    "    \n",
    "    \n",
    "    def get_adv_box(self,gameids):\n",
    "        l = []\n",
    "        for gameid in gameids:\n",
    "            box = BoxScoreAdvancedV3(game_id = gameid).get_data_frames()[0]\n",
    "            d = box.filter([col for col in box.columns if (box[col].dtype!=object)])\n",
    "            d['game_id'] = gameid\n",
    "            l.append(d.to_dict(orient='records'))\n",
    "        return l\n",
    "    \n",
    "    def get_first_buckets(self,gameid):\n",
    "        for gameid in gameids:\n",
    "            df = PlayByPlayV2(gameid).get_data_frames()[0]\n",
    "            aind = df[(df.EVENTMSGTYPE==1) & (df.HOMEDESCRIPTION.notna())].PLAYER1_ID.idxmin()\n",
    "            hind = df[(df.EVENTMSGTYPE==1) & (df.VISITORDESCRIPTION.notna())].PLAYER1_ID.idxmin()\n",
    "            gd = {'gameid':gameid,'homeFirst':df.iloc[hind].PLAYER1_ID,'awayFirst':df.iloc[aind].PLAYER1_ID,\n",
    "                  'first':df.iloc[min([aind,hind])].PLAYER1_ID}\n",
    "        return gd\n",
    "        \n",
    "    def get_summary(self,gameid):\n",
    "        l = []\n",
    "        for gameid in gameids:\n",
    "            b= BoxScoreSummaryV2(game_id=gameid).get_data_frames()\n",
    "            df1 = b[5]\n",
    "            df1 = df1.filter([col for col in df1.columns if (df1[col].dtype!=object) & (df1[col].sum()!=0) & (col!='GAME_SEQUENCE') ])\n",
    "            df = df1.merge(b[1][['TEAM_ID','LARGEST_LEAD','PTS_FB','PTS_2ND_CHANCE','TOTAL_TURNOVERS']])\n",
    "            df['GAME_ID'] = gameid\n",
    "            l.append(df.to_dict(orient='records'))\n",
    "        return l\n",
    "        \n",
    "    def get_opp_open_shot(self,dates):\n",
    "        l = []\n",
    "        for date in dates\n",
    "            d = pd.to_datetime(date)\n",
    "            season = '{}-{}'.format(d.year,str(d.year+1)[-2:]) if d.month>=10 else '{}-{}'.format(d.year-1,str(d.year)[-2:])\n",
    "            oppShots = LeagueDashTeamShotLocations(measure_type_simple='Opponent',\n",
    "                                              date_from_nullable = date,\n",
    "                                               date_to_nullable = date,\n",
    "                                           season=season\n",
    "                               ).get_data_frames()[0]\n",
    "            oppShots.columns = ['{}_{}'.format(re.sub(' |-','_',a),b) if a!='' else b for a,b in oppShots.columns]\n",
    "            oppShots = oppShots.filter([col for col in oppShots.columns if re.search('_PCT$',col)==None])\n",
    "            oppShots['GAME_DATE'] = date\n",
    "            wide =  LeagueDashOppPtShot(date_from_nullable = date,\n",
    "                              date_to_nullable = date, season=season,\n",
    "                                  close_def_dist_range_nullable = '6+ Feet - Wide Open').get_data_frames()[0]\n",
    "            wide = wide.filter([col for col in wide.columns if (re.search('_FREQUENCY$|PCT$|^G|FGM|FGA',col)==None) &\n",
    "                                                        (wide[col].dtype!=object)] )\n",
    "            wide.columns = [col if re.search('FG',col)==None else 'WIDEOPEN_{}'.format(col) for col in wide.columns]\n",
    "            wide['GAME_DATE'] = date\n",
    "\n",
    "            op = LeagueDashOppPtShot(date_from_nullable = date,\n",
    "                              date_to_nullable = date,season=season,\n",
    "                                  close_def_dist_range_nullable = '4-6 Feet - Open').get_data_frames()[0]\n",
    "            op = op.filter([col for col in op.columns if (re.search('_FREQUENCY$|PCT$|^G|FGM|FGA',col)==None) &\n",
    "                                                        (op[col].dtype!=object)] )\n",
    "            op.columns = [col if re.search('FG',col)==None  else 'OPEN_{}'.format(col) for col in op.columns]\n",
    "            op['GAME_DATE'] = date\n",
    "            final = oppShots.merge(wide.merge(op,how='left',on=['TEAM_ID','GAME_DATE']),how='left',on=['TEAM_ID','GAME_DATE'])\n",
    "            l.append(final.to_dict(orient='records'))\n",
    "        return l\n",
    "        \n",
    "    def get_opp_dribble_shot(self,dates):\n",
    "        l = []\n",
    "        drib = ['0 Dribbles','1 Dribble','2 Dribbles','3-6 Dribbles','7+ Dribbles']\n",
    "        d = pd.to_datetime(date)\n",
    "        season = '{}-{}'.format(d.year,str(d.year+1)[-2:]) if d.month>=10 else '{}-{}'.format(d.year-1,str(d.year)[-2:])\n",
    "        drb = pd.DataFrame()\n",
    "        games = gamefinder.get_data_frames()[0][['GAME_DATE','TEAM_ID','GAME_ID']]\n",
    "        games.GAME_DATE = pd.to_datetime(games.GAME_DATE)\n",
    "        for dribbleCount in drib:\n",
    "            drbShots = LeagueDashOppPtShot(date_from_nullable = date,\n",
    "                                date_to_nullable = date,\n",
    "                                           season=season,\n",
    "                                dribble_range_nullable=dribbleCount).get_data_frames()[0]\n",
    "            df = lgDashOppColums(drbShots,dribbleCount)\n",
    "            drb = pd.concat([drb,df])\n",
    "            time.sleep(1)\n",
    "        drb = drb.merge(games[games.GAME_DATE==d],how='left',on=['TEAM_ID'])\n",
    "        drb = drb.groupby(['TEAM_ID','GAME_ID','GAME_DATE']).sum().reset_index()\n",
    "        l.append(drb.to_dict(orient='records'))\n",
    "        return l\n",
    "    def get_player_shot_spots(self,dates):\n",
    "        for date in dates:\n",
    "            d = pd.to_datetime(date)\n",
    "            season = '{}-{}'.format(d.year,str(d.year+1)[-2:]) if d.month>=10 else '{}-{}'.format(d.year-1,str(d.year)[-2:])\n",
    "            df = LeagueDashPlayerShotLocations(date_from_nullable = date,\n",
    "                                         date_to_nullable = date,\n",
    "                                         season=season).get_data_frames()[0]\n",
    "            df = shotcolumns(df)\n",
    "            df['GAME_DATE'] = date\n",
    "            temp = gamefinder.get_data_frames()[0][['GAME_DATE','TEAM_ID','GAME_ID']]\n",
    "            temp = temp[temp.GAME_DATE==date]\n",
    "            final = df.merge(temp,how='left',on=['GAME_DATE','TEAM_ID'])\n",
    "        l.append(final.to_dict(orient='records'))\n",
    "        return l\n",
    "    \n",
    "    def get_logs(season):\n",
    "        log = PlayerGameLogs(season_nullable=season).get_data_frames()[0]\n",
    "        roster = log.groupby(['SEASON_YEAR','PLAYER_ID','TEAM_ID']).GAME_DATE.agg(\n",
    "                                                        firstGame = min,lastGame = max).reset_index()\n",
    "        srchStr = 'SEASON_YEAR|MATCHUP|^TEAM_ABB|_PCT$|TEAM_NAME|^FG|REB$|_RANK$|WL|NICKNAME|_PTS$'\n",
    "        df = log.filter([col for col in log.columns if re.search(srchStr,col)==None])\n",
    "        return df\n",
    "    \n",
    "    def get_player_team(season):\n",
    "        log = PlayerGameLogs(season_nullable=season).get_data_frames()[0]\n",
    "        roster = log.groupby(['SEASON_YEAR','PLAYER_ID','TEAM_ID']).GAME_DATE.agg(\n",
    "                                                        firstGame = min,lastGame = max).reset_index()\n",
    "        return roster\n",
    "    "
   ]
  },
  {
   "cell_type": "code",
   "execution_count": null,
   "id": "72c57c7b",
   "metadata": {},
   "outputs": [],
   "source": [
    "#advanced boxscore information for players\n",
    "l = []\n",
    "missing = []\n",
    "t = time.time()\n",
    "for ct,gameid in enumerate(game_ids):\n",
    "    try:\n",
    "        box = BoxScoreAdvancedV3(game_id = gameid).get_data_frames()[0]\n",
    "        d = box.filter([col for col in box.columns if (box[col].dtype!=object)])\n",
    "        d['game_id'] = gameid\n",
    "        l.append(d.to_dict(orient='records'))\n",
    "        if ct % 18 == 0:\n",
    "            time.sleep(np.random.choice(range(1,12),1)[0])\n",
    "        elif (ct % 100 == 0) & (ct!=0):\n",
    "            print('through {} games in {:.2f}'.format(ct,((time.time() -t)/60)))\n",
    "    except:\n",
    "        missing.append(gameid)\n",
    "print('Seasons uploaded, missing {:,} game ids'.format(len(missing)))\n",
    "pickle.dump(l,open('nba/data/pickle/advbox.pkl','wb'))    "
   ]
  },
  {
   "cell_type": "code",
   "execution_count": null,
   "id": "0a905ec0",
   "metadata": {},
   "outputs": [],
   "source": [
    "l = pd.read_pickle('nba/data/pickle/advbox.pkl')"
   ]
  },
  {
   "cell_type": "code",
   "execution_count": null,
   "id": "41f1722c",
   "metadata": {},
   "outputs": [],
   "source": [
    "adv = pd.DataFrame(l[1])"
   ]
  },
  {
   "cell_type": "code",
   "execution_count": null,
   "id": "f11dbc89",
   "metadata": {},
   "outputs": [],
   "source": [
    "lshots"
   ]
  },
  {
   "cell_type": "code",
   "execution_count": null,
   "id": "0aca276e",
   "metadata": {},
   "outputs": [],
   "source": [
    "l_shots = pd.read_pickle('nba/data/pickle/plyrShots.pkl')"
   ]
  },
  {
   "cell_type": "code",
   "execution_count": null,
   "id": "239d7330",
   "metadata": {},
   "outputs": [],
   "source": [
    "lqtr = pd.read_pickle('nba/data/pickle/quarter2Info.pkl')"
   ]
  },
  {
   "cell_type": "code",
   "execution_count": null,
   "id": "2f855354",
   "metadata": {},
   "outputs": [],
   "source": [
    "lbox = pd.read_pickle('nba/data/pickle/box.pkl')"
   ]
  },
  {
   "cell_type": "code",
   "execution_count": null,
   "id": "8c6324b1",
   "metadata": {},
   "outputs": [],
   "source": [
    "lbox"
   ]
  },
  {
   "cell_type": "code",
   "execution_count": null,
   "id": "5c07e4ec",
   "metadata": {},
   "outputs": [],
   "source": [
    "pd.DataFrame(lbox[1])"
   ]
  },
  {
   "cell_type": "code",
   "execution_count": null,
   "id": "50502e33",
   "metadata": {},
   "outputs": [],
   "source": [
    "l_s"
   ]
  },
  {
   "cell_type": "code",
   "execution_count": null,
   "id": "eb8a1235",
   "metadata": {},
   "outputs": [],
   "source": [
    "#from nba_api.stats.endpoints import PlayByPlayV2 - team play-by-play\n",
    "l = []\n",
    "missing = []\n",
    "t = time.time()\n",
    "for ct,gameid in enumerate(gids):\n",
    "    try:\n",
    "        b= BoxScoreSummaryV2(game_id=gameid).get_data_frames()\n",
    "        df1 = b[5]\n",
    "        df1 = df1.filter([col for col in df1.columns if (df1[col].dtype!=object) & (df1[col].sum()!=0) & (col!='GAME_SEQUENCE') ])\n",
    "        df = df1.merge(b[1][['TEAM_ID','LARGEST_LEAD','PTS_FB','PTS_2ND_CHANCE','TOTAL_TURNOVERS']])\n",
    "        df['GAME_ID'] = gameid\n",
    "        l.append(df.to_dict(orient='records'))\n",
    "        if ct % 18 == 0:\n",
    "            time.sleep(np.random.choice(range(1,12),1)[0])\n",
    "        elif (ct % 100 == 0) & (ct!=0):\n",
    "            print('through {} games in {:.2f}'.format(ct,((time.time() -t)/60)))\n",
    "    except:\n",
    "        missing.append(gameid)\n",
    "print('Seasons uploaded, missing {:,} game ids'.format(len(missing)))\n",
    "pickle.dump(l,open('nba/data/pickle/quarter2Info.pkl','wb'))"
   ]
  },
  {
   "cell_type": "code",
   "execution_count": null,
   "id": "bb9110c2",
   "metadata": {},
   "outputs": [],
   "source": [
    "#from nba_api.stats.endpoints import PlayByPlayV2\n",
    "l = []\n",
    "missing = []\n",
    "t = time.time()\n",
    "for ct,gameid in enumerate(game_ids):\n",
    "    try:\n",
    "        df = PlayByPlayV2(gameid).get_data_frames()[0]\n",
    "        aind = df[(df.EVENTMSGTYPE==1) & (df.HOMEDESCRIPTION.notna())].PLAYER1_ID.idxmin()\n",
    "        hind = df[(df.EVENTMSGTYPE==1) & (df.VISITORDESCRIPTION.notna())].PLAYER1_ID.idxmin()\n",
    "        gd = {'gameid':gameid,'homeFirst':df.iloc[hind].PLAYER1_ID,'awayFirst':df.iloc[aind].PLAYER1_ID,\n",
    "              'first':df.iloc[min([aind,hind])].PLAYER1_ID}\n",
    "        l.append(gd)\n",
    "        if ct % 18 == 0:\n",
    "            time.sleep(np.random.choice(range(1,12),1)[0])\n",
    "        elif (ct % 100 == 0) & (ct!=0):\n",
    "            print('through {} games in {:.2f}'.format(ct,((time.time() -t)/60)))\n",
    "        del df\n",
    "    except:\n",
    "        missing.append(gameid)0\n",
    "print('Seasons uploaded, missing {:,} game ids'.format(len(missing)))\n",
    "pickle.dump(l,open('nba/data/pickle/baskets.pkl','wb'))"
   ]
  },
  {
   "cell_type": "code",
   "execution_count": null,
   "id": "93d31caa",
   "metadata": {},
   "outputs": [],
   "source": [
    "df[(df.EVENTMSGTYPE==1) & (df.HOMEDESCRIPTION.notna())].HOMEDESCRIPTION.values[0]"
   ]
  },
  {
   "cell_type": "code",
   "execution_count": null,
   "id": "80a5bd10",
   "metadata": {},
   "outputs": [],
   "source": [
    "df[(df.EVENTMSGTYPE==1) & (df.VISITORDESCRIPTION.notna())].VISITORDESCRIPTION.values[0]"
   ]
  },
  {
   "cell_type": "markdown",
   "id": "a538f7ea",
   "metadata": {},
   "source": [
    "## general game information"
   ]
  },
  {
   "cell_type": "code",
   "execution_count": null,
   "id": "1d54e72d",
   "metadata": {},
   "outputs": [],
   "source": [
    "from nba_api.stats.endpoints import BoxScoreSummaryV2,CommonTeamRoster,PlayerGameLogs,PlayerAwards,TeamDetails\n",
    "boxSum = BoxScoreSummaryV2(game_id='0022300790')\n",
    "#adv = BoxScoreAdvancedV3(game_id='0022300790')\n",
    "#trad = BoxScoreTraditionalV3(game_id='0022300790')\n",
    "log = PlayerGameLogs(season_nullable='2023-24')\n",
    "award = PlayerAwards(player_id='203076')\n",
    "tinfo = CommonTeamRoster(team_id = '1610612756')"
   ]
  },
  {
   "cell_type": "code",
   "execution_count": null,
   "id": "86161103",
   "metadata": {},
   "outputs": [],
   "source": [
    "def getLogs(season):\n",
    "    log = PlayerGameLogs(season_nullable=season).get_data_frames()[0]\n",
    "    srchStr = 'SEASON_YEAR|MATCHUP|^TEAM_ABB|_PCT$|TEAM_NAME|^FG|REB$|_RANK$|WL|NICKNAME|_PTS$'\n",
    "    df = log.filter([col for col in log.columns if re.search(srchStr,col)==None])\n",
    "    return df\n",
    "    "
   ]
  },
  {
   "cell_type": "code",
   "execution_count": null,
   "id": "1248e24c",
   "metadata": {},
   "outputs": [],
   "source": [
    "pshot = pd.read_pickle('nba/data/pickle/plyrShots.pkl')\n",
    "fb = pd.read_pickle('nba/data/pickle/baskets.pkl')"
   ]
  },
  {
   "cell_type": "code",
   "execution_count": null,
   "id": "94f3d1be",
   "metadata": {},
   "outputs": [],
   "source": [
    "plyShot = pd.DataFrame(columns = ['PLAYER_ID', 'TEAM_ID', 'Restricted_Area_FGM', 'Restricted_Area_FGA', 'In_The_Paint_(Non_RA)_FGM', 'In_The_Paint_(Non_RA)_FGA', 'Mid_Range_FGM', 'Mid_Range_FGA', 'Left_Corner_3_FGM', 'Left_Corner_3_FGA', 'Right_Corner_3_FGM', 'Right_Corner_3_FGA', 'Above_the_Break_3_FGM', 'Above_the_Break_3_FGA', 'GAME_DATE', 'GAME_ID'])\n",
    "for l in pshot:\n",
    "    for d in l:\n",
    "        if d['GAME_ID']=='0022300061':\n",
    "            plyShot.loc[len(plyShot)] = list(d.values())"
   ]
  },
  {
   "cell_type": "code",
   "execution_count": null,
   "id": "e3bf33d6",
   "metadata": {},
   "outputs": [],
   "source": [
    "#inactive player\n",
    "boxSum.get_data_frames()[3]"
   ]
  },
  {
   "cell_type": "code",
   "execution_count": null,
   "id": "e6361d37",
   "metadata": {},
   "outputs": [],
   "source": [
    "#officials\n",
    "boxSum.get_data_frames()[2]"
   ]
  },
  {
   "cell_type": "code",
   "execution_count": null,
   "id": "b3380a50",
   "metadata": {},
   "outputs": [],
   "source": [
    "boxSum.get_data_frames()[1][['TEAM_ID','LARGEST_LEAD','PTS_FB','PTS_2ND_CHANCE','TOTAL_TURNOVERS']]"
   ]
  },
  {
   "cell_type": "code",
   "execution_count": null,
   "id": "a52cfcb0",
   "metadata": {},
   "outputs": [],
   "source": [
    "b= boxSum.get_data_frames"
   ]
  },
  {
   "cell_type": "markdown",
   "id": "560702c6",
   "metadata": {},
   "source": [
    "### Prototype view\n",
    "- need player log data\n",
    "    - this will have the layout shown in notes\n",
    "    - for now will manually filter based on team names\n",
    "    - need a rolling value as well will do 5 and 10\n",
    "- create a function for the fair based on their pddvalue + 5% for a vig\n",
    "- kelly criterion that will take in the actual odds"
   ]
  },
  {
   "cell_type": "code",
   "execution_count": null,
   "id": "85234f5d",
   "metadata": {},
   "outputs": [],
   "source": [
    "with open('./nba/data/sql/createPlayerTable.sql','w') as file:\n",
    "    f = '''\n",
    "    CREATE TABLE box (\n",
    "    playerId TEXT,\n",
    "    teamId TEXT,\n",
    "    gameId TEXT,\n",
    "    min FLOAT,\n",
    "    resAreaM INT,\n",
    "    resAreaA INT,\n",
    "    paintM INT,\n",
    "    paintA INT,\n",
    "    midM INT,\n",
    "    midA INT,\n",
    "    lcThreeM INT,\n",
    "    lcThreeA INT,\n",
    "    rcThreeM INT,\n",
    "    rcThreeA INT,\n",
    "    aboveThreeM INT,\n",
    "    aboveThreeA INT,\n",
    "    orb INT,\n",
    "    orbContest INT,\n",
    "    orbChances INT,\n",
    "    orbDefer INT,\n",
    "    avgOrbDist FLOAT,\n",
    "    drb INT,\n",
    "    drbContest INT,\n",
    "    drbChances INT,\n",
    "    drbDefer INT,\n",
    "    avgDrbDist FLOAT,\n",
    "    ftm INT,\n",
    "    fta INT,\n",
    "    ast INT,\n",
    "    tov INT,\n",
    "    stl INT,\n",
    "    blk INT,\n",
    "    shotBlk INT,\n",
    "    pf INT,\n",
    "    pfd INT,\n",
    "    pts INT,\n",
    "    plusMinus INT,\n",
    "    dd INT,\n",
    "    td INT,\n",
    "    usage FLOAT,\n",
    "    pace FLOAT,\n",
    "    poss INT,\n",
    "    offRating FLOAT,\n",
    "    defRating FLOAT,\n",
    "    teamFirstBasket INT,\n",
    "    gameFirstBasket INT,\n",
    "    PRIMARY KEY (playerId,gameId)\n",
    "        FOREIGN KEY (playerId )\n",
    "            REFERENCES players(playerId)\n",
    "        FOREIGN KEY (gameId)\n",
    "            REFERENCES games(gameId)\n",
    "            \n",
    "    \n",
    "    )\n",
    "    \n",
    "    '''\n",
    "    file.write(f)"
   ]
  },
  {
   "cell_type": "code",
   "execution_count": null,
   "id": "ed07eeb0",
   "metadata": {},
   "outputs": [],
   "source": [
    "with open('./nba/data/sql/createGamesTable.sql','w') as file:\n",
    "    f = '''\n",
    "    CREATE TABLE games(\n",
    "    gameId TEXT,\n",
    "    gameDate TEXT,\n",
    "    teamId TEXT,\n",
    "    home INT,\n",
    "    Q1 INT,\n",
    "    Q2 INT,\n",
    "    Q3 INT,\n",
    "    Q4 INT,\n",
    "    OT INT,\n",
    "    inactive TEXT,\n",
    "    pace FLOAT,\n",
    "    offRating FLOAT,\n",
    "    defRating FLOAT,\n",
    "    oppOpenFG3A INT,\n",
    "    oppOpenFG3M INT,\n",
    "    oppOpenFG2A INT,\n",
    "    oppOpenFG2M INT,\n",
    "    oppWideOpenFG3A INT,\n",
    "    oppWideOpenFG3M INT,\n",
    "    oppWideOpenFG2A INT,\n",
    "    oppWideOpenFG2M INT,\n",
    "    oppResAreaA INT,\n",
    "    oppResAreaM INT,\n",
    "    oppPaintA INT,\n",
    "    oppPaintM INT,\n",
    "    oppMidA INT,\n",
    "    oppMidM INT,\n",
    "    oppLCA INT,\n",
    "    oppLCM INT,\n",
    "    oppRCA INT,\n",
    "    oppRCM INT,\n",
    "    oppAboveThreeA INT,\n",
    "    oppAboveThreeM,\n",
    "    drb0FG2M INT,\n",
    "    drb0FG2A INT,\n",
    "    drb0FG3M INT,\n",
    "    drb0FG3A INT,\n",
    "    drb1FG2M INT,\n",
    "    drb1FG2A INT,\n",
    "    drb1FG3M INT,\n",
    "    drb1FG3A INT,\n",
    "    drb2FG2M INT,\n",
    "    drb2FG2A INT,\n",
    "    drb2FG3M INT,\n",
    "    drb2FG3A INT,\n",
    "    drb36FG2M INT,\n",
    "    drb36FG2A INT,\n",
    "    drb36FG3M INT,\n",
    "    drb36FG3A INT,\n",
    "    drb7FG2M INT,\n",
    "    drb7FG2A INT,\n",
    "    drb7FG3M INT,\n",
    "    drb7FG3A INT,\n",
    "    PRIMARY KEY (gameId,teamId),\n",
    "    FOREIGN KEY (teamId)\n",
    "        REFERENCES teams(teamId)\n",
    "    )\n",
    "    '''\n",
    "    file.write(f)"
   ]
  },
  {
   "cell_type": "code",
   "execution_count": null,
   "id": "c76cc029",
   "metadata": {},
   "outputs": [],
   "source": [
    "with open('./nba/data/sql/createPlayerInfoTable.sql','w') as file:\n",
    "    f='''\n",
    "    CREATE TABLE players(\n",
    "    playerId TEXT,\n",
    "    playerName TEXT,\n",
    "    playerHeight INT,\n",
    "    playerWeight INT,\n",
    "    playerWingspan INT,\n",
    "    playerBirthday TEXT,\n",
    "    playerAllNBA1 TEXT,\n",
    "    playerAllNBA2 TEXT,\n",
    "    playerAllNBA3 TEXT,\n",
    "    playerAllDef1 TEXT,\n",
    "    playerAllDef2 TEXT,\n",
    "    playerAllstar TEXT,\n",
    "    playerMVP TEXT,\n",
    "    playerDPOY TEXT,\n",
    "    playerChampionships TEXT,\n",
    "    PRIMARY KEY (playerId)\n",
    "    )\n",
    "    '''\n",
    "    file.write(f)"
   ]
  },
  {
   "cell_type": "code",
   "execution_count": null,
   "id": "64df1e5d",
   "metadata": {},
   "outputs": [],
   "source": [
    "with open('./nba/data/sql/createRosterTable.sql','w') as file:\n",
    "    f = '''\n",
    "    CREATE TABLE rosters(\n",
    "    teamId TEXT,\n",
    "    seasonYear TEXT,\n",
    "    playerId TEXT,\n",
    "    startDate TEXT,\n",
    "    endDate TEXT,\n",
    "    PRIMARY KEY (teamId,playerId,seasonYear),\n",
    "    FOREIGN KEY (playerId) \n",
    "        REFERENCES players(playerId),\n",
    "    FOREIGN KEY (teamId)\n",
    "        REFERENCES teams(teamId)\n",
    "    )\n",
    "    \n",
    "    '''\n",
    "    file.write(f)"
   ]
  },
  {
   "cell_type": "code",
   "execution_count": null,
   "id": "fd4688f1",
   "metadata": {},
   "outputs": [],
   "source": [
    "with open('./nba/data/sql/createTeamInfoTable.sql','w') as file:\n",
    "    f = '''\n",
    "    CREATE TABLE teams(\n",
    "    teamId TEXT,\n",
    "    teamAbrv TEXT,\n",
    "    teamName TEXT,\n",
    "    teamConference TEXT,\n",
    "    teamDivision TEXT,\n",
    "    teamLong FLOAT,\n",
    "    teamLAT FLOAT,\n",
    "    PRIMARY KEY (teamId)\n",
    "    \n",
    "    )\n",
    "    '''\n",
    "    file.write(f)"
   ]
  },
  {
   "cell_type": "code",
   "execution_count": null,
   "id": "8a8d92ac",
   "metadata": {},
   "outputs": [],
   "source": [
    "# cur.execute('''DROP TABLE rosters''')\n",
    "# cur.execute('''DROP TABLE teams''')\n",
    "cur.execute('''DROP TABLE box''')\n",
    "# cur.execute('''DROP TABLE players''')\n",
    "# cur.execute('''DROP TABLE games''')"
   ]
  },
  {
   "cell_type": "code",
   "execution_count": null,
   "id": "a0f69344",
   "metadata": {},
   "outputs": [],
   "source": [
    "db = sqlite3.connect('./nba/data/database/nba.db')"
   ]
  },
  {
   "cell_type": "code",
   "execution_count": null,
   "id": "68e8e830",
   "metadata": {},
   "outputs": [],
   "source": [
    "cur = db.cursor()"
   ]
  },
  {
   "cell_type": "code",
   "execution_count": null,
   "id": "d4f49206",
   "metadata": {},
   "outputs": [],
   "source": [
    "# cur.execute(open('./nba/data/sql/createPlayerInfoTable.sql','r').read())\n",
    "# cur.execute(open('./nba/data/sql/createRosterTable.sql','r').read())\n",
    "# cur.execute(open('./nba/data/sql/createGamesTable.sql','r').read())\n",
    "cur.execute(open('./nba/data/sql/createPlayerTable.sql','r').read())\n",
    "# cur.execute(open('./nba/data/sql/createTeamInfoTable.sql','r').read())\n",
    "db.commit()"
   ]
  },
  {
   "cell_type": "code",
   "execution_count": null,
   "id": "12d68ae3",
   "metadata": {},
   "outputs": [],
   "source": [
    "pd.read_pickle('./nba/data/pickle/')"
   ]
  },
  {
   "cell_type": "code",
   "execution_count": null,
   "id": "e2707dd0",
   "metadata": {},
   "outputs": [],
   "source": [
    "nba = data()"
   ]
  },
  {
   "cell_type": "code",
   "execution_count": null,
   "id": "0551b77c",
   "metadata": {},
   "outputs": [],
   "source": [
    "ros = nba.get_roster(['2017-18','2018-19','2019-20','2020-21','2021-22','2022-23','2023-24'])"
   ]
  },
  {
   "cell_type": "code",
   "execution_count": null,
   "id": "4cc4efe8",
   "metadata": {},
   "outputs": [],
   "source": [
    "pd.read_sql('''\n",
    "select * from sqlite_master\n",
    "where type = 'table'\n",
    "and tbl_name = 'box'\n",
    "''',db)"
   ]
  },
  {
   "cell_type": "code",
   "execution_count": null,
   "id": "72663b72",
   "metadata": {},
   "outputs": [],
   "source": [
    "pd.read_sql('PRAGMA table_info(box)',db)"
   ]
  },
  {
   "cell_type": "code",
   "execution_count": null,
   "id": "78a9e44b",
   "metadata": {},
   "outputs": [],
   "source": []
  },
  {
   "cell_type": "code",
   "execution_count": null,
   "id": "f4d15f58",
   "metadata": {},
   "outputs": [],
   "source": [
    "def insert_data(data,table):\n",
    "    cols = pd.read_sql('''\n",
    "    PRAGMA table_info({})\n",
    "    '''.format(table),db).name.values\n",
    "    rows = data.shape[0]\n",
    "    v = '?' + ',?' * (len(cols)-1)\n",
    "    cur.executemany('''insert into {t} values ({v})'''.format(t=table,v=v),data.values.tolist())\n",
    "    return print('{} has been updated with {:,} rows'.format(table,rows))\n",
    "        "
   ]
  },
  {
   "cell_type": "code",
   "execution_count": null,
   "id": "37266914",
   "metadata": {},
   "outputs": [],
   "source": [
    "insert_data(ros,'rosters')"
   ]
  },
  {
   "cell_type": "code",
   "execution_count": null,
   "id": "2b91441e",
   "metadata": {},
   "outputs": [],
   "source": [
    "tm = nba.get_team_info()"
   ]
  },
  {
   "cell_type": "code",
   "execution_count": null,
   "id": "0c4f1bc9",
   "metadata": {},
   "outputs": [],
   "source": [
    "insert_data(pd.DataFrame(tm),'teams')"
   ]
  },
  {
   "cell_type": "code",
   "execution_count": null,
   "id": "2d1fbc1b",
   "metadata": {},
   "outputs": [],
   "source": []
  },
  {
   "cell_type": "code",
   "execution_count": null,
   "id": "5dfa302f",
   "metadata": {},
   "outputs": [],
   "source": [
    "l = []\n",
    "for gameid in gameids:\n",
    "    df = PlayByPlayV2(gameid).get_data_frames()[0]\n",
    "    aind = df[(df.EVENTMSGTYPE==1) & (df.HOMEDESCRIPTION.notna())].PLAYER1_ID.idxmin()\n",
    "    hind = df[(df.EVENTMSGTYPE==1) & (df.VISITORDESCRIPTION.notna())].PLAYER1_ID.idxmin()\n",
    "    gd = {'gameid':gameid,'homeFirst':1,'homePlayer':df.iloc[hind].PLAYER1_ID,'awayFirst':1,\n",
    "          'awayPlayer':df.iloc[aind].PLAYER1_ID,'first':1,\n",
    "          'firstPlayer':df.iloc[min([aind,hind])].PLAYER1_ID}\n",
    "    l.append(gd)\n",
    "df = pd.DataFrame(l)\n",
    "home = df[df.homePlayer == df.firstPlayer][['gameid','homeFirst','homePlayer','first','firstPlayer']]\n",
    "away = df[df.awayPlayer == df.firstPlayer][['gameid','awayFirst','awayPlayer','first','firstPlayer']]\n",
    "del df"
   ]
  },
  {
   "cell_type": "code",
   "execution_count": null,
   "id": "19292132",
   "metadata": {},
   "outputs": [],
   "source": [
    "h,a = nba.get_first_buckets(gameids)"
   ]
  },
  {
   "cell_type": "code",
   "execution_count": null,
   "id": "12521161",
   "metadata": {},
   "outputs": [],
   "source": [
    "box = nba.get_advBox(gameids)"
   ]
  },
  {
   "cell_type": "code",
   "execution_count": null,
   "id": "f3cbc4e9",
   "metadata": {},
   "outputs": [],
   "source": [
    "bxdf = pd.DataFrame()"
   ]
  },
  {
   "cell_type": "code",
   "execution_count": null,
   "id": "6345e1f1",
   "metadata": {},
   "outputs": [],
   "source": [
    "bxcls = pd.read_sql('''PRAGMA table_info(box)''',db).name.values"
   ]
  },
  {
   "cell_type": "code",
   "execution_count": null,
   "id": "d13e1ef4",
   "metadata": {},
   "outputs": [],
   "source": []
  },
  {
   "cell_type": "code",
   "execution_count": null,
   "id": "2d8855fa",
   "metadata": {},
   "outputs": [],
   "source": [
    "os.listdir('nba/data/pickle')"
   ]
  },
  {
   "cell_type": "code",
   "execution_count": null,
   "id": "f1e94772",
   "metadata": {},
   "outputs": [],
   "source": [
    "bskts = pd.read_pickle('nba/data/pickle/baskets.pkl')"
   ]
  },
  {
   "cell_type": "code",
   "execution_count": null,
   "id": "73ffa873",
   "metadata": {},
   "outputs": [],
   "source": []
  },
  {
   "cell_type": "code",
   "execution_count": null,
   "id": "d9e98898",
   "metadata": {},
   "outputs": [],
   "source": [
    "def cleanBaskets(df):\n",
    "    test['teamFirst'] = np.where(test.homeFirst!=test['first'],test.homeFirst,test.awayFirst)\n",
    "    test['gameFirst'] = np.where(test.homeFirst==test['first'],test.homeFirst,test.awayFirst)\n",
    "    game = test.filter(['gameid','gameFirst'])\n",
    "    game['gameFirstBasket'] = 1\n",
    "    team = test.filter(['gameid','teamFirst'])\n",
    "    team['teamFirstBasket'] = 1\n",
    "    df = pd.concat([game,team])\n",
    "    df = df.rename(columns = {'gameid':'gameId'})\n",
    "    df['playerId'] = df['gameFirst'].fillna(df.teamFirst)\n",
    "    df[['gameId','playerId','gameFirstBasket','teamFirstBasket']]\n",
    "    return df"
   ]
  },
  {
   "cell_type": "code",
   "execution_count": null,
   "id": "389e5d92",
   "metadata": {},
   "outputs": [],
   "source": [
    "shot = pd.DataFrame([x for y in pd.read_pickle('nba/data/pickle/plyrShots.pkl')[:3] for x in y])"
   ]
  },
  {
   "cell_type": "code",
   "execution_count": null,
   "id": "c1c214c0",
   "metadata": {},
   "outputs": [],
   "source": [
    "def shot_clean():\n",
    "    shot = pd.DataFrame([x for y in pd.read_pickle('nba/data/pickle/plyrShots.pkl') for x in y])\n",
    "    return shot"
   ]
  },
  {
   "cell_type": "code",
   "execution_count": null,
   "id": "8e2583b1",
   "metadata": {},
   "outputs": [],
   "source": []
  },
  {
   "cell_type": "code",
   "execution_count": null,
   "id": "45ea1ab6",
   "metadata": {},
   "outputs": [],
   "source": [
    "pd.DataFrame([y for x in box for y in x]).filter(['personId','game_id','usagePercentage','pace','possessions','offensiveRating','defensiveRating'])"
   ]
  },
  {
   "cell_type": "code",
   "execution_count": null,
   "id": "47114079",
   "metadata": {},
   "outputs": [],
   "source": [
    "def \n",
    "def analytic_view(log,val,teams):\n",
    "    '''\n",
    "    Pass through the player log and the stat you are looking to evaluate to create a view to give basic information \n",
    "    on the player\n",
    "    '''\n",
    "    vals = [col for col in log.columns if col.find(val)>-1] + ['PLAYER_NAME','MIN']\n",
    "    playing = log[log.TEAM_ABBREVIATION.isin(teams)]\n",
    "    playing\n",
    "    plval = playing[[val]]"
   ]
  },
  {
   "cell_type": "code",
   "execution_count": null,
   "id": "8b252a05",
   "metadata": {},
   "outputs": [],
   "source": [
    "teams = ['CLE','DEN','LAL','BKN','PHI','TOR','MIA','WSH','OKC','HOU','DAL','NYK','CHI','MIN','GSW','SAS','UTA','SAC']"
   ]
  },
  {
   "cell_type": "code",
   "execution_count": null,
   "id": "9fa310ee",
   "metadata": {},
   "outputs": [],
   "source": [
    "playing = log[log.TEAM_ABBREVIATION.isin(teams)]"
   ]
  },
  {
   "cell_type": "code",
   "execution_count": null,
   "id": "40f63a06",
   "metadata": {},
   "outputs": [],
   "source": [
    "df = playing[['PLAYER_NAME','GAME_DATE','MIN','FG3M']]"
   ]
  },
  {
   "cell_type": "code",
   "execution_count": null,
   "id": "a410878f",
   "metadata": {},
   "outputs": [],
   "source": [
    "df.groupby()"
   ]
  },
  {
   "cell_type": "code",
   "execution_count": null,
   "id": "3872824f",
   "metadata": {},
   "outputs": [],
   "source": [
    "drbsht = pd.read_pickle('./nba/data/pickle/drbshots.pkl')[0]"
   ]
  },
  {
   "cell_type": "code",
   "execution_count": null,
   "id": "853c1f87",
   "metadata": {},
   "outputs": [],
   "source": [
    "drbsht[1]"
   ]
  },
  {
   "cell_type": "code",
   "execution_count": null,
   "id": "f147855c",
   "metadata": {},
   "outputs": [],
   "source": [
    "df.groupby(['PLAYER_NAME'])"
   ]
  },
  {
   "cell_type": "code",
   "execution_count": null,
   "id": "221fc5c4",
   "metadata": {},
   "outputs": [],
   "source": []
  }
 ],
 "metadata": {
  "kernelspec": {
   "display_name": "Python 3 (ipykernel)",
   "language": "python",
   "name": "python3"
  },
  "language_info": {
   "codemirror_mode": {
    "name": "ipython",
    "version": 3
   },
   "file_extension": ".py",
   "mimetype": "text/x-python",
   "name": "python",
   "nbconvert_exporter": "python",
   "pygments_lexer": "ipython3",
   "version": "3.9.7"
  }
 },
 "nbformat": 4,
 "nbformat_minor": 5
}
