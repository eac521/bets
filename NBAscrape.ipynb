{
 "cells": [
  {
   "cell_type": "code",
   "execution_count": 1,
   "id": "039c5b4f",
   "metadata": {},
   "outputs": [],
   "source": [
    "%load_ext autoreload\n",
    "%autoreload 2"
   ]
  },
  {
   "cell_type": "code",
   "execution_count": 3,
   "id": "3ccbaa1e-76ff-4159-9439-56afdc39033c",
   "metadata": {},
   "outputs": [],
   "source": [
    "from bs4 import BeautifulSoup\n",
    "import requests\n",
    "from pathlib import Path\n",
    "import pandas as pd\n",
    "import re\n",
    "import os\n",
    "import pickle\n",
    "import sqlite3\n",
    "import numpy as np\n",
    "import datetime\n",
    "#import html5li\n",
    "from tqdm import tqdm\n",
    "import time\n",
    "import bets as bet"
   ]
  },
  {
   "cell_type": "code",
   "execution_count": 4,
   "id": "2df1dfa2",
   "metadata": {},
   "outputs": [],
   "source": [
    "from nba_api.stats.endpoints import BoxScoreAdvancedV3,PlayByPlayV2,BoxScoreSummaryV2,LeagueDashTeamShotLocations,LeagueDashOppPtShot,LeagueDashPlayerShotLocations,PlayerGameLogs,TeamInfoCommon,leaguegamefinder,LeagueDashPtStats"
   ]
  },
  {
   "cell_type": "code",
   "execution_count": 8,
   "id": "2837a2a5-6a44-473d-86a2-5229f66c2e86",
   "metadata": {},
   "outputs": [],
   "source": [
    "from nba_api.stats.endpoints import C"
   ]
  },
  {
   "cell_type": "code",
   "execution_count": 9,
   "id": "7ab9431b-716e-4a48-9e8d-b586d957ae04",
   "metadata": {},
   "outputs": [
    {
     "ename": "TypeError",
     "evalue": "CumeStatsPlayer.__init__() missing 2 required positional arguments: 'player_id' and 'game_ids'",
     "output_type": "error",
     "traceback": [
      "\u001b[0;31m---------------------------------------------------------------------------\u001b[0m",
      "\u001b[0;31mTypeError\u001b[0m                                 Traceback (most recent call last)",
      "Cell \u001b[0;32mIn[9], line 1\u001b[0m\n\u001b[0;32m----> 1\u001b[0m CumeStatsPlayer()\n",
      "\u001b[0;31mTypeError\u001b[0m: CumeStatsPlayer.__init__() missing 2 required positional arguments: 'player_id' and 'game_ids'"
     ]
    }
   ],
   "source": []
  },
  {
   "cell_type": "markdown",
   "id": "7d02d27d",
   "metadata": {},
   "source": [
    "#need 18 dec - april  \n",
    "#need all of 20  \n",
    "21 past feb 17  "
   ]
  },
  {
   "cell_type": "code",
   "execution_count": 5,
   "id": "bfc4cd26",
   "metadata": {},
   "outputs": [],
   "source": [
    "from nba_api.stats.endpoints import leaguegamefinder\n",
    "from nba_api.stats.library.parameters import Season\n",
    "from nba_api.stats.library.parameters import SeasonType\n",
    "\n",
    "\n",
    "gamefinder = leaguegamefinder.LeagueGameFinder(league_id_nullable = '00',\n",
    "                                               date_from_nullable = '10/01/2017',\n",
    "                                               season_type_nullable = 'Regular Season'\n",
    "                                                \n",
    "                                               )  \n",
    "game_dates = gamefinder.get_data_frames()[0]['GAME_DATE'].unique()\n",
    "games_dict = gamefinder.get_normalized_dict()\n",
    "games = games_dict['LeagueGameFinderResults']\n",
    "game_ids = list(set([v for l in games for k,v in l.items() if k=='GAME_ID']))"
   ]
  },
  {
   "cell_type": "code",
   "execution_count": 5,
   "id": "9e82d3d0",
   "metadata": {},
   "outputs": [
    {
     "ename": "OperationalError",
     "evalue": "unable to open database file",
     "output_type": "error",
     "traceback": [
      "\u001b[0;31m---------------------------------------------------------------------------\u001b[0m",
      "\u001b[0;31mOperationalError\u001b[0m                          Traceback (most recent call last)",
      "Cell \u001b[0;32mIn[5], line 1\u001b[0m\n\u001b[0;32m----> 1\u001b[0m nba \u001b[38;5;241m=\u001b[39m bet\u001b[38;5;241m.\u001b[39mnba()\n\u001b[1;32m      2\u001b[0m nba\u001b[38;5;241m.\u001b[39mshowTables\n",
      "File \u001b[0;32m~/code/bets/bets.py:14\u001b[0m, in \u001b[0;36mnba.__init__\u001b[0;34m(self)\u001b[0m\n\u001b[1;32m     12\u001b[0m \u001b[38;5;28;01mdef\u001b[39;00m \u001b[38;5;21m__init__\u001b[39m(\u001b[38;5;28mself\u001b[39m):\n\u001b[1;32m     13\u001b[0m     \u001b[38;5;28mself\u001b[39m\u001b[38;5;241m.\u001b[39mdb \u001b[38;5;241m=\u001b[39m \u001b[38;5;124m'\u001b[39m\u001b[38;5;124m./data/database/nba.db\u001b[39m\u001b[38;5;124m'\u001b[39m\n\u001b[0;32m---> 14\u001b[0m     \u001b[38;5;28mself\u001b[39m\u001b[38;5;241m.\u001b[39mconn \u001b[38;5;241m=\u001b[39m sqlite3\u001b[38;5;241m.\u001b[39mconnect(\u001b[38;5;28mself\u001b[39m\u001b[38;5;241m.\u001b[39mdb)\n\u001b[1;32m     15\u001b[0m     \u001b[38;5;28mself\u001b[39m\u001b[38;5;241m.\u001b[39mcur \u001b[38;5;241m=\u001b[39m \u001b[38;5;28mself\u001b[39m\u001b[38;5;241m.\u001b[39mconn\u001b[38;5;241m.\u001b[39mcursor()\n\u001b[1;32m     16\u001b[0m     \u001b[38;5;28mself\u001b[39m\u001b[38;5;241m.\u001b[39mshowTables \u001b[38;5;241m=\u001b[39m pd\u001b[38;5;241m.\u001b[39mread_sql(\u001b[38;5;124m\"\u001b[39m\u001b[38;5;124mSELECT * FROM sqlite_master WHERE type in (\u001b[39m\u001b[38;5;124m'\u001b[39m\u001b[38;5;124mtable\u001b[39m\u001b[38;5;124m'\u001b[39m\u001b[38;5;124m,\u001b[39m\u001b[38;5;124m'\u001b[39m\u001b[38;5;124mview\u001b[39m\u001b[38;5;124m'\u001b[39m\u001b[38;5;124m);\u001b[39m\u001b[38;5;124m\"\u001b[39m,\u001b[38;5;28mself\u001b[39m\u001b[38;5;241m.\u001b[39mconn)\n",
      "\u001b[0;31mOperationalError\u001b[0m: unable to open database file"
     ]
    }
   ],
   "source": [
    "nba = bet.nba()\n",
    "nba.showTables"
   ]
  },
  {
   "cell_type": "code",
   "execution_count": 52,
   "id": "872b8bca",
   "metadata": {},
   "outputs": [],
   "source": [
    "shtAl = pd.read_sql('select * from shotsAllowed',nba.conn)"
   ]
  },
  {
   "cell_type": "code",
   "execution_count": 54,
   "id": "8c488b19",
   "metadata": {},
   "outputs": [],
   "source": [
    "tmshot = pd.read_sql('select * from tmShotAllow',nba.conn)"
   ]
  },
  {
   "cell_type": "code",
   "execution_count": 57,
   "id": "e6df10e6",
   "metadata": {},
   "outputs": [],
   "source": [
    "nba.conn.execute('DROP TABLE tmShotAllow')\n",
    "nba.conn.commit()"
   ]
  },
  {
   "cell_type": "code",
   "execution_count": 55,
   "id": "efecea7e",
   "metadata": {},
   "outputs": [
    {
     "data": {
      "text/html": [
       "<div>\n",
       "<style scoped>\n",
       "    .dataframe tbody tr th:only-of-type {\n",
       "        vertical-align: middle;\n",
       "    }\n",
       "\n",
       "    .dataframe tbody tr th {\n",
       "        vertical-align: top;\n",
       "    }\n",
       "\n",
       "    .dataframe thead th {\n",
       "        text-align: right;\n",
       "    }\n",
       "</style>\n",
       "<table border=\"1\" class=\"dataframe\">\n",
       "  <thead>\n",
       "    <tr style=\"text-align: right;\">\n",
       "      <th></th>\n",
       "      <th>team_id</th>\n",
       "      <th>game_date</th>\n",
       "      <th>game_id</th>\n",
       "      <th>ra_fgm</th>\n",
       "      <th>ra_fga</th>\n",
       "      <th>paint_fgm</th>\n",
       "      <th>paint_fga</th>\n",
       "      <th>mid_fgm</th>\n",
       "      <th>mid_fga</th>\n",
       "      <th>lc_fgm</th>\n",
       "      <th>...</th>\n",
       "      <th>drb2_fg3m</th>\n",
       "      <th>drb2_fg3a</th>\n",
       "      <th>drb36_fg2m</th>\n",
       "      <th>drb36_fg2a</th>\n",
       "      <th>drb36_fg3m</th>\n",
       "      <th>drb36_fg3a</th>\n",
       "      <th>drb7_fg2m</th>\n",
       "      <th>drb7_fg2a</th>\n",
       "      <th>drb7_fg3m</th>\n",
       "      <th>drb7_fg3a</th>\n",
       "    </tr>\n",
       "  </thead>\n",
       "  <tbody>\n",
       "    <tr>\n",
       "      <th>0</th>\n",
       "      <td>1610612743</td>\n",
       "      <td>2023-10-24</td>\n",
       "      <td>0022300061</td>\n",
       "      <td>23</td>\n",
       "      <td>36</td>\n",
       "      <td>6</td>\n",
       "      <td>15</td>\n",
       "      <td>2</td>\n",
       "      <td>10</td>\n",
       "      <td>0.0</td>\n",
       "      <td>...</td>\n",
       "      <td>0.0</td>\n",
       "      <td>1.0</td>\n",
       "      <td>13.0</td>\n",
       "      <td>22.0</td>\n",
       "      <td>0.0</td>\n",
       "      <td>1.0</td>\n",
       "      <td>3.0</td>\n",
       "      <td>5.0</td>\n",
       "      <td>0.0</td>\n",
       "      <td>1.0</td>\n",
       "    </tr>\n",
       "    <tr>\n",
       "      <th>1</th>\n",
       "      <td>1610612744</td>\n",
       "      <td>2023-10-24</td>\n",
       "      <td>0022300062</td>\n",
       "      <td>4</td>\n",
       "      <td>7</td>\n",
       "      <td>20</td>\n",
       "      <td>37</td>\n",
       "      <td>7</td>\n",
       "      <td>18</td>\n",
       "      <td>1.0</td>\n",
       "      <td>...</td>\n",
       "      <td>0.0</td>\n",
       "      <td>2.0</td>\n",
       "      <td>6.0</td>\n",
       "      <td>20.0</td>\n",
       "      <td>0.0</td>\n",
       "      <td>0.0</td>\n",
       "      <td>4.0</td>\n",
       "      <td>10.0</td>\n",
       "      <td>0.0</td>\n",
       "      <td>3.0</td>\n",
       "    </tr>\n",
       "    <tr>\n",
       "      <th>2</th>\n",
       "      <td>1610612747</td>\n",
       "      <td>2023-10-24</td>\n",
       "      <td>0022300061</td>\n",
       "      <td>18</td>\n",
       "      <td>26</td>\n",
       "      <td>8</td>\n",
       "      <td>16</td>\n",
       "      <td>8</td>\n",
       "      <td>15</td>\n",
       "      <td>1.0</td>\n",
       "      <td>...</td>\n",
       "      <td>0.0</td>\n",
       "      <td>0.0</td>\n",
       "      <td>5.0</td>\n",
       "      <td>11.0</td>\n",
       "      <td>3.0</td>\n",
       "      <td>4.0</td>\n",
       "      <td>3.0</td>\n",
       "      <td>6.0</td>\n",
       "      <td>0.0</td>\n",
       "      <td>0.0</td>\n",
       "    </tr>\n",
       "    <tr>\n",
       "      <th>3</th>\n",
       "      <td>1610612756</td>\n",
       "      <td>2023-10-24</td>\n",
       "      <td>0022300062</td>\n",
       "      <td>7</td>\n",
       "      <td>12</td>\n",
       "      <td>15</td>\n",
       "      <td>35</td>\n",
       "      <td>4</td>\n",
       "      <td>11</td>\n",
       "      <td>2.0</td>\n",
       "      <td>...</td>\n",
       "      <td>0.0</td>\n",
       "      <td>2.0</td>\n",
       "      <td>7.0</td>\n",
       "      <td>15.0</td>\n",
       "      <td>1.0</td>\n",
       "      <td>5.0</td>\n",
       "      <td>3.0</td>\n",
       "      <td>7.0</td>\n",
       "      <td>1.0</td>\n",
       "      <td>5.0</td>\n",
       "    </tr>\n",
       "    <tr>\n",
       "      <th>4</th>\n",
       "      <td>1610612737</td>\n",
       "      <td>2023-10-25</td>\n",
       "      <td>0022300063</td>\n",
       "      <td>17</td>\n",
       "      <td>25</td>\n",
       "      <td>11</td>\n",
       "      <td>15</td>\n",
       "      <td>4</td>\n",
       "      <td>9</td>\n",
       "      <td>3.0</td>\n",
       "      <td>...</td>\n",
       "      <td>0.0</td>\n",
       "      <td>1.0</td>\n",
       "      <td>6.0</td>\n",
       "      <td>8.0</td>\n",
       "      <td>0.0</td>\n",
       "      <td>1.0</td>\n",
       "      <td>1.0</td>\n",
       "      <td>5.0</td>\n",
       "      <td>0.0</td>\n",
       "      <td>0.0</td>\n",
       "    </tr>\n",
       "    <tr>\n",
       "      <th>...</th>\n",
       "      <td>...</td>\n",
       "      <td>...</td>\n",
       "      <td>...</td>\n",
       "      <td>...</td>\n",
       "      <td>...</td>\n",
       "      <td>...</td>\n",
       "      <td>...</td>\n",
       "      <td>...</td>\n",
       "      <td>...</td>\n",
       "      <td>...</td>\n",
       "      <td>...</td>\n",
       "      <td>...</td>\n",
       "      <td>...</td>\n",
       "      <td>...</td>\n",
       "      <td>...</td>\n",
       "      <td>...</td>\n",
       "      <td>...</td>\n",
       "      <td>...</td>\n",
       "      <td>...</td>\n",
       "      <td>...</td>\n",
       "      <td>...</td>\n",
       "    </tr>\n",
       "    <tr>\n",
       "      <th>16551</th>\n",
       "      <td>1610612755</td>\n",
       "      <td>2022-03-07</td>\n",
       "      <td>0022100969</td>\n",
       "      <td>22</td>\n",
       "      <td>28</td>\n",
       "      <td>3</td>\n",
       "      <td>16</td>\n",
       "      <td>6</td>\n",
       "      <td>19</td>\n",
       "      <td>1.0</td>\n",
       "      <td>...</td>\n",
       "      <td>0.0</td>\n",
       "      <td>0.0</td>\n",
       "      <td>6.0</td>\n",
       "      <td>18.0</td>\n",
       "      <td>0.0</td>\n",
       "      <td>2.0</td>\n",
       "      <td>4.0</td>\n",
       "      <td>10.0</td>\n",
       "      <td>1.0</td>\n",
       "      <td>2.0</td>\n",
       "    </tr>\n",
       "    <tr>\n",
       "      <th>16552</th>\n",
       "      <td>1610612757</td>\n",
       "      <td>2022-03-07</td>\n",
       "      <td>0022100971</td>\n",
       "      <td>22</td>\n",
       "      <td>34</td>\n",
       "      <td>2</td>\n",
       "      <td>9</td>\n",
       "      <td>1</td>\n",
       "      <td>7</td>\n",
       "      <td>4.0</td>\n",
       "      <td>...</td>\n",
       "      <td>1.0</td>\n",
       "      <td>1.0</td>\n",
       "      <td>8.0</td>\n",
       "      <td>11.0</td>\n",
       "      <td>1.0</td>\n",
       "      <td>4.0</td>\n",
       "      <td>1.0</td>\n",
       "      <td>1.0</td>\n",
       "      <td>0.0</td>\n",
       "      <td>3.0</td>\n",
       "    </tr>\n",
       "    <tr>\n",
       "      <th>16553</th>\n",
       "      <td>1610612758</td>\n",
       "      <td>2022-03-07</td>\n",
       "      <td>0022100974</td>\n",
       "      <td>17</td>\n",
       "      <td>23</td>\n",
       "      <td>10</td>\n",
       "      <td>20</td>\n",
       "      <td>2</td>\n",
       "      <td>7</td>\n",
       "      <td>2.0</td>\n",
       "      <td>...</td>\n",
       "      <td>1.0</td>\n",
       "      <td>2.0</td>\n",
       "      <td>14.0</td>\n",
       "      <td>22.0</td>\n",
       "      <td>6.0</td>\n",
       "      <td>8.0</td>\n",
       "      <td>2.0</td>\n",
       "      <td>7.0</td>\n",
       "      <td>1.0</td>\n",
       "      <td>3.0</td>\n",
       "    </tr>\n",
       "    <tr>\n",
       "      <th>16554</th>\n",
       "      <td>1610612759</td>\n",
       "      <td>2022-03-07</td>\n",
       "      <td>0022100973</td>\n",
       "      <td>23</td>\n",
       "      <td>32</td>\n",
       "      <td>7</td>\n",
       "      <td>22</td>\n",
       "      <td>5</td>\n",
       "      <td>11</td>\n",
       "      <td>1.0</td>\n",
       "      <td>...</td>\n",
       "      <td>0.0</td>\n",
       "      <td>3.0</td>\n",
       "      <td>8.0</td>\n",
       "      <td>20.0</td>\n",
       "      <td>0.0</td>\n",
       "      <td>2.0</td>\n",
       "      <td>9.0</td>\n",
       "      <td>12.0</td>\n",
       "      <td>0.0</td>\n",
       "      <td>2.0</td>\n",
       "    </tr>\n",
       "    <tr>\n",
       "      <th>16555</th>\n",
       "      <td>1610612762</td>\n",
       "      <td>2022-03-07</td>\n",
       "      <td>0022100972</td>\n",
       "      <td>13</td>\n",
       "      <td>22</td>\n",
       "      <td>3</td>\n",
       "      <td>9</td>\n",
       "      <td>6</td>\n",
       "      <td>11</td>\n",
       "      <td>4.0</td>\n",
       "      <td>...</td>\n",
       "      <td>0.0</td>\n",
       "      <td>1.0</td>\n",
       "      <td>5.0</td>\n",
       "      <td>7.0</td>\n",
       "      <td>3.0</td>\n",
       "      <td>3.0</td>\n",
       "      <td>3.0</td>\n",
       "      <td>10.0</td>\n",
       "      <td>3.0</td>\n",
       "      <td>9.0</td>\n",
       "    </tr>\n",
       "  </tbody>\n",
       "</table>\n",
       "<p>16556 rows × 47 columns</p>\n",
       "</div>"
      ],
      "text/plain": [
       "          team_id   game_date     game_id  ra_fgm  ra_fga  paint_fgm  \\\n",
       "0      1610612743  2023-10-24  0022300061      23      36          6   \n",
       "1      1610612744  2023-10-24  0022300062       4       7         20   \n",
       "2      1610612747  2023-10-24  0022300061      18      26          8   \n",
       "3      1610612756  2023-10-24  0022300062       7      12         15   \n",
       "4      1610612737  2023-10-25  0022300063      17      25         11   \n",
       "...           ...         ...         ...     ...     ...        ...   \n",
       "16551  1610612755  2022-03-07  0022100969      22      28          3   \n",
       "16552  1610612757  2022-03-07  0022100971      22      34          2   \n",
       "16553  1610612758  2022-03-07  0022100974      17      23         10   \n",
       "16554  1610612759  2022-03-07  0022100973      23      32          7   \n",
       "16555  1610612762  2022-03-07  0022100972      13      22          3   \n",
       "\n",
       "       paint_fga  mid_fgm  mid_fga  lc_fgm  ...  drb2_fg3m  drb2_fg3a  \\\n",
       "0             15        2       10     0.0  ...        0.0        1.0   \n",
       "1             37        7       18     1.0  ...        0.0        2.0   \n",
       "2             16        8       15     1.0  ...        0.0        0.0   \n",
       "3             35        4       11     2.0  ...        0.0        2.0   \n",
       "4             15        4        9     3.0  ...        0.0        1.0   \n",
       "...          ...      ...      ...     ...  ...        ...        ...   \n",
       "16551         16        6       19     1.0  ...        0.0        0.0   \n",
       "16552          9        1        7     4.0  ...        1.0        1.0   \n",
       "16553         20        2        7     2.0  ...        1.0        2.0   \n",
       "16554         22        5       11     1.0  ...        0.0        3.0   \n",
       "16555          9        6       11     4.0  ...        0.0        1.0   \n",
       "\n",
       "       drb36_fg2m  drb36_fg2a  drb36_fg3m  drb36_fg3a  drb7_fg2m  drb7_fg2a  \\\n",
       "0            13.0        22.0         0.0         1.0        3.0        5.0   \n",
       "1             6.0        20.0         0.0         0.0        4.0       10.0   \n",
       "2             5.0        11.0         3.0         4.0        3.0        6.0   \n",
       "3             7.0        15.0         1.0         5.0        3.0        7.0   \n",
       "4             6.0         8.0         0.0         1.0        1.0        5.0   \n",
       "...           ...         ...         ...         ...        ...        ...   \n",
       "16551         6.0        18.0         0.0         2.0        4.0       10.0   \n",
       "16552         8.0        11.0         1.0         4.0        1.0        1.0   \n",
       "16553        14.0        22.0         6.0         8.0        2.0        7.0   \n",
       "16554         8.0        20.0         0.0         2.0        9.0       12.0   \n",
       "16555         5.0         7.0         3.0         3.0        3.0       10.0   \n",
       "\n",
       "       drb7_fg3m  drb7_fg3a  \n",
       "0            0.0        1.0  \n",
       "1            0.0        3.0  \n",
       "2            0.0        0.0  \n",
       "3            1.0        5.0  \n",
       "4            0.0        0.0  \n",
       "...          ...        ...  \n",
       "16551        1.0        2.0  \n",
       "16552        0.0        3.0  \n",
       "16553        1.0        3.0  \n",
       "16554        0.0        2.0  \n",
       "16555        3.0        9.0  \n",
       "\n",
       "[16556 rows x 47 columns]"
      ]
     },
     "execution_count": 55,
     "metadata": {},
     "output_type": "execute_result"
    }
   ],
   "source": [
    "tmshot.compare(shtAl,)"
   ]
  },
  {
   "cell_type": "code",
   "execution_count": null,
   "id": "abde173d",
   "metadata": {},
   "outputs": [],
   "source": [
    "pd.read_pickle('nba/data/pickle/teamlog.pkl')"
   ]
  },
  {
   "cell_type": "code",
   "execution_count": 45,
   "id": "a773e733",
   "metadata": {},
   "outputs": [],
   "source": [
    "df2 = pd.read_pickle('nba/data/pickle/teamlog2.pkl')\n",
    "df1 = pd.read_pickle('nba/data/pickle/teamlog2.pkl')\n",
    "df3 = pd.read_pickle('nba/data/pickle/teamlog3.pkl')\n",
    "df4 = pd.read_pickle('nba/data/pickle/teamlog4.pkl')\n",
    "games = df2.GAME_ID.unique().tolist() + df1.GAME_ID.unique().tolist() + df3.GAME_ID.unique().tolist() +df4.GAME_ID.unique().tolist()"
   ]
  },
  {
   "cell_type": "code",
   "execution_count": 46,
   "id": "8128b2b8",
   "metadata": {},
   "outputs": [],
   "source": [
    "tml = pd.read_sql('select distinct game_id from teamLog',nba.conn).game_id.values"
   ]
  },
  {
   "cell_type": "code",
   "execution_count": 47,
   "id": "68e97e90",
   "metadata": {},
   "outputs": [
    {
     "name": "stdout",
     "output_type": "stream",
     "text": [
      "teamLog has been updated with 7,812 rows\n"
     ]
    }
   ],
   "source": [
    "final = pd.concat([df1,df2,df3,df4])\n",
    "final = final[~final.GAME_ID.isin(tml)].drop_duplicates()\n",
    "nba.insert_data(final.filter(sqlorder),'teamLog')\n"
   ]
  },
  {
   "cell_type": "code",
   "execution_count": 43,
   "id": "8437e1cc",
   "metadata": {},
   "outputs": [
    {
     "data": {
      "text/html": [
       "<div>\n",
       "<style scoped>\n",
       "    .dataframe tbody tr th:only-of-type {\n",
       "        vertical-align: middle;\n",
       "    }\n",
       "\n",
       "    .dataframe tbody tr th {\n",
       "        vertical-align: top;\n",
       "    }\n",
       "\n",
       "    .dataframe thead th {\n",
       "        text-align: right;\n",
       "    }\n",
       "</style>\n",
       "<table border=\"1\" class=\"dataframe\">\n",
       "  <thead>\n",
       "    <tr style=\"text-align: right;\">\n",
       "      <th></th>\n",
       "      <th>TEAM_ID</th>\n",
       "      <th>inactive</th>\n",
       "      <th>count_inactive</th>\n",
       "      <th>GAME_ID</th>\n",
       "      <th>assistPercentage</th>\n",
       "      <th>offensiveRating</th>\n",
       "      <th>defensiveRating</th>\n",
       "      <th>pace</th>\n",
       "      <th>possessions</th>\n",
       "      <th>offensiveReboundPercentage</th>\n",
       "      <th>defensiveReboundPercentage</th>\n",
       "      <th>home</th>\n",
       "      <th>PTS_QTR1</th>\n",
       "      <th>PTS_QTR2</th>\n",
       "      <th>PTS_QTR3</th>\n",
       "      <th>PTS_QTR4</th>\n",
       "      <th>PTS_OT1</th>\n",
       "      <th>PTS_OT2</th>\n",
       "      <th>PTS_OT3</th>\n",
       "      <th>PTS_OT4</th>\n",
       "    </tr>\n",
       "  </thead>\n",
       "  <tbody>\n",
       "    <tr>\n",
       "      <th>0</th>\n",
       "      <td>1610612755</td>\n",
       "      <td>1630203,1627732</td>\n",
       "      <td>2</td>\n",
       "      <td>0022100038</td>\n",
       "      <td>0.610</td>\n",
       "      <td>118.6</td>\n",
       "      <td>106.2</td>\n",
       "      <td>97.0</td>\n",
       "      <td>97.0</td>\n",
       "      <td>0.265</td>\n",
       "      <td>0.804</td>\n",
       "      <td>0</td>\n",
       "      <td>36</td>\n",
       "      <td>23</td>\n",
       "      <td>28</td>\n",
       "      <td>28</td>\n",
       "      <td>NaN</td>\n",
       "      <td>NaN</td>\n",
       "      <td>NaN</td>\n",
       "      <td>NaN</td>\n",
       "    </tr>\n",
       "    <tr>\n",
       "      <th>0</th>\n",
       "      <td>1610612743</td>\n",
       "      <td>200794,1628427,203914,203115,1627750,203584</td>\n",
       "      <td>6</td>\n",
       "      <td>0021901272</td>\n",
       "      <td>0.682</td>\n",
       "      <td>121.1</td>\n",
       "      <td>133.0</td>\n",
       "      <td>94.5</td>\n",
       "      <td>95.0</td>\n",
       "      <td>0.326</td>\n",
       "      <td>0.680</td>\n",
       "      <td>1</td>\n",
       "      <td>26</td>\n",
       "      <td>23</td>\n",
       "      <td>38</td>\n",
       "      <td>28</td>\n",
       "      <td>NaN</td>\n",
       "      <td>NaN</td>\n",
       "      <td>NaN</td>\n",
       "      <td>NaN</td>\n",
       "    </tr>\n",
       "    <tr>\n",
       "      <th>0</th>\n",
       "      <td>1610612760</td>\n",
       "      <td>1628778,1630598</td>\n",
       "      <td>2</td>\n",
       "      <td>0022100144</td>\n",
       "      <td>0.600</td>\n",
       "      <td>98.0</td>\n",
       "      <td>93.1</td>\n",
       "      <td>101.0</td>\n",
       "      <td>101.0</td>\n",
       "      <td>0.300</td>\n",
       "      <td>0.770</td>\n",
       "      <td>1</td>\n",
       "      <td>14</td>\n",
       "      <td>31</td>\n",
       "      <td>34</td>\n",
       "      <td>20</td>\n",
       "      <td>NaN</td>\n",
       "      <td>NaN</td>\n",
       "      <td>NaN</td>\n",
       "      <td>NaN</td>\n",
       "    </tr>\n",
       "    <tr>\n",
       "      <th>0</th>\n",
       "      <td>1610612742</td>\n",
       "      <td>203552,201584,203939</td>\n",
       "      <td>3</td>\n",
       "      <td>0021901300</td>\n",
       "      <td>0.667</td>\n",
       "      <td>124.8</td>\n",
       "      <td>125.2</td>\n",
       "      <td>106.0</td>\n",
       "      <td>105.0</td>\n",
       "      <td>0.163</td>\n",
       "      <td>0.712</td>\n",
       "      <td>1</td>\n",
       "      <td>31</td>\n",
       "      <td>27</td>\n",
       "      <td>37</td>\n",
       "      <td>36</td>\n",
       "      <td>NaN</td>\n",
       "      <td>NaN</td>\n",
       "      <td>NaN</td>\n",
       "      <td>NaN</td>\n",
       "    </tr>\n",
       "    <tr>\n",
       "      <th>0</th>\n",
       "      <td>1610612747</td>\n",
       "      <td>1628366,1627826,1627780,2736</td>\n",
       "      <td>4</td>\n",
       "      <td>0021700768</td>\n",
       "      <td>0.538</td>\n",
       "      <td>105.2</td>\n",
       "      <td>102.1</td>\n",
       "      <td>97.0</td>\n",
       "      <td>97.0</td>\n",
       "      <td>0.393</td>\n",
       "      <td>0.800</td>\n",
       "      <td>0</td>\n",
       "      <td>24</td>\n",
       "      <td>35</td>\n",
       "      <td>26</td>\n",
       "      <td>17</td>\n",
       "      <td>NaN</td>\n",
       "      <td>NaN</td>\n",
       "      <td>NaN</td>\n",
       "      <td>NaN</td>\n",
       "    </tr>\n",
       "    <tr>\n",
       "      <th>...</th>\n",
       "      <td>...</td>\n",
       "      <td>...</td>\n",
       "      <td>...</td>\n",
       "      <td>...</td>\n",
       "      <td>...</td>\n",
       "      <td>...</td>\n",
       "      <td>...</td>\n",
       "      <td>...</td>\n",
       "      <td>...</td>\n",
       "      <td>...</td>\n",
       "      <td>...</td>\n",
       "      <td>...</td>\n",
       "      <td>...</td>\n",
       "      <td>...</td>\n",
       "      <td>...</td>\n",
       "      <td>...</td>\n",
       "      <td>...</td>\n",
       "      <td>...</td>\n",
       "      <td>...</td>\n",
       "      <td>...</td>\n",
       "    </tr>\n",
       "    <tr>\n",
       "      <th>1</th>\n",
       "      <td>1610612757</td>\n",
       "      <td>203468,203994</td>\n",
       "      <td>2</td>\n",
       "      <td>0021801157</td>\n",
       "      <td>0.620</td>\n",
       "      <td>130.7</td>\n",
       "      <td>120.8</td>\n",
       "      <td>101.0</td>\n",
       "      <td>101.0</td>\n",
       "      <td>0.364</td>\n",
       "      <td>0.700</td>\n",
       "      <td>0</td>\n",
       "      <td>38</td>\n",
       "      <td>37</td>\n",
       "      <td>22</td>\n",
       "      <td>35</td>\n",
       "      <td>NaN</td>\n",
       "      <td>NaN</td>\n",
       "      <td>NaN</td>\n",
       "      <td>NaN</td>\n",
       "    </tr>\n",
       "    <tr>\n",
       "      <th>0</th>\n",
       "      <td>1610612742</td>\n",
       "      <td>1630639,1630593</td>\n",
       "      <td>2</td>\n",
       "      <td>0022201195</td>\n",
       "      <td>0.545</td>\n",
       "      <td>125.5</td>\n",
       "      <td>122.7</td>\n",
       "      <td>97.5</td>\n",
       "      <td>98.0</td>\n",
       "      <td>0.217</td>\n",
       "      <td>0.557</td>\n",
       "      <td>1</td>\n",
       "      <td>28</td>\n",
       "      <td>32</td>\n",
       "      <td>32</td>\n",
       "      <td>31</td>\n",
       "      <td>NaN</td>\n",
       "      <td>NaN</td>\n",
       "      <td>NaN</td>\n",
       "      <td>NaN</td>\n",
       "    </tr>\n",
       "    <tr>\n",
       "      <th>1</th>\n",
       "      <td>1610612758</td>\n",
       "      <td>203521,1629674</td>\n",
       "      <td>2</td>\n",
       "      <td>0022201195</td>\n",
       "      <td>0.674</td>\n",
       "      <td>122.7</td>\n",
       "      <td>125.5</td>\n",
       "      <td>97.5</td>\n",
       "      <td>97.0</td>\n",
       "      <td>0.443</td>\n",
       "      <td>0.783</td>\n",
       "      <td>0</td>\n",
       "      <td>27</td>\n",
       "      <td>44</td>\n",
       "      <td>21</td>\n",
       "      <td>27</td>\n",
       "      <td>NaN</td>\n",
       "      <td>NaN</td>\n",
       "      <td>NaN</td>\n",
       "      <td>NaN</td>\n",
       "    </tr>\n",
       "    <tr>\n",
       "      <th>0</th>\n",
       "      <td>1610612738</td>\n",
       "      <td>202694,202330,201143</td>\n",
       "      <td>3</td>\n",
       "      <td>0021700407</td>\n",
       "      <td>0.617</td>\n",
       "      <td>125.3</td>\n",
       "      <td>119.2</td>\n",
       "      <td>99.0</td>\n",
       "      <td>99.0</td>\n",
       "      <td>0.171</td>\n",
       "      <td>0.580</td>\n",
       "      <td>1</td>\n",
       "      <td>30</td>\n",
       "      <td>38</td>\n",
       "      <td>29</td>\n",
       "      <td>27</td>\n",
       "      <td>NaN</td>\n",
       "      <td>NaN</td>\n",
       "      <td>NaN</td>\n",
       "      <td>NaN</td>\n",
       "    </tr>\n",
       "    <tr>\n",
       "      <th>1</th>\n",
       "      <td>1610612743</td>\n",
       "      <td>1628470,1628420,200794,1628399,203115</td>\n",
       "      <td>5</td>\n",
       "      <td>0021700407</td>\n",
       "      <td>0.489</td>\n",
       "      <td>119.2</td>\n",
       "      <td>125.3</td>\n",
       "      <td>99.0</td>\n",
       "      <td>99.0</td>\n",
       "      <td>0.420</td>\n",
       "      <td>0.829</td>\n",
       "      <td>0</td>\n",
       "      <td>31</td>\n",
       "      <td>28</td>\n",
       "      <td>33</td>\n",
       "      <td>26</td>\n",
       "      <td>NaN</td>\n",
       "      <td>NaN</td>\n",
       "      <td>NaN</td>\n",
       "      <td>NaN</td>\n",
       "    </tr>\n",
       "  </tbody>\n",
       "</table>\n",
       "<p>7816 rows × 20 columns</p>\n",
       "</div>"
      ],
      "text/plain": [
       "       TEAM_ID                                     inactive  count_inactive  \\\n",
       "0   1610612755                              1630203,1627732               2   \n",
       "0   1610612743  200794,1628427,203914,203115,1627750,203584               6   \n",
       "0   1610612760                              1628778,1630598               2   \n",
       "0   1610612742                         203552,201584,203939               3   \n",
       "0   1610612747                 1628366,1627826,1627780,2736               4   \n",
       "..         ...                                          ...             ...   \n",
       "1   1610612757                                203468,203994               2   \n",
       "0   1610612742                              1630639,1630593               2   \n",
       "1   1610612758                               203521,1629674               2   \n",
       "0   1610612738                         202694,202330,201143               3   \n",
       "1   1610612743        1628470,1628420,200794,1628399,203115               5   \n",
       "\n",
       "       GAME_ID  assistPercentage  offensiveRating  defensiveRating   pace  \\\n",
       "0   0022100038             0.610            118.6            106.2   97.0   \n",
       "0   0021901272             0.682            121.1            133.0   94.5   \n",
       "0   0022100144             0.600             98.0             93.1  101.0   \n",
       "0   0021901300             0.667            124.8            125.2  106.0   \n",
       "0   0021700768             0.538            105.2            102.1   97.0   \n",
       "..         ...               ...              ...              ...    ...   \n",
       "1   0021801157             0.620            130.7            120.8  101.0   \n",
       "0   0022201195             0.545            125.5            122.7   97.5   \n",
       "1   0022201195             0.674            122.7            125.5   97.5   \n",
       "0   0021700407             0.617            125.3            119.2   99.0   \n",
       "1   0021700407             0.489            119.2            125.3   99.0   \n",
       "\n",
       "    possessions  offensiveReboundPercentage  defensiveReboundPercentage  home  \\\n",
       "0          97.0                       0.265                       0.804     0   \n",
       "0          95.0                       0.326                       0.680     1   \n",
       "0         101.0                       0.300                       0.770     1   \n",
       "0         105.0                       0.163                       0.712     1   \n",
       "0          97.0                       0.393                       0.800     0   \n",
       "..          ...                         ...                         ...   ...   \n",
       "1         101.0                       0.364                       0.700     0   \n",
       "0          98.0                       0.217                       0.557     1   \n",
       "1          97.0                       0.443                       0.783     0   \n",
       "0          99.0                       0.171                       0.580     1   \n",
       "1          99.0                       0.420                       0.829     0   \n",
       "\n",
       "    PTS_QTR1  PTS_QTR2  PTS_QTR3  PTS_QTR4  PTS_OT1  PTS_OT2  PTS_OT3  PTS_OT4  \n",
       "0         36        23        28        28      NaN      NaN      NaN      NaN  \n",
       "0         26        23        38        28      NaN      NaN      NaN      NaN  \n",
       "0         14        31        34        20      NaN      NaN      NaN      NaN  \n",
       "0         31        27        37        36      NaN      NaN      NaN      NaN  \n",
       "0         24        35        26        17      NaN      NaN      NaN      NaN  \n",
       "..       ...       ...       ...       ...      ...      ...      ...      ...  \n",
       "1         38        37        22        35      NaN      NaN      NaN      NaN  \n",
       "0         28        32        32        31      NaN      NaN      NaN      NaN  \n",
       "1         27        44        21        27      NaN      NaN      NaN      NaN  \n",
       "0         30        38        29        27      NaN      NaN      NaN      NaN  \n",
       "1         31        28        33        26      NaN      NaN      NaN      NaN  \n",
       "\n",
       "[7816 rows x 20 columns]"
      ]
     },
     "execution_count": 43,
     "metadata": {},
     "output_type": "execute_result"
    }
   ],
   "source": [
    "final.drop_duplicates()"
   ]
  },
  {
   "cell_type": "code",
   "execution_count": 42,
   "id": "596c923d",
   "metadata": {},
   "outputs": [
    {
     "data": {
      "text/html": [
       "<div>\n",
       "<style scoped>\n",
       "    .dataframe tbody tr th:only-of-type {\n",
       "        vertical-align: middle;\n",
       "    }\n",
       "\n",
       "    .dataframe tbody tr th {\n",
       "        vertical-align: top;\n",
       "    }\n",
       "\n",
       "    .dataframe thead th {\n",
       "        text-align: right;\n",
       "    }\n",
       "</style>\n",
       "<table border=\"1\" class=\"dataframe\">\n",
       "  <thead>\n",
       "    <tr style=\"text-align: right;\">\n",
       "      <th></th>\n",
       "      <th>TEAM_ID</th>\n",
       "      <th>inactive</th>\n",
       "      <th>count_inactive</th>\n",
       "      <th>GAME_ID</th>\n",
       "      <th>assistPercentage</th>\n",
       "      <th>offensiveRating</th>\n",
       "      <th>defensiveRating</th>\n",
       "      <th>pace</th>\n",
       "      <th>possessions</th>\n",
       "      <th>offensiveReboundPercentage</th>\n",
       "      <th>defensiveReboundPercentage</th>\n",
       "      <th>home</th>\n",
       "      <th>PTS_QTR1</th>\n",
       "      <th>PTS_QTR2</th>\n",
       "      <th>PTS_QTR3</th>\n",
       "      <th>PTS_QTR4</th>\n",
       "      <th>PTS_OT1</th>\n",
       "      <th>PTS_OT2</th>\n",
       "      <th>PTS_OT3</th>\n",
       "      <th>PTS_OT4</th>\n",
       "    </tr>\n",
       "  </thead>\n",
       "  <tbody>\n",
       "    <tr>\n",
       "      <th>0</th>\n",
       "      <td>1610612755</td>\n",
       "      <td>1630203,1627732</td>\n",
       "      <td>2</td>\n",
       "      <td>0022100038</td>\n",
       "      <td>0.610</td>\n",
       "      <td>118.6</td>\n",
       "      <td>106.2</td>\n",
       "      <td>97.0</td>\n",
       "      <td>97.0</td>\n",
       "      <td>0.265</td>\n",
       "      <td>0.804</td>\n",
       "      <td>0</td>\n",
       "      <td>36</td>\n",
       "      <td>23</td>\n",
       "      <td>28</td>\n",
       "      <td>28</td>\n",
       "      <td>NaN</td>\n",
       "      <td>NaN</td>\n",
       "      <td>NaN</td>\n",
       "      <td>NaN</td>\n",
       "    </tr>\n",
       "    <tr>\n",
       "      <th>0</th>\n",
       "      <td>1610612743</td>\n",
       "      <td>200794,1628427,203914,203115,1627750,203584</td>\n",
       "      <td>6</td>\n",
       "      <td>0021901272</td>\n",
       "      <td>0.682</td>\n",
       "      <td>121.1</td>\n",
       "      <td>133.0</td>\n",
       "      <td>94.5</td>\n",
       "      <td>95.0</td>\n",
       "      <td>0.326</td>\n",
       "      <td>0.680</td>\n",
       "      <td>1</td>\n",
       "      <td>26</td>\n",
       "      <td>23</td>\n",
       "      <td>38</td>\n",
       "      <td>28</td>\n",
       "      <td>NaN</td>\n",
       "      <td>NaN</td>\n",
       "      <td>NaN</td>\n",
       "      <td>NaN</td>\n",
       "    </tr>\n",
       "    <tr>\n",
       "      <th>0</th>\n",
       "      <td>1610612760</td>\n",
       "      <td>1628778,1630598</td>\n",
       "      <td>2</td>\n",
       "      <td>0022100144</td>\n",
       "      <td>0.600</td>\n",
       "      <td>98.0</td>\n",
       "      <td>93.1</td>\n",
       "      <td>101.0</td>\n",
       "      <td>101.0</td>\n",
       "      <td>0.300</td>\n",
       "      <td>0.770</td>\n",
       "      <td>1</td>\n",
       "      <td>14</td>\n",
       "      <td>31</td>\n",
       "      <td>34</td>\n",
       "      <td>20</td>\n",
       "      <td>NaN</td>\n",
       "      <td>NaN</td>\n",
       "      <td>NaN</td>\n",
       "      <td>NaN</td>\n",
       "    </tr>\n",
       "    <tr>\n",
       "      <th>0</th>\n",
       "      <td>1610612742</td>\n",
       "      <td>203552,201584,203939</td>\n",
       "      <td>3</td>\n",
       "      <td>0021901300</td>\n",
       "      <td>0.667</td>\n",
       "      <td>124.8</td>\n",
       "      <td>125.2</td>\n",
       "      <td>106.0</td>\n",
       "      <td>105.0</td>\n",
       "      <td>0.163</td>\n",
       "      <td>0.712</td>\n",
       "      <td>1</td>\n",
       "      <td>31</td>\n",
       "      <td>27</td>\n",
       "      <td>37</td>\n",
       "      <td>36</td>\n",
       "      <td>NaN</td>\n",
       "      <td>NaN</td>\n",
       "      <td>NaN</td>\n",
       "      <td>NaN</td>\n",
       "    </tr>\n",
       "    <tr>\n",
       "      <th>0</th>\n",
       "      <td>1610612755</td>\n",
       "      <td>1630203,1627732</td>\n",
       "      <td>2</td>\n",
       "      <td>0022100038</td>\n",
       "      <td>0.610</td>\n",
       "      <td>118.6</td>\n",
       "      <td>106.2</td>\n",
       "      <td>97.0</td>\n",
       "      <td>97.0</td>\n",
       "      <td>0.265</td>\n",
       "      <td>0.804</td>\n",
       "      <td>0</td>\n",
       "      <td>36</td>\n",
       "      <td>23</td>\n",
       "      <td>28</td>\n",
       "      <td>28</td>\n",
       "      <td>NaN</td>\n",
       "      <td>NaN</td>\n",
       "      <td>NaN</td>\n",
       "      <td>NaN</td>\n",
       "    </tr>\n",
       "    <tr>\n",
       "      <th>...</th>\n",
       "      <td>...</td>\n",
       "      <td>...</td>\n",
       "      <td>...</td>\n",
       "      <td>...</td>\n",
       "      <td>...</td>\n",
       "      <td>...</td>\n",
       "      <td>...</td>\n",
       "      <td>...</td>\n",
       "      <td>...</td>\n",
       "      <td>...</td>\n",
       "      <td>...</td>\n",
       "      <td>...</td>\n",
       "      <td>...</td>\n",
       "      <td>...</td>\n",
       "      <td>...</td>\n",
       "      <td>...</td>\n",
       "      <td>...</td>\n",
       "      <td>...</td>\n",
       "      <td>...</td>\n",
       "      <td>...</td>\n",
       "    </tr>\n",
       "    <tr>\n",
       "      <th>1</th>\n",
       "      <td>1610612757</td>\n",
       "      <td>203468,203994</td>\n",
       "      <td>2</td>\n",
       "      <td>0021801157</td>\n",
       "      <td>0.620</td>\n",
       "      <td>130.7</td>\n",
       "      <td>120.8</td>\n",
       "      <td>101.0</td>\n",
       "      <td>101.0</td>\n",
       "      <td>0.364</td>\n",
       "      <td>0.700</td>\n",
       "      <td>0</td>\n",
       "      <td>38</td>\n",
       "      <td>37</td>\n",
       "      <td>22</td>\n",
       "      <td>35</td>\n",
       "      <td>NaN</td>\n",
       "      <td>NaN</td>\n",
       "      <td>NaN</td>\n",
       "      <td>NaN</td>\n",
       "    </tr>\n",
       "    <tr>\n",
       "      <th>0</th>\n",
       "      <td>1610612742</td>\n",
       "      <td>1630639,1630593</td>\n",
       "      <td>2</td>\n",
       "      <td>0022201195</td>\n",
       "      <td>0.545</td>\n",
       "      <td>125.5</td>\n",
       "      <td>122.7</td>\n",
       "      <td>97.5</td>\n",
       "      <td>98.0</td>\n",
       "      <td>0.217</td>\n",
       "      <td>0.557</td>\n",
       "      <td>1</td>\n",
       "      <td>28</td>\n",
       "      <td>32</td>\n",
       "      <td>32</td>\n",
       "      <td>31</td>\n",
       "      <td>NaN</td>\n",
       "      <td>NaN</td>\n",
       "      <td>NaN</td>\n",
       "      <td>NaN</td>\n",
       "    </tr>\n",
       "    <tr>\n",
       "      <th>1</th>\n",
       "      <td>1610612758</td>\n",
       "      <td>203521,1629674</td>\n",
       "      <td>2</td>\n",
       "      <td>0022201195</td>\n",
       "      <td>0.674</td>\n",
       "      <td>122.7</td>\n",
       "      <td>125.5</td>\n",
       "      <td>97.5</td>\n",
       "      <td>97.0</td>\n",
       "      <td>0.443</td>\n",
       "      <td>0.783</td>\n",
       "      <td>0</td>\n",
       "      <td>27</td>\n",
       "      <td>44</td>\n",
       "      <td>21</td>\n",
       "      <td>27</td>\n",
       "      <td>NaN</td>\n",
       "      <td>NaN</td>\n",
       "      <td>NaN</td>\n",
       "      <td>NaN</td>\n",
       "    </tr>\n",
       "    <tr>\n",
       "      <th>0</th>\n",
       "      <td>1610612738</td>\n",
       "      <td>202694,202330,201143</td>\n",
       "      <td>3</td>\n",
       "      <td>0021700407</td>\n",
       "      <td>0.617</td>\n",
       "      <td>125.3</td>\n",
       "      <td>119.2</td>\n",
       "      <td>99.0</td>\n",
       "      <td>99.0</td>\n",
       "      <td>0.171</td>\n",
       "      <td>0.580</td>\n",
       "      <td>1</td>\n",
       "      <td>30</td>\n",
       "      <td>38</td>\n",
       "      <td>29</td>\n",
       "      <td>27</td>\n",
       "      <td>NaN</td>\n",
       "      <td>NaN</td>\n",
       "      <td>NaN</td>\n",
       "      <td>NaN</td>\n",
       "    </tr>\n",
       "    <tr>\n",
       "      <th>1</th>\n",
       "      <td>1610612743</td>\n",
       "      <td>1628470,1628420,200794,1628399,203115</td>\n",
       "      <td>5</td>\n",
       "      <td>0021700407</td>\n",
       "      <td>0.489</td>\n",
       "      <td>119.2</td>\n",
       "      <td>125.3</td>\n",
       "      <td>99.0</td>\n",
       "      <td>99.0</td>\n",
       "      <td>0.420</td>\n",
       "      <td>0.829</td>\n",
       "      <td>0</td>\n",
       "      <td>31</td>\n",
       "      <td>28</td>\n",
       "      <td>33</td>\n",
       "      <td>26</td>\n",
       "      <td>NaN</td>\n",
       "      <td>NaN</td>\n",
       "      <td>NaN</td>\n",
       "      <td>NaN</td>\n",
       "    </tr>\n",
       "  </tbody>\n",
       "</table>\n",
       "<p>7820 rows × 20 columns</p>\n",
       "</div>"
      ],
      "text/plain": [
       "       TEAM_ID                                     inactive  count_inactive  \\\n",
       "0   1610612755                              1630203,1627732               2   \n",
       "0   1610612743  200794,1628427,203914,203115,1627750,203584               6   \n",
       "0   1610612760                              1628778,1630598               2   \n",
       "0   1610612742                         203552,201584,203939               3   \n",
       "0   1610612755                              1630203,1627732               2   \n",
       "..         ...                                          ...             ...   \n",
       "1   1610612757                                203468,203994               2   \n",
       "0   1610612742                              1630639,1630593               2   \n",
       "1   1610612758                               203521,1629674               2   \n",
       "0   1610612738                         202694,202330,201143               3   \n",
       "1   1610612743        1628470,1628420,200794,1628399,203115               5   \n",
       "\n",
       "       GAME_ID  assistPercentage  offensiveRating  defensiveRating   pace  \\\n",
       "0   0022100038             0.610            118.6            106.2   97.0   \n",
       "0   0021901272             0.682            121.1            133.0   94.5   \n",
       "0   0022100144             0.600             98.0             93.1  101.0   \n",
       "0   0021901300             0.667            124.8            125.2  106.0   \n",
       "0   0022100038             0.610            118.6            106.2   97.0   \n",
       "..         ...               ...              ...              ...    ...   \n",
       "1   0021801157             0.620            130.7            120.8  101.0   \n",
       "0   0022201195             0.545            125.5            122.7   97.5   \n",
       "1   0022201195             0.674            122.7            125.5   97.5   \n",
       "0   0021700407             0.617            125.3            119.2   99.0   \n",
       "1   0021700407             0.489            119.2            125.3   99.0   \n",
       "\n",
       "    possessions  offensiveReboundPercentage  defensiveReboundPercentage  home  \\\n",
       "0          97.0                       0.265                       0.804     0   \n",
       "0          95.0                       0.326                       0.680     1   \n",
       "0         101.0                       0.300                       0.770     1   \n",
       "0         105.0                       0.163                       0.712     1   \n",
       "0          97.0                       0.265                       0.804     0   \n",
       "..          ...                         ...                         ...   ...   \n",
       "1         101.0                       0.364                       0.700     0   \n",
       "0          98.0                       0.217                       0.557     1   \n",
       "1          97.0                       0.443                       0.783     0   \n",
       "0          99.0                       0.171                       0.580     1   \n",
       "1          99.0                       0.420                       0.829     0   \n",
       "\n",
       "    PTS_QTR1  PTS_QTR2  PTS_QTR3  PTS_QTR4  PTS_OT1  PTS_OT2  PTS_OT3  PTS_OT4  \n",
       "0         36        23        28        28      NaN      NaN      NaN      NaN  \n",
       "0         26        23        38        28      NaN      NaN      NaN      NaN  \n",
       "0         14        31        34        20      NaN      NaN      NaN      NaN  \n",
       "0         31        27        37        36      NaN      NaN      NaN      NaN  \n",
       "0         36        23        28        28      NaN      NaN      NaN      NaN  \n",
       "..       ...       ...       ...       ...      ...      ...      ...      ...  \n",
       "1         38        37        22        35      NaN      NaN      NaN      NaN  \n",
       "0         28        32        32        31      NaN      NaN      NaN      NaN  \n",
       "1         27        44        21        27      NaN      NaN      NaN      NaN  \n",
       "0         30        38        29        27      NaN      NaN      NaN      NaN  \n",
       "1         31        28        33        26      NaN      NaN      NaN      NaN  \n",
       "\n",
       "[7820 rows x 20 columns]"
      ]
     },
     "execution_count": 42,
     "metadata": {},
     "output_type": "execute_result"
    }
   ],
   "source": [
    "final"
   ]
  },
  {
   "cell_type": "code",
   "execution_count": 34,
   "id": "513ee551",
   "metadata": {},
   "outputs": [],
   "source": [
    "nba.conn.execute('''DELETE from teamLog where game_id in ('0022100038','0021901261','0022100144',\n",
    "                                                        '0021901300','0021901272')''')\n",
    "nba.conn.commit()"
   ]
  },
  {
   "cell_type": "code",
   "execution_count": 20,
   "id": "75fa4445",
   "metadata": {},
   "outputs": [],
   "source": [
    "sqlorder = ['GAME_ID','TEAM_ID','inactive','count_inactive','assistPercentage','offensiveRating',\n",
    "                    'defensiveRating','pace','possessions','offensiveReboundPercentage','defensiveReboundPercentage','home',\n",
    "                   'PTS_QTR1','PTS_QTR2','PTS_QTR3','PTS_QTR4']"
   ]
  },
  {
   "cell_type": "code",
   "execution_count": 13,
   "id": "94d81ebc",
   "metadata": {},
   "outputs": [
    {
     "data": {
      "text/plain": [
       "1967"
      ]
     },
     "execution_count": 13,
     "metadata": {},
     "output_type": "execute_result"
    }
   ],
   "source": [
    "len(remain)"
   ]
  },
  {
   "cell_type": "code",
   "execution_count": 16,
   "id": "89c9f4c6",
   "metadata": {},
   "outputs": [
    {
     "name": "stderr",
     "output_type": "stream",
     "text": [
      "100%|███████████████████████████████████████████████████████████████████████████████████████████████████████████████████████████████████████| 1967/1967 [6:04:03<00:00, 11.11s/it]"
     ]
    },
    {
     "name": "stdout",
     "output_type": "stream",
     "text": [
      "[]\n",
      "teamLog has been updated with 3,933 rows\n"
     ]
    },
    {
     "name": "stderr",
     "output_type": "stream",
     "text": [
      "\n"
     ]
    },
    {
     "data": {
      "text/html": [
       "<div>\n",
       "<style scoped>\n",
       "    .dataframe tbody tr th:only-of-type {\n",
       "        vertical-align: middle;\n",
       "    }\n",
       "\n",
       "    .dataframe tbody tr th {\n",
       "        vertical-align: top;\n",
       "    }\n",
       "\n",
       "    .dataframe thead th {\n",
       "        text-align: right;\n",
       "    }\n",
       "</style>\n",
       "<table border=\"1\" class=\"dataframe\">\n",
       "  <thead>\n",
       "    <tr style=\"text-align: right;\">\n",
       "      <th></th>\n",
       "      <th>TEAM_ID</th>\n",
       "      <th>inactive</th>\n",
       "      <th>count_inactive</th>\n",
       "      <th>GAME_ID</th>\n",
       "      <th>assistPercentage</th>\n",
       "      <th>offensiveRating</th>\n",
       "      <th>defensiveRating</th>\n",
       "      <th>pace</th>\n",
       "      <th>possessions</th>\n",
       "      <th>offensiveReboundPercentage</th>\n",
       "      <th>defensiveReboundPercentage</th>\n",
       "      <th>home</th>\n",
       "      <th>PTS_QTR1</th>\n",
       "      <th>PTS_QTR2</th>\n",
       "      <th>PTS_QTR3</th>\n",
       "      <th>PTS_QTR4</th>\n",
       "    </tr>\n",
       "  </thead>\n",
       "  <tbody>\n",
       "    <tr>\n",
       "      <th>0</th>\n",
       "      <td>1610612754</td>\n",
       "      <td>1628410,1626167,203922</td>\n",
       "      <td>3</td>\n",
       "      <td>0021700018</td>\n",
       "      <td>0.429</td>\n",
       "      <td>97.0</td>\n",
       "      <td>116.3</td>\n",
       "      <td>98.5</td>\n",
       "      <td>99.0</td>\n",
       "      <td>0.184</td>\n",
       "      <td>0.700</td>\n",
       "      <td>1</td>\n",
       "      <td>25</td>\n",
       "      <td>27</td>\n",
       "      <td>21</td>\n",
       "      <td>23</td>\n",
       "    </tr>\n",
       "    <tr>\n",
       "      <th>1</th>\n",
       "      <td>1610612757</td>\n",
       "      <td>1627735,203943,203912</td>\n",
       "      <td>3</td>\n",
       "      <td>0021700018</td>\n",
       "      <td>0.413</td>\n",
       "      <td>116.3</td>\n",
       "      <td>97.0</td>\n",
       "      <td>98.5</td>\n",
       "      <td>98.0</td>\n",
       "      <td>0.300</td>\n",
       "      <td>0.816</td>\n",
       "      <td>0</td>\n",
       "      <td>31</td>\n",
       "      <td>31</td>\n",
       "      <td>29</td>\n",
       "      <td>23</td>\n",
       "    </tr>\n",
       "  </tbody>\n",
       "</table>\n",
       "</div>"
      ],
      "text/plain": [
       "      TEAM_ID                inactive  count_inactive     GAME_ID  \\\n",
       "0  1610612754  1628410,1626167,203922               3  0021700018   \n",
       "1  1610612757   1627735,203943,203912               3  0021700018   \n",
       "\n",
       "   assistPercentage  offensiveRating  defensiveRating  pace  possessions  \\\n",
       "0             0.429             97.0            116.3  98.5         99.0   \n",
       "1             0.413            116.3             97.0  98.5         98.0   \n",
       "\n",
       "   offensiveReboundPercentage  defensiveReboundPercentage  home  PTS_QTR1  \\\n",
       "0                       0.184                       0.700     1        25   \n",
       "1                       0.300                       0.816     0        31   \n",
       "\n",
       "   PTS_QTR2  PTS_QTR3  PTS_QTR4  \n",
       "0        27        21        23  \n",
       "1        31        29        23  "
      ]
     },
     "execution_count": 16,
     "metadata": {},
     "output_type": "execute_result"
    }
   ],
   "source": [
    "nba.get_summary(remain)"
   ]
  },
  {
   "cell_type": "code",
   "execution_count": null,
   "id": "7f10a4ce",
   "metadata": {},
   "outputs": [],
   "source": [
    "from nba_api.stats.endpoints import PlayByPlayV3,CommonPlayerInfo,PlayerIndex,PlayerAwards\n",
    "pi = PlayerIndex(season = '2024').get_data_frames()[0]\n",
    "awards = PlayerAwards(203507).get_data_frames()[0]"
   ]
  },
  {
   "cell_type": "code",
   "execution_count": null,
   "id": "71e7e390",
   "metadata": {
    "scrolled": true
   },
   "outputs": [],
   "source": [
    "temp = awards[(awards.SEASON.str[-2:]).astype(int) <= int('2020'[-2:])]"
   ]
  },
  {
   "cell_type": "code",
   "execution_count": null,
   "id": "ef6da863",
   "metadata": {},
   "outputs": [],
   "source": [
    "awards['DESCRIPTION'] = awards.DESCRIPTION + awards.fillna('').ALL_NBA_TEAM_NUMBER"
   ]
  },
  {
   "cell_type": "code",
   "execution_count": null,
   "id": "e6a46a88",
   "metadata": {},
   "outputs": [],
   "source": [
    "file = open('nba/data/sql/createTeamLog.sql','r').read()\n",
    "nba.conn.execute('DROP TABLE teamLog')\n",
    "nba.conn.commit()\n",
    "nba.conn.execute(file)\n",
    "nba.conn.commit()"
   ]
  },
  {
   "cell_type": "code",
   "execution_count": null,
   "id": "f9c7bd68",
   "metadata": {},
   "outputs": [],
   "source": [
    "nba.get_awards(203507)"
   ]
  },
  {
   "cell_type": "code",
   "execution_count": null,
   "id": "ef321c38",
   "metadata": {},
   "outputs": [],
   "source": [
    "b = BoxScoreSummaryV2(game_id='0022100579').get_data_frames()\n",
    "inAct = b[3].groupby(['TEAM_ID']).PLAYER_ID.agg([list,'count']).reset_index()\n",
    "inAct['list'] = inAct.list.apply(lambda x:','.join([str(ply) for ply in x]))\n",
    "inAct = inAct.rename(columns = {'list':'inactive','count':'count_inactive'})\n",
    "adv = BoxScoreAdvancedV3('0022100579').get_data_frames()[1].filter(['gameId', 'teamId','assistPercentage','offensiveRating','defensiveRating','pace','possessions','offensiveReboundPercentage',\n",
    "'defensiveReboundPercentage']).rename(columns={'gameId':'GAME_ID','teamId':'TEAM_ID'})\n",
    "scoringdf = b[5].filter([col for col in b[5].columns if (col.find('PTS_')>-1) & (b[5][col].sum()!=0)]+['GAME_ID','TEAM_ID'])\n",
    "home = b[7].filter(['GAME_ID','HOME_TEAM_ID'])\n",
    "advHome = adv.merge(home,how='left',on='GAME_ID')\n",
    "np.where(advHome.HOME_TEAM_ID == advHome.TEAM_ID,1,0)\n",
    "advHome.HOME_TEAM_ID = np.where(advHome.HOME_TEAM_ID == advHome.TEAM_ID,1,0)\n",
    "advHome = advHome.rename(columns = {'HOME_TEAM_ID':'home'})\n",
    "advInact = inAct.merge(advHome,how='left',on=['TEAM_ID'])\n",
    "final = advInact.merge(scoringdf,how='left',on=['TEAM_ID','GAME_ID'])"
   ]
  },
  {
   "cell_type": "code",
   "execution_count": null,
   "id": "3c2d5aa0",
   "metadata": {},
   "outputs": [],
   "source": [
    "final"
   ]
  },
  {
   "cell_type": "code",
   "execution_count": null,
   "id": "1883d408",
   "metadata": {},
   "outputs": [],
   "source": [
    "pd.read_sql('select * from players',nba.conn).columns"
   ]
  },
  {
   "cell_type": "code",
   "execution_count": null,
   "id": "a4452aca",
   "metadata": {},
   "outputs": [],
   "source": [
    "temp = pd.read_pickle('nba/data/pickle/awards.pkl')"
   ]
  },
  {
   "cell_type": "code",
   "execution_count": null,
   "id": "b810999c",
   "metadata": {},
   "outputs": [],
   "source": [
    "nba.insert_data(temp.filter(plord),'players')"
   ]
  },
  {
   "cell_type": "code",
   "execution_count": null,
   "id": "b7b02252",
   "metadata": {},
   "outputs": [],
   "source": [
    "plord = ['PERSON_ID','DISPLAY_FIRST_LAST','HEIGHT','WEIGHT','POSITION','DRAFT_YEAR','DRAFT_NUMBER','BIRTHDATE',\n",
    "                  'NBA All-Star', 'All-Defensive Team1', 'All-Defensive Team2', 'All-NBA1','All-NBA2','All-NBA3',\n",
    "                  'NBA Most Valuable Player', 'NBA Fddinals Most Valuable Player','NBA Defensive Player of the Year',\n",
    "                  'NBA Most Improved Player(null)']"
   ]
  },
  {
   "cell_type": "code",
   "execution_count": null,
   "id": "fc7f3cd5",
   "metadata": {},
   "outputs": [],
   "source": [
    "pin = CommonPlayerInfo(203507).get_data_frames()[0]"
   ]
  },
  {
   "cell_type": "code",
   "execution_count": null,
   "id": "783cb9d6",
   "metadata": {},
   "outputs": [],
   "source": [
    "pinfo = ['PERSON_ID','DISPLAY_FIRST_LAST','HEIGHT','WEIGHT','POSITION','DRAFT_YEAR','BIRTHDATE','DRAFT_NUMBER']"
   ]
  },
  {
   "cell_type": "code",
   "execution_count": null,
   "id": "94d938b6",
   "metadata": {},
   "outputs": [],
   "source": [
    "pin.filter(pinfo)"
   ]
  },
  {
   "cell_type": "code",
   "execution_count": null,
   "id": "b39ec14d",
   "metadata": {},
   "outputs": [],
   "source": [
    "np.random.choice(range(2,5))"
   ]
  },
  {
   "cell_type": "code",
   "execution_count": null,
   "id": "bfd3c1c1",
   "metadata": {},
   "outputs": [],
   "source": [
    "df = pd.pivot(awards[awards.DESCRIPTION.str.contains('All-[NBA|Star]|Most|Defensive')].groupby(['PERSON_ID','DESCRIPTION']).agg({'SEASON':[list]}).reset_index(),\n",
    "         index=['PERSON_ID'],columns = 'DESCRIPTION').reset_index()\n",
    "df.columns = ['{}'.format(col[2]) if col[2]!='' else col[0] for col in df.columns ]"
   ]
  },
  {
   "cell_type": "code",
   "execution_count": null,
   "id": "ad78bc88",
   "metadata": {},
   "outputs": [],
   "source": [
    "plyers = []\n",
    "curdb = [x[0] for x in nba.conn.execute('select distinct player_id from players').fetchall()]\n",
    "for season in ['2024','2023','2022','2021','2020','2019','2018','2017']:\n",
    "    pi = PlayerIndex(season=season).get_data_frames()[0]\n",
    "    pi['PERSON_ID'] = pi.PERSON_ID.astype(str)\n",
    "    pi = pi[~pi.PERSON_ID.isin(curdb)]\n",
    "    plyers.extend(pi.PERSON_ID.values)"
   ]
  },
  {
   "cell_type": "code",
   "execution_count": null,
   "id": "44056bac",
   "metadata": {},
   "outputs": [],
   "source": [
    "b = BoxScoreSummaryV2(game_id='0022100579').get_data_frames()"
   ]
  },
  {
   "cell_type": "code",
   "execution_count": null,
   "id": "fa58de03",
   "metadata": {},
   "outputs": [],
   "source": [
    "g = BoxScoreAdvancedV3('0022100579').get_data_frames()[1].filter(['gameId', 'teamId','assistPercentage','offensiveRating','DefensiveRating','pace','possessions','offensiveReboundPercentage',\n",
    "'defensiveReboundPercentage'])"
   ]
  },
  {
   "cell_type": "code",
   "execution_count": null,
   "id": "8f312d3c",
   "metadata": {},
   "outputs": [],
   "source": [
    "b[7].filter(['GAME_ID','HOME_TEAM_ID']).HOME_TEAM_ID"
   ]
  },
  {
   "cell_type": "code",
   "execution_count": null,
   "id": "cea415df",
   "metadata": {},
   "outputs": [],
   "source": [
    "b = BoxScoreSummaryV2(game_id='0021900330').get_data_frames()\n",
    "inAct = b[3].groupby(['TEAM_ID']).PLAYER_ID.agg([list,'count']).reset_index()\n",
    "inAct['list'] = inAct.list.apply(lambda x:','.join([str(ply) for ply in x]))\n",
    "inAct = inAct.rename(columns = {'list':'inactive','count':'count_inactive'})\n",
    "adv = BoxScoreAdvancedV3('0022100579').get_data_frames()[1].filter(['gameId', 'teamId','assistPercentage','offensiveRating','defensiveRating','pace','possessions','offensiveReboundPercentage',\n",
    "'defensiveReboundPercentage']).rename(columns={'gameId':'GAME_ID','teamId':'TEAM_ID'})\n",
    "scoringdf = b[5].filter([col for col in b[5].columns if (col.find('PTS_')>-1) & (b[5][col].sum()!=0)]+['GAME_ID','TEAM_ID'])\n",
    "home = b[7].filter(['GAME_ID','HOME_TEAM_ID'])"
   ]
  },
  {
   "cell_type": "code",
   "execution_count": null,
   "id": "e7b283a2",
   "metadata": {},
   "outputs": [],
   "source": [
    "adv"
   ]
  },
  {
   "cell_type": "code",
   "execution_count": null,
   "id": "079c3ab5",
   "metadata": {},
   "outputs": [],
   "source": []
  },
  {
   "cell_type": "code",
   "execution_count": null,
   "id": "4d38ed7f",
   "metadata": {},
   "outputs": [],
   "source": [
    "advHome = adv.merge(home,how='left',on='GAME_ID')\n",
    "np.where(advHome.HOME_TEAM_ID == advHome.TEAM_ID,1,0)\n",
    "advHome.HOME_TEAM_ID = np.where(advHome.HOME_TEAM_ID == advHome.TEAM_ID,1,0)\n",
    "advHome = advHome.rename(columns = {'HOME_TEAM_ID':'home'})\n",
    "advInact = inAct.merge(advHome,how='left',on=['TEAM_ID'])\n",
    "final = advInact.merge(scoringdf,how='left',on=['TEAM_ID','GAME_ID'])"
   ]
  },
  {
   "cell_type": "code",
   "execution_count": null,
   "id": "df6fe3b1",
   "metadata": {},
   "outputs": [],
   "source": [
    "final"
   ]
  },
  {
   "cell_type": "code",
   "execution_count": null,
   "id": "48637a72",
   "metadata": {},
   "outputs": [],
   "source": [
    "b[7].filter(['GAME_ID','HOME_TEAM_ID','VISITOR_TEAM_ID'])"
   ]
  },
  {
   "cell_type": "code",
   "execution_count": null,
   "id": "001eee45",
   "metadata": {},
   "outputs": [],
   "source": [
    "inAct"
   ]
  },
  {
   "cell_type": "code",
   "execution_count": null,
   "id": "65f72f38",
   "metadata": {},
   "outputs": [],
   "source": [
    "nba.update_player_info(['2024','2023','2022','2021','2020','2019','2018','2017'])"
   ]
  },
  {
   "cell_type": "code",
   "execution_count": null,
   "id": "54d02be8",
   "metadata": {},
   "outputs": [],
   "source": [
    "test = pd.read_pickle('nba/data/pickle/awards.pkl')"
   ]
  },
  {
   "cell_type": "code",
   "execution_count": null,
   "id": "a90ef1b1",
   "metadata": {},
   "outputs": [],
   "source": [
    "test['mip'] = None"
   ]
  },
  {
   "cell_type": "code",
   "execution_count": null,
   "id": "7a0c72dd",
   "metadata": {},
   "outputs": [],
   "source": [
    "test"
   ]
  },
  {
   "cell_type": "code",
   "execution_count": null,
   "id": "e8d982e4",
   "metadata": {},
   "outputs": [],
   "source": [
    "aw = nba.get_awards(203507)\n",
    "pi = nba.get_player_info(203507)"
   ]
  },
  {
   "cell_type": "code",
   "execution_count": null,
   "id": "e3a69b31",
   "metadata": {},
   "outputs": [],
   "source": [
    "pi.merge(aw,how='left',on=['PERSON_ID'])"
   ]
  },
  {
   "cell_type": "code",
   "execution_count": null,
   "id": "20eb6e7c",
   "metadata": {},
   "outputs": [],
   "source": [
    "nba.showTables"
   ]
  },
  {
   "cell_type": "code",
   "execution_count": null,
   "id": "aff18c20",
   "metadata": {},
   "outputs": [],
   "source": [
    "df.filter(['PERSON_ID','NBA All-Star','All-NBA1','All-NBA2',\n",
    "          'All-NBA3','All-Defensive Team1','All-Defensive Team2','NBA Most Improved Player(null)',\n",
    "          'NBA Defensive Player of the Year', 'NBA Most Valuable Player','NBA Finals Most Valuable Player'])"
   ]
  },
  {
   "cell_type": "code",
   "execution_count": null,
   "id": "3e18d45e",
   "metadata": {},
   "outputs": [],
   "source": [
    "PlayerIndex(['2017']).get_data_frames()[0].columns"
   ]
  },
  {
   "cell_type": "code",
   "execution_count": null,
   "id": "f98957fe",
   "metadata": {},
   "outputs": [],
   "source": [
    "pi[pi.PLAYER_FIRST_NAME=='Giannis']"
   ]
  },
  {
   "cell_type": "code",
   "execution_count": null,
   "id": "3fc04c30",
   "metadata": {},
   "outputs": [],
   "source": [
    "pd.read_sql('select * from players',nba.conn)"
   ]
  },
  {
   "cell_type": "code",
   "execution_count": null,
   "id": "9661a84b",
   "metadata": {},
   "outputs": [],
   "source": [
    "len(set(nba.get_player_info(['2017','2018','2019','2020','2021','2022','2023'])))"
   ]
  },
  {
   "cell_type": "code",
   "execution_count": null,
   "id": "9b92fd1a",
   "metadata": {},
   "outputs": [],
   "source": [
    "\n",
    "CommonPlayerInfo(1630173).get_data_frames()[0].columns"
   ]
  },
  {
   "cell_type": "code",
   "execution_count": null,
   "id": "98314c90",
   "metadata": {},
   "outputs": [],
   "source": [
    "pi[pi.PERSON_ID==202397]"
   ]
  },
  {
   "cell_type": "code",
   "execution_count": null,
   "id": "d5e946e1",
   "metadata": {},
   "outputs": [],
   "source": [
    "gameid"
   ]
  },
  {
   "cell_type": "code",
   "execution_count": null,
   "id": "cd4f68aa-9e03-4b7e-95df-1b56838fe2ba",
   "metadata": {},
   "outputs": [],
   "source": [
    "nba = bet.nba()\n",
    "nba.showTables"
   ]
  },
  {
   "cell_type": "code",
   "execution_count": null,
   "id": "555c7515",
   "metadata": {},
   "outputs": [],
   "source": [
    "nba.conn.execute('DROP TABLE players')\n",
    "nba.conn.commit()\n",
    "pfile = open('nba/data/sql/createPlayerInfoTable.sql','r').read()\n",
    "nba.conn.execute(pfile)\n",
    "nba.conn.commit()"
   ]
  },
  {
   "cell_type": "code",
   "execution_count": null,
   "id": "5fc363e1",
   "metadata": {},
   "outputs": [],
   "source": [
    "pd.read_sql('select * from players',nba.conn).columns"
   ]
  },
  {
   "cell_type": "code",
   "execution_count": null,
   "id": "8ecaddaa",
   "metadata": {},
   "outputs": [],
   "source": [
    "testd = ['2024-04-01','2024-04-02','2024-04-03']\n",
    "seasons =['2017-18','2018-19','2019-20','2020-21','2021-22','2022-23','2023-24']"
   ]
  },
  {
   "cell_type": "code",
   "execution_count": null,
   "id": "dd85d5c3",
   "metadata": {},
   "outputs": [],
   "source": [
    "minDate = '2024-04-01'\n",
    "maxDate = '2024-04-03'\n",
    "#the following dates are missing in our player log need to get information for all requisite tables\n",
    "msdates = ['2018-03-13', '2018-03-09', '2018-01-11', '2017-12-16',\n",
    "       '2017-12-09', '2017-12-07', '2017-11-18', '2017-10-26',\n",
    "       '2019-01-19', '2019-01-17', '2018-12-15', '2018-12-13',\n",
    "       '2020-03-08', '2020-03-04', '2020-02-09', '2020-01-24',\n",
    "       '2019-12-14', '2019-12-12', '2022-01-06', '2021-11-05',\n",
    "       '2023-04-08', '2023-04-06', '2023-01-19', '2023-01-13',\n",
    "       '2022-11-25', '2024-04-14', '2024-03-09', '2024-01-05',\n",
    "       '2023-12-22', '2023-12-07', '2023-11-25', '2023-11-24']"
   ]
  },
  {
   "cell_type": "code",
   "execution_count": null,
   "id": "86c4228d",
   "metadata": {},
   "outputs": [],
   "source": [
    "#running missing for adv,log,bskt rbs,shots was getting an error running for all together\n",
    "#think error is caused by dates not being sequential + different seasons\n",
    "adv = nba.get_advanced_box(msdates)"
   ]
  },
  {
   "cell_type": "code",
   "execution_count": null,
   "id": "d71a9857",
   "metadata": {},
   "outputs": [],
   "source": [
    "nba.showTables"
   ]
  },
  {
   "cell_type": "code",
   "execution_count": null,
   "id": "69e57a23",
   "metadata": {},
   "outputs": [],
   "source": [
    "sqldf = pd.read_sql('select * from playerGameLog',nba.conn)"
   ]
  },
  {
   "cell_type": "code",
   "execution_count": null,
   "id": "c2ff431d",
   "metadata": {},
   "outputs": [],
   "source": [
    "logReb = nba.get_logs(['2021-01-01'],seasons)[['PLAYER_ID','GAME_DATE','GAME_ID','REB']]"
   ]
  },
  {
   "cell_type": "code",
   "execution_count": null,
   "id": "1ea404b4",
   "metadata": {},
   "outputs": [],
   "source": [
    "logReb.columns = [col.lower() for col in logReb.columns]\n",
    "logReb.player_id = logReb.player_id.astype(str)"
   ]
  },
  {
   "cell_type": "code",
   "execution_count": null,
   "id": "4d471bfc",
   "metadata": {},
   "outputs": [],
   "source": [
    "logReb"
   ]
  },
  {
   "cell_type": "code",
   "execution_count": null,
   "id": "a35fa02f",
   "metadata": {},
   "outputs": [],
   "source": [
    "len(set(logReb.game_id.values).difference(set(sqldf.game_id.values)))"
   ]
  },
  {
   "cell_type": "code",
   "execution_count": null,
   "id": "fd075b1d",
   "metadata": {},
   "outputs": [],
   "source": [
    "gmmiss = set(logReb.game_date.values).difference(set(sqldf.game_date.values))"
   ]
  },
  {
   "cell_type": "code",
   "execution_count": null,
   "id": "3e213e5e",
   "metadata": {},
   "outputs": [],
   "source": [
    "logReb[logReb.game_date.isin(gmmiss)]"
   ]
  },
  {
   "cell_type": "code",
   "execution_count": null,
   "id": "94b975b9",
   "metadata": {},
   "outputs": [],
   "source": [
    "logReb['id'] = logReb.player_id + '_' + logReb.game_date"
   ]
  },
  {
   "cell_type": "code",
   "execution_count": null,
   "id": "53b16da2",
   "metadata": {},
   "outputs": [],
   "source": [
    "sqldf['id'] = sqldf.player_id + '_' + sqldf.game_date"
   ]
  },
  {
   "cell_type": "code",
   "execution_count": null,
   "id": "bf985eb4",
   "metadata": {},
   "outputs": [],
   "source": [
    "missid = list(set(logReb.id.values).difference(sqldf.id.values))"
   ]
  },
  {
   "cell_type": "code",
   "execution_count": null,
   "id": "8c829175",
   "metadata": {},
   "outputs": [],
   "source": [
    "[x.split('')]"
   ]
  },
  {
   "cell_type": "code",
   "execution_count": null,
   "id": "380d7dab",
   "metadata": {},
   "outputs": [],
   "source": [
    "sqldf.merge(logReb,how='left',on=['player_id','game_id'])"
   ]
  },
  {
   "cell_type": "code",
   "execution_count": null,
   "id": "1fdcee71",
   "metadata": {},
   "outputs": [],
   "source": [
    "log = nba.get_logs(msdates,seasons)"
   ]
  },
  {
   "cell_type": "code",
   "execution_count": null,
   "id": "880eb858",
   "metadata": {},
   "outputs": [],
   "source": [
    "len(sqldf)"
   ]
  },
  {
   "cell_type": "code",
   "execution_count": null,
   "id": "d21a38b6",
   "metadata": {},
   "outputs": [],
   "source": [
    "log.GAME_DATE.nunique()"
   ]
  },
  {
   "cell_type": "code",
   "execution_count": null,
   "id": "837248cc",
   "metadata": {},
   "outputs": [],
   "source": [
    "miss = [dt for dt in log.GAME_DATE.unique() if dt not in sqldates.game_date.values]"
   ]
  },
  {
   "cell_type": "code",
   "execution_count": null,
   "id": "c9663225",
   "metadata": {},
   "outputs": [],
   "source": [
    "miss"
   ]
  },
  {
   "cell_type": "code",
   "execution_count": null,
   "id": "db889160",
   "metadata": {},
   "outputs": [],
   "source": [
    "chk = nba.update_player_log(miss)"
   ]
  },
  {
   "cell_type": "code",
   "execution_count": null,
   "id": "0b1ed9ab",
   "metadata": {},
   "outputs": [],
   "source": [
    "lg = nba.get_logs(miss,seasons)\n",
    "lg = lg[lg.GAME_DATE.isin(miss)]\n",
    "d = nba.get_first_buckets(miss)\n",
    "sht = nba.get_player_shot_spots(miss)\n",
    "rbs = nba.get_rebounds(miss)\n",
    "adv = nba.get_advanced_box(miss)"
   ]
  },
  {
   "cell_type": "code",
   "execution_count": null,
   "id": "b6292549",
   "metadata": {},
   "outputs": [],
   "source": [
    "logReb"
   ]
  },
  {
   "cell_type": "markdown",
   "id": "140ae17c",
   "metadata": {},
   "source": [
    "Steps to complete:  \n",
    "- all missing values have been pulled and their subsquent dfs are made above.-\n",
    "- need to add playerGameLogs + logReb to plyrLog\n",
    "- write the above to plyrLog\n",
    "- choose which table is kept and delete the other."
   ]
  },
  {
   "cell_type": "code",
   "execution_count": null,
   "id": "9eb5e413",
   "metadata": {},
   "outputs": [],
   "source": [
    "sqldf.columns"
   ]
  },
  {
   "cell_type": "code",
   "execution_count": null,
   "id": "295ddf68",
   "metadata": {},
   "outputs": [],
   "source": [
    "sqlf = sqldf.merge(logReb,how='left',on=['player_id','game_date','game_id'])"
   ]
  },
  {
   "cell_type": "code",
   "execution_count": null,
   "id": "e5db3409",
   "metadata": {},
   "outputs": [],
   "source": [
    "final = sqlf.filter(['player_id', 'team_id', 'game_id', 'game_date', 'min', 'ftm', 'fta','reb',\n",
    "       'ast', 'tov', 'stl', 'blk', 'blka', 'pf', 'pfd', 'pts', 'plus_minus',\n",
    "       'dd2', 'td3', 'offensiveRating', 'defensiveRating', 'usagePercentage',\n",
    "       'pace', 'possessions', 'team_first', 'game_first', 'oreb',\n",
    "       'oreb_contest', 'oreb_chances', 'oreb_chance_defer', 'avg_oreb_dist',\n",
    "       'dreb', 'dreb_contest', 'dreb_chances', 'dreb_chance_defer',\n",
    "       'avg_dreb_dist', 'ra_fgm', 'ra_fga', 'mid_fgm', 'mid_fga', 'lc_fgm',\n",
    "       'lc_fga', 'rc_fgm', 'rc_fga', 'abv_fgm', 'abv_fga',])"
   ]
  },
  {
   "cell_type": "code",
   "execution_count": null,
   "id": "a46ac9cf",
   "metadata": {},
   "outputs": [],
   "source": [
    "nba.conn.execute('DROP TABLE plyrLogs')\n",
    "sqlfile = open('nba/data/sql/createPlayerGameLog.sql','r').read()\n",
    "nba.conn.execute(sqlfile)\n",
    "nba.insert_data(final,'plyrLogs')"
   ]
  },
  {
   "cell_type": "code",
   "execution_count": null,
   "id": "43c883f6",
   "metadata": {},
   "outputs": [],
   "source": [
    "nba.update_player_log(miss)"
   ]
  },
  {
   "cell_type": "code",
   "execution_count": null,
   "id": "03f16235",
   "metadata": {},
   "outputs": [],
   "source": [
    "nba.get_opp_open_shot()"
   ]
  },
  {
   "cell_type": "code",
   "execution_count": null,
   "id": "ac1318ed",
   "metadata": {},
   "outputs": [],
   "source": [
    "nba.get_rebounds('2024-04-01','2024-04-11')"
   ]
  },
  {
   "cell_type": "code",
   "execution_count": null,
   "id": "59b7544b-3520-482f-a4dd-67affcb1a77c",
   "metadata": {},
   "outputs": [],
   "source": [
    "pd.read_sql('select * from shotCoverage',nba.conn)"
   ]
  },
  {
   "cell_type": "code",
   "execution_count": null,
   "id": "a169834a-9921-4b20-8579-6cd4876da98c",
   "metadata": {},
   "outputs": [],
   "source": [
    "\n",
    "test = pd.read_sql('''\n",
    "SELECT *\n",
    "FROM shotCoverage shc\n",
    "left join dribbleStage drb on shc.TEAM_ID = drb.TEAM_ID and shc.GAME_DATE = substr(drb.GAME_DATE,0,11)\n",
    "''',nba.conn)\n",
    "cols = [ct for ct,x in enumerate(test.columns) if (x not in test.columns[:ct-1].values) | (ct==0)]\n",
    "test = test.iloc[:,cols]"
   ]
  },
  {
   "cell_type": "code",
   "execution_count": null,
   "id": "983a27b5-8f83-42db-848d-ff7d589a4b0a",
   "metadata": {},
   "outputs": [],
   "source": [
    "t = time.time()\n",
    "pd.read_sql('select * from test',nba.conn)\n",
    "print(time.time() - t)"
   ]
  },
  {
   "cell_type": "code",
   "execution_count": null,
   "id": "b0c4bb2d-7262-4dd0-84da-348d52515876",
   "metadata": {},
   "outputs": [],
   "source": [
    "t = time.time()\n",
    "pd.read_sql('''\n",
    "SELECT * \n",
    "FROM shotCoverage shc\n",
    "inner join dribbleStage drb on shc.TEAM_ID = drb.TEAM_ID and shc.GAME_DATE = substr(drb.GAME_DATE,0,11)\n",
    "''',nba.conn)\n",
    "print(time.time() - t)"
   ]
  },
  {
   "cell_type": "code",
   "execution_count": null,
   "id": "848e3380-3922-4c29-8f6f-6a48d04d2897",
   "metadata": {},
   "outputs": [],
   "source": [
    "drb= pd.read_sql('''select *\n",
    "                 from dribbleStage''',nba.conn)"
   ]
  },
  {
   "cell_type": "code",
   "execution_count": null,
   "id": "420e5bfa-cfcc-4b4d-96f8-f3b242ff0f79",
   "metadata": {},
   "outputs": [],
   "source": [
    "shot = pd.read_sql('''\n",
    "select TEAM_ID, GAME_DATE \n",
    "from shotCoverage\n",
    "''',nba.conn)"
   ]
  },
  {
   "cell_type": "code",
   "execution_count": null,
   "id": "b2458a22",
   "metadata": {},
   "outputs": [],
   "source": [
    "from nba_api.stats.static import teams\n",
    "nba_teams = teams.get_teams()\n",
    "\n",
    "# Select the dictionary for the Pacers, which contains their team ID\n",
    "bos = [team for team in nba_teams if team['abbreviation'] == 'BOS'][0]\n",
    "bos_id = bos['id']\n",
    "print(f'boston_id: {bos_id}')"
   ]
  },
  {
   "cell_type": "code",
   "execution_count": null,
   "id": "c4c61434",
   "metadata": {},
   "outputs": [],
   "source": [
    "db = sqlite3.connect('./nba/data/database/nba.db')"
   ]
  },
  {
   "cell_type": "code",
   "execution_count": null,
   "id": "29724183",
   "metadata": {},
   "outputs": [],
   "source": [
    "from nba_api.stats.endpoints import leaguegamefinder\n",
    "from nba_api.stats.library.parameters import Season\n",
    "from nba_api.stats.library.parameters import SeasonType\n",
    "\n",
    "\n",
    "gamefinder = leaguegamefinder.LeagueGameFinder(league_id_nullable = '00',\n",
    "                                               date_from_nullable = '10/01/2017',\n",
    "                                               season_type_nullable = 'Regular Season'\n",
    "                                                \n",
    "                                               )  \n",
    "game_dates = gamefinder.get_data_frames()[0]['GAME_DATE'].unique()\n",
    "games_dict = gamefinder.get_normalized_dict()\n",
    "games = games_dict['LeagueGameFinderResults']\n",
    "game_ids = list(set([v for l in games for k,v in l.items() if k=='GAME_ID']))\n",
    "# game = games[0]\n",
    "# game_id = game['GAME_ID']\n",
    "# game_matchup = game['MATCHUP']\n",
    "\n",
    "# print(f'Searching through {len(games)} game(s) for the game_id of {game_id} where {game_matchup}')"
   ]
  },
  {
   "cell_type": "code",
   "execution_count": null,
   "id": "25f79857-551c-46d8-b022-ba77b658dd0a",
   "metadata": {},
   "outputs": [],
   "source": [
    "game_dates"
   ]
  },
  {
   "cell_type": "code",
   "execution_count": null,
   "id": "767bbd9f-eb16-472e-b706-6141ba8c9fbd",
   "metadata": {},
   "outputs": [],
   "source": [
    "octdf = pd.DataFrame([pd.to_datetime(x) for x in game_dates  if pd.to_datetime(x).month==10],columns = ['day'])\n",
    "octdf['year'] = [x.year for x in octdf.day]\n",
    "starts = [pd.to_datetime(x) for x in octdf.groupby('year').day.min().values]"
   ]
  },
  {
   "cell_type": "markdown",
   "id": "a576fed1",
   "metadata": {},
   "source": [
    "### Shooting information"
   ]
  },
  {
   "cell_type": "code",
   "execution_count": null,
   "id": "4d04117f",
   "metadata": {},
   "outputs": [],
   "source": [
    "from nba_api.stats.endpoints import LeagueDashPlayerShotLocations,CommonPlayerInfo,PlayerProfileV2,PlayerNextNGames,DraftCombineStats,LeagueDashPtStats,LeagueDashTeamShotLocations\n"
   ]
  },
  {
   "cell_type": "code",
   "execution_count": null,
   "id": "79faf934",
   "metadata": {
    "scrolled": true
   },
   "outputs": [],
   "source": [
    "nba.get_rebounds(['2024-04-11'])"
   ]
  },
  {
   "cell_type": "markdown",
   "id": "0185a02b",
   "metadata": {},
   "source": [
    "### First Baskets"
   ]
  },
  {
   "cell_type": "code",
   "execution_count": null,
   "id": "26669a71",
   "metadata": {},
   "outputs": [],
   "source": [
    "from nba_api.stats.endpoints import BoxScoreSummaryV2,LeagueDashPlayerShotLocations,BoxScoreTraditionalV2,BoxScoreAdvancedV2,PlayByPlayV2,LeagueDashOppPtShot,PlayerGameLogs"
   ]
  },
  {
   "cell_type": "code",
   "execution_count": null,
   "id": "349445ab",
   "metadata": {},
   "outputs": [],
   "source": [
    "box = BoxScoreSummaryV2('0022300061')"
   ]
  },
  {
   "cell_type": "code",
   "execution_count": null,
   "id": "cc11cdde",
   "metadata": {},
   "outputs": [],
   "source": [
    "df = LeagueDashPlayerShotLocations(date_from_nullable = date,\n",
    "                             date_to_nullable = date,\n",
    "                             season=season).get_data_frames()[0]\n",
    "df = clean_shot_columns(df)\n",
    "df['GAME_DATE'] = date\n",
    "final = df.merge(temp,how='left',on=['GAME_DATE','TEAM_ID'])\n",
    "l.append(final.to_dict(orient='records'))"
   ]
  },
  {
   "cell_type": "markdown",
   "id": "8a560533",
   "metadata": {},
   "source": [
    "#### player Shooting"
   ]
  },
  {
   "cell_type": "code",
   "execution_count": null,
   "id": "b62e33c3",
   "metadata": {},
   "outputs": [],
   "source": [
    "pd.to_datetime(pd.to_datetime(minDate).strftime('%m/%d/%Y'))"
   ]
  },
  {
   "cell_type": "code",
   "execution_count": null,
   "id": "8b3b27a0",
   "metadata": {},
   "outputs": [],
   "source": [
    "missing = []\n",
    "\n",
    "t = time.time()\n",
    "print('starting at {}'.format(time.strftime('%H:%M')))\n",
    "temp = gamefinder.get_data_frames()[0][['GAME_DATE','TEAM_ID','GAME_ID']]\n",
    "\n",
    "final = pd.DataFrame()\n",
    "for ct,date in enumerate(game_dates):\n",
    "    temp = temp[temp.GAME_DATE==date]\n",
    "    d = pd.to_datetime(date)\n",
    "    season = '{}-{}'.format(d.year,str(d.year+1)[-2:]) if d.month>=10 else '{}-{}'.format(d.year-1,str(d.year)[-2:])\n",
    "    try:\n",
    "        df = LeagueDashPlayerShotLocations(date_from_nullable = date,\n",
    "                                     date_to_nullable = date,\n",
    "                                     season=season).get_data_frames()[0]\n",
    "        df = clean_shot_columns(df)b\n",
    "        df['GAME_DATE'] = date\n",
    "        game = df.merge(temp,how='left',on=['GAME_DATE','TEAM_ID'])\n",
    "        game = game.filter([col.replace('(Non_RA)','Non_RA') for col in game.columns if col!='TEAM_NAME'])\n",
    "        final = pd.concat([game,final])\n",
    "    except:\n",
    "        missing.append(date)\n",
    "    if ct % 18 == 0:\n",
    "        time.sleep(np.random.choice(range(1,12),1)[0])\n",
    "    elif (ct % 25 == 0) & (ct!=0):\n",
    "        print('through {} days in {:.2f}'.format(ct,((time.time() -t)/60)))\n",
    "\n",
    "    if d in starts:\n",
    "        final.to_sql('shooterStage',db,if_exists='append',index=False)\n",
    "        print('\\tsaved {} season player shots'.format(season))\n",
    "        final = pd.DataFrame()   \n",
    "print('finished at {}'.format(time.strftime('%H:%M')))\n",
    "print('missing {:_}'.format(len(missing)))"
   ]
  },
  {
   "cell_type": "markdown",
   "id": "6bf15188",
   "metadata": {},
   "source": [
    "### Shots by dribbles"
   ]
  },
  {
   "cell_type": "code",
   "execution_count": null,
   "id": "55010e22",
   "metadata": {},
   "outputs": [],
   "source": [
    "df = LeagueDashOppPtShot(date_from_nullable = date,\n",
    "                                     date_to_nullable = date,\n",
    "                                     season=season).get_data_frames()[0]"
   ]
  },
  {
   "cell_type": "code",
   "execution_count": null,
   "id": "9331c1f4",
   "metadata": {},
   "outputs": [],
   "source": [
    "\n",
    "drib = ['0 Dribbles','1 Dribble','2 Dribbles','3-6 Dribbles','7+ Dribbles']\n",
    "missing = []\n",
    "final = pd.DataFrame()\n",
    "t = time.time()\n",
    "games = gamefinder.get_data_frames()[0][['GAME_DATE','TEAM_ID','GAME_ID']]\n",
    "games.GAME_DATE = pd.to_datetime(games.GAME_DATE)\n",
    "print('starting at {}'.format(time.strftime('%H:%M')))\n",
    "\n",
    "for ct,date in enumerate(game_dates):\n",
    "    d = pd.to_datetime(date)\n",
    "    season = '{}-{}'.format(d.year,str(d.year+1)[-2:]) if d.month>=10 else '{}-{}'.format(d.year-1,str(d.year)[-2:])\n",
    "    drb = pd.DataFrame()\n",
    "    try:\n",
    "        for dribbleCount in drib:\n",
    "            drbShots = LeagueDashOppPtShot(date_from_nullable = date,\n",
    "                                date_to_nullable = date,\n",
    "                                           season=season,\n",
    "                                dribble_range_nullable=dribbleCount).get_data_frames()[0]\n",
    "            df = drbShots.filter([col for col in drbShots.columns if re.search('[2-3][A|M]$|ID$',col)!=None])\n",
    "            df.columns = ['{}_{}'.format(dribbleCount.replace(' ','_'),col) if re.search('ID$',col)==None else col for col in df.columns]\n",
    "            drb = pd.concat([drb,df])\n",
    "            time.sleep(1)\n",
    "        drb = drb.merge(games[games.GAME_DATE==d],how='left',on=['TEAM_ID'])\n",
    "        drb = drb.groupby(['TEAM_ID','GAME_ID','GAME_DATE']).sum().reset_index()\n",
    "    except:\n",
    "        missing.append(date)\n",
    "    final = pd.concat([final,drb])\n",
    "    if ct % 18 == 0:\n",
    "        time.sleep(np.random.choice(range(1,12),1)[0])\n",
    "    elif (ct % 25 == 0) & (ct!=0):\n",
    "        print('through {} days in {:.2f}'.format(ct,((time.time() -t)/60)))\n",
    "\n",
    "    if d in starts:\n",
    "        final.to_sql('dribbleStage',db,if_exists='append',index=False)\n",
    "        print('\\tsaved {} season drible shots'.format(season))\n",
    "        final = pd.DataFrame()\n",
    "print('finished at {}'.format(time.strftime('%H:%M')))\n",
    "print('missing {:_}'.format(len(missing)))"
   ]
  },
  {
   "cell_type": "code",
   "execution_count": null,
   "id": "7fb4f0e8",
   "metadata": {},
   "outputs": [],
   "source": [
    "#team defense shooting\n",
    "l = []\n",
    "#missing = []\n",
    "t = time.time()\n",
    "print('starting at {}'.format(time.strftime('%H:%M')))\n",
    "final = pd.DataFrame()\n",
    "for ct,date in enumerate(game_dates):\n",
    "    try:\n",
    "        d = pd.to_datetime(date)\n",
    "        season = '{}-{}'.format(d.year,str(d.year+1)[-2:]) if d.month>=10 else '{}-{}'.format(d.year-1,str(d.year)[-2:])\n",
    "        oppShots = LeagueDashTeamShotLocations(measure_type_simple='Opponent',\n",
    "                                          date_from_nullable = date,\n",
    "                                           date_to_nullable = date,\n",
    "                                       season=season\n",
    "                           ).get_data_frames()[0]\n",
    "        oppShots.columns = ['{}_{}'.format(re.sub(' |-','_',a),b) if a!='' else b for a,b in oppShots.columns]\n",
    "        oppShots = oppShots.filter([col for col in oppShots.columns if re.search('_PCT$',col)==None])\n",
    "        oppShots['GAME_DATE'] = date\n",
    "        wide =  LeagueDashOppPtShot(date_from_nullable = date,\n",
    "                          date_to_nullable = date, season=season,\n",
    "                              close_def_dist_range_nullable = '6+ Feet - Wide Open').get_data_frames()[0]\n",
    "        wide = wide.filter([col for col in wide.columns if (re.search('_FREQUENCY$|PCT$|^G|FGM|FGA',col)==None) &\n",
    "                                                    (wide[col].dtype!=object)] )\n",
    "        wide.columns = [col if re.search('FG',col)==None else 'WIDEOPEN_{}'.format(col) for col in wide.columns]\n",
    "        wide['GAME_DATE'] = date\n",
    "\n",
    "        op = LeagueDashOppPtShot(date_from_nullable = date,\n",
    "                          date_to_nullable = date,season=season,\n",
    "                              close_def_dist_range_nullable = '4-6 Feet - Open').get_data_frames()[0]\n",
    "        op = op.filter([col for col in op.columns if (re.search('_FREQUENCY$|PCT$|^G|FGM|FGA',col)==None) &\n",
    "                                                    (op[col].dtype!=object)] )\n",
    "        op.columns = [col if re.search('FG',col)==None  else 'OPEN_{}'.format(col) for col in op.columns]\n",
    "        op['GAME_DATE'] = date\n",
    "        df = oppShots.merge(wide.merge(op,how='left',on=['TEAM_ID','GAME_DATE']),how='left',on=['TEAM_ID','GAME_DATE'])\n",
    "        final = pd.concat([df,final])\n",
    "        if ct % 18 == 0:\n",
    "            time.sleep(np.random.choice(range(1,12),1)[0])\n",
    "        elif (ct % 25 == 0) & (ct!=0):\n",
    "            print('through {} days in {:.2f}'.format(ct,((time.time() -t)/60)))\n",
    "        if d in starts or date==game_dates[-1]:\n",
    "            final = final.filter([col.replace('(Non_RA)','Non_RA') for col in final.columns if col!='TEAM_NAME'])\n",
    "            final.to_sql('shotCoverage',db,if_exists='append',index=False) \n",
    "            print('\\tsaved {} season team Shots allowed'.format(season))\n",
    "            final = pd.DataFrame()\n",
    "    except:\n",
    "        missing.append(date)\n",
    "print('Seasons uploaded, missing {:,} days of games'.format(len(missing)))\n",
    "#pickle.dump(l,open('nba/data/pickle/shooting2.pkl','wb'))    "
   ]
  },
  {
   "cell_type": "code",
   "execution_count": null,
   "id": "58a3144f-ae4b-48c6-b26c-7054cf8dab3d",
   "metadata": {},
   "outputs": [],
   "source": []
  },
  {
   "cell_type": "code",
   "execution_count": null,
   "id": "ff1d2b5e",
   "metadata": {},
   "outputs": [],
   "source": [
    "def clean_shot_columns(df):\n",
    "    df.columns = ['{}_{}'.format(re.sub(' |-','_',a),b) if a!='' else b for a,b in df.columns]\n",
    "    df = df.filter([col for col in df.columns if (re.search('ID$|^Restricted|^Mid|^In_The|^Right|^Left|^Above',col)!=None) &\n",
    "                                (re.search('PCT$',col)==None)])\n",
    "    return df"
   ]
  },
  {
   "cell_type": "code",
   "execution_count": null,
   "id": "31d0045c",
   "metadata": {},
   "outputs": [],
   "source": [
    "class data:\n",
    "    #probably want to get our db connection here and the last updated date\n",
    "    def __init__(self):\n",
    "        conn = sqlite3.connection('nba.db')\n",
    "        lastGame = conn.cursor().exucute('select max(game_date) from games')\n",
    "    \n",
    "    def clean_lgdash_opp_columns(df,dribble):\n",
    "        df = df.filter([col for col in df.columns if (re.search('_FREQUENCY$|PCT$|^G|FGM|FGA',col)==None) &\n",
    "                                                        (df[col].dtype!=object)] )\n",
    "        if dribble != False:\n",
    "            df.columns = ['{}_{}'.format(col,dribble.replace(' ','_')) if col!='TEAM_ID' else col for col in df.columns] \n",
    "        return df\n",
    "    \n",
    "    def clean_shot_columns(df):\n",
    "        df.columns = ['{}_{}'.format(re.sub(' |-','_',a),b) if a!='' else b for a,b in df.columns]\n",
    "        df = df.filter([col for col in df.columns if (re.search('ID$|^Restricted|^Mid|^In_The|^Right|^Left|^Above',col)!=None) &\n",
    "                                    (re.search('PCT$',col)==None)])\n",
    "        return df\n",
    "    \n",
    "    \n",
    "    def get_adv_box(self,gameids):\n",
    "        l = []\n",
    "        for gameid in gameids:\n",
    "            box = BoxScoreAdvancedV3(game_id = gameid).get_data_frames()[0]\n",
    "            d = box.filter([col for col in box.columns if (box[col].dtype!=object)])\n",
    "            d['game_id'] = gameid\n",
    "            l.append(d.to_dict(orient='records'))\n",
    "        return l\n",
    "    \n",
    "    def get_first_buckets(self,gameid):\n",
    "        for gameid in gameids:\n",
    "            df = PlayByPlayV2(gameid).get_data_frames()[0]\n",
    "            aind = df[(df.EVENTMSGTYPE==1) & (df.HOMEDESCRIPTION.notna())].PLAYER1_ID.idxmin()\n",
    "            hind = df[(df.EVENTMSGTYPE==1) & (df.VISITORDESCRIPTION.notna())].PLAYER1_ID.idxmin()\n",
    "            gd = {'gameid':gameid,'homeFirst':df.iloc[hind].PLAYER1_ID,'awayFirst':df.iloc[aind].PLAYER1_ID,\n",
    "                  'first':df.iloc[min([aind,hind])].PLAYER1_ID}\n",
    "        return gd\n",
    "        \n",
    "    def get_summary(self,gameid):\n",
    "        l = []\n",
    "        for gameid in gameids:\n",
    "            b= BoxScoreSummaryV2(game_id=gameid).get_data_frames()\n",
    "            df1 = b[5]\n",
    "            df1 = df1.filter([col for col in df1.columns if (df1[col].dtype!=object) & (df1[col].sum()!=0) & (col!='GAME_SEQUENCE') ])\n",
    "            df = df1.merge(b[1][['TEAM_ID','LARGEST_LEAD','PTS_FB','PTS_2ND_CHANCE','TOTAL_TURNOVERS']])\n",
    "            df['GAME_ID'] = gameid\n",
    "            l.append(df.to_dict(orient='records'))\n",
    "        return l\n",
    "        \n",
    "    def get_opp_open_shot(self,dates):\n",
    "        l = []\n",
    "        for date in dates:\n",
    "            d = pd.to_datetime(date)\n",
    "            season = '{}-{}'.format(d.year,str(d.year+1)[-2:]) if d.month>=10 else '{}-{}'.format(d.year-1,str(d.year)[-2:])\n",
    "            oppShots = LeagueDashTeamShotLocations(measure_type_simple='Opponent',\n",
    "                                              date_from_nullable = date,\n",
    "                                               date_to_nullable = date,\n",
    "                                           season=season\n",
    "                               ).get_data_frames()[0]\n",
    "            oppShots.columns = ['{}_{}'.format(re.sub(' |-','_',a),b) if a!='' else b for a,b in oppShots.columns]\n",
    "            oppShots = oppShots.filter([col for col in oppShots.columns if re.search('_PCT$',col)==None])\n",
    "            oppShots['GAME_DATE'] = date\n",
    "            wide =  LeagueDashOppPtShot(date_from_nullable = date,\n",
    "                              date_to_nullable = date, season=season,\n",
    "                                  close_def_dist_range_nullable = '6+ Feet - Wide Open').get_data_frames()[0]\n",
    "            wide = wide.filter([col for col in wide.columns if (re.search('_FREQUENCY$|PCT$|^G|FGM|FGA',col)==None) &\n",
    "                                                        (wide[col].dtype!=object)] )\n",
    "            wide.columns = [col if re.search('FG',col)==None else 'WIDEOPEN_{}'.format(col) for col in wide.columns]\n",
    "            wide['GAME_DATE'] = date\n",
    "\n",
    "            op = LeagueDashOppPtShot(date_from_nullable = date,\n",
    "                              date_to_nullable = date,season=season,\n",
    "                                  close_def_dist_range_nullable = '4-6 Feet - Open').get_data_frames()[0]\n",
    "            op = op.filter([col for col in op.columns if (re.search('_FREQUENCY$|PCT$|^G|FGM|FGA',col)==None) &\n",
    "                                                        (op[col].dtype!=object)] )\n",
    "            op.columns = [col if re.search('FG',col)==None  else 'OPEN_{}'.format(col) for col in op.columns]\n",
    "            op['GAME_DATE'] = date\n",
    "            final = oppShots.merge(wide.merge(op,how='left',on=['TEAM_ID','GAME_DATE']),how='left',on=['TEAM_ID','GAME_DATE'])\n",
    "            l.append(final.to_dict(orient='records'))\n",
    "        return l\n",
    "        \n",
    "    def get_opp_dribble_shot(self,dates):\n",
    "        l = []\n",
    "        drib = ['0 Dribbles','1 Dribble','2 Dribbles','3-6 Dribbles','7+ Dribbles']\n",
    "        d = pd.to_datetime(date)\n",
    "        season = '{}-{}'.format(d.year,str(d.year+1)[-2:]) if d.month>=10 else '{}-{}'.format(d.year-1,str(d.year)[-2:])\n",
    "        drb = pd.DataFrame()\n",
    "        games = gamefinder.get_data_frames()[0][['GAME_DATE','TEAM_ID','GAME_ID']]\n",
    "        games.GAME_DATE = pd.to_datetime(games.GAME_DATE)\n",
    "        for dribbleCount in drib:\n",
    "            drbShots = LeagueDashOppPtShot(date_from_nullable = date,\n",
    "                                date_to_nullable = date,\n",
    "                                           season=season,\n",
    "                                dribble_range_nullable=dribbleCount).get_data_frames()[0]\n",
    "            df = lgDashOppColums(drbShots,dribbleCount)\n",
    "            drb = pd.concat([drb,df])\n",
    "            time.sleep(1)\n",
    "        drb = drb.merge(games[games.GAME_DATE==d],how='left',on=['TEAM_ID'])\n",
    "        drb = drb.groupby(['TEAM_ID','GAME_ID','GAME_DATE']).sum().reset_index()\n",
    "        l.append(drb.to_dict(orient='records'))\n",
    "        return l\n",
    "    def get_player_shot_spots(self,dates):\n",
    "        for date in dates:\n",
    "            d = pd.to_datetime(date)\n",
    "            season = '{}-{}'.format(d.year,str(d.year+1)[-2:]) if d.month>=10 else '{}-{}'.format(d.year-1,str(d.year)[-2:])\n",
    "            df = LeagueDashPlayerShotLocations(date_from_nullable = date,\n",
    "                                         date_to_nullable = date,\n",
    "                                         season=season).get_data_frames()[0]\n",
    "            df = shotcolumns(df)\n",
    "            df['GAME_DATE'] = date\n",
    "            temp = gamefinder.get_data_frames()[0][['GAME_DATE','TEAM_ID','GAME_ID']]\n",
    "            temp = temp[temp.GAME_DATE==date]\n",
    "            final = df.merge(temp,how='left',on=['GAME_DATE','TEAM_ID'])\n",
    "        l.append(final.to_dict(orient='records'))\n",
    "        return l\n",
    "    \n",
    "    def get_logs(season):\n",
    "        log = PlayerGameLogs(season_nullable=season).get_data_frames()[0]\n",
    "        roster = log.groupby(['SEASON_YEAR','PLAYER_ID','TEAM_ID']).GAME_DATE.agg(\n",
    "                                                        firstGame = min,lastGame = max).reset_index()\n",
    "        srchStr = 'SEASON_YEAR|MATCHUP|^TEAM_ABB|_PCT$|TEAM_NAME|^FG|REB$|_RANK$|WL|NICKNAME|_PTS$'\n",
    "        df = log.filter([col for col in log.columns if re.search(srchStr,col)==None])\n",
    "        return df\n",
    "    \n",
    "    def get_player_team(season):\n",
    "        log = PlayerGameLogs(season_nullable=season).get_data_frames()[0]\n",
    "        roster = log.groupby(['SEASON_YEAR','PLAYER_ID','TEAM_ID']).GAME_DATE.agg(\n",
    "                                                        firstGame = min,lastGame = max).reset_index()\n",
    "        return roster\n",
    "\n",
    "    def cleanBaskets(df):\n",
    "        test['teamFirst'] = np.where(test.homeFirst!=test['first'],test.homeFirst,test.awayFirst)\n",
    "        test['gameFirst'] = np.where(test.homeFirst==test['first'],test.homeFirst,test.awayFirst)\n",
    "        game = test.filter(['gameid','gameFirst'])\n",
    "        game['gameFirstBasket'] = 1\n",
    "        team = test.filter(['gameid','teamFirst'])\n",
    "        team['teamFirstBasket'] = 1\n",
    "        df = pd.concat([game,team])\n",
    "        df = df.rename(columns = {'gameid':'gameId'})\n",
    "        df['playerId'] = df['gameFirst'].fillna(df.teamFirst)\n",
    "        df[['gameId','playerId','gameFirstBasket','teamFirstBasket']]\n",
    "        return df\n",
    "    "
   ]
  },
  {
   "cell_type": "code",
   "execution_count": null,
   "id": "eb8a1235",
   "metadata": {},
   "outputs": [],
   "source": [
    "#from nba_api.stats.endpoints import PlayByPlayV2 - team play-by-play\n",
    "l = []\n",
    "missing = []\n",
    "t = time.time()\n",
    "for ct,gameid in enumerate(gids):\n",
    "    try:\n",
    "        b= BoxScoreSummaryV2(game_id=gameid).get_data_frames()\n",
    "        df1 = b[5]\n",
    "        df1 = df1.filter([col for col in df1.columns if (df1[col].dtype!=object) & (df1[col].sum()!=0) & (col!='GAME_SEQUENCE') ])\n",
    "        df = df1.merge(b[1][['TEAM_ID','LARGEST_LEAD','PTS_FB','PTS_2ND_CHANCE','TOTAL_TURNOVERS']])\n",
    "        df['GAME_ID'] = gameid\n",
    "        l.append(df.to_dict(orient='records'))\n",
    "        if ct % 18 == 0:\n",
    "            time.sleep(np.random.choice(range(1,12),1)[0])\n",
    "        elif (ct % 100 == 0) & (ct!=0):\n",
    "            print('through {} games in {:.2f}'.format(ct,((time.time() -t)/60)))\n",
    "    except:\n",
    "        missing.append(gameid)\n",
    "print('Seasons uploaded, missing {:,} game ids'.format(len(missing)))\n",
    "pickle.dump(l,open('nba/data/pickle/quarter2Info.pkl','wb'))"
   ]
  },
  {
   "cell_type": "code",
   "execution_count": null,
   "id": "bb9110c2",
   "metadata": {},
   "outputs": [],
   "source": [
    "#from nba_api.stats.endpoints import PlayByPlayV2\n",
    "l = []\n",
    "missing = []\n",
    "t = time.time()\n",
    "for ct,gameid in enumerate(game_ids):\n",
    "    try:\n",
    "        df = PlayByPlayV2(gameid).get_data_frames()[0]\n",
    "        aind = df[(df.EVENTMSGTYPE==1) & (df.HOMEDESCRIPTION.notna())].PLAYER1_ID.idxmin()\n",
    "        hind = df[(df.EVENTMSGTYPE==1) & (df.VISITORDESCRIPTION.notna())].PLAYER1_ID.idxmin()\n",
    "        gd = {'gameid':gameid,'homeFirst':df.iloc[hind].PLAYER1_ID,'awayFirst':df.iloc[aind].PLAYER1_ID,\n",
    "              'first':df.iloc[min([aind,hind])].PLAYER1_ID}\n",
    "        l.append(gd)\n",
    "        if ct % 18 == 0:\n",
    "            time.sleep(np.random.choice(range(1,12),1)[0])\n",
    "        elif (ct % 100 == 0) & (ct!=0):\n",
    "            print('through {} games in {:.2f}'.format(ct,((time.time() -t)/60)))\n",
    "        del df\n",
    "    except:\n",
    "        missing.append(gameid)0\n",
    "print('Seasons uploaded, missing {:,} game ids'.format(len(missing)))\n",
    "pickle.dump(l,open('nba/data/pickle/baskets.pkl','wb'))"
   ]
  },
  {
   "cell_type": "markdown",
   "id": "a538f7ea",
   "metadata": {},
   "source": [
    "## general game information"
   ]
  },
  {
   "cell_type": "code",
   "execution_count": null,
   "id": "1d54e72d",
   "metadata": {},
   "outputs": [],
   "source": [
    "from nba_api.stats.endpoints import BoxScoreSummaryV2,CommonTeamRoster,PlayerGameLogs,PlayerAwards,TeamDetails,PlayerGameLogs,BoxScoreAdvancedV3\n",
    "boxSum = BoxScoreSummaryV2(game_id='0022300790')\n",
    "#adv = BoxScoreAdvancedV3(game_id='0022300790')\n",
    "#trad = BoxScoreTraditionalV3(game_id='0022300790')\n",
    "log = PlayerGameLogs(season_nullable='2023-24')\n",
    "award = PlayerAwards(player_id='203076')\n",
    "tinfo = CommonTeamRoster(team_id = '1610612756')"
   ]
  },
  {
   "cell_type": "code",
   "execution_count": null,
   "id": "09d8e6cd-e738-4ab4-bc4b-62fd19cb74e4",
   "metadata": {},
   "outputs": [],
   "source": [
    "BoxScoreAdvancedV3('0022300790').get_data_frames()[0].columns"
   ]
  },
  {
   "cell_type": "code",
   "execution_count": null,
   "id": "dbacba78-ca8b-4ab8-b10c-f6ca3c42a89d",
   "metadata": {},
   "outputs": [],
   "source": []
  },
  {
   "cell_type": "code",
   "execution_count": null,
   "id": "86161103",
   "metadata": {},
   "outputs": [],
   "source": [
    "def getLogs(season):\n",
    "    log = PlayerGameLogs(season_nullable=season).get_data_frames()[0]\n",
    "    srchStr = 'SEASON_YEAR|MATCHUP|^TEAM_ABB|_PCT$|TEAM_NAME|^FG|REB$|_RANK$|WL|NICKNAME|_PTS$'\n",
    "    df = log.filter([col for col in log.columns if re.search(srchStr,col)==None])\n",
    "    return df\n",
    "    "
   ]
  },
  {
   "cell_type": "code",
   "execution_count": null,
   "id": "1248e24c",
   "metadata": {},
   "outputs": [],
   "source": [
    "pshot = pd.read_pickle('nba/data/pickle/plyrShots.pkl')\n",
    "fb = pd.read_pickle('nba/data/pickle/baskets.pkl')"
   ]
  },
  {
   "cell_type": "code",
   "execution_count": null,
   "id": "94f3d1be",
   "metadata": {},
   "outputs": [],
   "source": [
    "plyShot = pd.DataFrame(columns = ['PLAYER_ID', 'TEAM_ID', 'Restricted_Area_FGM', 'Restricted_Area_FGA', 'In_The_Paint_(Non_RA)_FGM', 'In_The_Paint_(Non_RA)_FGA', 'Mid_Range_FGM', 'Mid_Range_FGA', 'Left_Corner_3_FGM', 'Left_Corner_3_FGA', 'Right_Corner_3_FGM', 'Right_Corner_3_FGA', 'Above_the_Break_3_FGM', 'Above_the_Break_3_FGA', 'GAME_DATE', 'GAME_ID'])\n",
    "for l in pshot:\n",
    "    for d in l:\n",
    "        if d['GAME_ID']=='0022300061':\n",
    "            plyShot.loc[len(plyShot)] = list(d.values())"
   ]
  },
  {
   "cell_type": "code",
   "execution_count": null,
   "id": "e3bf33d6",
   "metadata": {},
   "outputs": [],
   "source": [
    "#inactive player\n",
    "boxSum.get_data_frames()[3]"
   ]
  },
  {
   "cell_type": "code",
   "execution_count": null,
   "id": "e6361d37",
   "metadata": {},
   "outputs": [],
   "source": [
    "#officials\n",
    "boxSum.get_data_frames()[2]"
   ]
  },
  {
   "cell_type": "code",
   "execution_count": null,
   "id": "b3380a50",
   "metadata": {},
   "outputs": [],
   "source": [
    "boxSum.get_data_frames()[1][['TEAM_ID','LARGEST_LEAD','PTS_FB','PTS_2ND_CHANCE','TOTAL_TURNOVERS']]"
   ]
  },
  {
   "cell_type": "code",
   "execution_count": null,
   "id": "a52cfcb0",
   "metadata": {},
   "outputs": [],
   "source": [
    "b= boxSum.get_data_frames"
   ]
  },
  {
   "cell_type": "markdown",
   "id": "560702c6",
   "metadata": {},
   "source": [
    "### Prototype view\n",
    "- need player log data\n",
    "    - this will have the layout shown in notes\n",
    "    - for now will manually filter based on team names\n",
    "    - need a rolling value as well will do 5 and 10\n",
    "- create a function for the fair based on their pddvalue + 5% for a vig\n",
    "- kelly criterion that will take in the actual odds"
   ]
  },
  {
   "cell_type": "code",
   "execution_count": null,
   "id": "85234f5d",
   "metadata": {},
   "outputs": [],
   "source": [
    "with open('./nba/data/sql/createPlayerTable.sql','w') as file:\n",
    "    f = '''\n",
    "    CREATE VIEW playerGame (\n",
    "    playerId TEXT,\n",
    "    teamId TEXT,\n",
    "    gameId TEXT,\n",
    "    min FLOAT,\n",
    "    resAreaM INT,\n",
    "    resAreaA INT,\n",
    "    paintM INT,\n",
    "    paintA INT,\n",
    "    midM INT,\n",
    "    midA INT,\n",
    "    lcThreeM INT,\n",
    "    lcThreeA INT,\n",
    "    rcThreeM INT,\n",
    "    rcThreeA INT,\n",
    "    aboveThreeM INT,\n",
    "    aboveThreeA INT,\n",
    "    orb INT,\n",
    "    orbContest INT,\n",
    "    orbChances INT,\n",
    "    orbDefer INT,\n",
    "    avgOrbDist FLOAT,\n",
    "    drb INT,\n",
    "    drbContest INT,\n",
    "    drbChances INT,\n",
    "    drbDefer INT,\n",
    "    avgDrbDist FLOAT,\n",
    "    ftm INT,\n",
    "    fta INT,\n",
    "    ast INT,\n",
    "    tov INT,\n",
    "    stl INT,\n",
    "    blk INT,\n",
    "    shotBlk INT,\n",
    "    pf INT,\n",
    "    pfd INT,\n",
    "    pts INT,\n",
    "    plusMinus INT,\n",
    "    dd INT,\n",
    "    td INT,\n",
    "    usage FLOAT,\n",
    "    pace FLOAT,\n",
    "    poss INT,\n",
    "    offRating FLOAT,\n",
    "    defRating FLOAT,\n",
    "    teamFirstBasket INT,\n",
    "    gameFirstBasket INT,\n",
    "\n",
    "    \n",
    "    )\n",
    "    \n",
    "    '''\n",
    "    file.write(f)"
   ]
  },
  {
   "cell_type": "code",
   "execution_count": null,
   "id": "ed07eeb0",
   "metadata": {},
   "outputs": [],
   "source": [
    "with open('./nba/data/sql/createGamesTable.sql','w') as file:\n",
    "    f = '''\n",
    "    CREATE TABLE teamBox(\n",
    "    gameId TEXT,\n",
    "    gameDate TEXT,\n",
    "    teamId TEXT,\n",
    "    home INT,\n",
    "    Q1 INT,\n",
    "    Q2 INT,\n",
    "    Q3 INT,\n",
    "    Q4 INT,\n",
    "    OT INT,\n",
    "    inactive TEXT,\n",
    "    pace FLOAT,\n",
    "    offRating FLOAT,\n",
    "    defRating FLOAT,\n",
    "    PRIMARY KEY (gameId,teamId),\n",
    "    FOREIGN KEY (teamId)\n",
    "        REFERENCES teams(teamId)\n",
    "    )\n",
    "    '''\n",
    "    file.write(f)"
   ]
  },
  {
   "cell_type": "code",
   "execution_count": null,
   "id": "c76cc029",
   "metadata": {},
   "outputs": [],
   "source": [
    "with open('./nba/data/sql/createPlayerInfoTable.sql','w') as file:\n",
    "    f='''\n",
    "    CREATE TABLE players(\n",
    "    playerId TEXT,\n",
    "    playerName TEXT,\n",
    "    playerHeight INT,\n",
    "    playerWeight INT,\n",
    "    playerBirthday TEXT,\n",
    "    PRIMARY KEY (playerId)\n",
    "    )\n",
    "    '''\n",
    "    file.write(f)"
   ]
  },
  {
   "cell_type": "code",
   "execution_count": null,
   "id": "64df1e5d",
   "metadata": {},
   "outputs": [],
   "source": [
    "with open('./nba/data/sql/createRosterTable.sql','w') as file:\n",
    "    f = '''\n",
    "    CREATE TABLE rosters(\n",
    "    teamId TEXT,\n",
    "    seasonYear TEXT,\n",
    "    playerId TEXT,\n",
    "    startDate TEXT,\n",
    "    endDate TEXT,\n",
    "    PRIMARY KEY (teamId,playerId,seasonYear),\n",
    "    FOREIGN KEY (playerId) \n",
    "        REFERENCES players(playerId),\n",
    "    FOREIGN KEY (teamId)\n",
    "        REFERENCES teams(teamId)\n",
    "    )\n",
    "    \n",
    "    '''\n",
    "    file.write(f)"
   ]
  },
  {
   "cell_type": "code",
   "execution_count": null,
   "id": "fd4688f1",
   "metadata": {},
   "outputs": [],
   "source": [
    "with open('./nba/data/sql/createTeamInfoTable.sql','w') as file:\n",
    "    f = '''\n",
    "    CREATE TABLE teams(\n",
    "    teamId TEXT,\n",
    "    teamAbrv TEXT,\n",
    "    teamName TEXT,\n",
    "    teamConference TEXT,\n",
    "    teamDivision TEXT,\n",
    "    teamLong FLOAT,\n",
    "    teamLAT FLOAT,\n",
    "    PRIMARY KEY (teamId)\n",
    "    \n",
    "    )\n",
    "    '''\n",
    "    file.write(f)"
   ]
  },
  {
   "cell_type": "code",
   "execution_count": null,
   "id": "15ceb408-bb95-415b-8850-706b032b7e6b",
   "metadata": {},
   "outputs": [],
   "source": [
    "sqlOrd = ['team_id','game_date','game_id','ra_fgm','ra_fga','mid_fgm','mid_fga','lc_fgm','lc_fga','rc_fgm','rc_fga','abv_fgm',\n",
    "                  'abv_fga','bck_fgm','bck_fga','crn_fgm','crn_fga','wide_fg2m','wide_fg2a','wide_fg3m','wide_fg3a','open_fg2m','open_fg2a',\n",
    "                  'open_fg3m','open_fg3a','drb0_fg2m','drb0_fg2a','drb0_fg3m','drb0_fg3a','drb1_fg2m','drb1_fg2a','drb1_fg3m','drb1_fg3a',\n",
    "                  'drb2_fg2m','drb2_fg2a','drb2_fg3m','drb2_fg3a','drb36_fg2m', 'drb36_fg2a', 'drb36_fg3m', 'drb36_fg3a','drb7_fg2m',\n",
    "                  'drb7_fg2a','drb7_fg3m','drb7_fg3a']"
   ]
  },
  {
   "cell_type": "code",
   "execution_count": null,
   "id": "974842bd-2fa7-4f5e-afd5-b1af455e1154",
   "metadata": {},
   "outputs": [],
   "source": [
    "def create_sql_script(table,cols):\n",
    "    str = 'CREATE TABLE {0} ('\n",
    "    for col in cols:\n",
    "        typ = 'TEXT' if re.search('_id|date',col.lower()) !=None else 'INT'\n",
    "        str += ('{} {},\\n'.format(col,typ)) #if col != test.columns[-1] else '{} {})'.format(col,typ)\n",
    "    str += ' PRIMARY KEY (player_id,game_id) )'\n",
    "    str = str.format(table)\n",
    "    with open('./nba/data/sql/createPlayerGameLog.sql','w') as file:\n",
    "        file.write(str)\n",
    "    print('wrote create file')"
   ]
  },
  {
   "cell_type": "code",
   "execution_count": null,
   "id": "71e10a3d-743a-4eba-be08-bd0b706c368e",
   "metadata": {},
   "outputs": [],
   "source": [
    "test.columns = ['team_id','ra_fgm','ra_fga','mid_fgm','mid_fga','lc_fgm','lc_fga','rc_fgm','rc_fga','abv_fgm','abv_fga','bck_fgm','bck_fga',\n",
    " 'crn_fgm','crn_fga','game_date','wide_fg2m','wide_fg2a','wide_fg3m','wide_fg3a','open_fg2m','open_fg2a', 'open_fg3m','open_fg3a','game_id',\n",
    " 'drb0_fg2m','drb0_fg2a','drb0_fg3m','drb0_fg3a','drb1_fg2m','drb1_fg2a','drb1_fg3m','drb1_fg3a','drb2_fg2m','drb2_fg2a','drb2_fg3m','drb2_fg3a',\n",
    " 'drb36_fg2m', 'drb36_fg2a', 'drb36_fg3m', 'drb36_fg3a', 'drb7_fg2m','drb7_fg2a','drb7_fg3m','drb7_fg3a']\n",
    "\n"
   ]
  },
  {
   "cell_type": "code",
   "execution_count": null,
   "id": "5b51ffff-1a4f-417b-b3ab-1df4f16eb32b",
   "metadata": {},
   "outputs": [],
   "source": [
    "with open('./nba/data/sql/CreateTeamShotAllowed','w') as file:\n",
    "    file.write(str)"
   ]
  },
  {
   "cell_type": "code",
   "execution_count": null,
   "id": "f3565e2a-f486-45d3-bfaa-cc3df5de9658",
   "metadata": {},
   "outputs": [],
   "source": [
    "logFile = create_sql_script('playerGameLog',pcols)"
   ]
  },
  {
   "cell_type": "code",
   "execution_count": null,
   "id": "d997762b-d7df-49c7-8907-96441c344a2b",
   "metadata": {},
   "outputs": [],
   "source": [
    "logFile = open('./nba/data/sql/createPlayerGameLog.sql','r').read()"
   ]
  },
  {
   "cell_type": "code",
   "execution_count": null,
   "id": "d6b78e07-cc09-4a09-8e06-dd1e7b9c65d1",
   "metadata": {},
   "outputs": [],
   "source": [
    "nba.cur.execute(logFile)"
   ]
  },
  {
   "cell_type": "code",
   "execution_count": null,
   "id": "f1773d00-1d19-429b-9fe3-5850527b344c",
   "metadata": {},
   "outputs": [],
   "source": [
    "nba.conn.commit()"
   ]
  },
  {
   "cell_type": "code",
   "execution_count": null,
   "id": "9c0c8915-2500-4b4c-bc2d-581cc5f84d84",
   "metadata": {},
   "outputs": [],
   "source": [
    "nba = bet.nba()"
   ]
  },
  {
   "cell_type": "code",
   "execution_count": null,
   "id": "baf75e04-4eb1-4f0f-ac4d-f5470950e15e",
   "metadata": {},
   "outputs": [],
   "source": [
    "nba.showTables"
   ]
  },
  {
   "cell_type": "code",
   "execution_count": null,
   "id": "fd136297-d219-4fa3-8283-c0540b3b23c5",
   "metadata": {},
   "outputs": [],
   "source": [
    "nba.cur.execute('DROP TABLE logStage')\n",
    "nba.cur.execute('DROP TABLE shootStage')\n",
    "nba.cur.execute('DROP TABLE rbdStage')\n",
    "nba.conn.commit()"
   ]
  },
  {
   "cell_type": "code",
   "execution_count": null,
   "id": "da4381f2-4c46-4472-a843-b70004d8baa6",
   "metadata": {},
   "outputs": [],
   "source": [
    "ply = pd.read_sql('''SELECT *\n",
    "                    FROM logStage log\n",
    "                    inner join rbdStage rbd on log.PLAYER_ID = rbd.PLAYER_ID and log.GAME_ID = rbd.GAME_ID\n",
    "                    inner join shootStage sht on log.PLAYER_ID = sht.PLAYER_ID and log.GAME_ID = sht.GAME_ID''',nba.conn) "
   ]
  },
  {
   "cell_type": "code",
   "execution_count": null,
   "id": "556da3ca-4f48-4ac5-83ae-e6de433592e8",
   "metadata": {},
   "outputs": [],
   "source": [
    "plyOrd = ['player_id','team_id','game_id','game_date','min','ftm','fta','ast','tov','stl','blk','blka','pf','pfd',\n",
    "           'pts','plus_minus','dd2','td3','offensive_rating','defensive_rating','usage_precentage','pace','possessions',\n",
    "           'team_first','game_first','oreb','oreb_contest','oreb_chances','oreb_chance_defer','avg_oreb_dist','dreb',\n",
    "           'dreb_contest','dreb_chances','dreb_chance_defer','avg_dreb_dist','ra_fgm','ra_fga','mid_fgm','mid_fga','lc_fgm',\n",
    "           'lc_fga','rc_fgm','rc_fga','abv_fgm','abv_fga']"
   ]
  },
  {
   "cell_type": "code",
   "execution_count": null,
   "id": "b70ee85b-f772-4e4e-b687-91e8e92af9c8",
   "metadata": {},
   "outputs": [],
   "source": [
    "f"
   ]
  },
  {
   "cell_type": "code",
   "execution_count": null,
   "id": "76eec9f4-a336-4a13-851d-be0380d4f578",
   "metadata": {},
   "outputs": [],
   "source": [
    "create_sql_script('playerLog',pcols)"
   ]
  },
  {
   "cell_type": "code",
   "execution_count": null,
   "id": "b0898a86-3508-4992-b20b-435ae1cd5c0e",
   "metadata": {},
   "outputs": [],
   "source": [
    "plyCols = [ct for ct,col in  enumerate(ply.columns) if (col not in ply.columns[:ct-1]) & (col!='SEASON_YEAR')]"
   ]
  },
  {
   "cell_type": "code",
   "execution_count": null,
   "id": "0ff32100-42ae-44da-a140-02fde93a77a1",
   "metadata": {},
   "outputs": [],
   "source": [
    "ply = ply.iloc[:,plyCols]"
   ]
  },
  {
   "cell_type": "code",
   "execution_count": null,
   "id": "4f070695-9530-4dbe-9b50-a2dc24015231",
   "metadata": {},
   "outputs": [],
   "source": [
    "ply.GAME_DATE = [x[:10] for x in ply.GAME_DATE]"
   ]
  },
  {
   "cell_type": "code",
   "execution_count": null,
   "id": "6a250efc-5c2f-4eee-b866-60c1a92b7894",
   "metadata": {},
   "outputs": [],
   "source": [
    "ply.columns = pcols"
   ]
  },
  {
   "cell_type": "code",
   "execution_count": null,
   "id": "3f1a7671-5d0b-4280-b4d3-0e09fd0a325e",
   "metadata": {},
   "outputs": [],
   "source": [
    "ply"
   ]
  },
  {
   "cell_type": "code",
   "execution_count": null,
   "id": "8a8d92ac",
   "metadata": {},
   "outputs": [],
   "source": [
    "# cur.execute('''DROP TABLE rosters''')\n",
    "# cur.execute('''DROP TABLE teams''')\n",
    "cur.execute('''DROP TABLE box''')\n",
    "# cur.execute('''DROP TABLE players''')\n",
    "# cur.execute('''DROP TABLE games''')"
   ]
  },
  {
   "cell_type": "code",
   "execution_count": null,
   "id": "68e8e830",
   "metadata": {},
   "outputs": [],
   "source": [
    "cur = db.cursor()"
   ]
  },
  {
   "cell_type": "code",
   "execution_count": null,
   "id": "d4f49206",
   "metadata": {},
   "outputs": [],
   "source": [
    "# cur.execute(open('./nba/data/sql/createPlayerInfoTable.sql','r').read())\n",
    "# cur.execute(open('./nba/data/sql/createRosterTable.sql','r').read())\n",
    "# cur.execute(open('./nba/data/sql/createGamesTable.sql','r').read())\n",
    "cur.execute(open('./nba/data/sql/createPlayerTable.sql','r').read())\n",
    "# cur.execute(open('./nba/data/sql/createTeamInfoTable.sql','r').read())\n",
    "db.commit()"
   ]
  },
  {
   "cell_type": "code",
   "execution_count": null,
   "id": "12d68ae3",
   "metadata": {},
   "outputs": [],
   "source": [
    "pd.read_pickle('./nba/data/pickle/')"
   ]
  },
  {
   "cell_type": "code",
   "execution_count": null,
   "id": "4cc4efe8",
   "metadata": {},
   "outputs": [],
   "source": [
    "boxcols = pd.read_sql('''\n",
    "PRAGMA table_info(box)\n",
    "''',db).name.values"
   ]
  },
  {
   "cell_type": "code",
   "execution_count": null,
   "id": "5f7405ac-c75c-483e-90fa-b24534fa14d8",
   "metadata": {},
   "outputs": [],
   "source": [
    "shots = pd.read_pickle('./nba/data/pickle/plyrShots2023-24.pkl')"
   ]
  },
  {
   "cell_type": "code",
   "execution_count": null,
   "id": "68e273eb-8bd9-4562-8525-934eaf47fd65",
   "metadata": {},
   "outputs": [],
   "source": [
    "PlayerGameLogs().get_data_frames()[0].columns"
   ]
  },
  {
   "cell_type": "code",
   "execution_count": null,
   "id": "8b361fef-8a11-441f-b239-8c312865f738",
   "metadata": {},
   "outputs": [],
   "source": [
    "#read in current first basket and box information clean the data and set to table'"
   ]
  },
  {
   "cell_type": "code",
   "execution_count": null,
   "id": "bd99fb1e-40fc-42e4-8156-02beb27bf271",
   "metadata": {},
   "outputs": [],
   "source": [
    "def create_box():\n",
    "    '''\n",
    "    Will combine advance metrics with standard box score metrics and add in first baskets\n",
    "    '''\n",
    "    logCols = ['SEASON_YEAR','PLAYER_ID','TEAM_ID','GAME_ID','GAME_DATE','MIN','FTM','FTA','AST','TOV','STL','BLK','BLKA','PF','PFD','PTS','PLUS_MINUS',\n",
    " 'DD2','TD3']\n",
    "    advcols = ['GAME_ID','PLAYER_ID','offensiveRating','defensiveRating','usagePercentage','pace','possessions']\n",
    "    bskt = pd.read_pickle('./nba/data/pickle/baskets.pkl')\n",
    "    bskts = set([(d['gameid'],v,1,1)  if list(d.values()).count(v) ==2 else (d['gameid'],v,1,0) for d in bskt for k,v in d.items() if type(v)!=str])\n",
    "    bdf = pd.DataFrame(bskts,columns = ['GAME_ID','PLAYER_ID','teamFirst','gameFirst'])\n",
    "    advbox = pd.DataFrame([r for d in pd.read_pickle('./nba/data/pickle/advbox.pkl') for r in d]).rename(columns={'game_id':'GAME_ID','personId':'PLAYER_ID'})\n",
    "    advbox = advbox.filter(advcols)\n",
    "    advbsk = advbox.merge(bdf,how='left',on=['GAME_ID','PLAYER_ID'])\n",
    "    for season in ['2017-18','2018-19','2019-20','2020-21','2021-22','2022-23','2023-24']:\n",
    "        print('{} starting at {}'.format(season,time.strftime('%H:%M')))\n",
    "        seasonLog = PlayerGameLogs(season_nullable=season).get_data_frames()[0][logCols]\n",
    "        seasonLog = seasonLog.filter(logCols)\n",
    "        \n",
    "        final = seasonLog.merge(advbsk,how='left',on = ['GAME_ID','PLAYER_ID'])\n",
    "        \n",
    "        final.to_sql('logs',db,if_exists='append')\n",
    "    "
   ]
  },
  {
   "cell_type": "code",
   "execution_count": null,
   "id": "2f2e49f4-3c1e-44b0-9b43-2e264289085a",
   "metadata": {},
   "outputs": [],
   "source": [
    "db.execute('DROP TABLE shotCoverage')\n",
    "db.commit()"
   ]
  },
  {
   "cell_type": "code",
   "execution_count": null,
   "id": "78a9e44b",
   "metadata": {},
   "outputs": [],
   "source": [
    "pd.read_sql(\"SELECT * FROM sqlite_master WHERE type='table';\",db)"
   ]
  },
  {
   "cell_type": "code",
   "execution_count": null,
   "id": "715551c4-fa8d-471c-a616-965e38f0b483",
   "metadata": {},
   "outputs": [],
   "source": [
    "df = pd.read_sql('select * from shotCoverage',db)"
   ]
  },
  {
   "cell_type": "code",
   "execution_count": null,
   "id": "90aac32e-9099-4303-bae2-53aa546fcf05",
   "metadata": {},
   "outputs": [],
   "source": [
    "rbs = pd.read_sql('select * from rebounds',db)"
   ]
  },
  {
   "cell_type": "code",
   "execution_count": null,
   "id": "f1d9c333-775e-4655-8c65-6f4b36016be0",
   "metadata": {},
   "outputs": [],
   "source": [
    "rbs = rbs.drop(['index'],axis=1)"
   ]
  },
  {
   "cell_type": "code",
   "execution_count": null,
   "id": "41cfd8fa-5a6f-4367-9bdb-a5d01a2e99d3",
   "metadata": {},
   "outputs": [],
   "source": [
    "db.cursor().execute('DROP TABLE games')\n",
    "db.commit()"
   ]
  },
  {
   "cell_type": "code",
   "execution_count": null,
   "id": "f4d15f58",
   "metadata": {},
   "outputs": [],
   "source": [
    "def insert_data(data,table):\n",
    "    cols = pd.read_sql('''\n",
    "    PRAGMA table_info({})\n",
    "    '''.format(table),db).name.values\n",
    "    rows = data.shape[0]\n",
    "    v = '?' + ',?' * (len(cols)-1)\n",
    "    cur.executemany('''insert into {t} values ({v})'''.format(t=table,v=v),data.values.tolist())\n",
    "    return print('{} has been updated with {:,} rows'.format(table,rows))\n",
    "        "
   ]
  },
  {
   "cell_type": "code",
   "execution_count": null,
   "id": "7b6fbdc7-36f0-472c-bb80-be899b85af05",
   "metadata": {},
   "outputs": [],
   "source": []
  },
  {
   "cell_type": "code",
   "execution_count": null,
   "id": "37266914",
   "metadata": {},
   "outputs": [],
   "source": [
    "insert_data(ros,'rosters')"
   ]
  },
  {
   "cell_type": "code",
   "execution_count": null,
   "id": "2b91441e",
   "metadata": {},
   "outputs": [],
   "source": [
    "tm = nba.get_team_info()"
   ]
  },
  {
   "cell_type": "code",
   "execution_count": null,
   "id": "0c4f1bc9",
   "metadata": {},
   "outputs": [],
   "source": [
    "insert_data(pd.DataFrame(tm),'teams')"
   ]
  },
  {
   "cell_type": "code",
   "execution_count": null,
   "id": "eacc8d39-3b73-45f9-8365-799975f25de8",
   "metadata": {},
   "outputs": [],
   "source": []
  },
  {
   "cell_type": "code",
   "execution_count": null,
   "id": "2d1fbc1b",
   "metadata": {},
   "outputs": [],
   "source": [
    "def create_box_data(data):\n",
    "    "
   ]
  },
  {
   "cell_type": "code",
   "execution_count": null,
   "id": "2e1c99c8-5006-44c8-9fac-d1e9f8ac7d64",
   "metadata": {},
   "outputs": [],
   "source": [
    "gameids"
   ]
  },
  {
   "cell_type": "code",
   "execution_count": null,
   "id": "5dfa302f",
   "metadata": {},
   "outputs": [],
   "source": [
    "l = []\n",
    "for gameid in gameids:\n",
    "    df = PlayByPlayV2(gameid).get_data_frames()[0]\n",
    "    aind = df[(df.EVENTMSGTYPE==1) & (df.HOMEDESCRIPTION.notna())].PLAYER1_ID.idxmin()\n",
    "    hind = df[(df.EVENTMSGTYPE==1) & (df.VISITORDESCRIPTION.notna())].PLAYER1_ID.idxmin()\n",
    "    gd = {'gameid':gameid,'homeFirst':1,'homePlayer':df.iloc[hind].PLAYER1_ID,'awayFirst':1,\n",
    "          'awayPlayer':df.iloc[aind].PLAYER1_ID,'first':1,\n",
    "          'firstPlayer':df.iloc[min([aind,hind])].PLAYER1_ID}\n",
    "    l.append(gd)\n",
    "df = pd.DataFrame(l)\n",
    "home = df[df.homePlayer == df.firstPlayer][['gameid','homeFirst','homePlayer','first','firstPlayer']]\n",
    "away = df[df.awayPlayer == df.firstPlayer][['gameid','awayFirst','awayPlayer','first','firstPlayer']]\n",
    "del df"
   ]
  },
  {
   "cell_type": "code",
   "execution_count": null,
   "id": "19292132",
   "metadata": {},
   "outputs": [],
   "source": [
    "h,a = nba.get_first_buckets(gameids)"
   ]
  },
  {
   "cell_type": "code",
   "execution_count": null,
   "id": "12521161",
   "metadata": {},
   "outputs": [],
   "source": [
    "box = nba.get_advBox(gameids)"
   ]
  },
  {
   "cell_type": "code",
   "execution_count": null,
   "id": "f3cbc4e9",
   "metadata": {},
   "outputs": [],
   "source": [
    "bxdf = pd.DataFrame()"
   ]
  },
  {
   "cell_type": "code",
   "execution_count": null,
   "id": "6345e1f1",
   "metadata": {},
   "outputs": [],
   "source": [
    "bxcls = pd.read_sql('''PRAGMA table_info(box)''',db).name.values"
   ]
  },
  {
   "cell_type": "code",
   "execution_count": null,
   "id": "d13e1ef4",
   "metadata": {},
   "outputs": [],
   "source": []
  },
  {
   "cell_type": "code",
   "execution_count": null,
   "id": "2d8855fa",
   "metadata": {},
   "outputs": [],
   "source": [
    "os.listdir('nba/data/pickle')"
   ]
  },
  {
   "cell_type": "code",
   "execution_count": null,
   "id": "f1e94772",
   "metadata": {},
   "outputs": [],
   "source": [
    "bskts = pd.read_pickle('nba/data/pickle/baskets.pkl')"
   ]
  },
  {
   "cell_type": "code",
   "execution_count": null,
   "id": "73ffa873",
   "metadata": {},
   "outputs": [],
   "source": []
  },
  {
   "cell_type": "code",
   "execution_count": null,
   "id": "d9e98898",
   "metadata": {},
   "outputs": [],
   "source": [
    "def cleanBaskets(df):\n",
    "    test['teamFirst'] = np.where(test.homeFirst!=test['first'],test.homeFirst,test.awayFirst)\n",
    "    test['gameFirst'] = np.where(test.homeFirst==test['first'],test.homeFirst,test.awayFirst)\n",
    "    game = test.filter(['gameid','gameFirst'])\n",
    "    game['gameFirstBasket'] = 1\n",
    "    team = test.filter(['gameid','teamFirst'])\n",
    "    team['teamFirstBasket'] = 1\n",
    "    df = pd.concat([game,team])\n",
    "    df = df.rename(columns = {'gameid':'gameId'})\n",
    "    df['playerId'] = df['gameFirst'].fillna(df.teamFirst)\n",
    "    df[['gameId','playerId','gameFirstBasket','teamFirstBasket']]\n",
    "    return df"
   ]
  },
  {
   "cell_type": "code",
   "execution_count": null,
   "id": "389e5d92",
   "metadata": {},
   "outputs": [],
   "source": [
    "shot = pd.DataFrame([x for y in pd.read_pickle('nba/data/pickle/plyrShots.pkl')[:3] for x in y])"
   ]
  },
  {
   "cell_type": "code",
   "execution_count": null,
   "id": "c1c214c0",
   "metadata": {},
   "outputs": [],
   "source": [
    "def shot_clean():\n",
    "    shot = pd.DataFrame([x for y in pd.read_pickle('nba/data/pickle/plyrShots.pkl') for x in y])\n",
    "    return shot"
   ]
  },
  {
   "cell_type": "code",
   "execution_count": null,
   "id": "8e2583b1",
   "metadata": {},
   "outputs": [],
   "source": []
  },
  {
   "cell_type": "code",
   "execution_count": null,
   "id": "45ea1ab6",
   "metadata": {},
   "outputs": [],
   "source": [
    "pd.DataFrame([y for x in box for y in x]).filter(['personId','game_id','usagePercentage','pace','possessions','offensiveRating','defensiveRating'])"
   ]
  },
  {
   "cell_type": "code",
   "execution_count": null,
   "id": "47114079",
   "metadata": {},
   "outputs": [],
   "source": [
    "def \n",
    "def analytic_view(log,val,teams):\n",
    "    '''\n",
    "    Pass through the player log and the stat you are looking to evaluate to create a view to give basic information \n",
    "    on the player\n",
    "    '''\n",
    "    vals = [col for col in log.columns if col.find(val)>-1] + ['PLAYER_NAME','MIN']\n",
    "    playing = log[log.TEAM_ABBREVIATION.isin(teams)]\n",
    "    playing\n",
    "    plval = playing[[val]]"
   ]
  },
  {
   "cell_type": "code",
   "execution_count": null,
   "id": "566fcb66-4054-43c9-8127-faf178a6b6af",
   "metadata": {},
   "outputs": [],
   "source": [
    "gd = nba.get_first_buckets(['0022301188','0021700001'])"
   ]
  },
  {
   "cell_type": "code",
   "execution_count": null,
   "id": "40d5d456",
   "metadata": {},
   "outputs": [],
   "source": [
    "seasonLog = PlayerGameLogs(season_nullable='2023-24',\n",
    "                           date_from_nullable = \"04/01/2024\",\n",
    "                           date_to_nullable = \"04/03/2024\").get_data_frames()[0]"
   ]
  },
  {
   "cell_type": "code",
   "execution_count": null,
   "id": "54010785",
   "metadata": {},
   "outputs": [],
   "source": [
    "seasonLog.columns"
   ]
  },
  {
   "cell_type": "code",
   "execution_count": null,
   "id": "7ef0ab1a-3491-4bb1-abf0-7379976edb84",
   "metadata": {},
   "outputs": [],
   "source": [
    "logs = nba.get_logs(minDate,maxDate)"
   ]
  },
  {
   "cell_type": "code",
   "execution_count": null,
   "id": "710092ba",
   "metadata": {},
   "outputs": [],
   "source": [
    "rbs = nba.get_rebounds(minDate,maxDate)"
   ]
  },
  {
   "cell_type": "code",
   "execution_count": null,
   "id": "85c4821f",
   "metadata": {},
   "outputs": [],
   "source": [
    "noLog = [x for x in seasonLog.PLAYER_ID if x not in rbs.PLAYER_ID.values]"
   ]
  },
  {
   "cell_type": "code",
   "execution_count": null,
   "id": "5afe243c",
   "metadata": {},
   "outputs": [],
   "source": [
    "seasonLog[seasonLog.PLAYER_ID.isin(noLog)][['PLAYER_NAME','MIN','REB']]"
   ]
  },
  {
   "cell_type": "code",
   "execution_count": null,
   "id": "f6219132",
   "metadata": {},
   "outputs": [],
   "source": [
    "adv = nba.get_advanced_box(g)"
   ]
  },
  {
   "cell_type": "code",
   "execution_count": null,
   "id": "d21933d2",
   "metadata": {},
   "outputs": [],
   "source": [
    "adv[adv.usagePercentage==0]"
   ]
  },
  {
   "cell_type": "code",
   "execution_count": null,
   "id": "faf90c6c",
   "metadata": {},
   "outputs": [],
   "source": [
    "logs = nba.get_logs(g)"
   ]
  },
  {
   "cell_type": "code",
   "execution_count": null,
   "id": "c6ebf7e9",
   "metadata": {},
   "outputs": [],
   "source": [
    "bkts = nba.get_first_buckets(g)\n",
    "#rbs = nba.get_rebounds(g)"
   ]
  },
  {
   "cell_type": "code",
   "execution_count": null,
   "id": "60fcf6cf",
   "metadata": {},
   "outputs": [],
   "source": [
    "gds = games[games.GAME_DATE.isin(g)].GAME_ID.unique()"
   ]
  },
  {
   "cell_type": "code",
   "execution_count": null,
   "id": "de6d97c5",
   "metadata": {},
   "outputs": [],
   "source": [
    "df = PlayByPlayV2(gameid,headers = nba.headers).get_data_frames()"
   ]
  },
  {
   "cell_type": "code",
   "execution_count": null,
   "id": "f67f1d56",
   "metadata": {},
   "outputs": [],
   "source": [
    "l = []"
   ]
  },
  {
   "cell_type": "code",
   "execution_count": null,
   "id": "9e294ef8",
   "metadata": {},
   "outputs": [],
   "source": [
    "for gameid in gds:\n",
    "    print(gameid)\n",
    "    df = PlayByPlayV2(gameid).get_data_frames()[0]\n",
    "    aind = df[(df.EVENTMSGTYPE==1) & (df.HOMEDESCRIPTION.notna())].PLAYER1_ID.idxmin()\n",
    "    hind = df[(df.EVENTMSGTYPE==1) & (df.VISITORDESCRIPTION.notna())].PLAYER1_ID.idxmin()\n",
    "    gd = {'gameid':gameid,'homePlayer':df.iloc[hind].PLAYER1_ID,\n",
    "          'awayPlayer':df.iloc[aind].PLAYER1_ID,\n",
    "          'firstPlayer':df.iloc[min([aind,hind])].PLAYER1_ID}\n",
    "    bskts = set([(gd['gameid'],v,1,1)  if list(gd.values()).count(v) ==2 else (gd['gameid'],v,1,0) for k,v in gd.items() if k!='gameid'])\n",
    "    #bdf = pd.DataFrame(bskts,columns = ['GAME_ID','PLAYER_ID','teamFirst','gameFirst'])\n",
    "    l.append(bskts)\n",
    "df = pd.DataFrame([x for y in l for x in y],columns = ['GAME_ID','PLAYER_ID','team_first','game_first'])"
   ]
  },
  {
   "cell_type": "code",
   "execution_count": null,
   "id": "c7ded5b6",
   "metadata": {},
   "outputs": [],
   "source": [
    "bkts[bkts.GAME_ID=='0022301104']"
   ]
  },
  {
   "cell_type": "code",
   "execution_count": null,
   "id": "ec23c439",
   "metadata": {},
   "outputs": [],
   "source": [
    "logs"
   ]
  },
  {
   "cell_type": "code",
   "execution_count": null,
   "id": "2c0f8e57",
   "metadata": {},
   "outputs": [],
   "source": [
    "test = logs.merge(bkts,how='left',on=['GAME_ID','PLAYER_ID']).fillna(0)"
   ]
  },
  {
   "cell_type": "code",
   "execution_count": null,
   "id": "ab7fc449",
   "metadata": {},
   "outputs": [],
   "source": [
    "adv[adv.usagePercentage==0]"
   ]
  },
  {
   "cell_type": "code",
   "execution_count": null,
   "id": "81d4e2ce",
   "metadata": {},
   "outputs": [],
   "source": [
    "rbs.merge(adv,on = ['GAME_ID','PLAYER_ID'])"
   ]
  },
  {
   "cell_type": "code",
   "execution_count": null,
   "id": "72626c28",
   "metadata": {},
   "outputs": [],
   "source": [
    "t = time.time()\n",
    "final = nba.update_player_log(g)\n",
    "print('finished in {:.2f}'.format((time.time()-t)/60))"
   ]
  },
  {
   "cell_type": "code",
   "execution_count": null,
   "id": "68d0e3f7",
   "metadata": {},
   "outputs": [],
   "source": [
    "sqlFile = open('nba/data/sql/CreateTeamShotAllowed.sql','r').read()"
   ]
  },
  {
   "cell_type": "code",
   "execution_count": null,
   "id": "d8c666b9",
   "metadata": {},
   "outputs": [],
   "source": [
    "nba.conn.execute(sqlFile)\n",
    "nba.conn.commit()"
   ]
  },
  {
   "cell_type": "code",
   "execution_count": null,
   "id": "de7f5547",
   "metadata": {},
   "outputs": [],
   "source": [
    "rbs"
   ]
  },
  {
   "cell_type": "code",
   "execution_count": null,
   "id": "385a42c2",
   "metadata": {},
   "outputs": [],
   "source": [
    "cols = ['player_id','team_id','ra_fgm','ra_fga','paint_fgm','paint_fga','mid_fgm','mid_fga','lc_fgm',\n",
    "        'lc_fga','rc_fgm','rc_fga','abv_fgm','abv_fga']"
   ]
  },
  {
   "cell_type": "code",
   "execution_count": null,
   "id": "1cd6a4bd",
   "metadata": {},
   "outputs": [],
   "source": [
    "len(cols)"
   ]
  },
  {
   "cell_type": "code",
   "execution_count": null,
   "id": "be9a752a",
   "metadata": {},
   "outputs": [],
   "source": [
    "nba.get_player_shot_spots(g)"
   ]
  },
  {
   "cell_type": "code",
   "execution_count": null,
   "id": "e04e7a83",
   "metadata": {},
   "outputs": [],
   "source": [
    "nba.get_player_shot_spots(g)"
   ]
  },
  {
   "cell_type": "code",
   "execution_count": null,
   "id": "3bcf2697",
   "metadata": {},
   "outputs": [],
   "source": [
    "cols\n"
   ]
  },
  {
   "cell_type": "code",
   "execution_count": null,
   "id": "b1399550",
   "metadata": {},
   "outputs": [],
   "source": [
    "pd.read_sql('select * from playerGameLog',nba.conn).columns"
   ]
  },
  {
   "cell_type": "code",
   "execution_count": null,
   "id": "cac127a1",
   "metadata": {},
   "outputs": [],
   "source": [
    "pklFiles = [f.path for f in os.scandir('nba/data/pickle') if f.name.find('ShotAllowed')>-1 ]"
   ]
  },
  {
   "cell_type": "code",
   "execution_count": null,
   "id": "16c26984",
   "metadata": {},
   "outputs": [],
   "source": [
    "chkSQL = pd.read_sql('''select game_date || '_' || team_id as id\n",
    "                        from shotsAllowed''',nba.conn)"
   ]
  },
  {
   "cell_type": "code",
   "execution_count": null,
   "id": "6df9a0f5",
   "metadata": {},
   "outputs": [],
   "source": [
    "chkSQL.id.values"
   ]
  },
  {
   "cell_type": "code",
   "execution_count": null,
   "id": "1064d964",
   "metadata": {},
   "outputs": [],
   "source": [
    "final = pd.DataFrame()\n",
    "for file in pklFiles:\n",
    "    d = pd.read_pickle(file)\n",
    "    temp = pd.DataFrame([game for l in d for game in l])\n",
    "    final = pd.concat([temp,final])"
   ]
  },
  {
   "cell_type": "code",
   "execution_count": null,
   "id": "1eb532c0",
   "metadata": {},
   "outputs": [],
   "source": [
    "missing = list(set([x[:10] for x in chkSQL.id.values if x not in final.check.values]))"
   ]
  },
  {
   "cell_type": "code",
   "execution_count": null,
   "id": "068a22ae",
   "metadata": {},
   "outputs": [],
   "source": [
    "addShots = nba.get_opp_open_shot(missing)"
   ]
  },
  {
   "cell_type": "code",
   "execution_count": null,
   "id": "4a884ce4",
   "metadata": {},
   "outputs": [],
   "source": [
    "final = pd.concat([final,addShots])"
   ]
  },
  {
   "cell_type": "code",
   "execution_count": null,
   "id": "600a8e59",
   "metadata": {},
   "outputs": [],
   "source": [
    "sqlCols = ['team_id','ra_fgm','ra_fga','paint_fgm','paint_fga','mid_fgm','mid_fga','lc_fgm','lc_fga','rc_fgm','rc_fga','abv_fgm','abv_fga','bck_fgm','bck_fga','crn_fgm','crn_fga','game_date']\n",
    "sqlOrd = ['team_id','game_date','game_id','ra_fgm','ra_fga','paint_fgm','paint_fga','mid_fgm','mid_fga','lc_fgm','lc_fga','rc_fgm','rc_fga','abv_fgm','abv_fga','bck_fgm','bck_fga','crn_fgm','crn_fga','wide_fg2m','wide_fg2a','wide_fg3m','wide_fg3a','open_fg2m', 'open_fg2a','open_fg3m','open_fg3a','drb0_fg2m','drb0_fg2a','drb0_fg3m','drb0_fg3a','drb1_fg2m','drb1_fg2a','drb1_fg3m', 'drb1_fg3a','drb2_fg2m','drb2_fg2a','drb2_fg3m','drb2_fg3a','drb36_fg2m', 'drb36_fg2a','drb36_fg3m','drb36_fg3a','drb7_fg2m',\n",
    "    'drb7_fg2a','drb7_fg3m','drb7_fg3a']"
   ]
  },
  {
   "cell_type": "code",
   "execution_count": null,
   "id": "85e0ab7a",
   "metadata": {},
   "outputs": [],
   "source": [
    "final.columns"
   ]
  },
  {
   "cell_type": "code",
   "execution_count": null,
   "id": "0cb560a8",
   "metadata": {},
   "outputs": [],
   "source": [
    "paint = final[['TEAM_ID','GAME_DATE','In_The_Paint_(Non_RA)_OPP_FGM','In_The_Paint_(Non_RA)_OPP_FGA']]"
   ]
  },
  {
   "cell_type": "code",
   "execution_count": null,
   "id": "f9a6679e",
   "metadata": {},
   "outputs": [],
   "source": [
    "paint.columns = ['team_id','game_date','paint_fgm','paint_fga']"
   ]
  },
  {
   "cell_type": "code",
   "execution_count": null,
   "id": "7e1a1fde",
   "metadata": {},
   "outputs": [],
   "source": [
    "paint"
   ]
  },
  {
   "cell_type": "code",
   "execution_count": null,
   "id": "e53296d0",
   "metadata": {},
   "outputs": [],
   "source": [
    "sqldf = pd.read_sql('select * from shotsAllowed',nba.conn)"
   ]
  },
  {
   "cell_type": "code",
   "execution_count": null,
   "id": "1539a3f5",
   "metadata": {},
   "outputs": [],
   "source": [
    "paint['team_id'] = paint.team_id.astype(str)"
   ]
  },
  {
   "cell_type": "code",
   "execution_count": null,
   "id": "68e11883",
   "metadata": {},
   "outputs": [],
   "source": [
    "sqldf['team_id']"
   ]
  },
  {
   "cell_type": "code",
   "execution_count": null,
   "id": "3b3e45b1",
   "metadata": {},
   "outputs": [],
   "source": [
    "update = sqldf.merge(paint,how='inner',on=['team_id','game_date'])"
   ]
  },
  {
   "cell_type": "code",
   "execution_count": null,
   "id": "73178df6",
   "metadata": {},
   "outputs": [],
   "source": [
    "nba = bet.nba()"
   ]
  },
  {
   "cell_type": "code",
   "execution_count": null,
   "id": "013dc5fa",
   "metadata": {},
   "outputs": [],
   "source": [
    "nba."
   ]
  },
  {
   "cell_type": "code",
   "execution_count": null,
   "id": "ffd279cf",
   "metadata": {},
   "outputs": [],
   "source": [
    "sqlCols = ['team_id','ra_fgm','ra_fga','paint_fgm','paint_fga','mid_fgm','mid_fga','lc_fgm','lc_fga','rc_fgm','rc_fga','abv_fgm','abv_fga','bck_fgm','bck_fga','crn_fgm','crn_fga','game_date','wide_fg2m','wide_fg2a','wide_fg3m','wide_fg3a','open_fg2m','open_fg2a', 'open_fg3m','open_fg3a','game_id','drb0_fg2m','drb0_fg2a','drb0_fg3m','drb0_fg3a','drb1_fg2m','drb1_fg2a','drb1_fg3m','drb1_fg3a','drb2_fg2m','drb2_fg2a','drb2_fg3m','drb2_fg3a','drb36_fg2m', 'drb36_fg2a', 'drb36_fg3m', 'drb36_fg3a','drb7_fg2m','drb7_fg2a', 'drb7_fg3m','drb7_fg3a']\n",
    "sqlOrd = ['team_id','game_date','game_id','ra_fgm','ra_fga','paint_fgm','paint_fga','mid_fgm','mid_fga','lc_fgm','lc_fga','rc_fgm','rc_fga','abv_fgm','abv_fga','bck_fgm','bck_fga','crn_fgm','crn_fga','wide_fg2m','wide_fg2a','wide_fg3m','wide_fg3a','open_fg2m', 'open_fg2a','open_fg3m','open_fg3a','drb0_fg2m','drb0_fg2a','drb0_fg3m','drb0_fg3a','drb1_fg2m','drb1_fg2a','drb1_fg3m', 'drb1_fg3a','drb2_fg2m','drb2_fg2a','drb2_fg3m','drb2_fg3a','drb36_fg2m', 'drb36_fg2a','drb36_fg3m','drb36_fg3a','drb7_fg2m',\n",
    "'drb7_fg2a','drb7_fg3m','drb7_fg3a']\n",
    "update = update.filter(sqlOrd)"
   ]
  },
  {
   "cell_type": "code",
   "execution_count": null,
   "id": "e3afca63",
   "metadata": {},
   "outputs": [],
   "source": [
    "sqlog = pd.read_sql('select * from playerGameLog',nba.conn)"
   ]
  },
  {
   "cell_type": "code",
   "execution_count": null,
   "id": "0f66b916",
   "metadata": {},
   "outputs": [],
   "source": [
    "temp = sqlog.filter(['player_id', 'team_id', 'game_id','offensiveRating', 'defensiveRating', 'usagePercentage',\n",
    "       'pace', 'possessions', 'team_first', 'game_first', 'oreb',\n",
    "       'oreb_contest', 'oreb_chances', 'oreb_chance_defer', 'avg_oreb_dist',\n",
    "       'dreb', 'dreb_contest', 'dreb_chances', 'dreb_chance_defer',\n",
    "       'avg_dreb_dist', 'ra_fgm', 'ra_fga', 'mid_fgm', 'mid_fga', 'lc_fgm',\n",
    "       'lc_fga', 'rc_fgm', 'rc_fga', 'abv_fgm', 'abv_fga'])"
   ]
  },
  {
   "cell_type": "code",
   "execution_count": null,
   "id": "33c8e49d",
   "metadata": {},
   "outputs": [],
   "source": []
  },
  {
   "cell_type": "code",
   "execution_count": null,
   "id": "6beae128",
   "metadata": {},
   "outputs": [],
   "source": [
    "nba.insert_data(update,'tmShotAllow')"
   ]
  },
  {
   "cell_type": "code",
   "execution_count": null,
   "id": "77b47d7d",
   "metadata": {},
   "outputs": [],
   "source": [
    "nba.get_advanced_box(g)"
   ]
  },
  {
   "cell_type": "code",
   "execution_count": null,
   "id": "f2dfff39",
   "metadata": {},
   "outputs": [],
   "source": [
    "nba.update_player_log(g).columns"
   ]
  },
  {
   "cell_type": "code",
   "execution_count": null,
   "id": "4d90c573",
   "metadata": {},
   "outputs": [],
   "source": [
    "nba.get_logs(g)"
   ]
  },
  {
   "cell_type": "code",
   "execution_count": null,
   "id": "a882a127",
   "metadata": {},
   "outputs": [],
   "source": [
    "seasons =['2017-18','2018-19','2019-20','2020-21','2021-22','2022-23','2023-24']"
   ]
  },
  {
   "cell_type": "code",
   "execution_count": null,
   "id": "532aba66",
   "metadata": {},
   "outputs": [],
   "source": [
    "lg = nba.get_logs(['2017-01-01'],seasons =['2017-18','2018-19','2019-20','2020-21','2021-22','2022-23','2023-24'])"
   ]
  },
  {
   "cell_type": "code",
   "execution_count": null,
   "id": "730b0c98",
   "metadata": {},
   "outputs": [],
   "source": [
    "lg.columns = [x.lower() for x in lg.columns]"
   ]
  },
  {
   "cell_type": "code",
   "execution_count": null,
   "id": "81699fa6",
   "metadata": {},
   "outputs": [],
   "source": [
    "lg['game_date'] = lg.game_date.apply(lambda x:x[:10])"
   ]
  },
  {
   "cell_type": "code",
   "execution_count": null,
   "id": "7fa4312c",
   "metadata": {},
   "outputs": [],
   "source": [
    "lg.player_id = lg.player_id.astype(str)\n",
    "lg.team_id = lg.team_id.astype(str)"
   ]
  },
  {
   "cell_type": "code",
   "execution_count": null,
   "id": "37d1487e",
   "metadata": {},
   "outputs": [],
   "source": [
    "temp.merge(lg,how='inner',on = ['player_id','team_id','game_id'])"
   ]
  },
  {
   "cell_type": "code",
   "execution_count": null,
   "id": "9b8c1cf6",
   "metadata": {},
   "outputs": [],
   "source": [
    "temp"
   ]
  },
  {
   "cell_type": "code",
   "execution_count": null,
   "id": "d392633f",
   "metadata": {},
   "outputs": [],
   "source": [
    "lg"
   ]
  },
  {
   "cell_type": "code",
   "execution_count": null,
   "id": "7b91b8d3",
   "metadata": {},
   "outputs": [],
   "source": [
    "ms = [x for x in lg.game_id.unique() if x not in temp.game_id.unique()]"
   ]
  },
  {
   "cell_type": "code",
   "execution_count": null,
   "id": "3189cb79",
   "metadata": {},
   "outputs": [],
   "source": [
    "lg[lg.game_id.isin(ms)].game_date.unique()"
   ]
  },
  {
   "cell_type": "code",
   "execution_count": null,
   "id": "6d825c3d",
   "metadata": {},
   "outputs": [],
   "source": [
    "len(ms)"
   ]
  },
  {
   "cell_type": "code",
   "execution_count": null,
   "id": "7e966e15",
   "metadata": {},
   "outputs": [],
   "source": [
    "gms = nba.get_games('2017-10-01','2024-05-01')"
   ]
  },
  {
   "cell_type": "code",
   "execution_count": null,
   "id": "69cfcc18",
   "metadata": {},
   "outputs": [],
   "source": [
    "log = nba.get_logs(gms.GAME_DATE.unique(),seasons)"
   ]
  },
  {
   "cell_type": "code",
   "execution_count": null,
   "id": "9675128c",
   "metadata": {},
   "outputs": [],
   "source": [
    "rbs = nba.get_rebounds(gms.GAME_DATE)"
   ]
  },
  {
   "cell_type": "code",
   "execution_count": null,
   "id": "9b4bbeed",
   "metadata": {},
   "outputs": [],
   "source": []
  }
 ],
 "metadata": {
  "kernelspec": {
   "display_name": "Python 3 (ipykernel)",
   "language": "python",
   "name": "python3"
  },
  "language_info": {
   "codemirror_mode": {
    "name": "ipython",
    "version": 3
   },
   "file_extension": ".py",
   "mimetype": "text/x-python",
   "name": "python",
   "nbconvert_exporter": "python",
   "pygments_lexer": "ipython3",
   "version": "3.11.7"
  }
 },
 "nbformat": 4,
 "nbformat_minor": 5
}
