{
 "cells": [
  {
   "cell_type": "code",
   "execution_count": null,
   "id": "f87bbc90-c232-4355-a3dd-26376afa3c8b",
   "metadata": {},
   "outputs": [],
   "source": [
    "%load_ext autoreload\n",
    "%autoreload 2"
   ]
  },
  {
   "cell_type": "code",
   "execution_count": 2,
   "id": "7e277102-6d34-44c7-85e4-ec63c05a78a4",
   "metadata": {},
   "outputs": [],
   "source": [
    "import pandas as pd\n",
    "import numpy as np\n",
    "import sys\n",
    "sys.path.append('..')\n",
    "import bets\n",
    "import os\n",
    "import glob\n",
    "import datetime as dt\n",
    "import time\n",
    "import json\n",
    "import requests\n",
    "from tqdm import tqdm\n",
    "from nba_api.stats.endpoints import leaguegamefinder,BoxScoreSummaryV2"
   ]
  },
  {
   "cell_type": "code",
   "execution_count": 3,
   "id": "11a5f6a3-58be-4020-9136-2c15bd420917",
   "metadata": {},
   "outputs": [],
   "source": [
    "def reload_table(table,filepath=None,data=None):\n",
    "    if data is None:\n",
    "        data = pd.read_sql('SELECT * FROM teams',nba.conn)\n",
    "    try:\n",
    "        nba.conn.execute('DROP TABLE {}'.format(table))\n",
    "        nba.conn.commit()\n",
    "    except:\n",
    "        print('No table to delete, creating {}'.format(table))\n",
    "    if filepath != None:\n",
    "        file = open(filepath,'r').read()\n",
    "        try:\n",
    "            nba.conn.execute(file)\n",
    "        except:\n",
    "            '{} table already exists'.format(table)\n",
    "    nba.insert_data(data,table)"
   ]
  },
  {
   "cell_type": "code",
   "execution_count": 66,
   "id": "a002c5b0-1dda-49e3-87f6-248cfec2c7c2",
   "metadata": {},
   "outputs": [],
   "source": [
    "nba = bets.nba()\n",
    "gids = nba.get_games(nba.get_start_dates()[0],dt.datetime.today().strftime('%Y-%m-%d'))\n",
    "gids['season'] = ['{}-{}'.format(x[:4],int(x[2:4])+1) if int(x[5:7]) > 9 else '{}-{}'.format(int(x[:4])-1,x[2:4]) for x in gids.GAME_DATE]\n",
    "sqlord = ['GAME_ID','GAME_DATE','TEAM_ID','inactive','count_inactive','assistPercentage','offensiveRating','defensiveRating','pace',\n",
    "       'possessions','offensiveReboundPercentage','defensiveReboundPercentage','PTS_2ND_CHANCE',\n",
    "       'PTS_FB', 'TEAM_TURNOVERS', 'PTS_OFF_TO','home','PTS_QTR1', 'PTS_QTR2', 'PTS_QTR3', 'PTS_QTR4', \n",
    "       'PTS_OT1', 'PTS_OT2','PTS_OT3', 'PTS_OT4', 'wins','season']"
   ]
  },
  {
   "cell_type": "markdown",
   "id": "f88e7a1b-859d-4c0d-b1bd-5db38a79044f",
   "metadata": {},
   "source": [
    "After starting to work through views, decided I needed to add season, wins to dataset, added below"
   ]
  },
  {
   "cell_type": "code",
   "execution_count": 79,
   "id": "85a3dab9-1e76-4c09-ae9e-2634966b10f0",
   "metadata": {},
   "outputs": [
    {
     "data": {
      "text/plain": [
       "(16560, 26)"
      ]
     },
     "execution_count": 79,
     "metadata": {},
     "output_type": "execute_result"
    }
   ],
   "source": [
    "files = glob.glob('data/pickle/teamlog*')\n",
    "df = pd.DataFrame()\n",
    "for file in files:\n",
    "    df = pd.concat([df,pd.read_pickle(file)])\n",
    "df = df.merge(gids,how='left', on = ['GAME_ID','TEAM_ID'])\n",
    "df = df.drop_duplicates(subset=['GAME_ID','TEAM_ID'])\n",
    "df['Total'] = df.filter([col for col in df.columns if col.find('PTS_') > -1]).sum(axis=1)\n",
    "df['wins'] = np.where(df.groupby('GAME_ID').Total.transform('max') == df.Total, 1, 0)\n",
    "df.drop(['Total','GAME_DATE'],axis=1,inplace=True)\n",
    "df = df[df.groupby('GAME_ID').TEAM_ID.transform('nunique')==2]\n",
    "df = df.merge(gids,how='left', on =['GAME_ID','TEAM_ID'])\n",
    "addtdf = pd.DataFrame()\n",
    "for pkl in tmpkl:\n",
    "    addtdf = pd.concat([addtdf,pd.read_pickle(pkl)])\n",
    "addtdf = addtdf.drop_duplicates(subset = ['game_id','TEAM_ID']).reset_index(drop=True)\n",
    "addtdf.rename(columns = {'game_id':'GAME_ID'},inplace=True)\n",
    "teamdf  = df.merge(addtdf,how='left',on=['TEAM_ID','GAME_ID'])\n",
    "\n",
    "teamdf.filter(sqlord).shape"
   ]
  },
  {
   "cell_type": "code",
   "execution_count": null,
   "id": "4f847da2-404c-4143-84c7-efff7518e810",
   "metadata": {},
   "outputs": [],
   "source": [
    "gids = ['0022100038',\n",
    " '0021901272',\n",
    " '0022100144',\n",
    " '0021901300',\n",
    " '0021800828',\n",
    " '0022100905',\n",
    " '0022100890',\n",
    " '0022000589',\n",
    " '0021901261']\n",
    "missing  = nba.get_summary(gids)"
   ]
  },
  {
   "cell_type": "code",
   "execution_count": 70,
   "id": "2aa50fc5-a46c-46f1-bff8-09023c4f8e5b",
   "metadata": {},
   "outputs": [
    {
     "name": "stderr",
     "output_type": "stream",
     "text": [
      "/var/folders/29/0dqpwvqj4095gxyj5dkvym7r0000gn/T/ipykernel_95536/2880493318.py:1: FutureWarning: The behavior of DataFrame concatenation with empty or all-NA entries is deprecated. In a future version, this will no longer exclude empty or all-NA columns when determining the result dtypes. To retain the old behavior, exclude the relevant entries before the concat operation.\n",
      "  final = pd.concat([teamdf,missing])\n"
     ]
    }
   ],
   "source": [
    "final = pd.concat([teamdf,missing])"
   ]
  },
  {
   "cell_type": "code",
   "execution_count": 78,
   "id": "101b8597-9328-4d35-8288-b146442ad25c",
   "metadata": {},
   "outputs": [
    {
     "data": {
      "text/html": [
       "<div>\n",
       "<style scoped>\n",
       "    .dataframe tbody tr th:only-of-type {\n",
       "        vertical-align: middle;\n",
       "    }\n",
       "\n",
       "    .dataframe tbody tr th {\n",
       "        vertical-align: top;\n",
       "    }\n",
       "\n",
       "    .dataframe thead th {\n",
       "        text-align: right;\n",
       "    }\n",
       "</style>\n",
       "<table border=\"1\" class=\"dataframe\">\n",
       "  <thead>\n",
       "    <tr style=\"text-align: right;\">\n",
       "      <th></th>\n",
       "      <th>GAME_DATE</th>\n",
       "      <th>TEAM_ID</th>\n",
       "      <th>GAME_ID</th>\n",
       "    </tr>\n",
       "  </thead>\n",
       "  <tbody>\n",
       "    <tr>\n",
       "      <th>0</th>\n",
       "      <td>2024-04-14</td>\n",
       "      <td>1610612762</td>\n",
       "      <td>0022301198</td>\n",
       "    </tr>\n",
       "    <tr>\n",
       "      <th>1</th>\n",
       "      <td>2024-04-14</td>\n",
       "      <td>1610612759</td>\n",
       "      <td>0022301197</td>\n",
       "    </tr>\n",
       "    <tr>\n",
       "      <th>2</th>\n",
       "      <td>2024-04-14</td>\n",
       "      <td>1610612742</td>\n",
       "      <td>0022301196</td>\n",
       "    </tr>\n",
       "    <tr>\n",
       "      <th>3</th>\n",
       "      <td>2024-04-14</td>\n",
       "      <td>1610612755</td>\n",
       "      <td>0022301192</td>\n",
       "    </tr>\n",
       "    <tr>\n",
       "      <th>4</th>\n",
       "      <td>2024-04-14</td>\n",
       "      <td>1610612747</td>\n",
       "      <td>0022301195</td>\n",
       "    </tr>\n",
       "    <tr>\n",
       "      <th>...</th>\n",
       "      <td>...</td>\n",
       "      <td>...</td>\n",
       "      <td>...</td>\n",
       "    </tr>\n",
       "    <tr>\n",
       "      <th>16573</th>\n",
       "      <td>2017-10-18</td>\n",
       "      <td>1610612755</td>\n",
       "      <td>0021700006</td>\n",
       "    </tr>\n",
       "    <tr>\n",
       "      <th>16574</th>\n",
       "      <td>2017-10-17</td>\n",
       "      <td>1610612745</td>\n",
       "      <td>0021700002</td>\n",
       "    </tr>\n",
       "    <tr>\n",
       "      <th>16575</th>\n",
       "      <td>2017-10-17</td>\n",
       "      <td>1610612738</td>\n",
       "      <td>0021700001</td>\n",
       "    </tr>\n",
       "    <tr>\n",
       "      <th>16576</th>\n",
       "      <td>2017-10-17</td>\n",
       "      <td>1610612739</td>\n",
       "      <td>0021700001</td>\n",
       "    </tr>\n",
       "    <tr>\n",
       "      <th>16577</th>\n",
       "      <td>2017-10-17</td>\n",
       "      <td>1610612744</td>\n",
       "      <td>0021700002</td>\n",
       "    </tr>\n",
       "  </tbody>\n",
       "</table>\n",
       "<p>16578 rows × 3 columns</p>\n",
       "</div>"
      ],
      "text/plain": [
       "        GAME_DATE     TEAM_ID     GAME_ID\n",
       "0      2024-04-14  1610612762  0022301198\n",
       "1      2024-04-14  1610612759  0022301197\n",
       "2      2024-04-14  1610612742  0022301196\n",
       "3      2024-04-14  1610612755  0022301192\n",
       "4      2024-04-14  1610612747  0022301195\n",
       "...           ...         ...         ...\n",
       "16573  2017-10-18  1610612755  0021700006\n",
       "16574  2017-10-17  1610612745  0021700002\n",
       "16575  2017-10-17  1610612738  0021700001\n",
       "16576  2017-10-17  1610612739  0021700001\n",
       "16577  2017-10-17  1610612744  0021700002\n",
       "\n",
       "[16578 rows x 3 columns]"
      ]
     },
     "execution_count": 78,
     "metadata": {},
     "output_type": "execute_result"
    }
   ],
   "source": [
    "gids\n",
    "    "
   ]
  },
  {
   "cell_type": "markdown",
   "id": "fbf12a5d-74fa-4b04-9c7e-313f1c3bde74",
   "metadata": {},
   "source": [
    "Check Team Log information\n",
    "1. all non-COVID years should have 1230 unique games (15 * 82) and same number of wins\n",
    "   - somehow some games got messed up, pulled in game dataframe and correctd\n",
    "2. check that all games have two teams (I believe 9 will only have one) - these had teams without inactives, needed to correct join"
   ]
  },
  {
   "cell_type": "code",
   "execution_count": 75,
   "id": "3737cd2c-c233-4140-9071-8927264382e9",
   "metadata": {},
   "outputs": [
    {
     "name": "stdout",
     "output_type": "stream",
     "text": [
      "teamLog has been updated with 16,578 rows\n"
     ]
    }
   ],
   "source": [
    "reload_table('teamLog',filepath='data/sql/createTeamLog.sql',data=final.filter(sqlord))"
   ]
  },
  {
   "cell_type": "code",
   "execution_count": 13,
   "id": "2b0c8f8b-b50d-46f4-ac03-8da8b632fa77",
   "metadata": {},
   "outputs": [
    {
     "data": {
      "text/plain": [
       "Index(['TEAM_ID', 'inactive', 'count_inactive', 'GAME_ID', 'assistPercentage',\n",
       "       'offensiveRating', 'defensiveRating', 'pace', 'possessions',\n",
       "       'offensiveReboundPercentage', 'defensiveReboundPercentage', 'home',\n",
       "       'PTS_QTR1', 'PTS_QTR2', 'PTS_QTR3', 'PTS_QTR4', 'PTS_OT1', 'PTS_OT2',\n",
       "       'PTS_OT3', 'PTS_OT4', 'GAME_DATE', 'season', 'Total', 'wins'],\n",
       "      dtype='object')"
      ]
     },
     "execution_count": 13,
     "metadata": {},
     "output_type": "execute_result"
    }
   ],
   "source": [
    "df.columns"
   ]
  },
  {
   "cell_type": "code",
   "execution_count": 262,
   "id": "fc9c3f67-a18c-4209-916f-1457fd271a1a",
   "metadata": {},
   "outputs": [],
   "source": [
    "df = pd.read_sql(\"select * from teamLog \",nba.conn)"
   ]
  },
  {
   "cell_type": "code",
   "execution_count": 263,
   "id": "8b5238d2-399d-4a5f-8fe8-626f557938d4",
   "metadata": {},
   "outputs": [
    {
     "data": {
      "text/plain": [
       "season\n",
       "2017-18    1230\n",
       "2018-19    1230\n",
       "2019-20    1059\n",
       "2020-21    1080\n",
       "2021-22    1230\n",
       "2022-23    1230\n",
       "2023-24    1230\n",
       "Name: game_id, dtype: int64"
      ]
     },
     "execution_count": 263,
     "metadata": {},
     "output_type": "execute_result"
    }
   ],
   "source": [
    "df.groupby('season').game_id.nunique()"
   ]
  },
  {
   "cell_type": "code",
   "execution_count": 264,
   "id": "1046e1ec-ea73-4425-a24f-a0235fb6f251",
   "metadata": {},
   "outputs": [
    {
     "data": {
      "text/plain": [
       "season\n",
       "2017-18    1230\n",
       "2018-19    1230\n",
       "2019-20    1059\n",
       "2020-21    1080\n",
       "2021-22    1230\n",
       "2022-23    1230\n",
       "2023-24    1230\n",
       "Name: game_id, dtype: int64"
      ]
     },
     "execution_count": 264,
     "metadata": {},
     "output_type": "execute_result"
    }
   ],
   "source": [
    "games.groupby('season').game_id.nunique()"
   ]
  },
  {
   "cell_type": "markdown",
   "id": "4caec39e-7af5-49f6-ae28-615d7b9da7b6",
   "metadata": {},
   "source": [
    "going to check above by going back through the api"
   ]
  },
  {
   "cell_type": "code",
   "execution_count": 296,
   "id": "ba5c577c-27a9-4620-92be-9c4800efd018",
   "metadata": {},
   "outputs": [],
   "source": [
    "tmO = pd.read_sql('''SELECT \n",
    "season, substr(game_date,6,2) as month, teamAbrv as team, rank() OVER(PARTITION BY team_id,season ORDER BY game_date) game_number,\n",
    "count_inactive,\n",
    "possessions,off_rate,\n",
    "win, home,\n",
    "pace, sht.*\n",
    "from teamLog\n",
    "JOIN teams USING (team_id)\n",
    "left join (select team_id,game_id,\n",
    "ra_fgm,ra_fga,mid_fgm,mid_fga,lc_fgm,lc_fga,rc_fgm,rc_fga,abv_fgm ,abv_fga,ftm,fta,\n",
    "oreb,oreb_contest,oreb_chances,oreb_chance_defer,avg_oreb_dist,pfd\n",
    "from plyrLogs\n",
    "group by game_id,team_id) sht USING (team_id,game_id)\n",
    "''',nba.conn)"
   ]
  },
  {
   "cell_type": "code",
   "execution_count": 362,
   "id": "f34eb479-3fa6-4091-bff3-56f4e54aa909",
   "metadata": {},
   "outputs": [
    {
     "data": {
      "text/plain": [
       "Index(['LEAGUE_ID', 'TEAM_ID', 'TEAM_ABBREVIATION', 'TEAM_CITY', 'PTS_PAINT',\n",
       "       'PTS_2ND_CHANCE', 'PTS_FB', 'LARGEST_LEAD', 'LEAD_CHANGES',\n",
       "       'TIMES_TIED', 'TEAM_TURNOVERS', 'TOTAL_TURNOVERS', 'TEAM_REBOUNDS',\n",
       "       'PTS_OFF_TO'],\n",
       "      dtype='object')"
      ]
     },
     "execution_count": 362,
     "metadata": {},
     "output_type": "execute_result"
    }
   ],
   "source": [
    "BoxScoreSummaryV2('0022000072').get_data_frames()[1].columns"
   ]
  },
  {
   "cell_type": "code",
   "execution_count": 353,
   "id": "ff07e1b5-242c-485a-9792-15b42ecb751a",
   "metadata": {},
   "outputs": [
    {
     "data": {
      "text/html": [
       "<div>\n",
       "<style scoped>\n",
       "    .dataframe tbody tr th:only-of-type {\n",
       "        vertical-align: middle;\n",
       "    }\n",
       "\n",
       "    .dataframe tbody tr th {\n",
       "        vertical-align: top;\n",
       "    }\n",
       "\n",
       "    .dataframe thead th {\n",
       "        text-align: right;\n",
       "    }\n",
       "</style>\n",
       "<table border=\"1\" class=\"dataframe\">\n",
       "  <thead>\n",
       "    <tr style=\"text-align: right;\">\n",
       "      <th></th>\n",
       "      <th>game_id</th>\n",
       "      <th>game_date</th>\n",
       "      <th>team_id</th>\n",
       "      <th>inactive</th>\n",
       "      <th>count_inactive</th>\n",
       "      <th>assist_pct</th>\n",
       "      <th>off_rate</th>\n",
       "      <th>def_rate</th>\n",
       "      <th>pace</th>\n",
       "      <th>possessions</th>\n",
       "      <th>...</th>\n",
       "      <th>q1_pts</th>\n",
       "      <th>q2_pts</th>\n",
       "      <th>q3_pts</th>\n",
       "      <th>q4_pts</th>\n",
       "      <th>ot1_pts</th>\n",
       "      <th>ot2_pts</th>\n",
       "      <th>ot3_pts</th>\n",
       "      <th>ot4_pts</th>\n",
       "      <th>win</th>\n",
       "      <th>season</th>\n",
       "    </tr>\n",
       "  </thead>\n",
       "  <tbody>\n",
       "    <tr>\n",
       "      <th>0</th>\n",
       "      <td>0022000072</td>\n",
       "      <td>2021-01-01</td>\n",
       "      <td>1610612737</td>\n",
       "      <td>200765,203503,1627739,1630168</td>\n",
       "      <td>4.0</td>\n",
       "      <td>0.558</td>\n",
       "      <td>115.2</td>\n",
       "      <td>96.0</td>\n",
       "      <td>99.5</td>\n",
       "      <td>99</td>\n",
       "      <td>...</td>\n",
       "      <td>29</td>\n",
       "      <td>32</td>\n",
       "      <td>28</td>\n",
       "      <td>25</td>\n",
       "      <td>NaN</td>\n",
       "      <td>NaN</td>\n",
       "      <td>NaN</td>\n",
       "      <td>NaN</td>\n",
       "      <td>1</td>\n",
       "      <td>2020-21</td>\n",
       "    </tr>\n",
       "    <tr>\n",
       "      <th>1</th>\n",
       "      <td>0022000072</td>\n",
       "      <td>2021-01-01</td>\n",
       "      <td>1610612751</td>\n",
       "      <td>1629651,203915</td>\n",
       "      <td>2.0</td>\n",
       "      <td>0.543</td>\n",
       "      <td>96.0</td>\n",
       "      <td>115.2</td>\n",
       "      <td>99.5</td>\n",
       "      <td>100</td>\n",
       "      <td>...</td>\n",
       "      <td>23</td>\n",
       "      <td>29</td>\n",
       "      <td>21</td>\n",
       "      <td>23</td>\n",
       "      <td>NaN</td>\n",
       "      <td>NaN</td>\n",
       "      <td>NaN</td>\n",
       "      <td>NaN</td>\n",
       "      <td>0</td>\n",
       "      <td>2020-21</td>\n",
       "    </tr>\n",
       "    <tr>\n",
       "      <th>2</th>\n",
       "      <td>0021900432</td>\n",
       "      <td>2019-12-21</td>\n",
       "      <td>1610612741</td>\n",
       "      <td>203490,1629690,1628990,1626245,1629622</td>\n",
       "      <td>5.0</td>\n",
       "      <td>0.525</td>\n",
       "      <td>119.0</td>\n",
       "      <td>108.1</td>\n",
       "      <td>99.5</td>\n",
       "      <td>100</td>\n",
       "      <td>...</td>\n",
       "      <td>25</td>\n",
       "      <td>28</td>\n",
       "      <td>40</td>\n",
       "      <td>26</td>\n",
       "      <td>NaN</td>\n",
       "      <td>NaN</td>\n",
       "      <td>NaN</td>\n",
       "      <td>NaN</td>\n",
       "      <td>1</td>\n",
       "      <td>2019-20</td>\n",
       "    </tr>\n",
       "    <tr>\n",
       "      <th>3</th>\n",
       "      <td>0021900432</td>\n",
       "      <td>2019-12-21</td>\n",
       "      <td>1610612765</td>\n",
       "      <td>202704,201933,1629663,1629648,1626174,1629017</td>\n",
       "      <td>6.0</td>\n",
       "      <td>0.750</td>\n",
       "      <td>108.1</td>\n",
       "      <td>119.0</td>\n",
       "      <td>99.5</td>\n",
       "      <td>99</td>\n",
       "      <td>...</td>\n",
       "      <td>28</td>\n",
       "      <td>31</td>\n",
       "      <td>30</td>\n",
       "      <td>18</td>\n",
       "      <td>NaN</td>\n",
       "      <td>NaN</td>\n",
       "      <td>NaN</td>\n",
       "      <td>NaN</td>\n",
       "      <td>0</td>\n",
       "      <td>2019-20</td>\n",
       "    </tr>\n",
       "    <tr>\n",
       "      <th>4</th>\n",
       "      <td>0022100859</td>\n",
       "      <td>2022-02-14</td>\n",
       "      <td>1610612751</td>\n",
       "      <td>201142,1627732,203925,202681</td>\n",
       "      <td>4.0</td>\n",
       "      <td>0.581</td>\n",
       "      <td>105.8</td>\n",
       "      <td>82.5</td>\n",
       "      <td>103.0</td>\n",
       "      <td>103</td>\n",
       "      <td>...</td>\n",
       "      <td>35</td>\n",
       "      <td>20</td>\n",
       "      <td>25</td>\n",
       "      <td>29</td>\n",
       "      <td>NaN</td>\n",
       "      <td>NaN</td>\n",
       "      <td>NaN</td>\n",
       "      <td>NaN</td>\n",
       "      <td>1</td>\n",
       "      <td>2021-22</td>\n",
       "    </tr>\n",
       "    <tr>\n",
       "      <th>...</th>\n",
       "      <td>...</td>\n",
       "      <td>...</td>\n",
       "      <td>...</td>\n",
       "      <td>...</td>\n",
       "      <td>...</td>\n",
       "      <td>...</td>\n",
       "      <td>...</td>\n",
       "      <td>...</td>\n",
       "      <td>...</td>\n",
       "      <td>...</td>\n",
       "      <td>...</td>\n",
       "      <td>...</td>\n",
       "      <td>...</td>\n",
       "      <td>...</td>\n",
       "      <td>...</td>\n",
       "      <td>...</td>\n",
       "      <td>...</td>\n",
       "      <td>...</td>\n",
       "      <td>...</td>\n",
       "      <td>...</td>\n",
       "      <td>...</td>\n",
       "    </tr>\n",
       "    <tr>\n",
       "      <th>16573</th>\n",
       "      <td>0022100890</td>\n",
       "      <td>2022-02-24</td>\n",
       "      <td>1610612738</td>\n",
       "      <td>None</td>\n",
       "      <td>NaN</td>\n",
       "      <td>0.609</td>\n",
       "      <td>125.2</td>\n",
       "      <td>101.0</td>\n",
       "      <td>104.0</td>\n",
       "      <td>103</td>\n",
       "      <td>...</td>\n",
       "      <td>35</td>\n",
       "      <td>32</td>\n",
       "      <td>30</td>\n",
       "      <td>32</td>\n",
       "      <td>NaN</td>\n",
       "      <td>NaN</td>\n",
       "      <td>NaN</td>\n",
       "      <td>NaN</td>\n",
       "      <td>1</td>\n",
       "      <td>2021-22</td>\n",
       "    </tr>\n",
       "    <tr>\n",
       "      <th>16574</th>\n",
       "      <td>0022000589</td>\n",
       "      <td>2021-03-13</td>\n",
       "      <td>1610612764</td>\n",
       "      <td>1628418,202397</td>\n",
       "      <td>2.0</td>\n",
       "      <td>0.581</td>\n",
       "      <td>105.3</td>\n",
       "      <td>110.6</td>\n",
       "      <td>113.0</td>\n",
       "      <td>113</td>\n",
       "      <td>...</td>\n",
       "      <td>33</td>\n",
       "      <td>32</td>\n",
       "      <td>30</td>\n",
       "      <td>24</td>\n",
       "      <td>NaN</td>\n",
       "      <td>NaN</td>\n",
       "      <td>NaN</td>\n",
       "      <td>NaN</td>\n",
       "      <td>0</td>\n",
       "      <td>2020-21</td>\n",
       "    </tr>\n",
       "    <tr>\n",
       "      <th>16575</th>\n",
       "      <td>0022000589</td>\n",
       "      <td>2021-03-13</td>\n",
       "      <td>1610612749</td>\n",
       "      <td>None</td>\n",
       "      <td>NaN</td>\n",
       "      <td>0.767</td>\n",
       "      <td>110.6</td>\n",
       "      <td>105.3</td>\n",
       "      <td>113.0</td>\n",
       "      <td>113</td>\n",
       "      <td>...</td>\n",
       "      <td>36</td>\n",
       "      <td>28</td>\n",
       "      <td>30</td>\n",
       "      <td>31</td>\n",
       "      <td>NaN</td>\n",
       "      <td>NaN</td>\n",
       "      <td>NaN</td>\n",
       "      <td>NaN</td>\n",
       "      <td>1</td>\n",
       "      <td>2020-21</td>\n",
       "    </tr>\n",
       "    <tr>\n",
       "      <th>16576</th>\n",
       "      <td>0021901261</td>\n",
       "      <td>2020-08-04</td>\n",
       "      <td>1610612757</td>\n",
       "      <td>None</td>\n",
       "      <td>NaN</td>\n",
       "      <td>0.462</td>\n",
       "      <td>106.8</td>\n",
       "      <td>100.0</td>\n",
       "      <td>102.5</td>\n",
       "      <td>103</td>\n",
       "      <td>...</td>\n",
       "      <td>29</td>\n",
       "      <td>32</td>\n",
       "      <td>25</td>\n",
       "      <td>24</td>\n",
       "      <td>NaN</td>\n",
       "      <td>NaN</td>\n",
       "      <td>NaN</td>\n",
       "      <td>NaN</td>\n",
       "      <td>1</td>\n",
       "      <td>2019-20</td>\n",
       "    </tr>\n",
       "    <tr>\n",
       "      <th>16577</th>\n",
       "      <td>0021901261</td>\n",
       "      <td>2020-08-04</td>\n",
       "      <td>1610612745</td>\n",
       "      <td>201569,203998</td>\n",
       "      <td>2.0</td>\n",
       "      <td>0.706</td>\n",
       "      <td>100.0</td>\n",
       "      <td>106.8</td>\n",
       "      <td>102.5</td>\n",
       "      <td>102</td>\n",
       "      <td>...</td>\n",
       "      <td>24</td>\n",
       "      <td>32</td>\n",
       "      <td>24</td>\n",
       "      <td>22</td>\n",
       "      <td>NaN</td>\n",
       "      <td>NaN</td>\n",
       "      <td>NaN</td>\n",
       "      <td>NaN</td>\n",
       "      <td>0</td>\n",
       "      <td>2019-20</td>\n",
       "    </tr>\n",
       "  </tbody>\n",
       "</table>\n",
       "<p>16578 rows × 23 columns</p>\n",
       "</div>"
      ],
      "text/plain": [
       "          game_id   game_date     team_id  \\\n",
       "0      0022000072  2021-01-01  1610612737   \n",
       "1      0022000072  2021-01-01  1610612751   \n",
       "2      0021900432  2019-12-21  1610612741   \n",
       "3      0021900432  2019-12-21  1610612765   \n",
       "4      0022100859  2022-02-14  1610612751   \n",
       "...           ...         ...         ...   \n",
       "16573  0022100890  2022-02-24  1610612738   \n",
       "16574  0022000589  2021-03-13  1610612764   \n",
       "16575  0022000589  2021-03-13  1610612749   \n",
       "16576  0021901261  2020-08-04  1610612757   \n",
       "16577  0021901261  2020-08-04  1610612745   \n",
       "\n",
       "                                            inactive  count_inactive  \\\n",
       "0                      200765,203503,1627739,1630168             4.0   \n",
       "1                                     1629651,203915             2.0   \n",
       "2             203490,1629690,1628990,1626245,1629622             5.0   \n",
       "3      202704,201933,1629663,1629648,1626174,1629017             6.0   \n",
       "4                       201142,1627732,203925,202681             4.0   \n",
       "...                                              ...             ...   \n",
       "16573                                           None             NaN   \n",
       "16574                                 1628418,202397             2.0   \n",
       "16575                                           None             NaN   \n",
       "16576                                           None             NaN   \n",
       "16577                                  201569,203998             2.0   \n",
       "\n",
       "       assist_pct  off_rate  def_rate   pace  possessions  ...  q1_pts  \\\n",
       "0           0.558     115.2      96.0   99.5           99  ...      29   \n",
       "1           0.543      96.0     115.2   99.5          100  ...      23   \n",
       "2           0.525     119.0     108.1   99.5          100  ...      25   \n",
       "3           0.750     108.1     119.0   99.5           99  ...      28   \n",
       "4           0.581     105.8      82.5  103.0          103  ...      35   \n",
       "...           ...       ...       ...    ...          ...  ...     ...   \n",
       "16573       0.609     125.2     101.0  104.0          103  ...      35   \n",
       "16574       0.581     105.3     110.6  113.0          113  ...      33   \n",
       "16575       0.767     110.6     105.3  113.0          113  ...      36   \n",
       "16576       0.462     106.8     100.0  102.5          103  ...      29   \n",
       "16577       0.706     100.0     106.8  102.5          102  ...      24   \n",
       "\n",
       "       q2_pts  q3_pts  q4_pts  ot1_pts  ot2_pts  ot3_pts  ot4_pts  win  \\\n",
       "0          32      28      25      NaN      NaN      NaN      NaN    1   \n",
       "1          29      21      23      NaN      NaN      NaN      NaN    0   \n",
       "2          28      40      26      NaN      NaN      NaN      NaN    1   \n",
       "3          31      30      18      NaN      NaN      NaN      NaN    0   \n",
       "4          20      25      29      NaN      NaN      NaN      NaN    1   \n",
       "...       ...     ...     ...      ...      ...      ...      ...  ...   \n",
       "16573      32      30      32      NaN      NaN      NaN      NaN    1   \n",
       "16574      32      30      24      NaN      NaN      NaN      NaN    0   \n",
       "16575      28      30      31      NaN      NaN      NaN      NaN    1   \n",
       "16576      32      25      24      NaN      NaN      NaN      NaN    1   \n",
       "16577      32      24      22      NaN      NaN      NaN      NaN    0   \n",
       "\n",
       "        season  \n",
       "0      2020-21  \n",
       "1      2020-21  \n",
       "2      2019-20  \n",
       "3      2019-20  \n",
       "4      2021-22  \n",
       "...        ...  \n",
       "16573  2021-22  \n",
       "16574  2020-21  \n",
       "16575  2020-21  \n",
       "16576  2019-20  \n",
       "16577  2019-20  \n",
       "\n",
       "[16578 rows x 23 columns]"
      ]
     },
     "execution_count": 353,
     "metadata": {},
     "output_type": "execute_result"
    }
   ],
   "source": [
    "pd.read_sql('select * from teamLog',nba.conn)"
   ]
  },
  {
   "cell_type": "code",
   "execution_count": 302,
   "id": "5e7db2b9-e13f-4c5d-a2a6-5ad4cd347db2",
   "metadata": {},
   "outputs": [],
   "source": [
    "tmD = pd.read_sql('''select \n",
    "season, substr(sht.game_date,6,2) as month, teamAbrv as team, rank() OVER(PARTITION BY team_id,season ORDER BY sht.game_date) game_number,\n",
    "count_inactive,def_rate,\n",
    "pace * 2 - possessions as possessionsAllowed,\n",
    "win, home, sht.*\n",
    "from  shotsAllowed sht\n",
    "JOIN teamLog log USING (team_id,game_id)\n",
    "JOIN teams tms USING (team_id)\n",
    "left join (select team_id,game_id,\n",
    "dreb,dreb_contest,dreb_chances,dreb_chance_defer,avg_dreb_dist,pf\n",
    "from plyrLogs\n",
    "group by game_id,team_id) ply USING (game_id,team_id)\n",
    "\n",
    "''',nba.conn)"
   ]
  },
  {
   "cell_type": "code",
   "execution_count": 383,
   "id": "c28aa719-c466-4995-87c2-b2c3bdcdf41c",
   "metadata": {},
   "outputs": [],
   "source": [
    "fgids = pd.read_pickle('data/pickle/addt_teamlog.pkl').game_id.values"
   ]
  },
  {
   "cell_type": "code",
   "execution_count": 386,
   "id": "cb8b0b74-a786-4b86-a4c1-4c6553b32f5d",
   "metadata": {},
   "outputs": [],
   "source": [
    "remain = [x for x in games.game_id.unique() if x not in fgids]"
   ]
  },
  {
   "cell_type": "code",
   "execution_count": 388,
   "id": "3d6dccdd-e143-46cc-8a2c-2206e0199b2d",
   "metadata": {},
   "outputs": [
    {
     "data": {
      "text/plain": [
       "1863"
      ]
     },
     "execution_count": 388,
     "metadata": {},
     "output_type": "execute_result"
    }
   ],
   "source": [
    "len(remain)"
   ]
  },
  {
   "cell_type": "code",
   "execution_count": 392,
   "id": "77837364-b63c-4af6-89b3-d20b23c191c3",
   "metadata": {},
   "outputs": [
    {
     "name": "stderr",
     "output_type": "stream",
     "text": [
      "100%|█████████████████████████████████████████████████████████████████████████████████████| 1863/1863 [45:03<00:00,  1.45s/it]\n"
     ]
    }
   ],
   "source": [
    "df = pd.DataFrame()\n",
    "for ct,gid in enumerate(tqdm(remain)):\n",
    "    temp = BoxScoreSummaryV2(gid).get_data_frames()[1][['TEAM_ID','PTS_2ND_CHANCE','PTS_FB','TEAM_TURNOVERS','PTS_OFF_TO']]\n",
    "    temp['game_id'] = gid\n",
    "    if ct % 25 == 0:\n",
    "        time.sleep(np.random.choice(range(2,10)))\n",
    "    df = pd.concat([df,temp])\n",
    "    df.to_pickle('data/pickle/addt_teamlog_1.pkl')\n",
    "    if  ct % 250 == 0 and ct != 0:\n",
    "        time.sleep(120 + np.random.choice(range(10,60)))\n",
    "    "
   ]
  },
  {
   "cell_type": "code",
   "execution_count": 479,
   "id": "75c895ab-f61f-41e5-bdce-b57f3c648a84",
   "metadata": {},
   "outputs": [
    {
     "data": {
      "text/plain": [
       "Index(['game_id', 'game_date', 'team_id', 'inactive', 'count_inactive',\n",
       "       'assist_pct', 'off_rate', 'def_rate', 'pace', 'possessions',\n",
       "       'off_reb_pct', 'def_reb_pct', 'home', 'q1_pts', 'q2_pts', 'q3_pts',\n",
       "       'q4_pts', 'ot1_pts', 'ot2_pts', 'ot3_pts', 'ot4_pts', 'win', 'season'],\n",
       "      dtype='object')"
      ]
     },
     "execution_count": 479,
     "metadata": {},
     "output_type": "execute_result"
    }
   ],
   "source": [
    " tml.columns"
   ]
  },
  {
   "cell_type": "code",
   "execution_count": 488,
   "id": "dc6330af-87e2-4ecd-9412-695ec159570a",
   "metadata": {},
   "outputs": [],
   "source": [
    "colord = ['game_id', 'game_date', 'team_id', 'inactive', 'count_inactive','assist_pct', 'off_rate', 'def_rate',\n",
    " 'pace', 'possessions','off_reb_pct', 'def_reb_pct', 'home', 'pts_2nd_chance','pts_fb','team_turnonvers','pts_off_to','home'\n",
    " 'q1_pts', 'q2_pts', 'q3_pts','q4_pts', 'ot1_pts', 'ot2_pts', 'ot3_pts', 'ot4_pts', 'win', 'season']"
   ]
  },
  {
   "cell_type": "code",
   "execution_count": 489,
   "id": "26b43756-c795-45a2-8d34-e7f50b90c197",
   "metadata": {},
   "outputs": [],
   "source": [
    "df0 = pd.read_pickle('data/pickle/addt_teamlog.pkl')\n",
    "df1 = pd.read_pickle('data/pickle/addt_teamlog_1.pkl')\n",
    "final  = pd.concat([df0,df1]).reset_index(drop=True)\n",
    "final.columns = [col.lower() for col in final.columns]\n",
    "final['team_id'] = final.team_id.astype(str)"
   ]
  },
  {
   "cell_type": "code",
   "execution_count": 490,
   "id": "e34bb4e0-4112-4c43-8904-ec780894cb71",
   "metadata": {},
   "outputs": [],
   "source": [
    "tml = pd.read_sql('select * from teamLog',nba.conn)"
   ]
  },
  {
   "cell_type": "code",
   "execution_count": 491,
   "id": "33f97184-4e18-410c-9ab7-652f3f834946",
   "metadata": {},
   "outputs": [],
   "source": [
    "updf = tml.merge(final,how='left',on=['game_id','team_id']).filter(colord)"
   ]
  },
  {
   "cell_type": "code",
   "execution_count": 492,
   "id": "d49880f9-fe7d-490f-be5c-33f6755fcb4c",
   "metadata": {},
   "outputs": [
    {
     "name": "stdout",
     "output_type": "stream",
     "text": [
      "teamLog has been updated with 0 rows\n"
     ]
    }
   ],
   "source": [
    "reload_table('teamLog',filepath = 'data/sql/createTeamLog.sql',data = updf)"
   ]
  },
  {
   "cell_type": "code",
   "execution_count": 494,
   "id": "6c649360-61a8-4107-95be-88249aea3f09",
   "metadata": {},
   "outputs": [
    {
     "data": {
      "text/html": [
       "<div>\n",
       "<style scoped>\n",
       "    .dataframe tbody tr th:only-of-type {\n",
       "        vertical-align: middle;\n",
       "    }\n",
       "\n",
       "    .dataframe tbody tr th {\n",
       "        vertical-align: top;\n",
       "    }\n",
       "\n",
       "    .dataframe thead th {\n",
       "        text-align: right;\n",
       "    }\n",
       "</style>\n",
       "<table border=\"1\" class=\"dataframe\">\n",
       "  <thead>\n",
       "    <tr style=\"text-align: right;\">\n",
       "      <th></th>\n",
       "      <th>game_id</th>\n",
       "      <th>game_date</th>\n",
       "      <th>team_id</th>\n",
       "      <th>inactive</th>\n",
       "      <th>count_inactive</th>\n",
       "      <th>assist_pct</th>\n",
       "      <th>off_rate</th>\n",
       "      <th>def_rate</th>\n",
       "      <th>pace</th>\n",
       "      <th>possessions</th>\n",
       "      <th>...</th>\n",
       "      <th>q1_pts</th>\n",
       "      <th>q2_pts</th>\n",
       "      <th>q3_pts</th>\n",
       "      <th>q4_pts</th>\n",
       "      <th>ot1_pts</th>\n",
       "      <th>ot2_pts</th>\n",
       "      <th>ot3_pts</th>\n",
       "      <th>ot4_pts</th>\n",
       "      <th>win</th>\n",
       "      <th>season</th>\n",
       "    </tr>\n",
       "  </thead>\n",
       "  <tbody>\n",
       "  </tbody>\n",
       "</table>\n",
       "<p>0 rows × 27 columns</p>\n",
       "</div>"
      ],
      "text/plain": [
       "Empty DataFrame\n",
       "Columns: [game_id, game_date, team_id, inactive, count_inactive, assist_pct, off_rate, def_rate, pace, possessions, off_reb_pct, def_reb_pct, second_pts, fastb_pts, tm_to, to_pts, home, q1_pts, q2_pts, q3_pts, q4_pts, ot1_pts, ot2_pts, ot3_pts, ot4_pts, win, season]\n",
       "Index: []\n",
       "\n",
       "[0 rows x 27 columns]"
      ]
     },
     "execution_count": 494,
     "metadata": {},
     "output_type": "execute_result"
    }
   ],
   "source": [
    "tml"
   ]
  },
  {
   "cell_type": "code",
   "execution_count": 34,
   "id": "965c6cb6-0028-4496-9802-0ab9165e07f5",
   "metadata": {},
   "outputs": [],
   "source": [
    "addtpkl = glob.glob('data/pickle/*addt_teamlog*')"
   ]
  },
  {
   "cell_type": "code",
   "execution_count": 33,
   "id": "fed97932-ef2b-4eb3-9e70-24025c5dd438",
   "metadata": {},
   "outputs": [
    {
     "data": {
      "text/plain": [
       "['data/pickle/addt_teamlog_1.pkl', 'data/pickle/addt_teamlog.pkl']"
      ]
     },
     "execution_count": 33,
     "metadata": {},
     "output_type": "execute_result"
    }
   ],
   "source": [
    "tmpkl"
   ]
  },
  {
   "cell_type": "code",
   "execution_count": 45,
   "id": "401ea895-427f-4dc2-9962-1cec6bc6f2fa",
   "metadata": {},
   "outputs": [],
   "source": []
  },
  {
   "cell_type": "code",
   "execution_count": null,
   "id": "4ae57bc3-5eed-478d-9022-69c0a8b42e7a",
   "metadata": {},
   "outputs": [],
   "source": []
  }
 ],
 "metadata": {
  "kernelspec": {
   "display_name": "Python 3 (ipykernel)",
   "language": "python",
   "name": "python3"
  },
  "language_info": {
   "codemirror_mode": {
    "name": "ipython",
    "version": 3
   },
   "file_extension": ".py",
   "mimetype": "text/x-python",
   "name": "python",
   "nbconvert_exporter": "python",
   "pygments_lexer": "ipython3",
   "version": "3.11.7"
  }
 },
 "nbformat": 4,
 "nbformat_minor": 5
}
