{
 "cells": [
  {
   "cell_type": "code",
   "execution_count": 1,
   "id": "f87bbc90-c232-4355-a3dd-26376afa3c8b",
   "metadata": {},
   "outputs": [],
   "source": [
    "%load_ext autoreload\n",
    "%autoreload 2"
   ]
  },
  {
   "cell_type": "code",
   "execution_count": 2,
   "id": "7e277102-6d34-44c7-85e4-ec63c05a78a4",
   "metadata": {},
   "outputs": [],
   "source": [
    "import pandas as pd\n",
    "import numpy as np\n",
    "import sys\n",
    "sys.path.append('..')\n",
    "import bets\n",
    "import os\n",
    "import glob\n",
    "import datetime as dt\n",
    "import time\n",
    "#import ot\n",
    "import json\n",
    "import requests\n",
    "import statsmodels.api as sm \n",
    "from tqdm import tqdm\n",
    "pd.set_option('display.float_format', lambda x: '%.3f' % x)\n",
    "nba = bets.nba()\n",
    "import seaborn as sns\n",
    "import matplotlib.pyplot as plt\n",
    "import re\n",
    "from warnings import simplefilter\n",
    "simplefilter(action=\"ignore\", category=pd.errors.PerformanceWarning)\n",
    "from nba_api.stats.endpoints import leaguegamefinder,BoxScoreSummaryV2,LeagueDashOppPtShot,PlayerProfileV2,GameRotation"
   ]
  },
  {
   "cell_type": "code",
   "execution_count": null,
   "id": "48df8dd2-7fb9-49d5-810d-e4298504c312",
   "metadata": {},
   "outputs": [],
   "source": [
    "temp = GameRotation('0021700003').get_data_frames()"
   ]
  },
  {
   "cell_type": "code",
   "execution_count": null,
   "id": "67afc4f8-c82f-4050-9b56-0c05b4e3afb4",
   "metadata": {},
   "outputs": [],
   "source": [
    "game_ids = pd.read_sql('select game_id from teamLog',nba.conn).values.flatten()"
   ]
  },
  {
   "cell_type": "code",
   "execution_count": null,
   "id": "d7810d8c-934f-48c3-9e8f-fc3370fd7721",
   "metadata": {},
   "outputs": [],
   "source": [
    "temp[0][temp[0].IN_TIME_REAL==0].PERSON_ID.values"
   ]
  },
  {
   "cell_type": "code",
   "execution_count": null,
   "id": "89644cc8-1a19-40c6-9b85-71f2d4325876",
   "metadata": {},
   "outputs": [],
   "source": [
    "test = pd.concat(temp)"
   ]
  },
  {
   "cell_type": "code",
   "execution_count": null,
   "id": "ac914665-2fe1-45c4-97e4-fb6f048f85d4",
   "metadata": {},
   "outputs": [],
   "source": []
  },
  {
   "cell_type": "code",
   "execution_count": null,
   "id": "055dc44c-4674-4152-b13d-fef0219da360",
   "metadata": {},
   "outputs": [],
   "source": [
    "len(game_ids)"
   ]
  },
  {
   "cell_type": "code",
   "execution_count": null,
   "id": "05eabceb-752b-4e04-acaf-870fe2ae3020",
   "metadata": {},
   "outputs": [],
   "source": [
    "d = {}\n",
    "missing = []\n",
    "for idx,gid in enumerate(tqdm(game_ids)):\n",
    "    try:\n",
    "        temp = pd.concat(GameRotation(gid).get_data_frames())\n",
    "        d[gid] = temp[temp.IN_TIME_REAL==0].PERSON_ID.values.tolist()\n",
    "    except:\n",
    "        missing.append(gid)\n",
    "    if idx % 200 == 0:\n",
    "        time.sleep(np.random.choice(range(25,45)))\n",
    "    "
   ]
  },
  {
   "cell_type": "code",
   "execution_count": null,
   "id": "dd8738cf-cc10-4fd5-aac1-391ac64449a9",
   "metadata": {},
   "outputs": [],
   "source": [
    "len(missing)"
   ]
  },
  {
   "cell_type": "code",
   "execution_count": null,
   "id": "4d57225f-536c-4b1f-a4c0-d8c7b5c63b60",
   "metadata": {},
   "outputs": [],
   "source": [
    "nba.conn.execute('ALTER TABLE plyrLogs ADD COLUMN Starter int;')\n",
    "nba.conn.commit()"
   ]
  },
  {
   "cell_type": "code",
   "execution_count": null,
   "id": "11a5f6a3-58be-4020-9136-2c15bd420917",
   "metadata": {},
   "outputs": [],
   "source": [
    "def reload_table(table,filepath=None,data=None):\n",
    "   \n",
    "    try:\n",
    "        nba.conn.execute('DROP TABLE {}'.format(table))\n",
    "        nba.conn.commit()\n",
    "    except:\n",
    "        print('No table to delete, creating {}'.format(table))\n",
    "    if filepath != None:\n",
    "        file = open(filepath,'r').read()\n",
    "        try:\n",
    "            nba.conn.execute(file)\n",
    "        except:\n",
    "            '{} table already exists'.format(table)\n",
    "    nba.insert_data(data,table)"
   ]
  },
  {
   "cell_type": "markdown",
   "id": "7981763c",
   "metadata": {},
   "source": [
    "#### EDA"
   ]
  },
  {
   "cell_type": "markdown",
   "id": "09a8f684",
   "metadata": {},
   "source": [
    "What do we want to know:\n",
    "- Team info\n",
    "    1. home court advantage?\n",
    "    2. what is the proportion of games that win by 6+/11+/15+/26+/31+\n",
    "    3. quarter win distributions\n",
    "    4. rest, will need rest since last game, number of games in 3/4/5 nights\n",
    "    "
   ]
  },
  {
   "cell_type": "code",
   "execution_count": null,
   "id": "e0ad21b5-c418-4fac-bdfd-6ddac46628fe",
   "metadata": {},
   "outputs": [],
   "source": [
    "## What do games spreads look like 6/11/26 point victories - landmarks in espn"
   ]
  },
  {
   "cell_type": "code",
   "execution_count": null,
   "id": "26dcf2e6-42ed-4be5-b4d1-7921511eec7b",
   "metadata": {},
   "outputs": [],
   "source": [
    "tm = pd.read_sql('select * from team_game',nba.conn)"
   ]
  },
  {
   "cell_type": "code",
   "execution_count": null,
   "id": "2528959d-9414-46c2-9306-b186167c1047",
   "metadata": {},
   "outputs": [],
   "source": [
    "tm['ptDiff'] = tm.game_points_scored - tm.points_allowed"
   ]
  },
  {
   "cell_type": "code",
   "execution_count": null,
   "id": "de1327fb-4367-4cfa-b5d0-330a52973aec",
   "metadata": {},
   "outputs": [],
   "source": [
    "tm[tm.ptDiff >= 1].ptDiff.describe([x/100 for x in range(10,110,10)])"
   ]
  },
  {
   "cell_type": "code",
   "execution_count": null,
   "id": "4584f4a2-fe18-4850-a3b2-9eee4b3a0f28",
   "metadata": {},
   "outputs": [],
   "source": [
    "for season in tm.season.unique():\n",
    "    print(season)\n",
    "    df = tm[(tm.ptDiff>0) & (tm.season==season)]\n",
    "    print(df.ptDiff.describe([x/100 for x in range(10,110,10)]))\n",
    "    sns.ecdfplot(df.ptDiff)\n",
    "    plt.vlines(x=df.ptDiff.mean(),ymin=0,ymax=1,colors='red')\n",
    "    plt.show()"
   ]
  },
  {
   "cell_type": "code",
   "execution_count": null,
   "id": "223cfb8f-bc88-4e7b-b03e-be8487a4c8a3",
   "metadata": {},
   "outputs": [],
   "source": [
    "#what does \n",
    "def pyth_win_exp(pf,pa):\n",
    "    return np.round(pf ** 16.5 / (pf ** 16.5 + pa ** 16.5),3)"
   ]
  },
  {
   "cell_type": "code",
   "execution_count": null,
   "id": "79e88e05-14b2-4db9-9820-35ebd313f833",
   "metadata": {},
   "outputs": [],
   "source": [
    "f20 = tm[tm.game_number < 20]\n",
    "f20wins = f20.groupby(['season','team']).win.value_counts(normalize=True).reset_index(name='wperc')\n",
    "f20wins = f20wins[f20wins.win==1].drop('win',axis=1)"
   ]
  },
  {
   "cell_type": "code",
   "execution_count": null,
   "id": "66daa320-6676-4200-974b-5239ee790998",
   "metadata": {},
   "outputs": [],
   "source": [
    "pyth = pyth_win_exp(f20.groupby(['season','team']).game_points_scored.sum(), f20.groupby(['season','team']).points_allowed.sum()).reset_index(name='pythPerc')"
   ]
  },
  {
   "cell_type": "code",
   "execution_count": null,
   "id": "3fd82178-e793-4d37-89ed-4e6124783ef8",
   "metadata": {},
   "outputs": [],
   "source": [
    "f20wins = f20wins.merge(pyth,how='inner',on=['season','team'])"
   ]
  },
  {
   "cell_type": "code",
   "execution_count": null,
   "id": "0b90c2ad-7754-4382-b1c4-2a3e96771cf0",
   "metadata": {},
   "outputs": [],
   "source": [
    "f20wins"
   ]
  },
  {
   "cell_type": "code",
   "execution_count": null,
   "id": "539a3f27-8fc1-4ed1-bd9b-2745b8608400",
   "metadata": {},
   "outputs": [],
   "source": [
    "wPerDf = (tm.groupby(['season','team']).win.sum() / tm.groupby(['season','team']).game_id.nunique()).reset_index(name='actualWPerc')"
   ]
  },
  {
   "cell_type": "code",
   "execution_count": null,
   "id": "e4e67f02-3534-4f79-b8d9-718df7758b07",
   "metadata": {},
   "outputs": [],
   "source": [
    "df = f20wins.merge(wPerDf,how='left',on=['season','team'])"
   ]
  },
  {
   "cell_type": "code",
   "execution_count": null,
   "id": "ce617ff6-0ad8-48d1-a9c9-4de685a37681",
   "metadata": {},
   "outputs": [],
   "source": [
    "df.actualWPerc"
   ]
  },
  {
   "cell_type": "code",
   "execution_count": null,
   "id": "498e991f-4cef-4439-8216-003df79aef97",
   "metadata": {},
   "outputs": [],
   "source": [
    "(df.pythPerc - df.actualWPerc).describe([x/100 for x in range(10,110,10)]) * 100"
   ]
  },
  {
   "cell_type": "code",
   "execution_count": null,
   "id": "1b13e839-a921-4df5-ab45-37884535e468",
   "metadata": {},
   "outputs": [],
   "source": [
    "(df.wperc - df.actualWPerc).describe([x/100 for x in range(10,110,10)]) * 100"
   ]
  },
  {
   "cell_type": "code",
   "execution_count": null,
   "id": "c88b0708-138a-4555-b468-549c2917a08f",
   "metadata": {},
   "outputs": [],
   "source": [
    "ols = sm.regression.linear_model.OLS\n",
    "linear_model = ols(endog=df.actualWPerc,exog = df.pythPerc).fit() \n",
    "linear_model.summary()"
   ]
  },
  {
   "cell_type": "code",
   "execution_count": null,
   "id": "9cd93fef-54cb-41d0-8ac6-70634ed84fcc",
   "metadata": {},
   "outputs": [],
   "source": [
    "# looking at these it seems that 20 games "
   ]
  },
  {
   "cell_type": "code",
   "execution_count": null,
   "id": "4056665b-5790-4f10-95f3-154c0e8cf4b2",
   "metadata": {},
   "outputs": [],
   "source": [
    "f20['ptDiff'] = f20.game_points_scored - f20.points_allowed"
   ]
  },
  {
   "cell_type": "code",
   "execution_count": null,
   "id": "4383520b-7b76-42e4-a2a3-2ffa744458e6",
   "metadata": {},
   "outputs": [],
   "source": [
    "lg = tm[tm.game_number >= 20]"
   ]
  },
  {
   "cell_type": "code",
   "execution_count": null,
   "id": "bce2b1e6-acca-4f9c-aa65-db947642ee88",
   "metadata": {},
   "outputs": [],
   "source": [
    "lgw = lg.groupby(['season','team']).win.value_counts(normalize=True).reset_index(name='lgWinperc')\n",
    "lgw = lgw[lgw.win==1].drop('win',axis=1)"
   ]
  },
  {
   "cell_type": "code",
   "execution_count": null,
   "id": "ed48acbe-69a3-49ff-838e-bbadcfa9f66f",
   "metadata": {},
   "outputs": [],
   "source": [
    "df = df.merge(lgw,how='left',on=['season','team'])"
   ]
  },
  {
   "cell_type": "code",
   "execution_count": null,
   "id": "5fa1106e-5793-417f-8b75-264e2ba349c0",
   "metadata": {},
   "outputs": [],
   "source": [
    "df"
   ]
  },
  {
   "cell_type": "code",
   "execution_count": null,
   "id": "d56842b3-95d1-47bb-89be-6e751a3c3b27",
   "metadata": {},
   "outputs": [],
   "source": [
    "linear_model = ols(endog = df.lgWinperc, exog= df.wperc, \n",
    "                   ).fit() \n",
    "fig = plt.figure(figsize=(14, 8)) \n",
    "sm.graphics.plot_regress_exog(linear_model, \n",
    "                                    'wperc',\n",
    "                             fig=fig)"
   ]
  },
  {
   "cell_type": "code",
   "execution_count": null,
   "id": "a63016c5-ebcb-4a24-8948-7b9c0701f964",
   "metadata": {},
   "outputs": [],
   "source": [
    "linear_model.summary()"
   ]
  },
  {
   "cell_type": "code",
   "execution_count": null,
   "id": "e40a58c6-347d-4c1b-9d7e-7f22f78c6fd7",
   "metadata": {},
   "outputs": [],
   "source": [
    "linear_model = ols(endog = df.lgWinperc,exog = df.pythPerc, \n",
    "                  ).fit() \n",
    "fig = plt.figure(figsize=(14, 8)) \n",
    "sm.graphics.plot_regress_exog(linear_model, \n",
    "                                    'pythPerc',\n",
    "                             fig=fig)"
   ]
  },
  {
   "cell_type": "code",
   "execution_count": null,
   "id": "721130a9-93f4-4f85-8be5-315d9dacb53a",
   "metadata": {},
   "outputs": [],
   "source": [
    "linear_model.summary()"
   ]
  },
  {
   "cell_type": "code",
   "execution_count": null,
   "id": "a1b35682-5d67-45da-bf2e-117031fef7f3",
   "metadata": {},
   "outputs": [],
   "source": [
    "sortedVals = ['10','11','12','01','02','03','04','05']"
   ]
  },
  {
   "cell_type": "code",
   "execution_count": null,
   "id": "5c5e230b-8097-48cc-88a1-c83d4a3bc548",
   "metadata": {},
   "outputs": [],
   "source": [
    "\n",
    "data = tm[tm.win==1].groupby(['season','MONTH']).ptDiff.mean().reset_index()\n",
    "plt.figure(figsize = (16,8))\n",
    "sns.barplot(data,x = 'season', y = 'ptDiff',hue='MONTH',hue_order=sortedVals)\n",
    "plt.show()"
   ]
  },
  {
   "cell_type": "markdown",
   "id": "baa863b2-7d85-4412-871d-b6f193ccbda1",
   "metadata": {},
   "source": [
    " It does seem to increase through the year as april tends to be a high month for spreads.\n",
    " 2024 there is sentiment that there was a change in refereeing"
   ]
  },
  {
   "cell_type": "code",
   "execution_count": null,
   "id": "eb19cc42-9d14-4727-9ae1-f8ad04b8c929",
   "metadata": {},
   "outputs": [],
   "source": [
    "plt.figure(figsize = (14,8))\n",
    "sns.ecdfplot(tm[(tm.win==1)].ptDiff)\n",
    "plt.show()"
   ]
  },
  {
   "cell_type": "code",
   "execution_count": null,
   "id": "330032d3-afc8-45b1-a4b5-f04b4358b17e",
   "metadata": {},
   "outputs": [],
   "source": [
    "tm[(tm.home==1)].win.value_counts(normalize=True)"
   ]
  },
  {
   "cell_type": "code",
   "execution_count": null,
   "id": "9271d75e-180f-4ee3-a294-c2ea25627a9f",
   "metadata": {},
   "outputs": [],
   "source": [
    "tm[(tm.home==1)].groupby('season').win.sum() / tm.groupby('season').game_id.nunique()"
   ]
  },
  {
   "cell_type": "code",
   "execution_count": null,
   "id": "3044b3a3-9457-4f84-9f8e-ca416155b3bd",
   "metadata": {},
   "outputs": [],
   "source": [
    "#back-to-backs\n",
    "print(tm[(tm.daysBetweenGames==0)].win.value_counts(normalize=True))\n",
    "tm[(tm.daysBetweenGames==0)].groupby('season').win.sum() / tm[(tm.daysBetweenGames==0)].groupby('season').game_id.nunique()"
   ]
  },
  {
   "cell_type": "code",
   "execution_count": null,
   "id": "c7426b9e-f592-4aaf-86ea-b4865077dcaa",
   "metadata": {},
   "outputs": [],
   "source": [
    "def update_view(viewName,file):\n",
    "    try:\n",
    "        nba.conn.execute('DROP VIEW {}'.format(viewName))\n",
    "        nba.conn.commit()\n",
    "    except:\n",
    "        '{} does not exist'.format(viewName)\n",
    "    nba.conn.execute(open(file,'r').read())\n",
    "    nba.conn.commit()\n",
    "    print('{} View has been updated'.format(viewName))"
   ]
  },
  {
   "cell_type": "code",
   "execution_count": null,
   "id": "6eb891a4-1e63-4932-ba12-6f78822b8e17",
   "metadata": {},
   "outputs": [],
   "source": [
    "nba.showTables"
   ]
  },
  {
   "cell_type": "markdown",
   "id": "e18257cc-51c5-4fef-945e-64a62429b02c",
   "metadata": {},
   "source": [
    "### Want to look through player information will want to build out a clustering for player types\n"
   ]
  },
  {
   "cell_type": "code",
   "execution_count": null,
   "id": "a9e36c73-1ed3-4948-8faa-da1b9f9ea484",
   "metadata": {},
   "outputs": [],
   "source": [
    "update_view('pgames','data/sql/playerGameView.sql')"
   ]
  },
  {
   "cell_type": "code",
   "execution_count": null,
   "id": "8ebc1152-ae24-4089-9b22-99d534372034",
   "metadata": {
    "scrolled": true
   },
   "outputs": [],
   "source": [
    "plog = pd.read_sql('select * from pgames',nba.conn).fillna(0)"
   ]
  },
  {
   "cell_type": "code",
   "execution_count": null,
   "id": "2309d226-445b-4969-979f-3a873b362fdd",
   "metadata": {},
   "outputs": [],
   "source": [
    "## There are 350 undrafted players, Fred van leet is the only all-star, I dont think missing exp will matter too much for them\n",
    "test = pd.read_sql('''select * from players where pick = 'Undrafted' ''',nba.conn)"
   ]
  },
  {
   "cell_type": "code",
   "execution_count": null,
   "id": "fac502e1-bc18-4ed7-a9e8-5b994932a6f6",
   "metadata": {},
   "outputs": [],
   "source": [
    "#lets see how offensive/defensive and net rating look for the top 50 players\n",
    "#need to get a yearly offensive rating"
   ]
  },
  {
   "cell_type": "code",
   "execution_count": null,
   "id": "a6c99b40-161e-4d02-9da9-bb0d55b46843",
   "metadata": {},
   "outputs": [],
   "source": []
  },
  {
   "cell_type": "code",
   "execution_count": null,
   "id": "74b1bc90-bad0-4773-a0e7-b4e0a9f4fa76",
   "metadata": {},
   "outputs": [],
   "source": [
    "def true_shooting(plog,game=True):\n",
    "    if game:\n",
    "        ts = plog.pts / (2*plog.filter([col for col in plog.columns if re.search('_fga$',col)!=None]).sum(axis=1) + .44 * plog.fta)\n",
    "        plog['ts'] = ts\n",
    "        return plog\n",
    "    else: \n",
    "        df = plog.groupby(['player_id','name','season'])[['pts','fta']+shots].sum().reset_index()\n",
    "        df['ts'] = df.pts / (2*df.filter([col for col in df.columns if re.search('_fga$',col)!=None]).sum(axis=1) + .44 * df.fta)\n",
    "        return df[['player_id','name','season','ts']]"
   ]
  },
  {
   "cell_type": "code",
   "execution_count": null,
   "id": "a14ed4b4-be83-4d21-bf6d-11423068709b",
   "metadata": {},
   "outputs": [],
   "source": [
    "tsSeas = true_shooting(plog,game=False)\n"
   ]
  },
  {
   "cell_type": "code",
   "execution_count": null,
   "id": "48892ad9-8425-402c-9648-c319d351ea7b",
   "metadata": {},
   "outputs": [],
   "source": [
    "sns.histplot(plog.offensiveRating)\n",
    "plt.show()"
   ]
  },
  {
   "cell_type": "code",
   "execution_count": null,
   "id": "1bb78460-fade-44a7-a514-c9650029b834",
   "metadata": {},
   "outputs": [],
   "source": [
    "plog = plog.replace(np.inf,np.nan)"
   ]
  },
  {
   "cell_type": "code",
   "execution_count": null,
   "id": "350115e5-5cda-4196-9b9f-29085303ecb9",
   "metadata": {},
   "outputs": [],
   "source": [
    "sns.scatterplot(data = plog,y='offensiveRating',x='usagePercentage')\n",
    "plt.xlim(.1,1.2)\n",
    "plt.show()"
   ]
  },
  {
   "cell_type": "code",
   "execution_count": null,
   "id": "64a40781-da3e-4703-be34-4d39214226e0",
   "metadata": {},
   "outputs": [],
   "source": [
    "sns.histplot(plog.ts)\n",
    "plt.xlim(.1,1.2)\n",
    "plt.show()"
   ]
  },
  {
   "cell_type": "code",
   "execution_count": null,
   "id": "3c1a9426-49be-4258-962e-2ec0c7c27d75",
   "metadata": {},
   "outputs": [],
   "source": [
    "def shot_profile(plog):\n",
    "    temp = plog.filter(['player_id','season','name','blka','usagePercentage'] +[col for col in plog.columns if re.search('_fg|^ft',col)!=None])\n",
    "    plyrDemo = pd.read_sql('select * from players',nba.conn)\n",
    "    grp = temp.groupby(['season','player_id','name']).median().reset_index()\n",
    "    \n",
    "    return grp"
   ]
  },
  {
   "cell_type": "code",
   "execution_count": null,
   "id": "67872e29-ce05-4062-a558-702ac867acca",
   "metadata": {},
   "outputs": [],
   "source": [
    "shdf = shot_profile(plog)"
   ]
  },
  {
   "cell_type": "code",
   "execution_count": null,
   "id": "d1dbd3e5-fc4c-4516-8f05-94e67bc71904",
   "metadata": {},
   "outputs": [],
   "source": [
    "plyrDemo = pd.read_sql('''select * from players\n",
    "                        ''',nba.conn)"
   ]
  },
  {
   "cell_type": "code",
   "execution_count": null,
   "id": "9fb5506d-daa9-481d-9551-6f2ecacbfa52",
   "metadata": {},
   "outputs": [],
   "source": [
    "seasons = pd.read_sql('select distinct season from teamLog',nba.conn).values.flatten()"
   ]
  },
  {
   "cell_type": "code",
   "execution_count": null,
   "id": "3d242c32-d49c-422b-8e7f-d5e466b08194",
   "metadata": {},
   "outputs": [],
   "source": [
    "def award_counts(df):\n",
    "    '''Gets a count of the number of instances a player has achieve some honor relative to that season, this is done player by player\n",
    "    for each award\n",
    "    Inputs: DataFrame: must have season column and at least one of the following: \n",
    "    allstars, all-nba[1-2-3], mvp, mip, dpoy, all-d[1,2], finals mvp.  Ideally DataFrame is at season level.\n",
    "    Output: df with new column(s)'''\n",
    "    awardCols = ['allstars','allnba_first','allnba_second','allnba_third','alld_first','alld_second','mip','dpoy','mvp','finals_mvp']\n",
    "    for col in awardCols:\n",
    "        df[col+'_count'] = [len([x for x in b.split(',') if x <a]) for a, b in zip(test['season'], test[col].fillna('None'))]\n",
    "        df = df.drop(awardCols,axis=1)\n",
    "    return df"
   ]
  },
  {
   "cell_type": "code",
   "execution_count": null,
   "id": "f615997f-c296-435c-aa16-238a75108a99",
   "metadata": {},
   "outputs": [],
   "source": [
    "rateTemp = temp[['season']]\n",
    "# locations = list(set([col[:col.find('_')] for col in temp.columns if col.find('_fg')>-1]))\n",
    "# for col in locations:\n",
    "#     rateTemp[col+'_rate'] = temp[col+'_fgm'] / temp[col+'_fga']\n",
    "# rateTemp"
   ]
  },
  {
   "cell_type": "code",
   "execution_count": null,
   "id": "1ebfcfb1-4f9f-4d29-845a-e72dc8f0bc7d",
   "metadata": {},
   "outputs": [],
   "source": [
    "plog[plog.season=='2023-24'].groupby(['player_id','name'])[['paint_fgm','paint_fga']].sum().sort_values(by='paint_fgm',ascending=False)"
   ]
  },
  {
   "cell_type": "code",
   "execution_count": null,
   "id": "7279e1a0-67f5-49b1-9b5d-885d7330b72c",
   "metadata": {},
   "outputs": [],
   "source": [
    "for col in locations:\n",
    "    print(col)\n",
    "    print(plog[col+'_fga'].describe(np.arange(.1,1,.1)))"
   ]
  },
  {
   "cell_type": "code",
   "execution_count": null,
   "id": "75e661e2-f014-4552-af71-6d5fdea699f3",
   "metadata": {},
   "outputs": [],
   "source": [
    "check = nba.update_player_log(['2024-03-07'])"
   ]
  },
  {
   "cell_type": "code",
   "execution_count": null,
   "id": "c0ef97b2-9c79-4fd6-a830-ac7ed43c854f",
   "metadata": {},
   "outputs": [],
   "source": [
    "temp[col].max()"
   ]
  },
  {
   "cell_type": "code",
   "execution_count": null,
   "id": "32a9e310-5a07-49aa-a138-3ad68602b576",
   "metadata": {},
   "outputs": [],
   "source": [
    "plog['thr_fga'] = plog.rc_fga + plog.lc_fga + plog.abv_fga\n",
    "temp = plog.groupby(['season','player_id','name'])[[x for x in plog.columns if x.find('_fg')>-1]].median().reset_index()\n",
    "for col in temp.columns:\n",
    "    if temp[col].dtypes!='O':\n",
    "        plt.title(col)\n",
    "        sns.histplot(temp[col],binwidth=1)\n",
    "        plt.vlines(x = temp[col].mean(),ymin=0,ymax=temp[col].max(),color='red')\n",
    "        plt.show()"
   ]
  },
  {
   "cell_type": "code",
   "execution_count": null,
   "id": "b5fa203a-2b4f-496b-9240-d734cda849c1",
   "metadata": {},
   "outputs": [],
   "source": [
    "from nba_api.stats.endpoints import BoxScorePlayerTrackV2,BoxScorePlayerTrackV3,synergyplaytypes"
   ]
  },
  {
   "cell_type": "code",
   "execution_count": null,
   "id": "d3d443bd-cd8e-4ca6-b6f5-837698a118ac",
   "metadata": {},
   "outputs": [],
   "source": [
    "seasons = pd.read_sql('select distinct season from teamLog',nba.conn).values.flatten()\n",
    "def get_synergy_data(seasons):\n",
    "    '''\n",
    "    Inputs: a list of seasons\n",
    "    Output: dataframe of synergy pick n roll ballhandler data and isolation data.\n",
    "    '''\n",
    "    synCols = ['PLAYER_ID','TEAM_ID','POSS_PCT','PPP','TOV_POSS_PCT','POSS']\n",
    "    final = pd.DataFrame()\n",
    "    ptypes = {'Isolation':'Iso','PRBallHandler':'pnr','Spotup':'spot'}\n",
    "    for ptype in list(ptypes.keys()):\n",
    "        print('starting {}'.format(ptype))\n",
    "\n",
    "        for season in tqdm(seasons):\n",
    "            df = synergyplaytypes.SynergyPlayTypes(per_mode_simple='PerGame',season = season\n",
    "                                       ,player_or_team_abbreviation='P',play_type_nullable=ptype,type_grouping_nullable='offensive').get_data_frames()[0]\n",
    "            df = df.filter(synCols)\n",
    "            df.columns = ['{}_{}'.format(col,ptypes[ptype]) if re.search('ID$',col)==None else col for col in df.columns]\n",
    "            df['season'] = season\n",
    "            final = pd.concat([final,df])\n",
    "    final = final.groupby(['PLAYER_ID','TEAM_ID','season']).sum().reset_index()\n",
    "    return final"
   ]
  },
  {
   "cell_type": "code",
   "execution_count": null,
   "id": "04ea2fd9-fb32-403b-88c6-aa650ff9a477",
   "metadata": {},
   "outputs": [],
   "source": [
    "syn = get_synergy_data(seasons)"
   ]
  },
  {
   "cell_type": "markdown",
   "id": "7d2e489c-6123-4204-910d-a25169efaea9",
   "metadata": {},
   "source": [
    "## Clustering"
   ]
  },
  {
   "cell_type": "code",
   "execution_count": null,
   "id": "c37211cd-ca52-4cba-aa97-972d1bf45ec8",
   "metadata": {},
   "outputs": [],
   "source": [
    "def true_shooting(plog):\n",
    "    ts = plog.pts / (2*plog.filter([col for col in plog.columns if re.search('_fga$',col)!=None]).sum(axis=1) + .44 * plog.fta)\n",
    "    plog['ts'] = ts\n",
    "    return plog\n",
    "\n",
    "def award_counts(demo,cols=None):\n",
    "    '''\n",
    "    Inputs: DF at season level, will be using season and the columns to count awards, will default to all awards\n",
    "    Output: new dataframe with count columns replacings the columns for each instance\n",
    "    '''\n",
    "    awards = ['allstars', 'allnba_first','allnba_second', 'allnba_third', 'alld_first', 'alld_second', 'mip',\n",
    "       'dpoy', 'mvp', 'finals_mvp']\n",
    "    demo = demo.fillna('N/A')\n",
    "    if cols == None:\n",
    "        cols = awards\n",
    "    lasts = ['allstars', ['allnba_first','allnba_second', 'allnba_third'],['alld_first', 'alld_second'],'mvp','dpoy']\n",
    "    #This is checking to find the last time they were all-star, all-nba, all-d, mvp or dpoy, goes first to use years\n",
    "    for lst in lasts:\n",
    "        if isinstance(lst,str):\n",
    "            demo['last_'+lst] = [1 if int(season[:4]) - int(max([x for x in team.split(',') if x < season]+['2000-01'])[:4]) < 3 else 0\n",
    "            for  season,team in zip(demo.season,demo[lst])]\n",
    "        else:\n",
    "            name = lst[0][:lst[0].find('_')]\n",
    "            grp = zip(demo.season,[','.join(x) for x in demo.filter(lst).values])\n",
    "            demo['last_'+name] = [1 if int(season[:4]) - int(max([x for x in team.split(',') if x < season]+['2000-01'])[:4]) < 3 else 0\n",
    "            for  season,team in grp]\n",
    "    #This goes through every award and will update the column with a count instead of the string of instances\n",
    "    for col in cols:\n",
    "        demo[col] = [len([a for a in awrd.split(',') if a < season]) for season,awrd in zip(demo.season,demo[col])]\n",
    "    \n",
    "    return demo\n",
    "\n",
    "\n",
    "def player_off_data(breakouts=True):\n",
    "    #Set variables and get data\n",
    "\n",
    "    ind = ['player_id','name','season']\n",
    "    mmm = ['min','median','max']\n",
    "    dec = np.arange(.1,1,.1)\n",
    "    quarts = np.arange(.25,1,.25)\n",
    "    quints = np.arange(.2,1,.2)\n",
    "    plySCols = {'min':quarts,'fta':mmm,'ftm':mmm,'ast':mmm,'tov':mmm,'blka':mmm,'pfd':mmm,'pts':dec,'plus_minus':quints,'dd2':'rate',\n",
    "                    'td3':'rate','offensiveRating':mmm,'usagePercentage':mmm,'pace':mmm,'possessions':mmm,'team_first':'rate','game_first':'rate',\n",
    "                    'oreb':quarts,'oreb_contest':quarts,'oreb_chances':quarts,'oreb_chance_defer':quarts,'ra_fgm':quints,'ra_fga':quints,\n",
    "                    'paint_fga':quints, 'paint_fgm':quints, 'mid_fgm':quints,'mid_fga':quints,'lc_fgm':quints,'lc_fga':quints,'rc_fgm':quints,\n",
    "                    'rc_fga':quints,'abv_fgm':quints, 'abv_fga':quints}\n",
    "    plog = true_shooting(pd.read_sql('select * from pgames',nba.conn).fillna(0))\n",
    "    demo = pd.read_sql('select * from players',nba.conn)\n",
    "    gp = plog.groupby(ind).game_id.count().reset_index(name='gp')\n",
    "    demo = demo.merge(plog.filter(ind).drop_duplicates(),how='left',on=['player_id','name'])\n",
    "    demo = demo.dropna(subset=['season']).drop_duplicates()\n",
    "    \n",
    "    #setting our column breakouts\n",
    "    if breakouts:\n",
    "        \n",
    "        data = plog[ind].drop_duplicates().reset_index(drop=True)\n",
    "        #go through the dict to setup the values\n",
    "        for col in tqdm(plySCols.keys()):\n",
    "            v = plySCols.get(col)\n",
    "            if isinstance(v,str):\n",
    "                data['{}_{}'.format(col,v)] = (plog.groupby(ind)[col].sum() / plog.groupby(ind).game_id.count()).values.flatten()\n",
    "            elif isinstance(v,list):\n",
    "                for val in v:\n",
    "                    data['{}_{}'.format(col,val)] = plog.groupby(ind).agg(x = pd.NamedAgg(column=col,aggfunc=val)).values.flatten()\n",
    "            else:\n",
    "                cols = ['player_id','name','season','min_{}'.format(col)]+['{:.0%}_{}'.format(per,col) for per in v] + ['max_{}'.format(col)]\n",
    "                if v[0] == .2:\n",
    "                    temp = plog.groupby(ind)[col].describe(percentiles=v).iloc[:,3:].drop('50%',axis=1).reset_index()\n",
    "                else:\n",
    "                    temp = plog.groupby(ind)[col].describe(percentiles=v).iloc[:,3:].reset_index()\n",
    "                temp.columns = cols\n",
    "                data = data.merge(temp,how='left',on=ind)\n",
    "            cvar = (plog.groupby(ind)[col].std() / plog.groupby(ind)[col].mean()).reset_index(name=col+'_cvar')    \n",
    "            data = data.merge(cvar,how='left',on=ind)\n",
    "        #this final is for the breakouts\n",
    "        final = data.merge(gp,how='left',on = ind)\n",
    "    #this final is when breakouts is false to align the datasets\n",
    "    final = plog.groupby(ind)[list(plySCols.keys())].median().reset_index().merge(gp,how='left', on =ind)\n",
    "    demo['exp'] = [int(seas[:4]) - int(draft) for seas,draft  in zip(demo.season,demo.draft_year) ]\n",
    "    demo['age'] = [(dt.datetime(int(season[:4]),10,1) - pd.to_datetime(bday)).days / 365.25 for season,bday  in zip(demo.season,demo.birthday)]\n",
    "    demo = award_counts(demo)\n",
    "    final = final.merge(demo, how='left',on = ind)\n",
    "    final['pick'] = [99 if pick in ['Undrafted','N/A'] else int(pick) for pick in final.pick]\n",
    "    for pos in final.pos.unique():\n",
    "        final[pos.lower().replace(' ','')] = np.where(final.pos == pos,1,0)\n",
    "    final.drop(['birthday','draft_year','pos'],axis=1,inplace=True)   \n",
    "    return final\n"
   ]
  },
  {
   "cell_type": "code",
   "execution_count": null,
   "id": "94908af6",
   "metadata": {},
   "outputs": [],
   "source": [
    "pd.options.display.max_columns = 20\n",
    "data.describe()"
   ]
  },
  {
   "cell_type": "code",
   "execution_count": null,
   "id": "ff0fe772-d3db-4e4d-8f47-0f05b93559ce",
   "metadata": {},
   "outputs": [],
   "source": [
    "nba.showTables"
   ]
  },
  {
   "cell_type": "code",
   "execution_count": null,
   "id": "2f23cf06",
   "metadata": {},
   "outputs": [],
   "source": [
    "# what is the league average of 3's that are taken from the corner?\n",
    "season3 = plog.groupby(['season'])[['lc_fga','rc_fga','abv_fga']].sum()"
   ]
  },
  {
   "cell_type": "code",
   "execution_count": null,
   "id": "fc305f4e",
   "metadata": {},
   "outputs": [],
   "source": [
    "season3.sum(axis=1)"
   ]
  },
  {
   "cell_type": "code",
   "execution_count": null,
   "id": "c4d66bb9",
   "metadata": {},
   "outputs": [],
   "source": [
    "pd.DataFrame(season3.values / np.array([[x]*3 for x in season3.sum(axis=1)]),columns = \n",
    "             [col+'_prop' for col in season3.columns],index=season3.index)"
   ]
  },
  {
   "cell_type": "code",
   "execution_count": null,
   "id": "4fa5d51e",
   "metadata": {},
   "outputs": [],
   "source": [
    "shots = [col for col in plog.columns if re.search('_fga',col)!=None] \n",
    "pos = [col for col in plog.columns if re.search('center|forward|guard',col)!=None]\n",
    "demo = [col for col in plog.columns if re.search('height|weight|pick|exp|^age',col)!=None]"
   ]
  },
  {
   "cell_type": "code",
   "execution_count": null,
   "id": "3b3e6d96",
   "metadata": {},
   "outputs": [],
   "source": [
    "ratedf = plog.groupby('season')[shots].sum() / np.array([[x]*len(shots) for x in plog.groupby('season')[shots].sum().sum(axis=1)])\n"
   ]
  },
  {
   "cell_type": "code",
   "execution_count": null,
   "id": "a0b5cf98",
   "metadata": {},
   "outputs": [],
   "source": [
    "ratedf"
   ]
  },
  {
   "cell_type": "code",
   "execution_count": null,
   "id": "c35cfee7",
   "metadata": {},
   "outputs": [],
   "source": [
    "seasShot = data[ind+shots+['fta','usagePercentage','offensiveRating','plus_minus']].groupby(ind).mean().reset_index()"
   ]
  },
  {
   "cell_type": "code",
   "execution_count": null,
   "id": "ca17f98e",
   "metadata": {},
   "outputs": [],
   "source": [
    "seasShot = seasShot[(seasShot.lc_fga + seasShot.rc_fga + seasShot.abv_fga > 1.5)]\n",
    "seasShot = seasShot.reset_index(drop=True)"
   ]
  },
  {
   "cell_type": "code",
   "execution_count": null,
   "id": "350c52cf",
   "metadata": {},
   "outputs": [],
   "source": [
    "ind = ['player_id','name','season']\n",
    "seasShot['totalShots'] =  seasShot[shots].sum(axis=1)\n",
    "for col in seasShot.columns:\n",
    "    if col in shots:\n",
    "        seasShot[col.replace('fga','profga')] = seasShot[col] / seasShot.totalShots\n",
    "final = seasShot.merge(true_shooting(plog,game=False),how='left',on=ind)\n",
    "final.drop([col for col in final.columns if col.find('_fga')>-1],axis=1,inplace=True)\n",
    "\n",
    "catCols ='guard|center|forward'\n",
    "awardCols = [col for col in final.columns if re.search('allstars|allnba|alld|mip|dpoy|mvp',col)!=None]\n",
    "norm = Normalizer('l2')\n",
    "stnd = StandardScaler()\n",
    "normCols = [col for col in final.columns if (re.search(catCols,col)==None) and (col not in ind)]"
   ]
  },
  {
   "cell_type": "code",
   "execution_count": null,
   "id": "9db8450c",
   "metadata": {},
   "outputs": [],
   "source": [
    "shooting = ['pts','fta','ftm','ra_fgm',\n",
    "       'ra_fga', 'paint_fga', 'paint_fgm', 'mid_fgm', 'mid_fga', 'lc_fgm',\n",
    "       'lc_fga', 'rc_fgm', 'rc_fga', 'abv_fgm', 'abv_fga', 'gp', 'height',\n",
    "       'weight','center', 'forward', 'guard', 'forward-center',\n",
    "       'guard-forward', 'center-forward', 'forward-guard']"
   ]
  },
  {
   "cell_type": "code",
   "execution_count": null,
   "id": "ed941110",
   "metadata": {},
   "outputs": [],
   "source": [
    "\n",
    "def get_norm_stand_data(df):\n",
    "    normData = pd.DataFrame()\n",
    "    stndData = pd.DataFrame()\n",
    "    for col in df.columns:\n",
    "        if col in normCols:\n",
    "            normData.loc[:,col] = norm.fit_transform(df[col].values.reshape(1,-1)).flatten()\n",
    "            stndData.loc[:,col] = stnd.fit_transform(df[col].values.reshape(-1,1)).flatten()\n",
    "        elif col not in ind:\n",
    "            normData.loc[:,col] = df[col]\n",
    "            stndData.loc[:,col] = df[col]\n",
    "    return normData,stndData"
   ]
  },
  {
   "cell_type": "code",
   "execution_count": null,
   "id": "b1b34723",
   "metadata": {},
   "outputs": [],
   "source": [
    "dinds = {'i{}'.format(yr[:yr.find('-')]):final[final.season == yr].index for yr in  final.season.unique()}"
   ]
  },
  {
   "cell_type": "code",
   "execution_count": null,
   "id": "b3c3cd7b",
   "metadata": {},
   "outputs": [],
   "source": [
    "nd,sd = get_norm_stand_data(final)"
   ]
  },
  {
   "cell_type": "code",
   "execution_count": null,
   "id": "09e8747a",
   "metadata": {},
   "outputs": [],
   "source": [
    "def kmeans(X,name=None):\n",
    "    kmd = {}\n",
    "    name = name+'_' if name != None else 'Run_'\n",
    "    for cluster in np.arange(3,16):\n",
    "        km = KMeans(n_clusters=cluster,random_state=5).fit(X)\n",
    "        labels = km.labels_\n",
    "        kmSS = metrics.silhouette_score(X,labels)\n",
    "        print('{}{} Sil Score: {:.2f}'.format(name,cluster,kmSS))\n",
    "        kmd[name+str(cluster)] = {'labels':labels,'Score':kmSS}\n",
    "        \n",
    "    return kmd\n",
    "#DBSCAN\n",
    "def dbscan(X):\n",
    "    dbScore = {}\n",
    "    db = DBSCAN(min_samples=10,eps=.1).fit(X)\n",
    "    labels = db.labels_\n",
    "    nClusters = len(set(labels)) - (1 if -1 in labels else 0)\n",
    "    nNoise = list(labels).count(-1)\n",
    "    silScore = metrics.silhouette_score(X,labels)\n",
    "    dbScore = {'labels':labels,'nClusters':nClusters,'nNoise':nNoise,'score':silScore}\n",
    "    print('Score: {:.2%}'.format(silScore))\n",
    "    return dbScore"
   ]
  },
  {
   "cell_type": "code",
   "execution_count": null,
   "id": "153e08c6",
   "metadata": {},
   "outputs": [],
   "source": [
    "df21 = final[final.season=='2021-22']\n",
    "df23 = final[final.season=='2023-24']"
   ]
  },
  {
   "cell_type": "code",
   "execution_count": null,
   "id": "ac1ccf6b",
   "metadata": {},
   "outputs": [],
   "source": [
    "nd,sd = get_norm_stand_data(df23)"
   ]
  },
  {
   "cell_type": "code",
   "execution_count": null,
   "id": "3794dedc",
   "metadata": {},
   "outputs": [],
   "source": [
    "dbd = dbscan(nd)"
   ]
  },
  {
   "cell_type": "code",
   "execution_count": null,
   "id": "f428dcd9",
   "metadata": {},
   "outputs": [],
   "source": [
    "df23['db23'] = dbd['labels']"
   ]
  },
  {
   "cell_type": "code",
   "execution_count": null,
   "id": "424208a5",
   "metadata": {},
   "outputs": [],
   "source": [
    "df23.db23.value_counts()"
   ]
  },
  {
   "cell_type": "code",
   "execution_count": null,
   "id": "6291a7dc",
   "metadata": {},
   "outputs": [],
   "source": [
    "## looking to test wasserstein distance to see the difference from the median distribution of threes made,\n",
    "## each player compared to median of players who shoot more than 2 threes a game. Will take the median by game number\n",
    "\n",
    "p23 = plog[(plog.season=='2023-24')]"
   ]
  },
  {
   "cell_type": "code",
   "execution_count": null,
   "id": "8a7bb18e-a3f8-4a27-99e5-35770f857978",
   "metadata": {},
   "outputs": [],
   "source": [
    "p23['threesTaken'] = p23.abv_fga + p23.lc_fga + p23.rc_fga"
   ]
  },
  {
   "cell_type": "code",
   "execution_count": null,
   "id": "e18c5237-329b-4ecf-9876-43b11eda3351",
   "metadata": {},
   "outputs": [],
   "source": [
    "p23 = p23[p23.groupby('player_id').threesTaken.transform('median') >=2]"
   ]
  },
  {
   "cell_type": "code",
   "execution_count": null,
   "id": "678efa83",
   "metadata": {},
   "outputs": [],
   "source": [
    "p23.groupby('game_number')[['abv_fga','lc_fga','rc_fga']].mean().max()"
   ]
  },
  {
   "cell_type": "code",
   "execution_count": null,
   "id": "5d0bfe91",
   "metadata": {},
   "outputs": [],
   "source": [
    "p23['c_fga'] = p23.lc_fga + p23.rc_fga"
   ]
  },
  {
   "cell_type": "code",
   "execution_count": null,
   "id": "e80b1ca8",
   "metadata": {},
   "outputs": [],
   "source": [
    "steph = p23[p23.name=='Stephen Curry'][['abv_fga','c_fga']].values\n",
    "luka = p23[p23.name=='Luka Doncic'][['abv_fga','c_fga']].values\n",
    "jaylenBrown = p23[p23.name=='Jaylen Brown'][['abv_fga','c_fga']].values\n",
    "tatum = p23[p23.name=='Jayson Tatum'][['abv_fga','c_fga']].values"
   ]
  },
  {
   "cell_type": "code",
   "execution_count": null,
   "id": "9cac9c53",
   "metadata": {},
   "outputs": [],
   "source": [
    "from scipy.stats import wasserstein_distance_nd"
   ]
  },
  {
   "cell_type": "code",
   "execution_count": null,
   "id": "d0c25903-ea3c-40f2-9b4f-b3a99d259c72",
   "metadata": {},
   "outputs": [],
   "source": [
    "sw = (p23[p23.name=='Stephen Curry']['min'] / p23[p23.name=='Stephen Curry']['min'].sum()).values\n",
    "lw = (p23[p23.name=='Luka Doncic']['min'] / p23[p23.name=='Luka Doncic']['min'].sum()).values\n",
    "jbw = (p23[p23.name=='Jaylen Brown']['min'] /p23[p23.name=='Jaylen Brown']['min'].sum()).values\n",
    "jtw = (p23[p23.name=='Jayson Tatum']['min'] /p23[p23.name=='Jayson Tatum']['min'].sum()).values"
   ]
  },
  {
   "cell_type": "code",
   "execution_count": null,
   "id": "46c3c889",
   "metadata": {},
   "outputs": [],
   "source": [
    "wasserstein_distance_nd(steph,luka,sw,lw)"
   ]
  },
  {
   "cell_type": "code",
   "execution_count": null,
   "id": "c28781e3-f415-43fd-a6ae-93ab19ce67d3",
   "metadata": {},
   "outputs": [],
   "source": [
    "wasserstein_distance_nd(steph,luka)"
   ]
  },
  {
   "cell_type": "code",
   "execution_count": null,
   "id": "8d0a4d2e-d94d-47e6-8447-7d514fba62a5",
   "metadata": {},
   "outputs": [],
   "source": [
    "print('Unweighted: {:.3f}'.format(wasserstein_distance_nd(steph,jaylenBrown)))\n",
    "print('Weighted: {:.3f}'.format(wasserstein_distance_nd(steph,jaylenBrown,sw,jbw)))"
   ]
  },
  {
   "cell_type": "code",
   "execution_count": null,
   "id": "b36dd000",
   "metadata": {},
   "outputs": [],
   "source": [
    "print('Unweighted: {:.3f}'.format(wasserstein_distance_nd(steph,tatum)))\n",
    "print('Weighted: {:.3f}'.format(wasserstein_distance_nd(steph,tatum,sw,jtw)))"
   ]
  },
  {
   "cell_type": "code",
   "execution_count": null,
   "id": "2e1f8e34",
   "metadata": {},
   "outputs": [],
   "source": [
    "print('Unweighted: {:.3f}'.format(wasserstein_distance_nd(jaylenBrown,tatum)))\n",
    "print('Weighted: {:.3f}'.format(wasserstein_distance_nd(jaylenBrown,tatum,jbw,jtw)))"
   ]
  },
  {
   "cell_type": "code",
   "execution_count": null,
   "id": "2a21cc21",
   "metadata": {},
   "outputs": [],
   "source": [
    "print('Unweighted: {:.3f}'.format(wasserstein_distance_nd(luka,tatum)))\n",
    "print('Weighted: {:.3f}'.format(wasserstein_distance_nd(luka,tatum,lw,jtw)))"
   ]
  },
  {
   "cell_type": "code",
   "execution_count": null,
   "id": "1ba9890e-d613-42b1-a9f9-5b3ff751d47d",
   "metadata": {},
   "outputs": [],
   "source": [
    "wasserstein_distance_nd(tatum,luka)"
   ]
  },
  {
   "cell_type": "code",
   "execution_count": null,
   "id": "58000f89",
   "metadata": {},
   "outputs": [],
   "source": [
    "percentiles = [.33,.67,.83,.93]\n",
    "d = p23.groupby('game_number')['abv_fga'].describe(percentiles = percentiles)\n",
    "#for game in d.index():\n",
    "    "
   ]
  },
  {
   "cell_type": "code",
   "execution_count": null,
   "id": "8b661c41",
   "metadata": {},
   "outputs": [],
   "source": [
    "d.describe()"
   ]
  },
  {
   "cell_type": "code",
   "execution_count": null,
   "id": "71ea8e99",
   "metadata": {},
   "outputs": [],
   "source": [
    "p23[p23.groupby('player_id').abv_fga.transform('mean')>7].name.unique()"
   ]
  },
  {
   "cell_type": "code",
   "execution_count": null,
   "id": "2017592d",
   "metadata": {},
   "outputs": [],
   "source": [
    "p23[(p23.groupby('player_id').abv_fga.transform('mean')>=6) & (p23.groupby('player_id').abv_fga.transform('mean')<7)].name.unique()"
   ]
  },
  {
   "cell_type": "code",
   "execution_count": null,
   "id": "65257a50",
   "metadata": {},
   "outputs": [],
   "source": [
    "p23[(p23.groupby('player_id').abv_fga.transform('mean')>=4) & (p23.groupby('player_id').abv_fga.transform('mean')<6)].name.unique()"
   ]
  },
  {
   "cell_type": "code",
   "execution_count": null,
   "id": "a76f0544",
   "metadata": {},
   "outputs": [],
   "source": [
    "p23[p23.name=='Jalen Brunson'][['lc_fga','lc_fgm','rc_fga','rc_fgm','abv_fga','abv_fgm']].mean()"
   ]
  },
  {
   "cell_type": "code",
   "execution_count": null,
   "id": "2d3c4816",
   "metadata": {},
   "outputs": [],
   "source": [
    "for season in plog.season.unique():\n",
    "    print(season)\n",
    "    temp = plog[(plog.season==season) & (plog.abv_fga+plog.lc_fga+plog.rc_fga>1)]\n",
    "    print(temp.groupby(['game_number'])[['abv_fga','lc_fga','rc_fga']].describe(percentiles = np.arange(.1,1.1)).describe())\n",
    "    print('End {}\\n'.format(season))"
   ]
  },
  {
   "cell_type": "code",
   "execution_count": null,
   "id": "e2065aab",
   "metadata": {},
   "outputs": [],
   "source": [
    "stf = np.array([np.array([x for x,y in steph]),np.array([y for x,y in steph])])"
   ]
  },
  {
   "cell_type": "code",
   "execution_count": null,
   "id": "d4fd7a21",
   "metadata": {},
   "outputs": [],
   "source": [
    "jbf = np.array([np.array([x for x,y in jaylenBrown]),np.array([y for x,y in jaylenBrown])])"
   ]
  },
  {
   "cell_type": "code",
   "execution_count": null,
   "id": "9f96f3e1-6f1f-4118-8274-d9e02a1b2671",
   "metadata": {},
   "outputs": [],
   "source": [
    "len(steph)"
   ]
  },
  {
   "cell_type": "code",
   "execution_count": null,
   "id": "e710f865-8a71-45e3-8073-641a6d8b729e",
   "metadata": {},
   "outputs": [],
   "source": [
    "len(tatum)"
   ]
  },
  {
   "cell_type": "code",
   "execution_count": null,
   "id": "95a0af41-279a-4bf0-88d4-053e4ac93250",
   "metadata": {},
   "outputs": [],
   "source": [
    "len(luka)"
   ]
  },
  {
   "cell_type": "code",
   "execution_count": null,
   "id": "1ad23af6-2e06-4658-8ab1-5885ab9b486d",
   "metadata": {},
   "outputs": [],
   "source": [
    "minf = min(len(jbf[0]),len(stf[0]))"
   ]
  },
  {
   "cell_type": "code",
   "execution_count": null,
   "id": "b2db37af-2b3c-4f9b-a76a-826043c0d194",
   "metadata": {},
   "outputs": [],
   "source": [
    "grps = p23.groupby('game_number')[['abv_fga','c_fga']].describe(percentiles =percentiles)\n",
    "p1 = np.array([x if x - int(x) == 0 else  int(x)+ 1 for x in v33])"
   ]
  },
  {
   "cell_type": "code",
   "execution_count": null,
   "id": "382b4430-b07f-47f1-bd16-0f868c70bb63",
   "metadata": {},
   "outputs": [],
   "source": [
    "[col for col in grps.columns if col[1].find('33%')]"
   ]
  },
  {
   "cell_type": "code",
   "execution_count": null,
   "id": "3c7b5e31-36ec-4f2d-a915-19f174a1f46e",
   "metadata": {},
   "outputs": [],
   "source": [
    "lvl1 = list(set([col[0] for col in grps.columns]))"
   ]
  },
  {
   "cell_type": "code",
   "execution_count": null,
   "id": "284f8aea-b4e0-43bf-99c0-4cf5f0db7222",
   "metadata": {},
   "outputs": [],
   "source": [
    "col"
   ]
  },
  {
   "cell_type": "code",
   "execution_count": null,
   "id": "f606d3cd-37db-4a54-a392-05c6809825ec",
   "metadata": {},
   "outputs": [],
   "source": [
    "prc = ['min'] + percentiles + ['max']\n",
    "for col in lvl1:\n",
    "    for p in prc:\n",
    "        lkup = (col,'{:.0%}'.format(p)) if isinstance(p,str) == False else (col,p)\n",
    "        print('{} @ {} Actual vs Poission distributed'.format(col,p))\n",
    "        sns.displot(grps[lkup].values)\n",
    "        sns.displot(np.random.poisson(grps[lkup]),color='red')\n",
    "\n",
    "        plt.show()"
   ]
  },
  {
   "cell_type": "code",
   "execution_count": null,
   "id": "a78ee06d-a87b-4855-9ba6-5393a6a6bd75",
   "metadata": {},
   "outputs": [],
   "source": [
    "sns.displot(p1)\n",
    "plt.show()"
   ]
  },
  {
   "cell_type": "code",
   "execution_count": null,
   "id": "092aaf46-0379-4dc2-ba22-abd4ab3d2353",
   "metadata": {},
   "outputs": [],
   "source": [
    "sns.displot(tatum.sum(axis=1))\n",
    "sns.displot(np.random.poisson(tatum.sum(axis=1)),color='red')\n",
    "plt.show()"
   ]
  },
  {
   "cell_type": "code",
   "execution_count": null,
   "id": "4d19a38e-0ec0-41cc-81a7-e5da0d15968d",
   "metadata": {},
   "outputs": [],
   "source": [
    "tempu = jbf if minf == len(jbf[0]) else "
   ]
  },
  {
   "cell_type": "code",
   "execution_count": null,
   "id": "1dcbc3aa-3c03-4ca9-9be5-1d392959af94",
   "metadata": {},
   "outputs": [],
   "source": [
    "test = p23[p23.name.isin(['Stephen Curry','Luka Doncic','Duncan Robinson','James Harden', 'LeBron James','Chris Paul',])]"
   ]
  },
  {
   "cell_type": "code",
   "execution_count": null,
   "id": "4a1e3e3e-a25e-41da-9ab5-07bb2ac565f5",
   "metadata": {},
   "outputs": [],
   "source": [
    "test.groupby('name')[['abv_fga','c_fga']].median()"
   ]
  },
  {
   "cell_type": "code",
   "execution_count": null,
   "id": "3b254659-ba18-4810-aaf4-173cec61e5f9",
   "metadata": {},
   "outputs": [],
   "source": [
    "from sklearn.manifold import TSNE"
   ]
  },
  {
   "cell_type": "code",
   "execution_count": null,
   "id": "41bd36be-1db5-474d-8528-c433fac4a56d",
   "metadata": {},
   "outputs": [],
   "source": [
    "np.ravel(test.groupby('name')[['abv_fga','c_fga']].median().values).reshape"
   ]
  },
  {
   "cell_type": "code",
   "execution_count": null,
   "id": "09baa2ae-ca08-42e7-b77b-58e8638b7ec7",
   "metadata": {},
   "outputs": [],
   "source": [
    "x= test.groupby('name')[['abv_fga','c_fga']].median().values"
   ]
  },
  {
   "cell_type": "code",
   "execution_count": null,
   "id": "fba222ae-6231-4576-9acf-851796937f6c",
   "metadata": {},
   "outputs": [],
   "source": [
    "p23.usagePercentage.describe(percentiles =[.33,.5,.67,.83,.90,.95])"
   ]
  },
  {
   "cell_type": "code",
   "execution_count": null,
   "id": "78206c01-eeda-47a2-9041-5eecac212adf",
   "metadata": {},
   "outputs": [],
   "source": [
    "p23['pct3TeamShots'] = p23.set_index(['player_id','name','game_id',])[['c_fga','abv_fga']].sum(axis=1).values / p23.groupby(['team','game_id'])[shots].transform('sum').sum(axis=1).values"
   ]
  },
  {
   "cell_type": "code",
   "execution_count": null,
   "id": "8a5817f7-cb6d-4aa4-bb48-d404456347a3",
   "metadata": {},
   "outputs": [],
   "source": [
    "p23"
   ]
  },
  {
   "cell_type": "code",
   "execution_count": null,
   "id": "997f0d37-6f58-4c36-8120-ebadda2751d8",
   "metadata": {},
   "outputs": [],
   "source": [
    "sns.scatterplot(data =d, x=d.c_fga ,y=d.abv_fga)\n",
    "plt.axvline(x=1.5,ymin=0, ymax=11,color='red')\n",
    "plt.axhline(y=5,xmin=0,xmax=4,color='red')\n",
    "plt.show()"
   ]
  },
  {
   "cell_type": "code",
   "execution_count": null,
   "id": "9442627a-6628-4a1d-a84a-c3c4c59ec8fc",
   "metadata": {},
   "outputs": [],
   "source": [
    "d =p23.groupby(ind)[['c_fga','abv_fga','pct3TeamShots']].mean()\n",
    "sns.scatterplot(data =d, x=d.c_fga ** (1+d.pct3TeamShots),y=d.abv_fga ** (1+d.pct3TeamShots))\n",
    "plt.axvline(x=1.75,ymin=0, ymax=11,color='red')\n",
    "plt.axhline(y=6.5,xmin=0,xmax=4,color='red')\n",
    "plt.show()"
   ]
  },
  {
   "cell_type": "code",
   "execution_count": null,
   "id": "297d2822-c790-4822-ba52-30a24896411f",
   "metadata": {},
   "outputs": [],
   "source": [
    "nba.showTables"
   ]
  },
  {
   "cell_type": "code",
   "execution_count": null,
   "id": "17ac34df-e585-4d12-8397-f02d61c69469",
   "metadata": {},
   "outputs": [],
   "source": [
    "teamD = pd.read_sql('select * from team_def',nba.conn)"
   ]
  },
  {
   "cell_type": "code",
   "execution_count": null,
   "id": "02fe113d-1de4-4f85-9d95-732f7c7190f7",
   "metadata": {},
   "outputs": [],
   "source": [
    "temp = teamD.groupby(['game_number','game_id','season'])[['wide_fg3a','open_fg3a']].sum()"
   ]
  },
  {
   "cell_type": "code",
   "execution_count": null,
   "id": "2ab564a8-0cc9-4c50-b5c6-abd7a919f9ae",
   "metadata": {},
   "outputs": [],
   "source": [
    "tempM = teamD.groupby(['game_number','game_id','season','home']).sum()"
   ]
  },
  {
   "cell_type": "code",
   "execution_count": null,
   "id": "5030ed7c-127e-436d-8038-004c62ce199f",
   "metadata": {},
   "outputs": [],
   "source": [
    "teamD['threesAllowed'] = teamD.crn_fgm + teamD.abv_fgm"
   ]
  },
  {
   "cell_type": "code",
   "execution_count": 226,
   "id": "35c9fc58-5629-4181-b3d0-976e8e4ae1c2",
   "metadata": {},
   "outputs": [],
   "source": [
    "nba.conn.execute('DROP VIEW pgames')\n",
    "nba.conn.execute(open('data/sql/playerGameView.sql','r').read())\n",
    "nba.conn.commit()"
   ]
  },
  {
   "cell_type": "code",
   "execution_count": null,
   "id": "7ca5c079-28ff-4cce-85a9-56e96a3b624e",
   "metadata": {},
   "outputs": [],
   "source": [
    "threes = pd.read_sql('''SELECT \n",
    "                    FROM pgames\n",
    "                    WHERE player_id||season in \n",
    "                    (SELECT player_id||season\n",
    "                    FROM pgames \n",
    "\n",
    "                    group by player_id,season\n",
    "\n",
    "                    --HAVING AVG(lc_fga + rc_fga + abv_fga) >= 3\n",
    "                    \n",
    "                    )''',\n",
    "                     nba.conn)"
   ]
  },
  {
   "cell_type": "code",
   "execution_count": null,
   "id": "2cacd2a8-5201-43a0-a80a-afe9a0e8ffdd",
   "metadata": {},
   "outputs": [],
   "source": [
    "y=pd.read_sql('select lc_fgm + rc_fgm + abv_fgm as thressMade"
   ]
  },
  {
   "cell_type": "markdown",
   "id": "6468afd5-2eec-42c7-adcd-3cdc28c0f598",
   "metadata": {},
   "source": [
    "what to pull\n",
    "Rolling is for five games, min (season + hist), max (season + hist), percentiles (season + hist), coeff variance\n",
    "Player info\n",
    "1. usage rolling, min, max\n",
    "2. crn three attm: rolling, dist, max\n",
    "3. abv fga: rolling dist, max\n",
    "4. mid fga: dist max\n",
    "5. paint dist max\n",
    "6. ra dist, max\n",
    "7. threes made rolling\n",
    "8. games in five\n",
    "9. games in three, min\n",
    "10. days between games\n",
    "11. Home\n",
    "12. team pace rolling, min, max\n",
    "13. isTopScorer\n",
    "14. isHighUsage\n",
    "15. isVolShooter\n",
    "16. isStarter  \n",
    "Defense info  \n",
    "1. threes allowed - dist, max\n",
    "2. open rate, dist\n",
    "3. wide rate, dist\n",
    "4. pace rolling 5 and season avg\n",
    "5. pace std\n",
    "6. "
   ]
  },
  {
   "cell_type": "code",
   "execution_count": 475,
   "id": "24ad124f-7b10-47d9-8c77-43c80fe0c217",
   "metadata": {},
   "outputs": [],
   "source": [
    "\n",
    "threeq = '''\n",
    "-- This primiarily calculates rolling fields and game information for the days game to be used in the model.\n",
    "-- Need to check game info in the future to see if we can preload a schedule\n",
    "-- Shot attempts will be done in seperate queries as they are going through a python function for the rolling information\n",
    "-- Future updates - how to incorporate inactives, can do a rolling value but would like more information on who is out and impact\n",
    "\n",
    "SELECT \n",
    "--y\n",
    "threesMade,\n",
    "\n",
    "--identifiers\n",
    "name, player_id, game_id, game_date, season, team,\n",
    "\n",
    "--shot locations, will have percentiles done in pandas\n",
    "ra_fga, paint_fga, mid_fga, (coalesce(lc_fga,0) + coalesce(rc_fga,0)) crn_fga, abv_fga,\n",
    "--games info\n",
    "daysBetweenGames, gamesInFive, gamesInThree, oppGamesFive, OppGamesThree, oppDaysLastGame, home, plyrGameCt, tmGameCt,\n",
    "\n",
    "--one-hot id first 10 games and months\n",
    "CASE WHEN plyrGameCt < 11 THEN 1 ELSE 0 end as plyrfirst10,\n",
    "CASE WHEN tmGameCt < 11 THEN 1 ELSE 0 end as teamfirst10,\n",
    "CASE WHEN strftime('%m', game_date) = '10' THEN 1 ELSE 0 END AS oct,\n",
    "CASE WHEN strftime('%m', game_date) = '11' THEN 1 ELSE 0 END AS nov,\n",
    "CASE WHEN strftime('%m', game_date) = '12' THEN 1 ELSE 0 END AS dec,\n",
    "CASE WHEN strftime('%m', game_date) = '01' THEN 1 ELSE 0 END AS jan,\n",
    "CASE WHEN strftime('%m', game_date) = '02' THEN 1 ELSE 0 END AS feb,\n",
    "CASE WHEN strftime('%m', game_date) = '03' THEN 1 ELSE 0 END AS mar,\n",
    "CASE WHEN strftime('%m', game_date) = '04' THEN 1 ELSE 0 END AS arp,\n",
    "\n",
    "--roling offensive (5 games and season) metrics \n",
    "AVG(threesMade) OVER (PARTITION BY season,player_id\n",
    "    ORDER BY plyrGameCt ROWS BETWEEN 6 PRECEDING AND 1 PRECEDING) AS mvAvgThrees,\n",
    "AVG(usagePercentage) OVER (PARTITION BY season,player_id\n",
    "    ORDER BY plyrGameCt ROWS BETWEEN 6 PRECEDING AND 1 PRECEDING) AS mvAvgUsage,\n",
    "AVG(offensiveRating) OVER (PARTITION BY season,player_id\n",
    "    ORDER BY plyrGameCt ROWS BETWEEN 6 PRECEDING AND 1 PRECEDING) AS mvAvgOffRating,\n",
    "AVG(ftPrct) OVER (PARTITION BY season,player_id\n",
    "    ORDER BY plyrGameCt ROWS BETWEEN 6 PRECEDING AND 1 PRECEDING) as mvAvgFtPrct,\n",
    "AVG(thrPtPrct) OVER (PARTITION BY season,player_id\n",
    "    ORDER BY plyrGameCt ROWS BETWEEN 6 PRECEDING AND 1 PRECEDING) as mvAvgThrPtPrct,    \n",
    "\n",
    "AVG(usagePercentage) OVER (PARTITION BY season,player_id\n",
    "    ORDER BY game_date ROWS UNBOUNDED PRECEDING) AS seasonUsage,\n",
    "AVG(offensiveRating) OVER (PARTITION BY season,player_id\n",
    "    ORDER BY game_date ROWS UNBOUNDED PRECEDING) AS seasonOffRating,    \n",
    "AVG(ftPrct) OVER (PARTITION BY season,player_id\n",
    "    ORDER BY game_date ROWS UNBOUNDED PRECEDING) as seasonFtPrct,\n",
    "AVG(thrPtPrct) OVER (PARTITION BY season,player_id\n",
    "    ORDER BY plyrGameCt ROWS UNBOUNDED PRECEDING) as seasonThrPtPrct,\n",
    "\n",
    "--career for shooting\n",
    "AVG(ftPrct) OVER (PARTITION BY player_id\n",
    "    ORDER BY game_date ROWS UNBOUNDED PRECEDING) as careerFtPrct,\n",
    "AVG(thrPtPrct) OVER (PARTITION BY player_id\n",
    "    ORDER BY plyrGameCt ROWS UNBOUNDED PRECEDING) as careerThrPtPrct,    \n",
    "\n",
    "-- defensive information\n",
    "opp_id, \n",
    "--moving (5 games) and season averages\n",
    "mvAvgOppPace, mvAvgOppOpen3, mvAvgOppWide3, mvAvgOppDefrating, \n",
    "seasonOppPace,  seasonOppOpen3,  seasonOppWide3,  seasonOppDefRating\n",
    "\n",
    "\n",
    "FROM pgames\n",
    "WHERE player_id||season in \n",
    "                    (SELECT player_id||season\n",
    "                    FROM pgames \n",
    "\n",
    "                    group by player_id,season\n",
    "\n",
    "                    HAVING AVG(coalesce(lc_fga,0) + coalesce(rc_fga,0) + coalesce(abv_fga,0)) >= 3\n",
    "                    and max(plyrGameCt) >= 16\n",
    "                    \n",
    "                    )\n",
    "'''"
   ]
  },
  {
   "cell_type": "code",
   "execution_count": null,
   "id": "143a29e9-569d-4a96-8016-cf43c8fc04a7",
   "metadata": {},
   "outputs": [],
   "source": [
    "thr = pd.read_sql(threeq,nba.conn)"
   ]
  },
  {
   "cell_type": "code",
   "execution_count": 460,
   "id": "e2301386-b9c3-4413-8dab-e618b726017b",
   "metadata": {},
   "outputs": [],
   "source": [
    "## looking to get all attempt columns as a rolling20 percentile\n",
    "#right now for team we are going with a team rolling 15, want to check on this \n",
    "sa = '''\n",
    "SELECT team_id as opp_id,game_date ,ra_fga as ra_fgallowed, paint_fga as paint_fgallowed, mid_fga as mid_fgallowed, \n",
    "coalesce(lc_fga,0) + coalesce(rc_fga,0) as crn_fgallowed, abv_fga as abv_fgallowed,season\n",
    "from team_def\n",
    "'''\n",
    "\n",
    "def rolling_team_sa():\n",
    "    '''\n",
    "    Setting up a rolling distribution of each shot location that each team allows. \n",
    "    Inputs: dataframe with team_id, game_date and at least one fgallowed column\n",
    "    output: DataFrame with six percentiles for each fgallowed column\n",
    "    '''\n",
    "    df = pd.read_sql(sa,nba.conn)\n",
    "    quants = ([1/6,1/3,.5,2/3,5/6,1],['st','nd','rd','rth','fth','xth'])\n",
    "    shots = [col for col in df.columns if re.search('_fgallowed$',col)!=None]\n",
    "    shotdf = pd.DataFrame()\n",
    "    for col in shots:\n",
    "        \n",
    "        #temp will be the team and all dates\n",
    "        temp = [df.groupby(['opp_id','season'])[col].rolling(15,closed='left').quantile(q,'midpoint')for q in quants[0]]\n",
    "        pdf = pd.DataFrame(temp,index=['{}{}'.format(col,q) for q in quants[1]]).T\n",
    "        levelCol = [col for col in pdf.reset_index() if col.find('level_')>-1]\n",
    "        skew = tm.groupby(['opp_id','season'])['abv_fgallowed'].rolling(15,closed='left').skew().reset_index()\n",
    "        kurt = tm.groupby(['opp_id','season'])['abv_fgallowed'].rolling(15,closed='left').kurt().reset_index()\n",
    "        pdf = pdf.reset_index().merge(df[['game_date']],how='left',left_on=levelCol,right_index=True).drop(levelCol,axis=1)\n",
    "        pdf['{}skew'.format(col)] = df.groupby(['opp_id','season'])[col].rolling(15,closed='left').skew().values\n",
    "        pdf['{}kurt'.format(col)] = df.groupby(['opp_id','season'])[col].rolling(15,closed='left').kurt().values\n",
    "        if len(shotdf)==0:\n",
    "            shotdf = pd.concat([shotdf,pdf])\n",
    "        else:\n",
    "            shotdf = shotdf.merge(pdf,how='left', on=['game_date','opp_id','season'])\n",
    "    return shotdf\n",
    "\n",
    "def rolling_player_shot():\n",
    "    '''\n",
    "    Setting up a rolling distribution of each shot location for player.  This will take in the threes query\n",
    "    Inputs: dataframe with player_id, game_date and at least one fga column\n",
    "    output: DataFrame with six percentiles for each fga column\n",
    "    '''\n",
    "\n",
    "    df = thr[[col for col in thr.columns if col.find('fga')>-1]+['player_id','game_date']]\n",
    "    quants = ([1/6,1/3,.5,2/3,5/6,1],['st','nd','rd','rth','fth','xth'])\n",
    "    shots = [col for col in df.columns if re.search('_fga$',col)!=None]\n",
    "    shotdf = pd.DataFrame()\n",
    "    for col in shots:\n",
    "        #temp will be the player and all dates\n",
    "        temp = [df.groupby(['player_id'])[col].rolling(15,closed='left').quantile(q,'midpoint')for q in quants[0]]\n",
    "        pdf = pd.DataFrame(temp,index=['{}{}'.format(col,q) for q in quants[1]]).T\n",
    "        pdf = pdf.reset_index().merge(df[['game_date']],how='left',left_on='level_1',right_index=True).drop(['level_1'],axis=1)\n",
    "        pdf['{}skew'.format(col)] = df.groupby(['player_id'])[col].rolling(15,closed='left').skew().values\n",
    "        pdf['{}kurt'.format(col)] = df.groupby(['player_id'])[col].rolling(15,closed='left').kurt().values\n",
    "        if len(shotdf)==0:\n",
    "            shotdf = pd.concat([shotdf,pdf])\n",
    "        else:\n",
    "            shotdf = shotdf.merge(pdf,how='left', on=['game_date','player_id',])\n",
    "    return shotdf\n",
    "plsh = rolling_player_shot()\n",
    "tmsa = rolling_team_sa()"
   ]
  },
  {
   "cell_type": "code",
   "execution_count": 461,
   "id": "9fd14012-3b6b-4bd6-af58-f8627113e5b1",
   "metadata": {},
   "outputs": [],
   "source": [
    "f = thr.merge(plsh,how='left',on=['player_id','game_date']).merge(tmsa,how='left',on=['game_date','opp_id','season'])"
   ]
  },
  {
   "cell_type": "code",
   "execution_count": 344,
   "id": "68b4ddb9-84cb-4e82-8381-1e5bfa01d3a9",
   "metadata": {},
   "outputs": [],
   "source": [
    "idCols = ['name', 'team', 'game_number', 'season', 'player_id', 'team_id','opp_id',\n",
    "       'game_id', 'game_date']\n",
    "fgaCols = ['abv_fga','crn_fga','mid_fga','ra_fga','paint_fga']  "
   ]
  },
  {
   "cell_type": "code",
   "execution_count": 345,
   "id": "fdefcdb0-029a-490c-916f-fa1c31b47dbc",
   "metadata": {},
   "outputs": [
    {
     "data": {
      "text/html": [
       "<div>\n",
       "<style scoped>\n",
       "    .dataframe tbody tr th:only-of-type {\n",
       "        vertical-align: middle;\n",
       "    }\n",
       "\n",
       "    .dataframe tbody tr th {\n",
       "        vertical-align: top;\n",
       "    }\n",
       "\n",
       "    .dataframe thead th {\n",
       "        text-align: right;\n",
       "    }\n",
       "</style>\n",
       "<table border=\"1\" class=\"dataframe\">\n",
       "  <thead>\n",
       "    <tr style=\"text-align: right;\">\n",
       "      <th></th>\n",
       "      <th>threesMade</th>\n",
       "      <th>name</th>\n",
       "      <th>player_id</th>\n",
       "      <th>game_id</th>\n",
       "      <th>game_date</th>\n",
       "      <th>season</th>\n",
       "      <th>team</th>\n",
       "      <th>ra_fga</th>\n",
       "      <th>paint_fga</th>\n",
       "      <th>mid_fga</th>\n",
       "      <th>...</th>\n",
       "      <th>crn_fgallowedskew</th>\n",
       "      <th>crn_fgallowedkurt</th>\n",
       "      <th>abv_fgallowedst</th>\n",
       "      <th>abv_fgallowednd</th>\n",
       "      <th>abv_fgallowedrd</th>\n",
       "      <th>abv_fgallowedrth</th>\n",
       "      <th>abv_fgallowedfth</th>\n",
       "      <th>abv_fgallowedxth</th>\n",
       "      <th>abv_fgallowedskew</th>\n",
       "      <th>abv_fgallowedkurt</th>\n",
       "    </tr>\n",
       "  </thead>\n",
       "  <tbody>\n",
       "    <tr>\n",
       "      <th>0</th>\n",
       "      <td>2</td>\n",
       "      <td>Marvin Williams</td>\n",
       "      <td>101107</td>\n",
       "      <td>0021700003</td>\n",
       "      <td>2017-10-18</td>\n",
       "      <td>2017-18</td>\n",
       "      <td>CHA</td>\n",
       "      <td>0.000</td>\n",
       "      <td>0.000</td>\n",
       "      <td>1.000</td>\n",
       "      <td>...</td>\n",
       "      <td>NaN</td>\n",
       "      <td>NaN</td>\n",
       "      <td>NaN</td>\n",
       "      <td>NaN</td>\n",
       "      <td>NaN</td>\n",
       "      <td>NaN</td>\n",
       "      <td>NaN</td>\n",
       "      <td>NaN</td>\n",
       "      <td>NaN</td>\n",
       "      <td>NaN</td>\n",
       "    </tr>\n",
       "    <tr>\n",
       "      <th>1</th>\n",
       "      <td>0</td>\n",
       "      <td>Marvin Williams</td>\n",
       "      <td>101107</td>\n",
       "      <td>0021700017</td>\n",
       "      <td>2017-10-20</td>\n",
       "      <td>2017-18</td>\n",
       "      <td>CHA</td>\n",
       "      <td>1.000</td>\n",
       "      <td>0.000</td>\n",
       "      <td>1.000</td>\n",
       "      <td>...</td>\n",
       "      <td>NaN</td>\n",
       "      <td>NaN</td>\n",
       "      <td>NaN</td>\n",
       "      <td>NaN</td>\n",
       "      <td>NaN</td>\n",
       "      <td>NaN</td>\n",
       "      <td>NaN</td>\n",
       "      <td>NaN</td>\n",
       "      <td>NaN</td>\n",
       "      <td>NaN</td>\n",
       "    </tr>\n",
       "    <tr>\n",
       "      <th>2</th>\n",
       "      <td>1</td>\n",
       "      <td>Marvin Williams</td>\n",
       "      <td>101107</td>\n",
       "      <td>0021700055</td>\n",
       "      <td>2017-10-25</td>\n",
       "      <td>2017-18</td>\n",
       "      <td>CHA</td>\n",
       "      <td>3.000</td>\n",
       "      <td>0.000</td>\n",
       "      <td>0.000</td>\n",
       "      <td>...</td>\n",
       "      <td>NaN</td>\n",
       "      <td>NaN</td>\n",
       "      <td>NaN</td>\n",
       "      <td>NaN</td>\n",
       "      <td>NaN</td>\n",
       "      <td>NaN</td>\n",
       "      <td>NaN</td>\n",
       "      <td>NaN</td>\n",
       "      <td>NaN</td>\n",
       "      <td>NaN</td>\n",
       "    </tr>\n",
       "    <tr>\n",
       "      <th>3</th>\n",
       "      <td>1</td>\n",
       "      <td>Marvin Williams</td>\n",
       "      <td>101107</td>\n",
       "      <td>0021700070</td>\n",
       "      <td>2017-10-27</td>\n",
       "      <td>2017-18</td>\n",
       "      <td>CHA</td>\n",
       "      <td>1.000</td>\n",
       "      <td>0.000</td>\n",
       "      <td>1.000</td>\n",
       "      <td>...</td>\n",
       "      <td>NaN</td>\n",
       "      <td>NaN</td>\n",
       "      <td>NaN</td>\n",
       "      <td>NaN</td>\n",
       "      <td>NaN</td>\n",
       "      <td>NaN</td>\n",
       "      <td>NaN</td>\n",
       "      <td>NaN</td>\n",
       "      <td>NaN</td>\n",
       "      <td>NaN</td>\n",
       "    </tr>\n",
       "    <tr>\n",
       "      <th>4</th>\n",
       "      <td>1</td>\n",
       "      <td>Marvin Williams</td>\n",
       "      <td>101107</td>\n",
       "      <td>0021700088</td>\n",
       "      <td>2017-10-29</td>\n",
       "      <td>2017-18</td>\n",
       "      <td>CHA</td>\n",
       "      <td>2.000</td>\n",
       "      <td>0.000</td>\n",
       "      <td>3.000</td>\n",
       "      <td>...</td>\n",
       "      <td>NaN</td>\n",
       "      <td>NaN</td>\n",
       "      <td>NaN</td>\n",
       "      <td>NaN</td>\n",
       "      <td>NaN</td>\n",
       "      <td>NaN</td>\n",
       "      <td>NaN</td>\n",
       "      <td>NaN</td>\n",
       "      <td>NaN</td>\n",
       "      <td>NaN</td>\n",
       "    </tr>\n",
       "    <tr>\n",
       "      <th>...</th>\n",
       "      <td>...</td>\n",
       "      <td>...</td>\n",
       "      <td>...</td>\n",
       "      <td>...</td>\n",
       "      <td>...</td>\n",
       "      <td>...</td>\n",
       "      <td>...</td>\n",
       "      <td>...</td>\n",
       "      <td>...</td>\n",
       "      <td>...</td>\n",
       "      <td>...</td>\n",
       "      <td>...</td>\n",
       "      <td>...</td>\n",
       "      <td>...</td>\n",
       "      <td>...</td>\n",
       "      <td>...</td>\n",
       "      <td>...</td>\n",
       "      <td>...</td>\n",
       "      <td>...</td>\n",
       "      <td>...</td>\n",
       "      <td>...</td>\n",
       "    </tr>\n",
       "    <tr>\n",
       "      <th>75688</th>\n",
       "      <td>0</td>\n",
       "      <td>LeBron James</td>\n",
       "      <td>2544</td>\n",
       "      <td>0022301103</td>\n",
       "      <td>2024-04-03</td>\n",
       "      <td>2023-24</td>\n",
       "      <td>LAL</td>\n",
       "      <td>6.000</td>\n",
       "      <td>7.000</td>\n",
       "      <td>4.000</td>\n",
       "      <td>...</td>\n",
       "      <td>1.022</td>\n",
       "      <td>0.617</td>\n",
       "      <td>19.500</td>\n",
       "      <td>21.500</td>\n",
       "      <td>25.000</td>\n",
       "      <td>28.000</td>\n",
       "      <td>29.500</td>\n",
       "      <td>33.000</td>\n",
       "      <td>-0.206</td>\n",
       "      <td>-0.777</td>\n",
       "    </tr>\n",
       "    <tr>\n",
       "      <th>75689</th>\n",
       "      <td>1</td>\n",
       "      <td>LeBron James</td>\n",
       "      <td>2544</td>\n",
       "      <td>0022301127</td>\n",
       "      <td>2024-04-06</td>\n",
       "      <td>2023-24</td>\n",
       "      <td>LAL</td>\n",
       "      <td>9.000</td>\n",
       "      <td>2.000</td>\n",
       "      <td>2.000</td>\n",
       "      <td>...</td>\n",
       "      <td>0.719</td>\n",
       "      <td>-0.536</td>\n",
       "      <td>22.500</td>\n",
       "      <td>23.000</td>\n",
       "      <td>24.000</td>\n",
       "      <td>25.000</td>\n",
       "      <td>26.500</td>\n",
       "      <td>35.000</td>\n",
       "      <td>0.461</td>\n",
       "      <td>1.936</td>\n",
       "    </tr>\n",
       "    <tr>\n",
       "      <th>75690</th>\n",
       "      <td>1</td>\n",
       "      <td>LeBron James</td>\n",
       "      <td>2544</td>\n",
       "      <td>0022301155</td>\n",
       "      <td>2024-04-09</td>\n",
       "      <td>2023-24</td>\n",
       "      <td>LAL</td>\n",
       "      <td>11.000</td>\n",
       "      <td>3.000</td>\n",
       "      <td>5.000</td>\n",
       "      <td>...</td>\n",
       "      <td>-0.228</td>\n",
       "      <td>-0.043</td>\n",
       "      <td>22.500</td>\n",
       "      <td>23.500</td>\n",
       "      <td>26.000</td>\n",
       "      <td>30.000</td>\n",
       "      <td>31.000</td>\n",
       "      <td>38.000</td>\n",
       "      <td>0.682</td>\n",
       "      <td>-0.336</td>\n",
       "    </tr>\n",
       "    <tr>\n",
       "      <th>75691</th>\n",
       "      <td>3</td>\n",
       "      <td>LeBron James</td>\n",
       "      <td>2544</td>\n",
       "      <td>0022301177</td>\n",
       "      <td>2024-04-12</td>\n",
       "      <td>2023-24</td>\n",
       "      <td>LAL</td>\n",
       "      <td>10.000</td>\n",
       "      <td>2.000</td>\n",
       "      <td>1.000</td>\n",
       "      <td>...</td>\n",
       "      <td>0.380</td>\n",
       "      <td>-0.917</td>\n",
       "      <td>23.500</td>\n",
       "      <td>24.000</td>\n",
       "      <td>26.000</td>\n",
       "      <td>28.500</td>\n",
       "      <td>30.500</td>\n",
       "      <td>35.000</td>\n",
       "      <td>0.310</td>\n",
       "      <td>-0.432</td>\n",
       "    </tr>\n",
       "    <tr>\n",
       "      <th>75692</th>\n",
       "      <td>0</td>\n",
       "      <td>LeBron James</td>\n",
       "      <td>2544</td>\n",
       "      <td>0022301195</td>\n",
       "      <td>2024-04-14</td>\n",
       "      <td>2023-24</td>\n",
       "      <td>LAL</td>\n",
       "      <td>12.000</td>\n",
       "      <td>1.000</td>\n",
       "      <td>5.000</td>\n",
       "      <td>...</td>\n",
       "      <td>0.613</td>\n",
       "      <td>0.618</td>\n",
       "      <td>27.000</td>\n",
       "      <td>28.000</td>\n",
       "      <td>29.000</td>\n",
       "      <td>30.000</td>\n",
       "      <td>31.500</td>\n",
       "      <td>34.000</td>\n",
       "      <td>0.002</td>\n",
       "      <td>0.077</td>\n",
       "    </tr>\n",
       "  </tbody>\n",
       "</table>\n",
       "<p>75693 rows × 130 columns</p>\n",
       "</div>"
      ],
      "text/plain": [
       "       threesMade             name player_id     game_id   game_date   season  \\\n",
       "0               2  Marvin Williams    101107  0021700003  2017-10-18  2017-18   \n",
       "1               0  Marvin Williams    101107  0021700017  2017-10-20  2017-18   \n",
       "2               1  Marvin Williams    101107  0021700055  2017-10-25  2017-18   \n",
       "3               1  Marvin Williams    101107  0021700070  2017-10-27  2017-18   \n",
       "4               1  Marvin Williams    101107  0021700088  2017-10-29  2017-18   \n",
       "...           ...              ...       ...         ...         ...      ...   \n",
       "75688           0     LeBron James      2544  0022301103  2024-04-03  2023-24   \n",
       "75689           1     LeBron James      2544  0022301127  2024-04-06  2023-24   \n",
       "75690           1     LeBron James      2544  0022301155  2024-04-09  2023-24   \n",
       "75691           3     LeBron James      2544  0022301177  2024-04-12  2023-24   \n",
       "75692           0     LeBron James      2544  0022301195  2024-04-14  2023-24   \n",
       "\n",
       "      team  ra_fga  paint_fga  mid_fga  ...  crn_fgallowedskew  \\\n",
       "0      CHA   0.000      0.000    1.000  ...                NaN   \n",
       "1      CHA   1.000      0.000    1.000  ...                NaN   \n",
       "2      CHA   3.000      0.000    0.000  ...                NaN   \n",
       "3      CHA   1.000      0.000    1.000  ...                NaN   \n",
       "4      CHA   2.000      0.000    3.000  ...                NaN   \n",
       "...    ...     ...        ...      ...  ...                ...   \n",
       "75688  LAL   6.000      7.000    4.000  ...              1.022   \n",
       "75689  LAL   9.000      2.000    2.000  ...              0.719   \n",
       "75690  LAL  11.000      3.000    5.000  ...             -0.228   \n",
       "75691  LAL  10.000      2.000    1.000  ...              0.380   \n",
       "75692  LAL  12.000      1.000    5.000  ...              0.613   \n",
       "\n",
       "       crn_fgallowedkurt  abv_fgallowedst  abv_fgallowednd  abv_fgallowedrd  \\\n",
       "0                    NaN              NaN              NaN              NaN   \n",
       "1                    NaN              NaN              NaN              NaN   \n",
       "2                    NaN              NaN              NaN              NaN   \n",
       "3                    NaN              NaN              NaN              NaN   \n",
       "4                    NaN              NaN              NaN              NaN   \n",
       "...                  ...              ...              ...              ...   \n",
       "75688              0.617           19.500           21.500           25.000   \n",
       "75689             -0.536           22.500           23.000           24.000   \n",
       "75690             -0.043           22.500           23.500           26.000   \n",
       "75691             -0.917           23.500           24.000           26.000   \n",
       "75692              0.618           27.000           28.000           29.000   \n",
       "\n",
       "       abv_fgallowedrth  abv_fgallowedfth  abv_fgallowedxth  \\\n",
       "0                   NaN               NaN               NaN   \n",
       "1                   NaN               NaN               NaN   \n",
       "2                   NaN               NaN               NaN   \n",
       "3                   NaN               NaN               NaN   \n",
       "4                   NaN               NaN               NaN   \n",
       "...                 ...               ...               ...   \n",
       "75688            28.000            29.500            33.000   \n",
       "75689            25.000            26.500            35.000   \n",
       "75690            30.000            31.000            38.000   \n",
       "75691            28.500            30.500            35.000   \n",
       "75692            30.000            31.500            34.000   \n",
       "\n",
       "       abv_fgallowedskew  abv_fgallowedkurt  \n",
       "0                    NaN                NaN  \n",
       "1                    NaN                NaN  \n",
       "2                    NaN                NaN  \n",
       "3                    NaN                NaN  \n",
       "4                    NaN                NaN  \n",
       "...                  ...                ...  \n",
       "75688             -0.206             -0.777  \n",
       "75689              0.461              1.936  \n",
       "75690              0.682             -0.336  \n",
       "75691              0.310             -0.432  \n",
       "75692              0.002              0.077  \n",
       "\n",
       "[75693 rows x 130 columns]"
      ]
     },
     "execution_count": 345,
     "metadata": {},
     "output_type": "execute_result"
    }
   ],
   "source": [
    "f"
   ]
  },
  {
   "cell_type": "code",
   "execution_count": 346,
   "id": "de7deecf-b877-4a93-80e9-906e276dcd80",
   "metadata": {},
   "outputs": [],
   "source": [
    "y = f.threesMade"
   ]
  },
  {
   "cell_type": "code",
   "execution_count": 355,
   "id": "c6eeb80a-5eb7-4c62-94ac-d15cb0705c1b",
   "metadata": {},
   "outputs": [],
   "source": [
    "X = thr.filter([col for col in f.columns if col not in idCols+fgaCols+['threesMade']])"
   ]
  },
  {
   "cell_type": "code",
   "execution_count": 462,
   "id": "253a468e-9b8a-4d39-a92c-50dab5917825",
   "metadata": {},
   "outputs": [],
   "source": [
    "def naInfo(df,uniqueCol = None):\n",
    "    naCols == [df.columns[df.isna().any()].tolist()]\n",
    "    for col in naCols:\n",
    "        if uniqueCol != None:\n",
    "            print(\"{}:\\nmissing:{:,}-{:.2%}\\nunique:{:,}-{:.2%}\\n\\t\".format(col,\n",
    "            df[col].isna().sum(),df[col].isna().sum()/len(df[col]),df[thr[col].isna()][uniqueCol].nunique(),\n",
    "                                                                df[thr[col].isna()][uniqueCol].nunique()/df[col].isna().sum()))\n",
    "        else:\n",
    "            print(\"{}:\\nmissing:{:,}-{:.2%}\".format(col,df[col].isna().sum()))\n",
    "            "
   ]
  },
  {
   "cell_type": "code",
   "execution_count": 470,
   "id": "5479cbb7-3605-4f7f-b86b-7ae33304341a",
   "metadata": {},
   "outputs": [
    {
     "data": {
      "text/plain": [
       "plyrGameCt\n",
       "1    1390\n",
       "Name: count, dtype: int64"
      ]
     },
     "execution_count": 470,
     "metadata": {},
     "output_type": "execute_result"
    }
   ],
   "source": []
  },
  {
   "cell_type": "code",
   "execution_count": 463,
   "id": "ed077c7f-df2d-4fef-a26e-ffc5e0ba1855",
   "metadata": {},
   "outputs": [
    {
     "name": "stdout",
     "output_type": "stream",
     "text": [
      "daysBetweenGames:\n",
      "missing:1,390-1.84%\n",
      "unique:215-15.47%\n",
      "\t\n",
      "oppDaysLastGame:\n",
      "missing:968-1.28%\n",
      "unique:21-2.17%\n",
      "\t\n",
      "mvAvgThrees:\n",
      "missing:1,390-1.84%\n",
      "unique:215-15.47%\n",
      "\t\n",
      "mvAvgUsage:\n",
      "missing:1,390-1.84%\n",
      "unique:215-15.47%\n",
      "\t\n",
      "mvAvgOffRating:\n",
      "missing:1,390-1.84%\n",
      "unique:215-15.47%\n",
      "\t\n",
      "mvAvgFtPrct:\n",
      "missing:1,390-1.84%\n",
      "unique:215-15.47%\n",
      "\t\n",
      "mvAvgThrPtPrct:\n",
      "missing:1,390-1.84%\n",
      "unique:215-15.47%\n",
      "\t\n",
      "seasonFtPrct:\n",
      "missing:0-0.00%\n",
      "unique:0-nan%\n",
      "\t\n",
      "seasonThrPtPrct:\n",
      "missing:0-0.00%\n",
      "unique:0-nan%\n",
      "\t\n",
      "careerFtPrct:\n",
      "missing:0-0.00%\n",
      "unique:0-nan%\n",
      "\t\n",
      "careerThrPtPrct:\n",
      "missing:0-0.00%\n",
      "unique:0-nan%\n",
      "\t\n",
      "mvAvgOppPace:\n",
      "missing:968-1.28%\n",
      "unique:21-2.17%\n",
      "\t\n",
      "mvAvgOppOpen3:\n",
      "missing:972-1.28%\n",
      "unique:23-2.37%\n",
      "\t\n",
      "mvAvgOppWide3:\n",
      "missing:972-1.28%\n",
      "unique:23-2.37%\n",
      "\t\n",
      "mvAvgOppDefRating:\n",
      "missing:968-1.28%\n",
      "unique:21-2.17%\n",
      "\t\n",
      "seasonOppOpen3:\n",
      "missing:6-0.01%\n",
      "unique:1-16.67%\n",
      "\t\n",
      "seasonOppWide3:\n",
      "missing:6-0.01%\n",
      "unique:1-16.67%\n",
      "\t\n"
     ]
    },
    {
     "name": "stderr",
     "output_type": "stream",
     "text": [
      "/var/folders/29/0dqpwvqj4095gxyj5dkvym7r0000gn/T/ipykernel_47769/1167592563.py:7: RuntimeWarning: invalid value encountered in scalar divide\n",
      "  df[thr[col].isna()][uniqueCol].nunique()/df[col].isna().sum()))\n"
     ]
    }
   ],
   "source": [
    "naInfo(thr,'game_date')"
   ]
  },
  {
   "cell_type": "code",
   "execution_count": 448,
   "id": "e630b3da-9deb-4e34-9117-35e3055f78ed",
   "metadata": {},
   "outputs": [],
   "source": [
    "temp = thr.filter(['game_date','name','plyrGameCt']+[col for col in thr.columns if col.find('Ft')>-1])"
   ]
  },
  {
   "cell_type": "code",
   "execution_count": 455,
   "id": "fe2f573e-243d-4c4a-920c-be3c8defafe6",
   "metadata": {},
   "outputs": [
    {
     "data": {
      "text/html": [
       "<div>\n",
       "<style scoped>\n",
       "    .dataframe tbody tr th:only-of-type {\n",
       "        vertical-align: middle;\n",
       "    }\n",
       "\n",
       "    .dataframe tbody tr th {\n",
       "        vertical-align: top;\n",
       "    }\n",
       "\n",
       "    .dataframe thead th {\n",
       "        text-align: right;\n",
       "    }\n",
       "</style>\n",
       "<table border=\"1\" class=\"dataframe\">\n",
       "  <thead>\n",
       "    <tr style=\"text-align: right;\">\n",
       "      <th></th>\n",
       "      <th>game_date</th>\n",
       "      <th>name</th>\n",
       "      <th>plyrGameCt</th>\n",
       "      <th>mvAvgFtPrct</th>\n",
       "      <th>seasonFtPrct</th>\n",
       "      <th>careerFtPrct</th>\n",
       "    </tr>\n",
       "  </thead>\n",
       "  <tbody>\n",
       "    <tr>\n",
       "      <th>13675</th>\n",
       "      <td>2018-10-17</td>\n",
       "      <td>Vince Carter</td>\n",
       "      <td>1</td>\n",
       "      <td>NaN</td>\n",
       "      <td>1.000</td>\n",
       "      <td>1.000</td>\n",
       "    </tr>\n",
       "    <tr>\n",
       "      <th>13676</th>\n",
       "      <td>2018-10-19</td>\n",
       "      <td>Vince Carter</td>\n",
       "      <td>2</td>\n",
       "      <td>1.000</td>\n",
       "      <td>1.000</td>\n",
       "      <td>1.000</td>\n",
       "    </tr>\n",
       "    <tr>\n",
       "      <th>13677</th>\n",
       "      <td>2018-10-24</td>\n",
       "      <td>Vince Carter</td>\n",
       "      <td>3</td>\n",
       "      <td>1.000</td>\n",
       "      <td>1.000</td>\n",
       "      <td>1.000</td>\n",
       "    </tr>\n",
       "    <tr>\n",
       "      <th>13678</th>\n",
       "      <td>2018-10-27</td>\n",
       "      <td>Vince Carter</td>\n",
       "      <td>4</td>\n",
       "      <td>1.000</td>\n",
       "      <td>1.000</td>\n",
       "      <td>1.000</td>\n",
       "    </tr>\n",
       "    <tr>\n",
       "      <th>13679</th>\n",
       "      <td>2018-10-29</td>\n",
       "      <td>Vince Carter</td>\n",
       "      <td>5</td>\n",
       "      <td>1.000</td>\n",
       "      <td>1.000</td>\n",
       "      <td>1.000</td>\n",
       "    </tr>\n",
       "    <tr>\n",
       "      <th>13680</th>\n",
       "      <td>2018-10-30</td>\n",
       "      <td>Vince Carter</td>\n",
       "      <td>6</td>\n",
       "      <td>1.000</td>\n",
       "      <td>0.667</td>\n",
       "      <td>0.667</td>\n",
       "    </tr>\n",
       "    <tr>\n",
       "      <th>13681</th>\n",
       "      <td>2018-11-01</td>\n",
       "      <td>Vince Carter</td>\n",
       "      <td>7</td>\n",
       "      <td>0.667</td>\n",
       "      <td>0.667</td>\n",
       "      <td>0.667</td>\n",
       "    </tr>\n",
       "    <tr>\n",
       "      <th>13682</th>\n",
       "      <td>2018-11-03</td>\n",
       "      <td>Vince Carter</td>\n",
       "      <td>8</td>\n",
       "      <td>0.500</td>\n",
       "      <td>0.500</td>\n",
       "      <td>0.500</td>\n",
       "    </tr>\n",
       "    <tr>\n",
       "      <th>13683</th>\n",
       "      <td>2018-11-06</td>\n",
       "      <td>Vince Carter</td>\n",
       "      <td>9</td>\n",
       "      <td>0.000</td>\n",
       "      <td>0.600</td>\n",
       "      <td>0.600</td>\n",
       "    </tr>\n",
       "    <tr>\n",
       "      <th>13684</th>\n",
       "      <td>2018-11-07</td>\n",
       "      <td>Vince Carter</td>\n",
       "      <td>10</td>\n",
       "      <td>0.333</td>\n",
       "      <td>0.600</td>\n",
       "      <td>0.600</td>\n",
       "    </tr>\n",
       "    <tr>\n",
       "      <th>13685</th>\n",
       "      <td>2018-11-09</td>\n",
       "      <td>Vince Carter</td>\n",
       "      <td>11</td>\n",
       "      <td>0.333</td>\n",
       "      <td>0.600</td>\n",
       "      <td>0.600</td>\n",
       "    </tr>\n",
       "    <tr>\n",
       "      <th>13686</th>\n",
       "      <td>2018-11-11</td>\n",
       "      <td>Vince Carter</td>\n",
       "      <td>12</td>\n",
       "      <td>0.333</td>\n",
       "      <td>0.600</td>\n",
       "      <td>0.600</td>\n",
       "    </tr>\n",
       "    <tr>\n",
       "      <th>13687</th>\n",
       "      <td>2018-11-13</td>\n",
       "      <td>Vince Carter</td>\n",
       "      <td>13</td>\n",
       "      <td>0.500</td>\n",
       "      <td>0.600</td>\n",
       "      <td>0.600</td>\n",
       "    </tr>\n",
       "    <tr>\n",
       "      <th>13688</th>\n",
       "      <td>2018-11-15</td>\n",
       "      <td>Vince Carter</td>\n",
       "      <td>14</td>\n",
       "      <td>0.500</td>\n",
       "      <td>0.600</td>\n",
       "      <td>0.600</td>\n",
       "    </tr>\n",
       "    <tr>\n",
       "      <th>13689</th>\n",
       "      <td>2018-11-17</td>\n",
       "      <td>Vince Carter</td>\n",
       "      <td>15</td>\n",
       "      <td>1.000</td>\n",
       "      <td>0.500</td>\n",
       "      <td>0.500</td>\n",
       "    </tr>\n",
       "    <tr>\n",
       "      <th>13690</th>\n",
       "      <td>2018-11-19</td>\n",
       "      <td>Vince Carter</td>\n",
       "      <td>16</td>\n",
       "      <td>0.000</td>\n",
       "      <td>0.500</td>\n",
       "      <td>0.500</td>\n",
       "    </tr>\n",
       "    <tr>\n",
       "      <th>13691</th>\n",
       "      <td>2018-11-21</td>\n",
       "      <td>Vince Carter</td>\n",
       "      <td>17</td>\n",
       "      <td>0.000</td>\n",
       "      <td>0.571</td>\n",
       "      <td>0.571</td>\n",
       "    </tr>\n",
       "    <tr>\n",
       "      <th>13692</th>\n",
       "      <td>2018-11-23</td>\n",
       "      <td>Vince Carter</td>\n",
       "      <td>18</td>\n",
       "      <td>0.500</td>\n",
       "      <td>0.571</td>\n",
       "      <td>0.571</td>\n",
       "    </tr>\n",
       "    <tr>\n",
       "      <th>13693</th>\n",
       "      <td>2018-11-28</td>\n",
       "      <td>Vince Carter</td>\n",
       "      <td>19</td>\n",
       "      <td>0.500</td>\n",
       "      <td>0.625</td>\n",
       "      <td>0.625</td>\n",
       "    </tr>\n",
       "    <tr>\n",
       "      <th>13694</th>\n",
       "      <td>2018-12-03</td>\n",
       "      <td>Vince Carter</td>\n",
       "      <td>20</td>\n",
       "      <td>0.667</td>\n",
       "      <td>0.625</td>\n",
       "      <td>0.625</td>\n",
       "    </tr>\n",
       "    <tr>\n",
       "      <th>13695</th>\n",
       "      <td>2018-12-05</td>\n",
       "      <td>Vince Carter</td>\n",
       "      <td>21</td>\n",
       "      <td>0.667</td>\n",
       "      <td>0.667</td>\n",
       "      <td>0.667</td>\n",
       "    </tr>\n",
       "    <tr>\n",
       "      <th>13696</th>\n",
       "      <td>2018-12-08</td>\n",
       "      <td>Vince Carter</td>\n",
       "      <td>22</td>\n",
       "      <td>1.000</td>\n",
       "      <td>0.667</td>\n",
       "      <td>0.667</td>\n",
       "    </tr>\n",
       "    <tr>\n",
       "      <th>13697</th>\n",
       "      <td>2018-12-12</td>\n",
       "      <td>Vince Carter</td>\n",
       "      <td>23</td>\n",
       "      <td>1.000</td>\n",
       "      <td>0.667</td>\n",
       "      <td>0.667</td>\n",
       "    </tr>\n",
       "    <tr>\n",
       "      <th>13698</th>\n",
       "      <td>2018-12-18</td>\n",
       "      <td>Vince Carter</td>\n",
       "      <td>24</td>\n",
       "      <td>1.000</td>\n",
       "      <td>0.667</td>\n",
       "      <td>0.667</td>\n",
       "    </tr>\n",
       "    <tr>\n",
       "      <th>13699</th>\n",
       "      <td>2018-12-21</td>\n",
       "      <td>Vince Carter</td>\n",
       "      <td>25</td>\n",
       "      <td>1.000</td>\n",
       "      <td>0.667</td>\n",
       "      <td>0.667</td>\n",
       "    </tr>\n",
       "    <tr>\n",
       "      <th>13700</th>\n",
       "      <td>2018-12-23</td>\n",
       "      <td>Vince Carter</td>\n",
       "      <td>26</td>\n",
       "      <td>1.000</td>\n",
       "      <td>0.700</td>\n",
       "      <td>0.700</td>\n",
       "    </tr>\n",
       "    <tr>\n",
       "      <th>13701</th>\n",
       "      <td>2018-12-26</td>\n",
       "      <td>Vince Carter</td>\n",
       "      <td>27</td>\n",
       "      <td>1.000</td>\n",
       "      <td>0.700</td>\n",
       "      <td>0.700</td>\n",
       "    </tr>\n",
       "    <tr>\n",
       "      <th>13702</th>\n",
       "      <td>2018-12-28</td>\n",
       "      <td>Vince Carter</td>\n",
       "      <td>28</td>\n",
       "      <td>1.000</td>\n",
       "      <td>0.700</td>\n",
       "      <td>0.700</td>\n",
       "    </tr>\n",
       "    <tr>\n",
       "      <th>13703</th>\n",
       "      <td>2018-12-29</td>\n",
       "      <td>Vince Carter</td>\n",
       "      <td>29</td>\n",
       "      <td>1.000</td>\n",
       "      <td>0.636</td>\n",
       "      <td>0.636</td>\n",
       "    </tr>\n",
       "    <tr>\n",
       "      <th>13704</th>\n",
       "      <td>2018-12-31</td>\n",
       "      <td>Vince Carter</td>\n",
       "      <td>30</td>\n",
       "      <td>0.500</td>\n",
       "      <td>0.636</td>\n",
       "      <td>0.636</td>\n",
       "    </tr>\n",
       "    <tr>\n",
       "      <th>13705</th>\n",
       "      <td>2019-01-02</td>\n",
       "      <td>Vince Carter</td>\n",
       "      <td>31</td>\n",
       "      <td>0.500</td>\n",
       "      <td>0.636</td>\n",
       "      <td>0.636</td>\n",
       "    </tr>\n",
       "    <tr>\n",
       "      <th>13706</th>\n",
       "      <td>2019-01-06</td>\n",
       "      <td>Vince Carter</td>\n",
       "      <td>32</td>\n",
       "      <td>0.500</td>\n",
       "      <td>0.636</td>\n",
       "      <td>0.636</td>\n",
       "    </tr>\n",
       "    <tr>\n",
       "      <th>13707</th>\n",
       "      <td>2019-01-08</td>\n",
       "      <td>Vince Carter</td>\n",
       "      <td>33</td>\n",
       "      <td>0.000</td>\n",
       "      <td>0.636</td>\n",
       "      <td>0.636</td>\n",
       "    </tr>\n",
       "    <tr>\n",
       "      <th>13708</th>\n",
       "      <td>2019-01-09</td>\n",
       "      <td>Vince Carter</td>\n",
       "      <td>34</td>\n",
       "      <td>0.000</td>\n",
       "      <td>0.636</td>\n",
       "      <td>0.636</td>\n",
       "    </tr>\n",
       "    <tr>\n",
       "      <th>13709</th>\n",
       "      <td>2019-01-11</td>\n",
       "      <td>Vince Carter</td>\n",
       "      <td>35</td>\n",
       "      <td>0.000</td>\n",
       "      <td>0.636</td>\n",
       "      <td>0.636</td>\n",
       "    </tr>\n",
       "    <tr>\n",
       "      <th>13710</th>\n",
       "      <td>2019-01-13</td>\n",
       "      <td>Vince Carter</td>\n",
       "      <td>36</td>\n",
       "      <td>NaN</td>\n",
       "      <td>0.636</td>\n",
       "      <td>0.636</td>\n",
       "    </tr>\n",
       "    <tr>\n",
       "      <th>13711</th>\n",
       "      <td>2019-01-19</td>\n",
       "      <td>Vince Carter</td>\n",
       "      <td>37</td>\n",
       "      <td>NaN</td>\n",
       "      <td>0.636</td>\n",
       "      <td>0.636</td>\n",
       "    </tr>\n",
       "    <tr>\n",
       "      <th>13712</th>\n",
       "      <td>2019-01-21</td>\n",
       "      <td>Vince Carter</td>\n",
       "      <td>38</td>\n",
       "      <td>NaN</td>\n",
       "      <td>0.636</td>\n",
       "      <td>0.636</td>\n",
       "    </tr>\n",
       "    <tr>\n",
       "      <th>13713</th>\n",
       "      <td>2019-01-26</td>\n",
       "      <td>Vince Carter</td>\n",
       "      <td>39</td>\n",
       "      <td>NaN</td>\n",
       "      <td>0.583</td>\n",
       "      <td>0.583</td>\n",
       "    </tr>\n",
       "    <tr>\n",
       "      <th>13714</th>\n",
       "      <td>2019-01-28</td>\n",
       "      <td>Vince Carter</td>\n",
       "      <td>40</td>\n",
       "      <td>0.000</td>\n",
       "      <td>0.583</td>\n",
       "      <td>0.583</td>\n",
       "    </tr>\n",
       "    <tr>\n",
       "      <th>13715</th>\n",
       "      <td>2019-02-02</td>\n",
       "      <td>Vince Carter</td>\n",
       "      <td>41</td>\n",
       "      <td>0.000</td>\n",
       "      <td>0.583</td>\n",
       "      <td>0.583</td>\n",
       "    </tr>\n",
       "    <tr>\n",
       "      <th>13716</th>\n",
       "      <td>2019-02-07</td>\n",
       "      <td>Vince Carter</td>\n",
       "      <td>42</td>\n",
       "      <td>0.000</td>\n",
       "      <td>0.538</td>\n",
       "      <td>0.538</td>\n",
       "    </tr>\n",
       "    <tr>\n",
       "      <th>13717</th>\n",
       "      <td>2019-02-09</td>\n",
       "      <td>Vince Carter</td>\n",
       "      <td>43</td>\n",
       "      <td>0.000</td>\n",
       "      <td>0.538</td>\n",
       "      <td>0.538</td>\n",
       "    </tr>\n",
       "    <tr>\n",
       "      <th>13718</th>\n",
       "      <td>2019-02-12</td>\n",
       "      <td>Vince Carter</td>\n",
       "      <td>44</td>\n",
       "      <td>0.000</td>\n",
       "      <td>0.571</td>\n",
       "      <td>0.571</td>\n",
       "    </tr>\n",
       "    <tr>\n",
       "      <th>13719</th>\n",
       "      <td>2019-02-14</td>\n",
       "      <td>Vince Carter</td>\n",
       "      <td>45</td>\n",
       "      <td>0.333</td>\n",
       "      <td>0.533</td>\n",
       "      <td>0.533</td>\n",
       "    </tr>\n",
       "    <tr>\n",
       "      <th>13720</th>\n",
       "      <td>2019-02-22</td>\n",
       "      <td>Vince Carter</td>\n",
       "      <td>46</td>\n",
       "      <td>0.333</td>\n",
       "      <td>0.500</td>\n",
       "      <td>0.500</td>\n",
       "    </tr>\n",
       "    <tr>\n",
       "      <th>13721</th>\n",
       "      <td>2019-02-25</td>\n",
       "      <td>Vince Carter</td>\n",
       "      <td>47</td>\n",
       "      <td>0.250</td>\n",
       "      <td>0.500</td>\n",
       "      <td>0.500</td>\n",
       "    </tr>\n",
       "    <tr>\n",
       "      <th>13722</th>\n",
       "      <td>2019-02-27</td>\n",
       "      <td>Vince Carter</td>\n",
       "      <td>48</td>\n",
       "      <td>0.250</td>\n",
       "      <td>0.471</td>\n",
       "      <td>0.471</td>\n",
       "    </tr>\n",
       "    <tr>\n",
       "      <th>13723</th>\n",
       "      <td>2019-03-01</td>\n",
       "      <td>Vince Carter</td>\n",
       "      <td>49</td>\n",
       "      <td>0.250</td>\n",
       "      <td>0.471</td>\n",
       "      <td>0.471</td>\n",
       "    </tr>\n",
       "    <tr>\n",
       "      <th>13724</th>\n",
       "      <td>2019-03-04</td>\n",
       "      <td>Vince Carter</td>\n",
       "      <td>50</td>\n",
       "      <td>0.250</td>\n",
       "      <td>0.471</td>\n",
       "      <td>0.471</td>\n",
       "    </tr>\n",
       "  </tbody>\n",
       "</table>\n",
       "</div>"
      ],
      "text/plain": [
       "        game_date          name  plyrGameCt  mvAvgFtPrct  seasonFtPrct  \\\n",
       "13675  2018-10-17  Vince Carter           1          NaN         1.000   \n",
       "13676  2018-10-19  Vince Carter           2        1.000         1.000   \n",
       "13677  2018-10-24  Vince Carter           3        1.000         1.000   \n",
       "13678  2018-10-27  Vince Carter           4        1.000         1.000   \n",
       "13679  2018-10-29  Vince Carter           5        1.000         1.000   \n",
       "13680  2018-10-30  Vince Carter           6        1.000         0.667   \n",
       "13681  2018-11-01  Vince Carter           7        0.667         0.667   \n",
       "13682  2018-11-03  Vince Carter           8        0.500         0.500   \n",
       "13683  2018-11-06  Vince Carter           9        0.000         0.600   \n",
       "13684  2018-11-07  Vince Carter          10        0.333         0.600   \n",
       "13685  2018-11-09  Vince Carter          11        0.333         0.600   \n",
       "13686  2018-11-11  Vince Carter          12        0.333         0.600   \n",
       "13687  2018-11-13  Vince Carter          13        0.500         0.600   \n",
       "13688  2018-11-15  Vince Carter          14        0.500         0.600   \n",
       "13689  2018-11-17  Vince Carter          15        1.000         0.500   \n",
       "13690  2018-11-19  Vince Carter          16        0.000         0.500   \n",
       "13691  2018-11-21  Vince Carter          17        0.000         0.571   \n",
       "13692  2018-11-23  Vince Carter          18        0.500         0.571   \n",
       "13693  2018-11-28  Vince Carter          19        0.500         0.625   \n",
       "13694  2018-12-03  Vince Carter          20        0.667         0.625   \n",
       "13695  2018-12-05  Vince Carter          21        0.667         0.667   \n",
       "13696  2018-12-08  Vince Carter          22        1.000         0.667   \n",
       "13697  2018-12-12  Vince Carter          23        1.000         0.667   \n",
       "13698  2018-12-18  Vince Carter          24        1.000         0.667   \n",
       "13699  2018-12-21  Vince Carter          25        1.000         0.667   \n",
       "13700  2018-12-23  Vince Carter          26        1.000         0.700   \n",
       "13701  2018-12-26  Vince Carter          27        1.000         0.700   \n",
       "13702  2018-12-28  Vince Carter          28        1.000         0.700   \n",
       "13703  2018-12-29  Vince Carter          29        1.000         0.636   \n",
       "13704  2018-12-31  Vince Carter          30        0.500         0.636   \n",
       "13705  2019-01-02  Vince Carter          31        0.500         0.636   \n",
       "13706  2019-01-06  Vince Carter          32        0.500         0.636   \n",
       "13707  2019-01-08  Vince Carter          33        0.000         0.636   \n",
       "13708  2019-01-09  Vince Carter          34        0.000         0.636   \n",
       "13709  2019-01-11  Vince Carter          35        0.000         0.636   \n",
       "13710  2019-01-13  Vince Carter          36          NaN         0.636   \n",
       "13711  2019-01-19  Vince Carter          37          NaN         0.636   \n",
       "13712  2019-01-21  Vince Carter          38          NaN         0.636   \n",
       "13713  2019-01-26  Vince Carter          39          NaN         0.583   \n",
       "13714  2019-01-28  Vince Carter          40        0.000         0.583   \n",
       "13715  2019-02-02  Vince Carter          41        0.000         0.583   \n",
       "13716  2019-02-07  Vince Carter          42        0.000         0.538   \n",
       "13717  2019-02-09  Vince Carter          43        0.000         0.538   \n",
       "13718  2019-02-12  Vince Carter          44        0.000         0.571   \n",
       "13719  2019-02-14  Vince Carter          45        0.333         0.533   \n",
       "13720  2019-02-22  Vince Carter          46        0.333         0.500   \n",
       "13721  2019-02-25  Vince Carter          47        0.250         0.500   \n",
       "13722  2019-02-27  Vince Carter          48        0.250         0.471   \n",
       "13723  2019-03-01  Vince Carter          49        0.250         0.471   \n",
       "13724  2019-03-04  Vince Carter          50        0.250         0.471   \n",
       "\n",
       "       careerFtPrct  \n",
       "13675         1.000  \n",
       "13676         1.000  \n",
       "13677         1.000  \n",
       "13678         1.000  \n",
       "13679         1.000  \n",
       "13680         0.667  \n",
       "13681         0.667  \n",
       "13682         0.500  \n",
       "13683         0.600  \n",
       "13684         0.600  \n",
       "13685         0.600  \n",
       "13686         0.600  \n",
       "13687         0.600  \n",
       "13688         0.600  \n",
       "13689         0.500  \n",
       "13690         0.500  \n",
       "13691         0.571  \n",
       "13692         0.571  \n",
       "13693         0.625  \n",
       "13694         0.625  \n",
       "13695         0.667  \n",
       "13696         0.667  \n",
       "13697         0.667  \n",
       "13698         0.667  \n",
       "13699         0.667  \n",
       "13700         0.700  \n",
       "13701         0.700  \n",
       "13702         0.700  \n",
       "13703         0.636  \n",
       "13704         0.636  \n",
       "13705         0.636  \n",
       "13706         0.636  \n",
       "13707         0.636  \n",
       "13708         0.636  \n",
       "13709         0.636  \n",
       "13710         0.636  \n",
       "13711         0.636  \n",
       "13712         0.636  \n",
       "13713         0.583  \n",
       "13714         0.583  \n",
       "13715         0.583  \n",
       "13716         0.538  \n",
       "13717         0.538  \n",
       "13718         0.571  \n",
       "13719         0.533  \n",
       "13720         0.500  \n",
       "13721         0.500  \n",
       "13722         0.471  \n",
       "13723         0.471  \n",
       "13724         0.471  "
      ]
     },
     "execution_count": 455,
     "metadata": {},
     "output_type": "execute_result"
    }
   ],
   "source": [
    "temp[temp.name == 'Vince Carter'].head(50)"
   ]
  },
  {
   "cell_type": "code",
   "execution_count": 452,
   "id": "9ca65d86-452b-42b9-bb3d-99c35e71baae",
   "metadata": {},
   "outputs": [
    {
     "data": {
      "text/html": [
       "<div>\n",
       "<style scoped>\n",
       "    .dataframe tbody tr th:only-of-type {\n",
       "        vertical-align: middle;\n",
       "    }\n",
       "\n",
       "    .dataframe tbody tr th {\n",
       "        vertical-align: top;\n",
       "    }\n",
       "\n",
       "    .dataframe thead th {\n",
       "        text-align: right;\n",
       "    }\n",
       "</style>\n",
       "<table border=\"1\" class=\"dataframe\">\n",
       "  <thead>\n",
       "    <tr style=\"text-align: right;\">\n",
       "      <th></th>\n",
       "      <th>game_date</th>\n",
       "      <th>name</th>\n",
       "      <th>plyrGameCt</th>\n",
       "      <th>mvAvgFtPrct</th>\n",
       "      <th>seasonFtPrct</th>\n",
       "      <th>careerFtPrct</th>\n",
       "    </tr>\n",
       "  </thead>\n",
       "  <tbody>\n",
       "    <tr>\n",
       "      <th>3983</th>\n",
       "      <td>2018-02-09</td>\n",
       "      <td>Jerryd Bayless</td>\n",
       "      <td>35</td>\n",
       "      <td>NaN</td>\n",
       "      <td>0.533</td>\n",
       "      <td>0.533</td>\n",
       "    </tr>\n",
       "    <tr>\n",
       "      <th>5132</th>\n",
       "      <td>2018-01-17</td>\n",
       "      <td>Danny Green</td>\n",
       "      <td>35</td>\n",
       "      <td>NaN</td>\n",
       "      <td>0.286</td>\n",
       "      <td>0.286</td>\n",
       "    </tr>\n",
       "    <tr>\n",
       "      <th>10937</th>\n",
       "      <td>2019-02-08</td>\n",
       "      <td>Quinn Cook</td>\n",
       "      <td>35</td>\n",
       "      <td>NaN</td>\n",
       "      <td>0.667</td>\n",
       "      <td>0.762</td>\n",
       "    </tr>\n",
       "    <tr>\n",
       "      <th>10995</th>\n",
       "      <td>2019-03-01</td>\n",
       "      <td>Pat Connaughton</td>\n",
       "      <td>35</td>\n",
       "      <td>NaN</td>\n",
       "      <td>0.500</td>\n",
       "      <td>0.500</td>\n",
       "    </tr>\n",
       "    <tr>\n",
       "      <th>13482</th>\n",
       "      <td>2019-03-31</td>\n",
       "      <td>Kenrich Williams</td>\n",
       "      <td>35</td>\n",
       "      <td>NaN</td>\n",
       "      <td>0.429</td>\n",
       "      <td>0.429</td>\n",
       "    </tr>\n",
       "    <tr>\n",
       "      <th>24448</th>\n",
       "      <td>2020-08-01</td>\n",
       "      <td>Nickeil Alexander-Walker</td>\n",
       "      <td>35</td>\n",
       "      <td>NaN</td>\n",
       "      <td>0.333</td>\n",
       "      <td>0.333</td>\n",
       "    </tr>\n",
       "    <tr>\n",
       "      <th>24763</th>\n",
       "      <td>2020-01-30</td>\n",
       "      <td>Vince Carter</td>\n",
       "      <td>35</td>\n",
       "      <td>NaN</td>\n",
       "      <td>0.556</td>\n",
       "      <td>0.515</td>\n",
       "    </tr>\n",
       "    <tr>\n",
       "      <th>24989</th>\n",
       "      <td>2020-01-03</td>\n",
       "      <td>P.J. Tucker</td>\n",
       "      <td>35</td>\n",
       "      <td>NaN</td>\n",
       "      <td>0.462</td>\n",
       "      <td>0.492</td>\n",
       "    </tr>\n",
       "    <tr>\n",
       "      <th>25322</th>\n",
       "      <td>2020-03-10</td>\n",
       "      <td>Wilson Chandler</td>\n",
       "      <td>35</td>\n",
       "      <td>NaN</td>\n",
       "      <td>0.727</td>\n",
       "      <td>0.566</td>\n",
       "    </tr>\n",
       "    <tr>\n",
       "      <th>27989</th>\n",
       "      <td>2019-12-31</td>\n",
       "      <td>Mike Scott</td>\n",
       "      <td>35</td>\n",
       "      <td>NaN</td>\n",
       "      <td>0.667</td>\n",
       "      <td>0.462</td>\n",
       "    </tr>\n",
       "    <tr>\n",
       "      <th>28258</th>\n",
       "      <td>2020-01-20</td>\n",
       "      <td>Ben McLemore</td>\n",
       "      <td>35</td>\n",
       "      <td>NaN</td>\n",
       "      <td>0.692</td>\n",
       "      <td>0.649</td>\n",
       "    </tr>\n",
       "    <tr>\n",
       "      <th>28451</th>\n",
       "      <td>2020-01-15</td>\n",
       "      <td>Kelly Olynyk</td>\n",
       "      <td>35</td>\n",
       "      <td>NaN</td>\n",
       "      <td>0.667</td>\n",
       "      <td>0.508</td>\n",
       "    </tr>\n",
       "    <tr>\n",
       "      <th>28577</th>\n",
       "      <td>2020-08-03</td>\n",
       "      <td>Mike Muscala</td>\n",
       "      <td>35</td>\n",
       "      <td>NaN</td>\n",
       "      <td>0.556</td>\n",
       "      <td>0.756</td>\n",
       "    </tr>\n",
       "    <tr>\n",
       "      <th>28734</th>\n",
       "      <td>2020-01-18</td>\n",
       "      <td>Tony Snell</td>\n",
       "      <td>35</td>\n",
       "      <td>NaN</td>\n",
       "      <td>1.000</td>\n",
       "      <td>0.650</td>\n",
       "    </tr>\n",
       "    <tr>\n",
       "      <th>30937</th>\n",
       "      <td>2021-03-01</td>\n",
       "      <td>Royce O'Neale</td>\n",
       "      <td>35</td>\n",
       "      <td>NaN</td>\n",
       "      <td>0.700</td>\n",
       "      <td>0.647</td>\n",
       "    </tr>\n",
       "    <tr>\n",
       "      <th>31573</th>\n",
       "      <td>2021-03-19</td>\n",
       "      <td>Georges Niang</td>\n",
       "      <td>35</td>\n",
       "      <td>NaN</td>\n",
       "      <td>1.000</td>\n",
       "      <td>0.750</td>\n",
       "    </tr>\n",
       "    <tr>\n",
       "      <th>32451</th>\n",
       "      <td>2021-03-22</td>\n",
       "      <td>Luke Kennard</td>\n",
       "      <td>35</td>\n",
       "      <td>NaN</td>\n",
       "      <td>0.750</td>\n",
       "      <td>0.680</td>\n",
       "    </tr>\n",
       "    <tr>\n",
       "      <th>35435</th>\n",
       "      <td>2021-03-18</td>\n",
       "      <td>Deni Avdija</td>\n",
       "      <td>35</td>\n",
       "      <td>NaN</td>\n",
       "      <td>0.400</td>\n",
       "      <td>0.400</td>\n",
       "    </tr>\n",
       "    <tr>\n",
       "      <th>38572</th>\n",
       "      <td>2021-04-16</td>\n",
       "      <td>Mike Scott</td>\n",
       "      <td>35</td>\n",
       "      <td>NaN</td>\n",
       "      <td>0.400</td>\n",
       "      <td>0.500</td>\n",
       "    </tr>\n",
       "    <tr>\n",
       "      <th>46756</th>\n",
       "      <td>2022-02-09</td>\n",
       "      <td>Aleksej Pokusevski</td>\n",
       "      <td>35</td>\n",
       "      <td>NaN</td>\n",
       "      <td>0.286</td>\n",
       "      <td>0.435</td>\n",
       "    </tr>\n",
       "    <tr>\n",
       "      <th>48283</th>\n",
       "      <td>2022-01-15</td>\n",
       "      <td>Al Horford</td>\n",
       "      <td>35</td>\n",
       "      <td>NaN</td>\n",
       "      <td>0.667</td>\n",
       "      <td>0.533</td>\n",
       "    </tr>\n",
       "    <tr>\n",
       "      <th>49028</th>\n",
       "      <td>2022-02-27</td>\n",
       "      <td>Danny Green</td>\n",
       "      <td>35</td>\n",
       "      <td>NaN</td>\n",
       "      <td>0.750</td>\n",
       "      <td>0.556</td>\n",
       "    </tr>\n",
       "    <tr>\n",
       "      <th>50109</th>\n",
       "      <td>2022-02-24</td>\n",
       "      <td>Austin Rivers</td>\n",
       "      <td>35</td>\n",
       "      <td>NaN</td>\n",
       "      <td>0.333</td>\n",
       "      <td>0.287</td>\n",
       "    </tr>\n",
       "    <tr>\n",
       "      <th>51277</th>\n",
       "      <td>2022-02-09</td>\n",
       "      <td>Doug McDermott</td>\n",
       "      <td>35</td>\n",
       "      <td>NaN</td>\n",
       "      <td>0.500</td>\n",
       "      <td>0.620</td>\n",
       "    </tr>\n",
       "    <tr>\n",
       "      <th>52763</th>\n",
       "      <td>2023-01-08</td>\n",
       "      <td>Royce O'Neale</td>\n",
       "      <td>35</td>\n",
       "      <td>NaN</td>\n",
       "      <td>0.300</td>\n",
       "      <td>0.600</td>\n",
       "    </tr>\n",
       "    <tr>\n",
       "      <th>52929</th>\n",
       "      <td>2022-12-29</td>\n",
       "      <td>Buddy Hield</td>\n",
       "      <td>35</td>\n",
       "      <td>NaN</td>\n",
       "      <td>0.611</td>\n",
       "      <td>0.665</td>\n",
       "    </tr>\n",
       "    <tr>\n",
       "      <th>54820</th>\n",
       "      <td>2023-01-15</td>\n",
       "      <td>Troy Brown Jr.</td>\n",
       "      <td>35</td>\n",
       "      <td>NaN</td>\n",
       "      <td>1.000</td>\n",
       "      <td>1.000</td>\n",
       "    </tr>\n",
       "    <tr>\n",
       "      <th>57389</th>\n",
       "      <td>2023-03-06</td>\n",
       "      <td>Dean Wade</td>\n",
       "      <td>35</td>\n",
       "      <td>NaN</td>\n",
       "      <td>0.250</td>\n",
       "      <td>0.405</td>\n",
       "    </tr>\n",
       "    <tr>\n",
       "      <th>59022</th>\n",
       "      <td>2023-01-22</td>\n",
       "      <td>Tre Mann</td>\n",
       "      <td>35</td>\n",
       "      <td>NaN</td>\n",
       "      <td>0.417</td>\n",
       "      <td>0.541</td>\n",
       "    </tr>\n",
       "    <tr>\n",
       "      <th>60165</th>\n",
       "      <td>2023-01-14</td>\n",
       "      <td>AJ Griffin</td>\n",
       "      <td>35</td>\n",
       "      <td>NaN</td>\n",
       "      <td>0.778</td>\n",
       "      <td>0.778</td>\n",
       "    </tr>\n",
       "    <tr>\n",
       "      <th>62365</th>\n",
       "      <td>2023-01-05</td>\n",
       "      <td>Reggie Bullock Jr.</td>\n",
       "      <td>35</td>\n",
       "      <td>NaN</td>\n",
       "      <td>0.462</td>\n",
       "      <td>0.651</td>\n",
       "    </tr>\n",
       "    <tr>\n",
       "      <th>62754</th>\n",
       "      <td>2023-03-19</td>\n",
       "      <td>Gary Harris</td>\n",
       "      <td>35</td>\n",
       "      <td>NaN</td>\n",
       "      <td>0.727</td>\n",
       "      <td>0.567</td>\n",
       "    </tr>\n",
       "    <tr>\n",
       "      <th>62884</th>\n",
       "      <td>2023-01-25</td>\n",
       "      <td>Joe Harris</td>\n",
       "      <td>35</td>\n",
       "      <td>NaN</td>\n",
       "      <td>0.400</td>\n",
       "      <td>0.589</td>\n",
       "    </tr>\n",
       "    <tr>\n",
       "      <th>64327</th>\n",
       "      <td>2024-01-08</td>\n",
       "      <td>Malik Beasley</td>\n",
       "      <td>35</td>\n",
       "      <td>NaN</td>\n",
       "      <td>0.600</td>\n",
       "      <td>0.612</td>\n",
       "    </tr>\n",
       "    <tr>\n",
       "      <th>64968</th>\n",
       "      <td>2024-01-15</td>\n",
       "      <td>Dorian Finney-Smith</td>\n",
       "      <td>35</td>\n",
       "      <td>NaN</td>\n",
       "      <td>0.667</td>\n",
       "      <td>0.472</td>\n",
       "    </tr>\n",
       "    <tr>\n",
       "      <th>66292</th>\n",
       "      <td>2024-03-09</td>\n",
       "      <td>Jevon Carter</td>\n",
       "      <td>35</td>\n",
       "      <td>NaN</td>\n",
       "      <td>0.500</td>\n",
       "      <td>0.667</td>\n",
       "    </tr>\n",
       "    <tr>\n",
       "      <th>67159</th>\n",
       "      <td>2024-01-26</td>\n",
       "      <td>Gary Trent Jr.</td>\n",
       "      <td>35</td>\n",
       "      <td>NaN</td>\n",
       "      <td>0.400</td>\n",
       "      <td>0.536</td>\n",
       "    </tr>\n",
       "    <tr>\n",
       "      <th>69569</th>\n",
       "      <td>2024-01-13</td>\n",
       "      <td>Isaiah Joe</td>\n",
       "      <td>35</td>\n",
       "      <td>NaN</td>\n",
       "      <td>0.545</td>\n",
       "      <td>0.635</td>\n",
       "    </tr>\n",
       "    <tr>\n",
       "      <th>70765</th>\n",
       "      <td>2024-01-10</td>\n",
       "      <td>Sam Hauser</td>\n",
       "      <td>35</td>\n",
       "      <td>NaN</td>\n",
       "      <td>0.600</td>\n",
       "      <td>0.538</td>\n",
       "    </tr>\n",
       "    <tr>\n",
       "      <th>72343</th>\n",
       "      <td>2024-03-19</td>\n",
       "      <td>Caleb Houstan</td>\n",
       "      <td>35</td>\n",
       "      <td>NaN</td>\n",
       "      <td>0.500</td>\n",
       "      <td>0.500</td>\n",
       "    </tr>\n",
       "    <tr>\n",
       "      <th>73633</th>\n",
       "      <td>2024-03-01</td>\n",
       "      <td>Nicolas Batum</td>\n",
       "      <td>35</td>\n",
       "      <td>NaN</td>\n",
       "      <td>0.250</td>\n",
       "      <td>0.550</td>\n",
       "    </tr>\n",
       "    <tr>\n",
       "      <th>74782</th>\n",
       "      <td>2024-03-31</td>\n",
       "      <td>Justin Holiday</td>\n",
       "      <td>35</td>\n",
       "      <td>NaN</td>\n",
       "      <td>0.500</td>\n",
       "      <td>0.607</td>\n",
       "    </tr>\n",
       "  </tbody>\n",
       "</table>\n",
       "</div>"
      ],
      "text/plain": [
       "        game_date                      name  plyrGameCt  mvAvgFtPrct  \\\n",
       "3983   2018-02-09            Jerryd Bayless          35          NaN   \n",
       "5132   2018-01-17               Danny Green          35          NaN   \n",
       "10937  2019-02-08                Quinn Cook          35          NaN   \n",
       "10995  2019-03-01           Pat Connaughton          35          NaN   \n",
       "13482  2019-03-31          Kenrich Williams          35          NaN   \n",
       "24448  2020-08-01  Nickeil Alexander-Walker          35          NaN   \n",
       "24763  2020-01-30              Vince Carter          35          NaN   \n",
       "24989  2020-01-03               P.J. Tucker          35          NaN   \n",
       "25322  2020-03-10           Wilson Chandler          35          NaN   \n",
       "27989  2019-12-31                Mike Scott          35          NaN   \n",
       "28258  2020-01-20              Ben McLemore          35          NaN   \n",
       "28451  2020-01-15              Kelly Olynyk          35          NaN   \n",
       "28577  2020-08-03              Mike Muscala          35          NaN   \n",
       "28734  2020-01-18                Tony Snell          35          NaN   \n",
       "30937  2021-03-01             Royce O'Neale          35          NaN   \n",
       "31573  2021-03-19             Georges Niang          35          NaN   \n",
       "32451  2021-03-22              Luke Kennard          35          NaN   \n",
       "35435  2021-03-18               Deni Avdija          35          NaN   \n",
       "38572  2021-04-16                Mike Scott          35          NaN   \n",
       "46756  2022-02-09        Aleksej Pokusevski          35          NaN   \n",
       "48283  2022-01-15                Al Horford          35          NaN   \n",
       "49028  2022-02-27               Danny Green          35          NaN   \n",
       "50109  2022-02-24             Austin Rivers          35          NaN   \n",
       "51277  2022-02-09            Doug McDermott          35          NaN   \n",
       "52763  2023-01-08             Royce O'Neale          35          NaN   \n",
       "52929  2022-12-29               Buddy Hield          35          NaN   \n",
       "54820  2023-01-15            Troy Brown Jr.          35          NaN   \n",
       "57389  2023-03-06                 Dean Wade          35          NaN   \n",
       "59022  2023-01-22                  Tre Mann          35          NaN   \n",
       "60165  2023-01-14                AJ Griffin          35          NaN   \n",
       "62365  2023-01-05        Reggie Bullock Jr.          35          NaN   \n",
       "62754  2023-03-19               Gary Harris          35          NaN   \n",
       "62884  2023-01-25                Joe Harris          35          NaN   \n",
       "64327  2024-01-08             Malik Beasley          35          NaN   \n",
       "64968  2024-01-15       Dorian Finney-Smith          35          NaN   \n",
       "66292  2024-03-09              Jevon Carter          35          NaN   \n",
       "67159  2024-01-26            Gary Trent Jr.          35          NaN   \n",
       "69569  2024-01-13                Isaiah Joe          35          NaN   \n",
       "70765  2024-01-10                Sam Hauser          35          NaN   \n",
       "72343  2024-03-19             Caleb Houstan          35          NaN   \n",
       "73633  2024-03-01             Nicolas Batum          35          NaN   \n",
       "74782  2024-03-31            Justin Holiday          35          NaN   \n",
       "\n",
       "       seasonFtPrct  careerFtPrct  \n",
       "3983          0.533         0.533  \n",
       "5132          0.286         0.286  \n",
       "10937         0.667         0.762  \n",
       "10995         0.500         0.500  \n",
       "13482         0.429         0.429  \n",
       "24448         0.333         0.333  \n",
       "24763         0.556         0.515  \n",
       "24989         0.462         0.492  \n",
       "25322         0.727         0.566  \n",
       "27989         0.667         0.462  \n",
       "28258         0.692         0.649  \n",
       "28451         0.667         0.508  \n",
       "28577         0.556         0.756  \n",
       "28734         1.000         0.650  \n",
       "30937         0.700         0.647  \n",
       "31573         1.000         0.750  \n",
       "32451         0.750         0.680  \n",
       "35435         0.400         0.400  \n",
       "38572         0.400         0.500  \n",
       "46756         0.286         0.435  \n",
       "48283         0.667         0.533  \n",
       "49028         0.750         0.556  \n",
       "50109         0.333         0.287  \n",
       "51277         0.500         0.620  \n",
       "52763         0.300         0.600  \n",
       "52929         0.611         0.665  \n",
       "54820         1.000         1.000  \n",
       "57389         0.250         0.405  \n",
       "59022         0.417         0.541  \n",
       "60165         0.778         0.778  \n",
       "62365         0.462         0.651  \n",
       "62754         0.727         0.567  \n",
       "62884         0.400         0.589  \n",
       "64327         0.600         0.612  \n",
       "64968         0.667         0.472  \n",
       "66292         0.500         0.667  \n",
       "67159         0.400         0.536  \n",
       "69569         0.545         0.635  \n",
       "70765         0.600         0.538  \n",
       "72343         0.500         0.500  \n",
       "73633         0.250         0.550  \n",
       "74782         0.500         0.607  "
      ]
     },
     "execution_count": 452,
     "metadata": {},
     "output_type": "execute_result"
    }
   ],
   "source": [
    "temp[(temp.mvAvgFtPrct.isna()) & (temp.plyrGameCt==35)]"
   ]
  },
  {
   "cell_type": "code",
   "execution_count": null,
   "id": "0c5c6e94-ccd1-4fc5-9b05-1323e821371e",
   "metadata": {},
   "outputs": [],
   "source": [
    "#its the first game for every player will replace with median rest\n",
    "X.daysBetweenGames = X.daysBetweenGames.fillna(2)\n",
    "#there are 39 games where we do not have the open/wide information so we will remove those rows\n",
    "print('{} games missing'.format(threes[X.wide_fg2a.isna()].game_id.nunique()))\n",
    "X = X[X.open_fg3a.notna()]\n",
    "#remaining are actual zero values\n",
    "X = X.fillna(0)\n",
    "#match indicies of x and y\n",
    "y = y.loc[X.index]\n",
    "X.isna().sum()"
   ]
  },
  {
   "cell_type": "code",
   "execution_count": null,
   "id": "c426ee7b-33e5-4183-9d37-c3f4d9988297",
   "metadata": {},
   "outputs": [],
   "source": [
    "X['threesMade'] = y"
   ]
  },
  {
   "cell_type": "code",
   "execution_count": null,
   "id": "5a47d362-8ec4-46cf-b23b-026823bda524",
   "metadata": {},
   "outputs": [],
   "source": [
    "plt.figure(figsize=(14,8))\n",
    "sns.heatmap(X.filter([col for col in X.columns if col not in ['abv_fgm','rc_fgm','lc_fgm']]).corr())"
   ]
  },
  {
   "cell_type": "code",
   "execution_count": null,
   "id": "30e1851c-ea73-47e8-aaea-130f9693c188",
   "metadata": {},
   "outputs": [],
   "source": [
    "p"
   ]
  },
  {
   "cell_type": "code",
   "execution_count": null,
   "id": "49c57bf9-82d0-4539-9cc1-7f4b3f597a79",
   "metadata": {},
   "outputs": [],
   "source": [
    "### run linear on abv, crn and togher"
   ]
  },
  {
   "cell_type": "code",
   "execution_count": null,
   "id": "dc4add94-574d-4da9-923f-7db12e0cbadf",
   "metadata": {},
   "outputs": [],
   "source": [
    "from sklearn.preprocessing import Normalizer,StandardScaler"
   ]
  },
  {
   "cell_type": "code",
   "execution_count": null,
   "id": "d3824a0e-daf0-4b9c-a6fb-227c4652b49b",
   "metadata": {},
   "outputs": [],
   "source": [
    "#baseline with just the values getting normalized \n",
    "norm = Normalizer()\n",
    "stnd = StandardScaler()\n",
    "for col in X.columns:\n",
    "    if col !='home':\n",
    "        vals = X[col].values.reshape(-1,1)\n",
    "        X[col] = stnd.fit_transform(vals)"
   ]
  },
  {
   "cell_type": "code",
   "execution_count": null,
   "id": "09573115-ebe3-4f19-b19f-644d4302923f",
   "metadata": {},
   "outputs": [],
   "source": [
    "model = sm.MNLogit(endog = y,exog = X)\n",
    "results = model.fit()"
   ]
  },
  {
   "cell_type": "code",
   "execution_count": null,
   "id": "18d24362-9936-4375-a184-2bb42199e540",
   "metadata": {
    "scrolled": true
   },
   "outputs": [],
   "source": [
    "rs"
   ]
  },
  {
   "cell_type": "code",
   "execution_count": null,
   "id": "2de3761d-feba-41a1-b636-7d51ec5b35db",
   "metadata": {
    "scrolled": true
   },
   "outputs": [],
   "source": [
    "rs = results.summary()\n",
    "rhtml = rs.tables[1].as_html()\n",
    "df = pd.read_html(rhtml,header=0,index_col=0)[0]"
   ]
  },
  {
   "cell_type": "code",
   "execution_count": null,
   "id": "77288c4e-5ef3-4ff1-95d0-830d5452ed2b",
   "metadata": {},
   "outputs": [],
   "source": [
    "keeps =['home','usuagePercentage','pace','lc_fga','rc_fga','abv_fga','ra_fgallowed','paint_fgallowed','mid_fgallowed',\n",
    "        'lc_fgallowed','rc_fgallowed','abv_fgallowed','open_fg3a','wide_fg3a','open_fg2a','wide_fg2a','daysBetweenGames','games_in_five',\n",
    "        'games_in_three','mvAvgThres','mvMinThrees'"
   ]
  },
  {
   "cell_type": "code",
   "execution_count": null,
   "id": "7bd1a87b-1fc5-48b0-8130-7e87b88c0e48",
   "metadata": {},
   "outputs": [],
   "source": [
    "df"
   ]
  },
  {
   "cell_type": "code",
   "execution_count": null,
   "id": "e8707ca4-973c-4fa2-8633-60203590ebf3",
   "metadata": {},
   "outputs": [],
   "source": [
    "df.index[:45]"
   ]
  },
  {
   "cell_type": "code",
   "execution_count": null,
   "id": "3b89023a-94d7-4a78-91a3-36aa27b0b388",
   "metadata": {},
   "outputs": [],
   "source": [
    "df.loc['fta'].reset_index()"
   ]
  },
  {
   "cell_type": "code",
   "execution_count": null,
   "id": "daf42ca6-9733-4e46-9784-6bd0eb2c31af",
   "metadata": {},
   "outputs": [],
   "source": []
  },
  {
   "cell_type": "code",
   "execution_count": null,
   "id": "02d3ed3b-dab9-4b78-9375-5c6c9257bbe1",
   "metadata": {},
   "outputs": [],
   "source": [
    "p23['totalThrees'] = p23['lc_fga']+p23['rc_fga'] + p23['abv_fga']"
   ]
  },
  {
   "cell_type": "code",
   "execution_count": null,
   "id": "fa733086-d309-473f-96ed-af787cf27a6c",
   "metadata": {},
   "outputs": [],
   "source": [
    "temp = threes.to_frame().join(p23.pct3TeamShots)\n",
    "temp.columns = ['threesMade','pct3TeamShots']"
   ]
  },
  {
   "cell_type": "code",
   "execution_count": null,
   "id": "98266149-19e1-4bab-999f-45b831c0c77c",
   "metadata": {},
   "outputs": [],
   "source": [
    "med = p23.groupby('name')[['lc_fga','rc_fga','abv_fga','totalThrees']].transform('median')['totalThrees']"
   ]
  },
  {
   "cell_type": "code",
   "execution_count": null,
   "id": "f1579e41-f357-4d5b-a12d-39133e1d9f5f",
   "metadata": {},
   "outputs": [],
   "source": [
    "p23.loc[[x for x in np.where((med>=2) & (med<5),med.index,1) if x!=1]].groupby(['player_id','name'])[['totalThrees']].describe()"
   ]
  },
  {
   "cell_type": "code",
   "execution_count": null,
   "id": "1d2185e4-5196-4332-bb0e-c7ae1bf4c6c7",
   "metadata": {},
   "outputs": [],
   "source": [
    "model = ols('threesMade ~ c_fgaabv_fga'pct3TeamShots',data=temp)\n",
    "results = model.fit()"
   ]
  },
  {
   "cell_type": "code",
   "execution_count": null,
   "id": "0c1d6f6b-6b33-4b25-80b7-be297b3d475b",
   "metadata": {},
   "outputs": [],
   "source": [
    "results.summary()"
   ]
  },
  {
   "cell_type": "code",
   "execution_count": null,
   "id": "d54e6c7f-7584-4fb7-9195-82f15fed8ee7",
   "metadata": {},
   "outputs": [],
   "source": [
    "d[(d.c_fga ** (1+d.pct3TeamShots)>1) & (d.abv_fga ** (1+d.pct3TeamShots)>6)]"
   ]
  },
  {
   "cell_type": "code",
   "execution_count": null,
   "id": "ced0c116-747a-494f-a534-26e4d57e099c",
   "metadata": {},
   "outputs": [],
   "source": [
    "d[(d.c_fga>=1.5) & (d.abv_fga>4)]"
   ]
  },
  {
   "cell_type": "code",
   "execution_count": null,
   "id": "d350b3c3-c6ac-439e-a03f-66d369cb8991",
   "metadata": {},
   "outputs": [],
   "source": [
    "sns.scatterplot(d)\n",
    "plt.show()"
   ]
  },
  {
   "cell_type": "code",
   "execution_count": null,
   "id": "c4835c3e",
   "metadata": {},
   "outputs": [],
   "source": [
    "p23.groupby('game_number')[['abv_fga','lc_fga','rc_fga','ts']]"
   ]
  },
  {
   "cell_type": "code",
   "execution_count": null,
   "id": "771871a6",
   "metadata": {},
   "outputs": [],
   "source": [
    "df23[df23.db23==-1]"
   ]
  },
  {
   "cell_type": "code",
   "execution_count": null,
   "id": "59d9ce60",
   "metadata": {},
   "outputs": [],
   "source": [
    "f23 = final.loc[dinds.get('i2023'),:]"
   ]
  },
  {
   "cell_type": "code",
   "execution_count": null,
   "id": "d8f68de3",
   "metadata": {},
   "outputs": [],
   "source": [
    "f23['dbgrp'] = kmd['Run_3']['labels']"
   ]
  },
  {
   "cell_type": "code",
   "execution_count": null,
   "id": "d93d1023",
   "metadata": {},
   "outputs": [],
   "source": [
    "f23.dbgrp.value_counts()"
   ]
  },
  {
   "cell_type": "code",
   "execution_count": null,
   "id": "4f1d3f85",
   "metadata": {},
   "outputs": [],
   "source": [
    "f23[f23.dbgrp.isin([2])].name.unique()"
   ]
  },
  {
   "cell_type": "code",
   "execution_count": null,
   "id": "6b3e8968",
   "metadata": {},
   "outputs": [],
   "source": [
    "from statsmodels.api.regress import OLS\n"
   ]
  },
  {
   "cell_type": "code",
   "execution_count": null,
   "id": "19df28b9",
   "metadata": {},
   "outputs": [],
   "source": [
    "non3 = [col for col in normData.columns if (re.search('abv_fg',col)==None) & (re.search('c_fg',col)==None)]"
   ]
  },
  {
   "cell_type": "code",
   "execution_count": null,
   "id": "201c7498",
   "metadata": {},
   "outputs": [],
   "source": [
    "X = normData.filter(non3)"
   ]
  },
  {
   "cell_type": "code",
   "execution_count": null,
   "id": "b29d41f7",
   "metadata": {},
   "outputs": [],
   "source": [
    "y = data.rc_fgm + data.lc_fgm + data.abv_fgm"
   ]
  },
  {
   "cell_type": "code",
   "execution_count": null,
   "id": "f6150190",
   "metadata": {},
   "outputs": [],
   "source": []
  },
  {
   "cell_type": "code",
   "execution_count": null,
   "id": "effcd098",
   "metadata": {},
   "outputs": [],
   "source": [
    "model = OLS(y.loc[dinds.get('i2023')],X.loc[dinds.get('i2023')])\n",
    "results = model.fit()"
   ]
  },
  {
   "cell_type": "code",
   "execution_count": null,
   "id": "1ba37c71",
   "metadata": {},
   "outputs": [],
   "source": [
    "data[(data.season=='2023-24') & (data.allstars!=0)]"
   ]
  },
  {
   "cell_type": "code",
   "execution_count": null,
   "id": "b571e5b3",
   "metadata": {},
   "outputs": [],
   "source": [
    "data17['grp15'] =  sil_score['iter_15']['labels']"
   ]
  },
  {
   "cell_type": "code",
   "execution_count": null,
   "id": "a0cc22ea",
   "metadata": {},
   "outputs": [],
   "source": [
    "pSeason = plog.groupby(ind).median().reset_index()"
   ]
  },
  {
   "cell_type": "code",
   "execution_count": null,
   "id": "678a46ab",
   "metadata": {},
   "outputs": [],
   "source": [
    "pSeason['grp3'] = sil_score['iter_3']['labels']"
   ]
  },
  {
   "cell_type": "code",
   "execution_count": null,
   "id": "4036c5b2",
   "metadata": {},
   "outputs": [],
   "source": [
    "pSeason.grp3.value_counts()"
   ]
  },
  {
   "cell_type": "code",
   "execution_count": null,
   "id": "ce7598b8",
   "metadata": {},
   "outputs": [],
   "source": [
    "chcols = ['pts','rc_fga','lc_fga','abv_fga','usagePercentage']\n",
    "pSeason[pSeason.grp15.isin([1,2])].groupby('grp15')[chcols].describe()"
   ]
  },
  {
   "cell_type": "code",
   "execution_count": null,
   "id": "ae35d92e",
   "metadata": {},
   "outputs": [],
   "source": []
  },
  {
   "cell_type": "code",
   "execution_count": null,
   "id": "b752b35d",
   "metadata": {},
   "outputs": [],
   "source": [
    "from nba_api.stats.endpoints import PlayerProfileV2\n",
    "def update_undrafted_year(pids):\n",
    "    for pid in tqdm(pids):\n",
    "        try:\n",
    "            dy = PlayerProfileV2(pid).get_data_frames()[0].SEASON_ID.min()[:4]\n",
    "            nba.conn.execute(''' UPDATE players\n",
    "            SET draft_year = '{}'\n",
    "            where player_id  = '{}'\n",
    "\n",
    "            '''.format(dy,pid))\n",
    "            nba.conn.commit()\n",
    "        except:\n",
    "            print('No Data for: {}'.format(demo[demo.player_id == pid].name))"
   ]
  },
  {
   "cell_type": "code",
   "execution_count": null,
   "id": "b232e0c6",
   "metadata": {},
   "outputs": [],
   "source": [
    "def update_demo_data(plog):\n",
    "    plog['season_age'] = [(dt.datetime(int(season[:4]),10,1) - pd.to_datetime(bday)).days/ 365.25 for season,bday in zip(plog.season.values,plog.birthday)]\n",
    "    plog['exp'] = plog.season.str[:4].astype(int) - plog.draft_year.astype(int)"
   ]
  },
  {
   "cell_type": "code",
   "execution_count": null,
   "id": "baa1bb29",
   "metadata": {},
   "outputs": [],
   "source": [
    "pd.read_sql('select * from pgames',nba.conn)"
   ]
  },
  {
   "cell_type": "code",
   "execution_count": null,
   "id": "5fd8a829",
   "metadata": {},
   "outputs": [],
   "source": [
    "def award_counts(demo,cols=None):\n",
    "    '''\n",
    "    Inputs: DF at season level, will be using season and the columns to count awards, will default to all awards\n",
    "    Output: new dataframe with count columns replacings the columns for each instance\n",
    "    '''\n",
    "    awards = ['allstars', 'allnba_first','allnba_second', 'allnba_third', 'alld_first', 'alld_second', 'mip',\n",
    "       'dpoy', 'mvp', 'finals_mvp']\n",
    "    demo = demo.fillna('N/A')\n",
    "    if cols == None:\n",
    "        cols = awards\n",
    "    lasts = ['allstars', ['allnba_first','allnba_second', 'allnba_third'],['alld_first', 'alld_second'],'mvp','dpoy']\n",
    "    #This is checking to find the last time they were all-star, all-nba, all-d, mvp or dpoy, goes first to use years\n",
    "    for lst in lasts:\n",
    "        if isinstance(lst,str):\n",
    "            demo['last_'+lst] = [1 if int(season[:4]) - int(max([x for x in team.split(',') if x < season]+['2000-01'])[:4]) < 3 else 0\n",
    "            for  season,team in zip(demo.season,demo[lst])]\n",
    "        else:\n",
    "            name = lst[0][:lst[0].find('_')]\n",
    "            grp = zip(demo.season,[','.join(x) for x in demo.filter(lst).values])\n",
    "            demo['last_'+name] = [1 if int(season[:4]) - int(max([x for x in team.split(',') if x < season]+['2000-01'])[:4]) < 3 else 0\n",
    "            for  season,team in grp]\n",
    "    #This goes through every award and will update the column with a count instead of the string of instances\n",
    "    for col in cols:\n",
    "        demo[col] = [len([a for a in awrd.split(',') if a < season]) for season,awrd in zip(demo.season,demo[col])]\n",
    "    \n",
    "    return demo"
   ]
  },
  {
   "cell_type": "code",
   "execution_count": null,
   "id": "3db36d8c",
   "metadata": {},
   "outputs": [],
   "source": [
    "\n",
    "award_counts(t)\n",
    "            "
   ]
  },
  {
   "cell_type": "code",
   "execution_count": null,
   "id": "12f5a793",
   "metadata": {},
   "outputs": [],
   "source": [
    "t['exp'] = [int(seas[:4]) - draft for seas,draft  in zip(t.season,t.draft_year) ]\n",
    "t['age'] = [t.birthday - draft for seas,draft  in zip(t.season,t.birthday) ]"
   ]
  },
  {
   "cell_type": "code",
   "execution_count": null,
   "id": "fe02ccd3",
   "metadata": {},
   "outputs": [],
   "source": [
    "(dt.datetime(int(season[:4]),10,1) - pd.to_datetime(birthday)[0]).days / 365.25"
   ]
  },
  {
   "cell_type": "code",
   "execution_count": null,
   "id": "a68d16a0",
   "metadata": {},
   "outputs": [],
   "source": [
    "[(dt.datetime(int(season[:4]),10,1) - pd.to_datetime(bday)).days/ 365.25 for season,bday in zip(t.season.values,t.birthday)]"
   ]
  },
  {
   "cell_type": "code",
   "execution_count": null,
   "id": "e36bbd79",
   "metadata": {},
   "outputs": [],
   "source": []
  }
 ],
 "metadata": {
  "kernelspec": {
   "display_name": "Python 3 (ipykernel)",
   "language": "python",
   "name": "python3"
  },
  "language_info": {
   "codemirror_mode": {
    "name": "ipython",
    "version": 3
   },
   "file_extension": ".py",
   "mimetype": "text/x-python",
   "name": "python",
   "nbconvert_exporter": "python",
   "pygments_lexer": "ipython3",
   "version": "3.11.7"
  }
 },
 "nbformat": 4,
 "nbformat_minor": 5
}
