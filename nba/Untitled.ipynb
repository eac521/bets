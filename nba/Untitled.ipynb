{
 "cells": [
  {
   "cell_type": "code",
   "execution_count": 9,
   "id": "7e277102-6d34-44c7-85e4-ec63c05a78a4",
   "metadata": {},
   "outputs": [],
   "source": [
    "import pandas as pd\n",
    "import numpy as np\n",
    "import sys\n",
    "sys.path.append('..')\n",
    "import sportsreference\n"
   ]
  },
  {
   "cell_type": "code",
   "execution_count": 10,
   "id": "a002c5b0-1dda-49e3-87f6-248cfec2c7c2",
   "metadata": {},
   "outputs": [],
   "source": [
    "from sportsreference import sportsipy"
   ]
  },
  {
   "cell_type": "code",
   "execution_count": 18,
   "id": "64a39814",
   "metadata": {},
   "outputs": [],
   "source": [
    "from sportsipy.nba.player import AbstractPlayer as player"
   ]
  },
  {
   "cell_type": "code",
   "execution_count": 21,
   "id": "ffbf7bcb",
   "metadata": {},
   "outputs": [
    {
     "ename": "TypeError",
     "evalue": "__init__() missing 2 required positional arguments: 'player_name' and 'player_data'",
     "output_type": "error",
     "traceback": [
      "\u001b[0;31m---------------------------------------------------------------------------\u001b[0m",
      "\u001b[0;31mTypeError\u001b[0m                                 Traceback (most recent call last)",
      "Cell \u001b[0;32mIn[21], line 1\u001b[0m\n\u001b[0;32m----> 1\u001b[0m \u001b[43mplayer\u001b[49m\u001b[43m(\u001b[49m\u001b[38;5;124;43m'\u001b[39;49m\u001b[38;5;124;43mhardeja01\u001b[39;49m\u001b[38;5;124;43m'\u001b[39;49m\u001b[43m)\u001b[49m\n",
      "\u001b[0;31mTypeError\u001b[0m: __init__() missing 2 required positional arguments: 'player_name' and 'player_data'"
     ]
    }
   ],
   "source": [
    "player('hardeja01')"
   ]
  },
  {
   "cell_type": "code",
   "execution_count": 12,
   "id": "04bcee5e",
   "metadata": {},
   "outputs": [
    {
     "name": "stdout",
     "output_type": "stream",
     "text": [
      "The requested page returned a valid response, but no data could be found. Has the season begun, and is the data available on www.sports-reference.com?\n"
     ]
    }
   ],
   "source": [
    "teams = Teams()\n",
    "for team in teams:\n",
    "    print(team.name)"
   ]
  },
  {
   "cell_type": "code",
   "execution_count": 7,
   "id": "55d26aca",
   "metadata": {},
   "outputs": [
    {
     "name": "stdout",
     "output_type": "stream",
     "text": [
      "The requested page returned a valid response, but no data could be found. Has the season begun, and is the data available on www.sports-reference.com?\n"
     ]
    }
   ],
   "source": [
    "teams = Teams()\n",
    "for team in teams:\n",
    "    print(team.name,team.abbreviation)"
   ]
  },
  {
   "cell_type": "code",
   "execution_count": null,
   "id": "7555bb8f",
   "metadata": {},
   "outputs": [],
   "source": []
  }
 ],
 "metadata": {
  "kernelspec": {
   "display_name": "eac",
   "language": "python",
   "name": "eac"
  },
  "language_info": {
   "codemirror_mode": {
    "name": "ipython",
    "version": 3
   },
   "file_extension": ".py",
   "mimetype": "text/x-python",
   "name": "python",
   "nbconvert_exporter": "python",
   "pygments_lexer": "ipython3",
   "version": "3.8.0"
  }
 },
 "nbformat": 4,
 "nbformat_minor": 5
}
