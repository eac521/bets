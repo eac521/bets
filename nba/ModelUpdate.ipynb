{
 "cells": [
  {
   "cell_type": "code",
   "execution_count": 1,
   "id": "f359e5b0-955a-43a0-a864-fd1df00971c5",
   "metadata": {},
   "outputs": [],
   "source": [
    "%load_ext autoreload\n",
    "%autoreload 2\n",
    "    "
   ]
  },
  {
   "cell_type": "code",
   "execution_count": 2,
   "id": "b0f6665a-e641-4b66-af55-2660983f1ccd",
   "metadata": {},
   "outputs": [],
   "source": [
    "import pandas as pd\n",
    "import numpy as np\n",
    "import sys\n",
    "sys.path.append('..')\n",
    "import bets\n",
    "import os\n",
    "import glob\n",
    "import datetime as dt\n",
    "import time\n",
    "#import ot\n",
    "import json\n",
    "import requests\n",
    "import statsmodels.api as sm \n",
    "from tqdm import tqdm\n",
    "pd.set_option('display.float_format', lambda x: '%.3f' % x)\n",
    "\n",
    "nba = bets.nba()\n",
    "import seaborn as sns\n",
    "import matplotlib.pyplot as plt\n",
    "import re\n",
    "from warnings import simplefilter\n",
    "simplefilter(action=\"ignore\", category=pd.errors.PerformanceWarning)\n",
    "from nba_api.stats.endpoints import leaguegamefinder,BoxScoreSummaryV2,LeagueDashOppPtShot,PlayerProfileV2,GameRotation,LeagueDashPlayerShotLocations"
   ]
  },
  {
   "cell_type": "markdown",
   "id": "f3a9cf4c-ef7a-43cc-8763-49e5641ef3b0",
   "metadata": {},
   "source": [
    "What changes to make to this model\n",
    "1. Want to have decay for our rolling estimates  \n",
    "   a.This will be both at the team level (these are currently in the query) and player level  \n",
    "   b.this will have to be done in pandas, in the script  \n",
    "   c. need to re-write sql query to pull in values not adjusted  \n",
    "2. New One-Hot Variables  \n",
    "   a. Top Scorer -  highest moving average on team  \n",
    "   b. Top Shooter - Takes most threes on team  \n",
    "   c. Volume Shooter - in  90th+ percentile of total threes taken  \n",
    "   d. corner merchant - over 33% of threes from corner - look into number  \n",
    "   e. starter - this is created but can help to be added\n",
    "   f. nans filled\n",
    "   g. reduce threes made to a max of 8 and bin if they made more than 8 in a game\n",
    "4. Interaction Terms:  \n",
    "   a. Rolling Three % * Home  \n",
    "   b. Player Off rating - team off rating  \n",
    "   c.\n",
    "5. Add-in odds"
   ]
  },
  {
   "cell_type": "code",
   "execution_count": 95,
   "id": "8e6dee3b-074d-4136-8a5d-c4e1f0e49b26",
   "metadata": {},
   "outputs": [],
   "source": [
    "from sklearn.calibration import calibration_curve\n",
    "from sklearn.metrics import brier_score_loss\n",
    "from sklearn.preprocessing import OneHotEncoder"
   ]
  },
  {
   "cell_type": "code",
   "execution_count": 3,
   "id": "f7a5250f-c0d3-4e19-ba0e-288700fdc72c",
   "metadata": {},
   "outputs": [],
   "source": [
    "def probOutput(preds,y):\n",
    "    c = [12,11,10,9,8,7,6,5,4,3,2,1,0]\n",
    "    finalo = pd.DataFrame(np.array([v for r in preds[c].cumsum(axis=1).values for v in r]).reshape(preds[c].shape),\n",
    "                         columns=c,index=preds.index)\n",
    "    \n",
    "    df = finalo.filter(preds.columns).join(y)\n",
    "    return df\n"
   ]
  },
  {
   "cell_type": "code",
   "execution_count": 3,
   "id": "5d7bd6cb-35ce-43fe-94c3-e05cc8ac6e05",
   "metadata": {},
   "outputs": [],
   "source": [
    "addMrkts = 'player_points,player_points_alterante,player_rebounds,player_rebounds_alternate,player_first_basket,player_assists,player_assists_alternate'\n",
    "mrkts = '&markets=player_threes,player_threes_alternate'\n",
    "apiKey = 'apiKey=153deeb03ca7b659e72d18e28219d1a8'\n",
    "oddsType = '&oddsFormat=american'\n",
    "regions = '&regions=us'\n",
    "books = '&bookmakers=draftkings%2Cfanduel%2Cespnbet'\n",
    "inputs = ['{}',apiKey,regions,mrkts,oddsType,books]\n",
    "url = '''https://api.the-odds-api.com/v4/sports/basketball_nba/events/{}/odds?{}{}{}&dateFormat=iso{}{}'''.format(*inputs)"
   ]
  },
  {
   "cell_type": "code",
   "execution_count": 5,
   "id": "4f9f319f-413f-4967-a00a-c72542e7fb4a",
   "metadata": {},
   "outputs": [],
   "source": [
    "#Going to run the back testing on '24 season"
   ]
  },
  {
   "cell_type": "code",
   "execution_count": 98,
   "id": "bdd036b7-5cb0-41e9-8e89-ea22073e4ba3",
   "metadata": {},
   "outputs": [],
   "source": [
    "#update model to use '22-'23\n",
    "trainData = nba.threeData('data/sql/thrTesting.sql')"
   ]
  },
  {
   "cell_type": "code",
   "execution_count": 99,
   "id": "6c8ccef8-0452-4b1a-8c37-3d9b287272d4",
   "metadata": {},
   "outputs": [],
   "source": [
    "ogMod = pd.read_pickle('data/model/thrLogit.pkl')\n",
    "params = ogMod.params.index"
   ]
  },
  {
   "cell_type": "code",
   "execution_count": 100,
   "id": "a8bf71a3-45b7-45d5-8cd6-ba79ae90d6cd",
   "metadata": {},
   "outputs": [],
   "source": [
    "X = trainData[trainData.season < '2023-24']\n",
    "y = trainData[trainData.season < '2023-24'].threesMade.values\n",
    "X = nba.cleanNaThr(X)\n",
    "X = nba.scaleData(X.filter(params))"
   ]
  },
  {
   "cell_type": "code",
   "execution_count": 101,
   "id": "554c35d2-8012-411f-b1a6-fc9acaeab8c8",
   "metadata": {
    "scrolled": true
   },
   "outputs": [
    {
     "name": "stdout",
     "output_type": "stream",
     "text": [
      "Optimization terminated successfully.\n",
      "         Current function value: 1.726821\n",
      "         Iterations: 22\n",
      "         Function evaluations: 26\n",
      "         Gradient evaluations: 26\n",
      "         Hessian evaluations: 22\n"
     ]
    }
   ],
   "source": [
    "newMod = sm.MNLogit(endog = y, exog = X.filter(params))\n",
    "upModel = newMod.fit(method = 'ncg',maxiter=100)"
   ]
  },
  {
   "cell_type": "code",
   "execution_count": 102,
   "id": "75cc39ca-0fe7-438c-82b3-b1e0114bb65e",
   "metadata": {},
   "outputs": [],
   "source": [
    "xtest = trainData[trainData.season=='2023-24']\n",
    "xtest = nba.cleanNaThr(xtest)\n",
    "xtest = nba.scaleData(xtest.filter(params))"
   ]
  },
  {
   "cell_type": "code",
   "execution_count": 103,
   "id": "18250986-0b96-4702-ba55-c268194a4b94",
   "metadata": {},
   "outputs": [],
   "source": [
    "ytest = trainData[trainData.season=='2023-24'].threesMade"
   ]
  },
  {
   "cell_type": "code",
   "execution_count": 144,
   "id": "6bc67558-89ee-4fc7-949a-e141628194ee",
   "metadata": {},
   "outputs": [],
   "source": [
    "ncg23 = upModel.predict(xtest)\n",
    "og23 = ogMod.predict(xtest)"
   ]
  },
  {
   "cell_type": "code",
   "execution_count": 145,
   "id": "6f63c15a-e8ae-4c8b-aa70-987c2410ef1d",
   "metadata": {},
   "outputs": [],
   "source": [
    "upOut23 = probOutput(ncg23,ytest)"
   ]
  },
  {
   "cell_type": "code",
   "execution_count": 136,
   "id": "b82fac41-491f-45e8-a1e9-2e0e08310eae",
   "metadata": {},
   "outputs": [],
   "source": [
    "ogOut23 = probOutput(og23,ytest)"
   ]
  },
  {
   "cell_type": "code",
   "execution_count": 148,
   "id": "7bc7fe8b-8bb0-4d83-8de7-6dec5b89f707",
   "metadata": {},
   "outputs": [],
   "source": [
    "#ncg23[12] = ncg23[[12,13,14]].sum(axis=1)\n",
    "ncg23 = ncg23.iloc[:,:13]"
   ]
  },
  {
   "cell_type": "code",
   "execution_count": 139,
   "id": "c50f8dbb-1517-48cf-aa09-78dbdd8a4b0c",
   "metadata": {},
   "outputs": [],
   "source": [
    "actualsOvers = [[1] * (y+1) + [0] * (12-y) for y in ytest]"
   ]
  },
  {
   "cell_type": "code",
   "execution_count": 140,
   "id": "fd213f0c-81ce-4931-b080-7a48258b0a78",
   "metadata": {},
   "outputs": [],
   "source": [
    "ohe = [[0] * y +[1] + [0]*(12-y) for y in ytest]"
   ]
  },
  {
   "cell_type": "code",
   "execution_count": 155,
   "id": "0310d83c-88d4-4b60-824b-67413c8dc583",
   "metadata": {},
   "outputs": [
    {
     "data": {
      "text/plain": [
       "array([1.92803307e-01, 2.69227652e-01, 2.30650782e-01, 1.45311614e-01,\n",
       "       8.47718616e-02, 4.29532377e-02, 2.00178296e-02, 9.07691061e-03,\n",
       "       2.99862225e-03, 1.45878920e-03, 4.86263068e-04, 1.62087689e-04,\n",
       "       8.10438447e-05])"
      ]
     },
     "execution_count": 155,
     "metadata": {},
     "output_type": "execute_result"
    }
   ],
   "source": []
  },
  {
   "cell_type": "code",
   "execution_count": 158,
   "id": "9cd8095f-9362-4ac3-a454-899e05d07914",
   "metadata": {},
   "outputs": [],
   "source": [
    "def brier_scores(actuals,preds):\n",
    "    '''Will create a brier score to compare models\n",
    "    Inputs: an array of actuals one hot encoded, a data frame of predictions from model\n",
    "    Outputs: score as a float\n",
    "    '''\n",
    "    return (preds.sub(actuals) ** 2).sum(axis=1).mean()\n",
    "def score_comp(actuals,preds,\n",
    "\n",
    "base = np.tile(np.array(ohe).mean(axis=0), (np.array(ohe).shape[0], 1))"
   ]
  },
  {
   "cell_type": "code",
   "execution_count": 161,
   "id": "0659712b-dae3-40bf-8813-04f658797928",
   "metadata": {},
   "outputs": [
    {
     "data": {
      "text/plain": [
       "0.8373085269161717"
      ]
     },
     "execution_count": 161,
     "metadata": {},
     "output_type": "execute_result"
    }
   ],
   "source": [
    "((upOut23.iloc[:,:-1].sub(np.array(actualsOvers))) ** 2).sum(axis=1).mean()"
   ]
  },
  {
   "cell_type": "code",
   "execution_count": 164,
   "id": "8a85b3d4-dec5-44b3-9b08-d8b11c123063",
   "metadata": {},
   "outputs": [
    {
     "data": {
      "text/plain": [
       "0.8065023659200062"
      ]
     },
     "execution_count": 164,
     "metadata": {},
     "output_type": "execute_result"
    }
   ],
   "source": [
    "((pd.DataFrame(ohe).sub(np.array(base))) ** 2).sum(axis=1).mean()"
   ]
  },
  {
   "cell_type": "code",
   "execution_count": 145,
   "id": "7eda2e32-808d-48ae-91eb-c61a8875e97f",
   "metadata": {},
   "outputs": [],
   "source": [
    "import scipy"
   ]
  },
  {
   "cell_type": "code",
   "execution_count": 113,
   "id": "94967002-434b-417f-a4d1-cbc7f09fd046",
   "metadata": {},
   "outputs": [
    {
     "ename": "AttributeError",
     "evalue": "'list' object has no attribute 'toarray'",
     "output_type": "error",
     "traceback": [
      "\u001b[0;31m---------------------------------------------------------------------------\u001b[0m",
      "\u001b[0;31mAttributeError\u001b[0m                            Traceback (most recent call last)",
      "Cell \u001b[0;32mIn[113], line 1\u001b[0m\n\u001b[0;32m----> 1\u001b[0m ((ncg23\u001b[38;5;241m.\u001b[39miloc[:,:\u001b[38;5;241m-\u001b[39m\u001b[38;5;241m2\u001b[39m]\u001b[38;5;241m.\u001b[39msub(actuals\u001b[38;5;241m.\u001b[39mtoarray())) \u001b[38;5;241m*\u001b[39m\u001b[38;5;241m*\u001b[39m \u001b[38;5;241m2\u001b[39m)\u001b[38;5;241m.\u001b[39msum(axis\u001b[38;5;241m=\u001b[39m\u001b[38;5;241m1\u001b[39m)\u001b[38;5;241m.\u001b[39mmean()\n",
      "\u001b[0;31mAttributeError\u001b[0m: 'list' object has no attribute 'toarray'"
     ]
    }
   ],
   "source": [
    "((ncg23.iloc[:,:-2].sub(actuals) ** 2).sum(axis=1).mean()"
   ]
  },
  {
   "cell_type": "code",
   "execution_count": 194,
   "id": "8a42974c-4977-4804-9d7e-8674f2f16705",
   "metadata": {},
   "outputs": [
    {
     "data": {
      "text/plain": [
       "0.7965169469293196"
      ]
     },
     "execution_count": 194,
     "metadata": {},
     "output_type": "execute_result"
    }
   ],
   "source": [
    "((cg23.iloc[:,:-2].sub(actuals.toarray())) ** 2).sum(axis=1).mean()"
   ]
  },
  {
   "cell_type": "code",
   "execution_count": 176,
   "id": "60131f76-8236-44a0-ac05-1a56062620e4",
   "metadata": {},
   "outputs": [
    {
     "data": {
      "text/plain": [
       "0.7985511754618587"
      ]
     },
     "execution_count": 176,
     "metadata": {},
     "output_type": "execute_result"
    }
   ],
   "source": [
    "((og23.iloc[:,:-1].sub(actuals.toarray())) ** 2).sum(axis=1).mean()"
   ]
  },
  {
   "cell_type": "code",
   "execution_count": 178,
   "id": "982f1e36-148a-4cc8-9d25-cacd0e0c634d",
   "metadata": {},
   "outputs": [
    {
     "data": {
      "text/plain": [
       "0.7946153987955363"
      ]
     },
     "execution_count": 178,
     "metadata": {},
     "output_type": "execute_result"
    }
   ],
   "source": [
    "((pred23.iloc[:,:-2].sub(actuals.toarray())) ** 2).sum(axis=1).mean()"
   ]
  },
  {
   "cell_type": "code",
   "execution_count": 27,
   "id": "eb46c040-f38b-40ba-b697-2245bc19749c",
   "metadata": {},
   "outputs": [],
   "source": [
    "data =  nba.threeData() #there will need to be an edit to only get data for today\n",
    "data = data[data.season=='2023-24']\n",
    "model = pd.read_pickle('data/model/thrLogit.pkl')\n",
    "#create model data and scale\n",
    "X = nba.cleanNaThr(data)\n",
    "X = nba.scaleData(X.filter(model.params.index))\n",
    "#make day's predictions\n",
    "preds = model.predict(X)\n",
    "\n",
    "#unders = data[data.game_date==date][['name','team','game_id']].join(finalu.filter(preds.columns))"
   ]
  },
  {
   "cell_type": "code",
   "execution_count": 35,
   "id": "3ae16244-eb71-4625-b5fb-0895a44a1574",
   "metadata": {},
   "outputs": [],
   "source": [
    "preds['game_date'] = data['game_date'].values\n",
    "preds['threesMade'] = data['threesMade'].values"
   ]
  },
  {
   "cell_type": "code",
   "execution_count": 36,
   "id": "d43682ea-5d07-4070-bb57-8bd27be10a3c",
   "metadata": {},
   "outputs": [
    {
     "data": {
      "text/html": [
       "<div>\n",
       "<style scoped>\n",
       "    .dataframe tbody tr th:only-of-type {\n",
       "        vertical-align: middle;\n",
       "    }\n",
       "\n",
       "    .dataframe tbody tr th {\n",
       "        vertical-align: top;\n",
       "    }\n",
       "\n",
       "    .dataframe thead th {\n",
       "        text-align: right;\n",
       "    }\n",
       "</style>\n",
       "<table border=\"1\" class=\"dataframe\">\n",
       "  <thead>\n",
       "    <tr style=\"text-align: right;\">\n",
       "      <th></th>\n",
       "      <th>0</th>\n",
       "      <th>1</th>\n",
       "      <th>2</th>\n",
       "      <th>3</th>\n",
       "      <th>4</th>\n",
       "      <th>5</th>\n",
       "      <th>6</th>\n",
       "      <th>7</th>\n",
       "      <th>8</th>\n",
       "      <th>9</th>\n",
       "      <th>10</th>\n",
       "      <th>11</th>\n",
       "      <th>12</th>\n",
       "      <th>13</th>\n",
       "      <th>name</th>\n",
       "      <th>game_date</th>\n",
       "      <th>threesMade</th>\n",
       "    </tr>\n",
       "  </thead>\n",
       "  <tbody>\n",
       "    <tr>\n",
       "      <th>0</th>\n",
       "      <td>0.257</td>\n",
       "      <td>0.297</td>\n",
       "      <td>0.195</td>\n",
       "      <td>0.118</td>\n",
       "      <td>0.064</td>\n",
       "      <td>0.032</td>\n",
       "      <td>0.022</td>\n",
       "      <td>0.011</td>\n",
       "      <td>0.003</td>\n",
       "      <td>0.001</td>\n",
       "      <td>0.000</td>\n",
       "      <td>0.000</td>\n",
       "      <td>0.000</td>\n",
       "      <td>0.000</td>\n",
       "      <td>Chris Paul</td>\n",
       "      <td>2023-10-24</td>\n",
       "      <td>0</td>\n",
       "    </tr>\n",
       "    <tr>\n",
       "      <th>1</th>\n",
       "      <td>0.103</td>\n",
       "      <td>0.206</td>\n",
       "      <td>0.244</td>\n",
       "      <td>0.233</td>\n",
       "      <td>0.127</td>\n",
       "      <td>0.049</td>\n",
       "      <td>0.029</td>\n",
       "      <td>0.007</td>\n",
       "      <td>0.001</td>\n",
       "      <td>0.000</td>\n",
       "      <td>0.000</td>\n",
       "      <td>0.000</td>\n",
       "      <td>0.000</td>\n",
       "      <td>0.000</td>\n",
       "      <td>D'Angelo Russell</td>\n",
       "      <td>2023-10-24</td>\n",
       "      <td>2</td>\n",
       "    </tr>\n",
       "    <tr>\n",
       "      <th>2</th>\n",
       "      <td>0.137</td>\n",
       "      <td>0.248</td>\n",
       "      <td>0.231</td>\n",
       "      <td>0.188</td>\n",
       "      <td>0.110</td>\n",
       "      <td>0.050</td>\n",
       "      <td>0.024</td>\n",
       "      <td>0.011</td>\n",
       "      <td>0.001</td>\n",
       "      <td>0.001</td>\n",
       "      <td>0.000</td>\n",
       "      <td>0.000</td>\n",
       "      <td>0.000</td>\n",
       "      <td>0.000</td>\n",
       "      <td>Devin Booker</td>\n",
       "      <td>2023-10-24</td>\n",
       "      <td>3</td>\n",
       "    </tr>\n",
       "    <tr>\n",
       "      <th>3</th>\n",
       "      <td>0.119</td>\n",
       "      <td>0.200</td>\n",
       "      <td>0.228</td>\n",
       "      <td>0.212</td>\n",
       "      <td>0.134</td>\n",
       "      <td>0.057</td>\n",
       "      <td>0.034</td>\n",
       "      <td>0.012</td>\n",
       "      <td>0.003</td>\n",
       "      <td>0.001</td>\n",
       "      <td>0.000</td>\n",
       "      <td>0.000</td>\n",
       "      <td>0.000</td>\n",
       "      <td>0.000</td>\n",
       "      <td>Jamal Murray</td>\n",
       "      <td>2023-10-24</td>\n",
       "      <td>3</td>\n",
       "    </tr>\n",
       "    <tr>\n",
       "      <th>4</th>\n",
       "      <td>0.209</td>\n",
       "      <td>0.279</td>\n",
       "      <td>0.248</td>\n",
       "      <td>0.166</td>\n",
       "      <td>0.070</td>\n",
       "      <td>0.017</td>\n",
       "      <td>0.009</td>\n",
       "      <td>0.002</td>\n",
       "      <td>0.000</td>\n",
       "      <td>0.000</td>\n",
       "      <td>0.000</td>\n",
       "      <td>0.000</td>\n",
       "      <td>0.000</td>\n",
       "      <td>0.000</td>\n",
       "      <td>Taurean Prince</td>\n",
       "      <td>2023-10-24</td>\n",
       "      <td>4</td>\n",
       "    </tr>\n",
       "    <tr>\n",
       "      <th>...</th>\n",
       "      <td>...</td>\n",
       "      <td>...</td>\n",
       "      <td>...</td>\n",
       "      <td>...</td>\n",
       "      <td>...</td>\n",
       "      <td>...</td>\n",
       "      <td>...</td>\n",
       "      <td>...</td>\n",
       "      <td>...</td>\n",
       "      <td>...</td>\n",
       "      <td>...</td>\n",
       "      <td>...</td>\n",
       "      <td>...</td>\n",
       "      <td>...</td>\n",
       "      <td>...</td>\n",
       "      <td>...</td>\n",
       "      <td>...</td>\n",
       "    </tr>\n",
       "    <tr>\n",
       "      <th>12334</th>\n",
       "      <td>0.230</td>\n",
       "      <td>0.294</td>\n",
       "      <td>0.208</td>\n",
       "      <td>0.145</td>\n",
       "      <td>0.071</td>\n",
       "      <td>0.035</td>\n",
       "      <td>0.010</td>\n",
       "      <td>0.004</td>\n",
       "      <td>0.001</td>\n",
       "      <td>0.000</td>\n",
       "      <td>0.000</td>\n",
       "      <td>0.000</td>\n",
       "      <td>0.000</td>\n",
       "      <td>0.000</td>\n",
       "      <td>Andrew Wiggins</td>\n",
       "      <td>2024-04-14</td>\n",
       "      <td>2</td>\n",
       "    </tr>\n",
       "    <tr>\n",
       "      <th>12335</th>\n",
       "      <td>0.249</td>\n",
       "      <td>0.272</td>\n",
       "      <td>0.160</td>\n",
       "      <td>0.178</td>\n",
       "      <td>0.077</td>\n",
       "      <td>0.047</td>\n",
       "      <td>0.010</td>\n",
       "      <td>0.004</td>\n",
       "      <td>0.001</td>\n",
       "      <td>0.000</td>\n",
       "      <td>0.000</td>\n",
       "      <td>0.000</td>\n",
       "      <td>0.000</td>\n",
       "      <td>0.000</td>\n",
       "      <td>Dario Saric</td>\n",
       "      <td>2024-04-14</td>\n",
       "      <td>1</td>\n",
       "    </tr>\n",
       "    <tr>\n",
       "      <th>12336</th>\n",
       "      <td>0.072</td>\n",
       "      <td>0.178</td>\n",
       "      <td>0.229</td>\n",
       "      <td>0.241</td>\n",
       "      <td>0.143</td>\n",
       "      <td>0.081</td>\n",
       "      <td>0.037</td>\n",
       "      <td>0.013</td>\n",
       "      <td>0.005</td>\n",
       "      <td>0.000</td>\n",
       "      <td>0.000</td>\n",
       "      <td>0.000</td>\n",
       "      <td>0.000</td>\n",
       "      <td>0.000</td>\n",
       "      <td>Bogdan Bogdanovic</td>\n",
       "      <td>2024-04-14</td>\n",
       "      <td>3</td>\n",
       "    </tr>\n",
       "    <tr>\n",
       "      <th>12337</th>\n",
       "      <td>0.299</td>\n",
       "      <td>0.304</td>\n",
       "      <td>0.197</td>\n",
       "      <td>0.112</td>\n",
       "      <td>0.048</td>\n",
       "      <td>0.025</td>\n",
       "      <td>0.009</td>\n",
       "      <td>0.004</td>\n",
       "      <td>0.002</td>\n",
       "      <td>0.000</td>\n",
       "      <td>0.000</td>\n",
       "      <td>0.000</td>\n",
       "      <td>0.000</td>\n",
       "      <td>0.000</td>\n",
       "      <td>Vasilije Micic</td>\n",
       "      <td>2024-04-14</td>\n",
       "      <td>1</td>\n",
       "    </tr>\n",
       "    <tr>\n",
       "      <th>12338</th>\n",
       "      <td>0.209</td>\n",
       "      <td>0.301</td>\n",
       "      <td>0.243</td>\n",
       "      <td>0.148</td>\n",
       "      <td>0.056</td>\n",
       "      <td>0.027</td>\n",
       "      <td>0.011</td>\n",
       "      <td>0.005</td>\n",
       "      <td>0.001</td>\n",
       "      <td>0.000</td>\n",
       "      <td>0.000</td>\n",
       "      <td>0.000</td>\n",
       "      <td>0.000</td>\n",
       "      <td>0.000</td>\n",
       "      <td>LeBron James</td>\n",
       "      <td>2024-04-14</td>\n",
       "      <td>0</td>\n",
       "    </tr>\n",
       "  </tbody>\n",
       "</table>\n",
       "<p>12339 rows × 17 columns</p>\n",
       "</div>"
      ],
      "text/plain": [
       "          0     1     2     3     4     5     6     7     8     9    10    11  \\\n",
       "0     0.257 0.297 0.195 0.118 0.064 0.032 0.022 0.011 0.003 0.001 0.000 0.000   \n",
       "1     0.103 0.206 0.244 0.233 0.127 0.049 0.029 0.007 0.001 0.000 0.000 0.000   \n",
       "2     0.137 0.248 0.231 0.188 0.110 0.050 0.024 0.011 0.001 0.001 0.000 0.000   \n",
       "3     0.119 0.200 0.228 0.212 0.134 0.057 0.034 0.012 0.003 0.001 0.000 0.000   \n",
       "4     0.209 0.279 0.248 0.166 0.070 0.017 0.009 0.002 0.000 0.000 0.000 0.000   \n",
       "...     ...   ...   ...   ...   ...   ...   ...   ...   ...   ...   ...   ...   \n",
       "12334 0.230 0.294 0.208 0.145 0.071 0.035 0.010 0.004 0.001 0.000 0.000 0.000   \n",
       "12335 0.249 0.272 0.160 0.178 0.077 0.047 0.010 0.004 0.001 0.000 0.000 0.000   \n",
       "12336 0.072 0.178 0.229 0.241 0.143 0.081 0.037 0.013 0.005 0.000 0.000 0.000   \n",
       "12337 0.299 0.304 0.197 0.112 0.048 0.025 0.009 0.004 0.002 0.000 0.000 0.000   \n",
       "12338 0.209 0.301 0.243 0.148 0.056 0.027 0.011 0.005 0.001 0.000 0.000 0.000   \n",
       "\n",
       "         12    13               name   game_date  threesMade  \n",
       "0     0.000 0.000         Chris Paul  2023-10-24           0  \n",
       "1     0.000 0.000   D'Angelo Russell  2023-10-24           2  \n",
       "2     0.000 0.000       Devin Booker  2023-10-24           3  \n",
       "3     0.000 0.000       Jamal Murray  2023-10-24           3  \n",
       "4     0.000 0.000     Taurean Prince  2023-10-24           4  \n",
       "...     ...   ...                ...         ...         ...  \n",
       "12334 0.000 0.000     Andrew Wiggins  2024-04-14           2  \n",
       "12335 0.000 0.000        Dario Saric  2024-04-14           1  \n",
       "12336 0.000 0.000  Bogdan Bogdanovic  2024-04-14           3  \n",
       "12337 0.000 0.000     Vasilije Micic  2024-04-14           1  \n",
       "12338 0.000 0.000       LeBron James  2024-04-14           0  \n",
       "\n",
       "[12339 rows x 17 columns]"
      ]
     },
     "execution_count": 36,
     "metadata": {},
     "output_type": "execute_result"
    }
   ],
   "source": [
    "preds"
   ]
  },
  {
   "cell_type": "code",
   "execution_count": 11,
   "id": "841b9227-acda-48d5-a900-ca1d1aa6cf80",
   "metadata": {},
   "outputs": [],
   "source": [
    "df = pd.read_sql('''select season,player_id,name,pts,pl.game_date\n",
    "                FROM plyrLogs pl JOIN teamLog tl USING (team_id,game_id)\n",
    "                JOIN players p USING(player_id)\n",
    "                \n",
    "                where pl.game_date <'2024-10-22'\n",
    "                ''',nba.conn)"
   ]
  },
  {
   "cell_type": "code",
   "execution_count": 18,
   "id": "da745113-d7db-41f2-b328-994de7c79a1d",
   "metadata": {},
   "outputs": [
    {
     "data": {
      "text/plain": [
       "<pandas.core.groupby.generic.SeriesGroupBy object at 0x16b02a610>"
      ]
     },
     "execution_count": 18,
     "metadata": {},
     "output_type": "execute_result"
    }
   ],
   "source": [
    "df.groupby(['season','player_id','name']).pts.mean().reset_index().groupby('season').pts."
   ]
  },
  {
   "cell_type": "code",
   "execution_count": null,
   "id": "a8c701f7-1c58-4a8f-b151-b3986cb54978",
   "metadata": {},
   "outputs": [],
   "source": [
    "##check model "
   ]
  },
  {
   "cell_type": "code",
   "execution_count": null,
   "id": "8898ec3b-b425-490b-a765-34808f275bea",
   "metadata": {},
   "outputs": [],
   "source": []
  }
 ],
 "metadata": {
  "kernelspec": {
   "display_name": "Python 3 (ipykernel)",
   "language": "python",
   "name": "python3"
  },
  "language_info": {
   "codemirror_mode": {
    "name": "ipython",
    "version": 3
   },
   "file_extension": ".py",
   "mimetype": "text/x-python",
   "name": "python",
   "nbconvert_exporter": "python",
   "pygments_lexer": "ipython3",
   "version": "3.11.7"
  }
 },
 "nbformat": 4,
 "nbformat_minor": 5
}
