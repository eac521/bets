{
 "cells": [
  {
   "cell_type": "code",
   "execution_count": null,
   "id": "420e8296-99e1-40b1-9361-bafd6abd6803",
   "metadata": {},
   "outputs": [],
   "source": [
    "%load_ext autoreload\n",
    "%autoreload 2"
   ]
  },
  {
   "cell_type": "code",
   "execution_count": null,
   "id": "0c87ba51-bc5c-472f-83e3-4ceed9fd3561",
   "metadata": {},
   "outputs": [],
   "source": [
    "import pandas as pd\n",
    "import numpy as np\n",
    "import sys\n",
    "sys.path.append('..')\n",
    "import bets\n",
    "import os\n",
    "import glob\n",
    "import datetime as dt\n",
    "import time\n",
    "#import ot\n",
    "import json\n",
    "import requests\n",
    "import statsmodels.api as sm \n",
    "from sklearn.preprocessing import StandardScaler\n",
    "from tqdm import tqdm\n",
    "pd.set_option('display.float_format', lambda x: '%.3f' % x)\n",
    "import sidetable\n",
    "nba = bets.nba()\n",
    "import seaborn as sns\n",
    "import matplotlib.pyplot as plt\n",
    "import re\n",
    "from warnings import simplefilter\n",
    "simplefilter(action=\"ignore\", category=pd.errors.PerformanceWarning)\n",
    "from nba_api.stats.endpoints import leaguegamefinder,BoxScoreSummaryV2,LeagueDashOppPtShot,PlayerProfileV2,GameRotation,LeagueDashPlayerShotLocations"
   ]
  },
  {
   "cell_type": "code",
   "execution_count": null,
   "id": "57a36bc7-0876-47c4-8ec0-d70c8e25602c",
   "metadata": {},
   "outputs": [],
   "source": [
    "today = dt.datetime.today().strftime(format='%Y-%m-%d')\n",
    "yst = (pd.to_datetime(today) + pd.to_timedelta(-1,unit='day')).strftime(format='%Y-%m-%d')"
   ]
  },
  {
   "cell_type": "code",
   "execution_count": null,
   "id": "5e0a85bf-ec09-41b1-ba13-161985c89852",
   "metadata": {},
   "outputs": [],
   "source": [
    "tms = pd.read_sql(\"select teamAbrv from teamLog tl join teams t on tl.team_id = t.team_id where game_date = '{}'\".format(today),nba.conn)"
   ]
  },
  {
   "cell_type": "code",
   "execution_count": null,
   "id": "6d50a90c-592a-4479-a0a7-4e16316c1155",
   "metadata": {},
   "outputs": [],
   "source": [
    "filt = ','.join([\"'{}'\".format(tm) for tm in tms.values.flatten()])"
   ]
  },
  {
   "cell_type": "code",
   "execution_count": null,
   "id": "60a24f47-94d9-4984-bbba-9731f651bd32",
   "metadata": {},
   "outputs": [],
   "source": [
    "df = pd.read_sql(\"select * from pgames where team in({}) and season = '2024-25' and game_date<='{}'\".format(filt,today),nba.conn)"
   ]
  },
  {
   "cell_type": "code",
   "execution_count": null,
   "id": "159538ff-e883-4181-a912-f77a5adc4523",
   "metadata": {},
   "outputs": [],
   "source": [
    "fb23 = nba.get_first_buckets(['2023-10-01','2024-10-01'])"
   ]
  },
  {
   "cell_type": "code",
   "execution_count": null,
   "id": "ded9d957-689e-4b6c-b5b8-0b36659c2fde",
   "metadata": {},
   "outputs": [],
   "source": [
    "fb22 = nba.get_first_buckets(['2022-10-01','2023-10-01'])\n",
    "fb21  = nba.get_first_buckets(['2021-10-01','2022-10-01'])"
   ]
  },
  {
   "cell_type": "code",
   "execution_count": null,
   "id": "1233304f-ef3f-496e-8073-06d0608398ce",
   "metadata": {},
   "outputs": [],
   "source": [
    "fb24 = nba.get_first_buckets(['2024-10-01','2025-01-25'])"
   ]
  },
  {
   "cell_type": "code",
   "execution_count": null,
   "id": "ffa076a7-41f6-451b-9be3-40a133d409ef",
   "metadata": {},
   "outputs": [],
   "source": [
    "fb24plus = nba.get_first_buckets(['2025-01-25',today])"
   ]
  },
  {
   "cell_type": "code",
   "execution_count": null,
   "id": "626fb465-6bad-4f29-bb44-eda6ff4b383b",
   "metadata": {},
   "outputs": [],
   "source": [
    "teamInfo = pd.read_sql(\"select game_id, player_id,name, team, starter, team_id, game_date, home from pgames where game_date between '2024-10-01' and '2025-02-06'\".format(yst),nba.conn)"
   ]
  },
  {
   "cell_type": "code",
   "execution_count": null,
   "id": "fdb1377f-fcee-438d-90aa-59813dadb5f8",
   "metadata": {},
   "outputs": [],
   "source": [
    "games = pd.read_sql(\"select game_id, game_date, team_id from teamLog where game_date between '2024-10-01' and '{}'\".format(yst),nba.conn)"
   ]
  },
  {
   "cell_type": "code",
   "execution_count": null,
   "id": "b6c2335c-24c3-46a0-8c23-3cb33639add1",
   "metadata": {},
   "outputs": [],
   "source": [
    "gids = nba.get_games('2024-10-01',yst)"
   ]
  },
  {
   "cell_type": "code",
   "execution_count": null,
   "id": "5a3fc97d-85bd-4c27-bb07-8ee7d8572215",
   "metadata": {},
   "outputs": [],
   "source": [
    "games.game_id.nunique()"
   ]
  },
  {
   "cell_type": "code",
   "execution_count": null,
   "id": "ce130df0-b1dd-4275-a289-1b0c41bdce40",
   "metadata": {},
   "outputs": [],
   "source": [
    "games.game_id.nunique()"
   ]
  },
  {
   "cell_type": "code",
   "execution_count": null,
   "id": "3f21a053-d0b3-4cae-ac3c-bb029245629a",
   "metadata": {},
   "outputs": [],
   "source": [
    "teamInfo"
   ]
  },
  {
   "cell_type": "code",
   "execution_count": null,
   "id": "046614f0-745a-423c-b8ba-c99654fed204",
   "metadata": {},
   "outputs": [],
   "source": [
    "missing = games[~games.game_id.isin(teamInfo.game_id.unique())]"
   ]
  },
  {
   "cell_type": "code",
   "execution_count": null,
   "id": "acacc87e-fca5-4f70-9c4f-77d65ebdb29c",
   "metadata": {},
   "outputs": [],
   "source": [
    "missing.merge(teamInfo[teamInfo.game_id.isin(missing.game_id.unique())], how='left' , on=['game_id','team_id'])"
   ]
  },
  {
   "cell_type": "code",
   "execution_count": null,
   "id": "b3f16947-2bcd-4fc6-aefd-8ebcf824ca7a",
   "metadata": {},
   "outputs": [],
   "source": [
    "nba.conn.execute('DROP VIEW pgames')\n",
    "nba.conn.commit()"
   ]
  },
  {
   "cell_type": "code",
   "execution_count": null,
   "id": "2a254636-70f7-4e5f-8c47-fff1a578446d",
   "metadata": {},
   "outputs": [],
   "source": [
    "nba.conn.execute(open('data/sql/playerGameView.sql','r').read())\n",
    "nba.conn.commit()"
   ]
  },
  {
   "cell_type": "code",
   "execution_count": null,
   "id": "4014e939-7ef3-49e3-a735-4a0c3bb18be2",
   "metadata": {},
   "outputs": [],
   "source": [
    "pd.read_sql(\"select distinct game_id,game_date from shotsAllowed where game_date between '2024-10-01' and '2025-02-06'\",nba.conn).game_id.nunique()"
   ]
  },
  {
   "cell_type": "code",
   "execution_count": null,
   "id": "f3656722-15a9-494c-866c-b1268d1593af",
   "metadata": {},
   "outputs": [],
   "source": [
    "games.game_date.nunique()"
   ]
  },
  {
   "cell_type": "code",
   "execution_count": null,
   "id": "c685e473-be62-4b38-ba26-3eb874693aee",
   "metadata": {},
   "outputs": [],
   "source": [
    "teamInfo"
   ]
  },
  {
   "cell_type": "code",
   "execution_count": null,
   "id": "af1a00e5-6537-4260-afae-75bce182e792",
   "metadata": {},
   "outputs": [],
   "source": [
    "fb24.rename(columns = {'PLAYER_ID':'player_id','GAME_ID':'game_id'},inplace=True)"
   ]
  },
  {
   "cell_type": "code",
   "execution_count": null,
   "id": "2ddf9ea5-9418-47a5-b255-efe6de27a65e",
   "metadata": {},
   "outputs": [],
   "source": [
    "fb24.player_id = fb24.player_id.astype(str)"
   ]
  },
  {
   "cell_type": "code",
   "execution_count": null,
   "id": "a76b7b99-dea1-4f86-9ecb-2ce6e53080e0",
   "metadata": {},
   "outputs": [],
   "source": [
    "frstbckt = fb24.merge(teamInfo,how='inner',on=['player_id','game_id'])"
   ]
  },
  {
   "cell_type": "code",
   "execution_count": null,
   "id": "f3326ce2-2276-4195-98f8-7bf9946f0d1f",
   "metadata": {},
   "outputs": [],
   "source": [
    "yst"
   ]
  },
  {
   "cell_type": "code",
   "execution_count": null,
   "id": "3c76e5f0-46a5-4e71-ad83-61305516acec",
   "metadata": {},
   "outputs": [],
   "source": [
    "fbapp = nba.get_first_buckets(['2025-01-26','2025-02-06'])"
   ]
  },
  {
   "cell_type": "code",
   "execution_count": null,
   "id": "ba40ad65-d21e-49da-a76f-6c50f77b8a0b",
   "metadata": {},
   "outputs": [],
   "source": [
    "fbapp.columns = [col.lower() for col in fbapp.columns]\n",
    "fbapp.player_id = fbapp.player_id.astype(str)"
   ]
  },
  {
   "cell_type": "code",
   "execution_count": null,
   "id": "a598eb48-9e4f-4f8e-8c07-34ab861f6099",
   "metadata": {},
   "outputs": [],
   "source": [
    "fbapp = fbapp.merge(teamInfo,how='inner',on=['player_id','game_id'])"
   ]
  },
  {
   "cell_type": "code",
   "execution_count": null,
   "id": "e25f8554-032c-42ae-bb25-7c075b2facb1",
   "metadata": {},
   "outputs": [],
   "source": [
    "frstbckt = pd.concat([frstbckt,fbapp])"
   ]
  },
  {
   "cell_type": "code",
   "execution_count": null,
   "id": "f3e985d3-936a-4900-9a06-0142379e7cf3",
   "metadata": {},
   "outputs": [],
   "source": [
    "log = pd.read_sql('select name, teamAbrv, pl.* from plyrLogs pl left join players using(player_id) left join teams t using (team_id)  where game_date between \"2023-10-01\" and \"2025-02-07\"',nba.conn)"
   ]
  },
  {
   "cell_type": "code",
   "execution_count": null,
   "id": "e5e6fe2b-3d64-4e75-bc91-25fd03c3bf90",
   "metadata": {},
   "outputs": [],
   "source": []
  },
  {
   "cell_type": "code",
   "execution_count": null,
   "id": "573f36f8-e9e4-4983-a0ba-f16591a85a04",
   "metadata": {},
   "outputs": [],
   "source": [
    "log[log.name.isna()]"
   ]
  },
  {
   "cell_type": "code",
   "execution_count": null,
   "id": "a8f80ce4-647b-4574-bd28-267555a274bf",
   "metadata": {},
   "outputs": [],
   "source": [
    "teams = pd.read_sql('select * from rosters where endDate is Null',nba.conn)"
   ]
  },
  {
   "cell_type": "code",
   "execution_count": null,
   "id": "ebeb4286-6e12-4940-be06-de9a53a87f9a",
   "metadata": {},
   "outputs": [],
   "source": [
    "teams[teams.teamId=='1610612761']"
   ]
  },
  {
   "cell_type": "code",
   "execution_count": null,
   "id": "ce8458cb-7a5b-4976-88db-ba27e4fbfc04",
   "metadata": {},
   "outputs": [],
   "source": [
    "f = pd.read_csv('buckets.csv')"
   ]
  },
  {
   "cell_type": "code",
   "execution_count": null,
   "id": "f302561c-676a-4c30-bc1c-5823fb9d568a",
   "metadata": {},
   "outputs": [],
   "source": [
    "nba.cur.execute('''UPDATE plyrLogs \n",
    "                        SET team_first = 0,\n",
    "                        game_first = 0\n",
    "                        WHERE game_date between \"2024-10-01\" and \"2025-02-06\"\n",
    "\n",
    "                ''')\n",
    "nba.conn.commit()"
   ]
  },
  {
   "cell_type": "code",
   "execution_count": null,
   "id": "5d712c1c-9de6-49b9-8ef4-e7273c85be27",
   "metadata": {},
   "outputs": [],
   "source": [
    "nba.conn.close()"
   ]
  },
  {
   "cell_type": "code",
   "execution_count": null,
   "id": "e2528aef-02d7-44a5-b658-912f4e09ee90",
   "metadata": {},
   "outputs": [],
   "source": [
    "nba.cur.execute('select count(*) from plyrLogs WHERE game_date between \"2024-10-01\" and \"2025-02-06\"').fetchone()"
   ]
  },
  {
   "cell_type": "code",
   "execution_count": null,
   "id": "62e7e3de-d309-4ff6-ba93-1b8cde03ce6d",
   "metadata": {},
   "outputs": [],
   "source": [
    "for r in f[['team_first','game_first','game_id','player_id']].values:\n",
    "    nba.cur.execute('''UPDATE plyrLogs \n",
    "                       SET team_first = {},\n",
    "                        game_first = {}\n",
    "                       WHERE game_id = '00{}'\n",
    "                       AND player_id = '{}'\n",
    "    '''.format(*r))\n",
    "    nba.conn.commit()"
   ]
  },
  {
   "cell_type": "code",
   "execution_count": null,
   "id": "215e7a41-4952-4782-962c-13e9a5c03d36",
   "metadata": {},
   "outputs": [],
   "source": [
    "chck = pd.read_sql('select * from plyrLogs where team_first = 1 and game_date > \"2024-10-01\"',nba.conn)"
   ]
  },
  {
   "cell_type": "code",
   "execution_count": null,
   "id": "2a5b1ff5-967f-4198-978e-0a0c495ab484",
   "metadata": {},
   "outputs": [],
   "source": [
    "fbucket = frstbckt.merge(teamInfo[['game_id','team_id','home']],how='left',on=['game_id','team_id'])"
   ]
  },
  {
   "cell_type": "code",
   "execution_count": null,
   "id": "5f3a9a7e-8bde-4821-bdff-cc9cde9098c1",
   "metadata": {},
   "outputs": [],
   "source": [
    "frstbckt.groupby('team').game_first.value_counts(normalize=True)"
   ]
  },
  {
   "cell_type": "code",
   "execution_count": null,
   "id": "5288a9cf-9d34-49fa-b1a7-9b37c05bd09a",
   "metadata": {},
   "outputs": [],
   "source": []
  },
  {
   "cell_type": "code",
   "execution_count": null,
   "id": "9f1d115f-bc93-4dcf-9355-f10a44e4123a",
   "metadata": {},
   "outputs": [],
   "source": [
    "fbucket.groupby(['team','home']).game_first.value_counts(normalize=True).head(50)"
   ]
  },
  {
   "cell_type": "code",
   "execution_count": null,
   "id": "2e478529-677c-426d-a0eb-7fd828e64700",
   "metadata": {},
   "outputs": [],
   "source": [
    "pd.read_sql(\"select * from teamLog where game_id in ('0022400602','0022400601','0022400603')\",nba.conn)"
   ]
  },
  {
   "cell_type": "code",
   "execution_count": null,
   "id": "b6e28249-f390-4516-b40a-2438c5cf63fd",
   "metadata": {},
   "outputs": [],
   "source": [
    "pid = pd.read_sql('select cast(player_id as int) as PLAYER_ID, name from players',nba.conn)"
   ]
  },
  {
   "cell_type": "code",
   "execution_count": null,
   "id": "8ca43cfa-ec63-46b3-a71b-9c2e049d1248",
   "metadata": {},
   "outputs": [],
   "source": [
    "from nba_api.stats.endpoints import PlayByPlayV2"
   ]
  },
  {
   "cell_type": "code",
   "execution_count": null,
   "id": "0ff156d0-24b1-445b-8f5f-ddad356c372b",
   "metadata": {},
   "outputs": [],
   "source": [
    "gameid = '0022400592'\n",
    "df = PlayByPlayV2(gameid).get_data_frames()[0]\n",
    "l = []\n",
    "try:\n",
    "    aind = df[(df.EVENTMSGTYPE==1) & (df.HOMEDESCRIPTION.notna())].PLAYER1_ID.values[0]\n",
    "    aev = df[(df.EVENTMSGTYPE==1) & (df.PLAYER1_ID==aind)].EVENTNUM.min()\n",
    "    hind = df[(df.EVENTMSGTYPE==1) & (df.VISITORDESCRIPTION.notna())].PLAYER1_ID.values[0]\n",
    "    hev = df[(df.EVENTMSGTYPE==1) & (df.PLAYER1_ID==hind)].EVENTNUM.min()\n",
    "    gd = {'gameid':gameid,'homePlayer':hind,\n",
    "          'awayPlayer':aind,\n",
    "          'firstPlayer':aind if aev < hev else hind}\n",
    "    bskts = set([(gd['gameid'],v,1,1)  if list(gd.values()).count(v) ==2 else (gd['gameid'],v,1,0) for k,v in gd.items() if k!='gameid'])\n",
    "except:\n",
    "    gd = {'gameid':gameid,'homePlayer':'999',\n",
    "          'awayPlayer':'999',\n",
    "          'firstPlayer':'999'}\n",
    "    bskts = set([(gd['gameid'],v,1,1)  if list(gd.values()).count(v) ==2 else (gd['gameid'],v,1,0) for k,v in gd.items() if k!='gameid'])\n",
    "#bdf = pd.DataFrame(bskts,columns = ['GAME_ID','PLAYER_ID','teamFirst','gameFirst'])\n",
    "l.append(bskts)\n",
    "time.sleep(np.random.choice(range(1,5)))\n",
    "\n",
    "#df = pd.DataFrame([x for y in l for x in y],columns = ['GAME_ID','PLAYER_ID','team_first','game_first'])"
   ]
  },
  {
   "cell_type": "code",
   "execution_count": null,
   "id": "791b901e-0149-42e7-9659-fa6afc202315",
   "metadata": {},
   "outputs": [],
   "source": [
    "pd.read_sql('select * from plyrLogs limit 1',nba.conn).columns"
   ]
  },
  {
   "cell_type": "code",
   "execution_count": null,
   "id": "4e024f13-a82d-4ce3-8ad6-c848a02dd404",
   "metadata": {},
   "outputs": [],
   "source": []
  }
 ],
 "metadata": {
  "kernelspec": {
   "display_name": "Python 3 (ipykernel)",
   "language": "python",
   "name": "python3"
  },
  "language_info": {
   "codemirror_mode": {
    "name": "ipython",
    "version": 3
   },
   "file_extension": ".py",
   "mimetype": "text/x-python",
   "name": "python",
   "nbconvert_exporter": "python",
   "pygments_lexer": "ipython3",
   "version": "3.11.7"
  }
 },
 "nbformat": 4,
 "nbformat_minor": 5
}
