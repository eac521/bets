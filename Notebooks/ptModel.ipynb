{
 "cells": [
  {
   "cell_type": "code",
   "execution_count": 1,
   "id": "420e8296-99e1-40b1-9361-bafd6abd6803",
   "metadata": {},
   "outputs": [],
   "source": [
    "%load_ext autoreload\n",
    "%autoreload 2"
   ]
  },
  {
   "cell_type": "code",
   "execution_count": 2,
   "id": "0c87ba51-bc5c-472f-83e3-4ceed9fd3561",
   "metadata": {},
   "outputs": [],
   "source": [
    "## going to test the new setup\n",
    "from nba import NBAbase, NBAetl, NBAdata,NBAmodels\n",
    "from betting import odds\n",
    "import pandas as pd\n",
    "import seaborn as sns\n",
    "import sqlite3\n",
    "import shutil"
   ]
  },
  {
   "cell_type": "code",
   "execution_count": 5,
   "id": "cc9b0fda-47cc-48ba-bd5d-49c912d6d0be",
   "metadata": {},
   "outputs": [
    {
     "name": "stdout",
     "output_type": "stream",
     "text": [
      "Could not load threes model: [Errno 2] No such file or directory: 'data/model/thrModV2.pkl'\n",
      "Could not load points model: [Errno 2] No such file or directory: 'data/model/pointsModel.pkl'\n",
      "Could not load spread model: [Errno 2] No such file or directory: 'data/model/spreadModel.pkl'\n"
     ]
    }
   ],
   "source": [
    "models = NBAmodels.models()\n",
    "\n",
    "etl = NBAetl.etl()\n",
    "data = NBAdata.data()"
   ]
  },
  {
   "cell_type": "code",
   "execution_count": 18,
   "id": "5837c73a-f29f-4a4c-992c-65e96013bc08",
   "metadata": {},
   "outputs": [],
   "source": [
    "mod = pd.read_pickle('../nba/data/model/upThrLog.pkl')"
   ]
  },
  {
   "cell_type": "code",
   "execution_count": 6,
   "id": "03b730f2-e89a-44dd-bb5c-1d1f22aad197",
   "metadata": {},
   "outputs": [
    {
     "ename": "NameError",
     "evalue": "name 'plt' is not defined",
     "output_type": "error",
     "traceback": [
      "\u001b[0;31m---------------------------------------------------------------------------\u001b[0m",
      "\u001b[0;31mNameError\u001b[0m                                 Traceback (most recent call last)",
      "Cell \u001b[0;32mIn[6], line 1\u001b[0m\n\u001b[0;32m----> 1\u001b[0m plt\u001b[38;5;241m.\u001b[39mfigure(figsize\u001b[38;5;241m=\u001b[39m(\u001b[38;5;241m24\u001b[39m,\u001b[38;5;241m16\u001b[39m))\n\u001b[1;32m      2\u001b[0m sns\u001b[38;5;241m.\u001b[39mheatmap(cur\u001b[38;5;241m.\u001b[39mpvalues,annot\u001b[38;5;241m=\u001b[39m\u001b[38;5;28;01mTrue\u001b[39;00m,fmt\u001b[38;5;241m=\u001b[39m\u001b[38;5;124m'\u001b[39m\u001b[38;5;124m.2f\u001b[39m\u001b[38;5;124m'\u001b[39m,cnap\u001b[38;5;241m=\u001b[39m\u001b[38;5;124m'\u001b[39m\u001b[38;5;124mrocket\u001b[39m\u001b[38;5;124m'\u001b[39m)\n\u001b[1;32m      3\u001b[0m plt\u001b[38;5;241m.\u001b[39mshow()\n",
      "\u001b[0;31mNameError\u001b[0m: name 'plt' is not defined"
     ]
    }
   ],
   "source": [
    "plt.figure(figsize=(24,16))\n",
    "sns.heatmap(cur.pvalues,annot=True,fmt='.2f',cnap='rocket')\n",
    "plt.show()"
   ]
  },
  {
   "cell_type": "code",
   "execution_count": null,
   "id": "8e5285f3-0047-43ea-98ce-f33ac5bcc424",
   "metadata": {},
   "outputs": [],
   "source": []
  },
  {
   "cell_type": "code",
   "execution_count": null,
   "id": "d158e5d7-b783-4cb7-85a7-3561928fb6f4",
   "metadata": {},
   "outputs": [],
   "source": []
  },
  {
   "cell_type": "code",
   "execution_count": null,
   "id": "94df6175-a3f1-4bb0-8ce7-54d39ec658c0",
   "metadata": {},
   "outputs": [],
   "source": []
  },
  {
   "cell_type": "code",
   "execution_count": null,
   "id": "3c8931da-5e3c-4a71-bd5f-0001f29fa2f2",
   "metadata": {},
   "outputs": [],
   "source": []
  },
  {
   "cell_type": "code",
   "execution_count": 4,
   "id": "57a36bc7-0876-47c4-8ec0-d70c8e25602c",
   "metadata": {},
   "outputs": [],
   "source": [
    "today = dt.datetime.today().strftime(format='%Y-%m-%d')\n",
    "yst = (pd.to_datetime(today) + pd.to_timedelta(-1,unit='day')).strftime(format='%Y-%m-%d')"
   ]
  },
  {
   "cell_type": "markdown",
   "id": "941beae1-5fd4-460d-84a4-0c782727c996",
   "metadata": {},
   "source": [
    "Lets start looking at point information from the players, well start to look at defenses and player scoring"
   ]
  },
  {
   "cell_type": "code",
   "execution_count": 8,
   "id": "9d130469-ce74-40e2-ade0-5d8888e4ca05",
   "metadata": {},
   "outputs": [
    {
     "data": {
      "text/html": [
       "<div>\n",
       "<style scoped>\n",
       "    .dataframe tbody tr th:only-of-type {\n",
       "        vertical-align: middle;\n",
       "    }\n",
       "\n",
       "    .dataframe tbody tr th {\n",
       "        vertical-align: top;\n",
       "    }\n",
       "\n",
       "    .dataframe thead th {\n",
       "        text-align: right;\n",
       "    }\n",
       "</style>\n",
       "<table border=\"1\" class=\"dataframe\">\n",
       "  <thead>\n",
       "    <tr style=\"text-align: right;\">\n",
       "      <th></th>\n",
       "      <th>type</th>\n",
       "      <th>name</th>\n",
       "      <th>tbl_name</th>\n",
       "      <th>rootpage</th>\n",
       "      <th>sql</th>\n",
       "    </tr>\n",
       "  </thead>\n",
       "  <tbody>\n",
       "    <tr>\n",
       "      <th>0</th>\n",
       "      <td>table</td>\n",
       "      <td>rosters</td>\n",
       "      <td>rosters</td>\n",
       "      <td>4</td>\n",
       "      <td>CREATE TABLE rosters(\\n    teamId TEXT,\\n    s...</td>\n",
       "    </tr>\n",
       "    <tr>\n",
       "      <th>1</th>\n",
       "      <td>table</td>\n",
       "      <td>players</td>\n",
       "      <td>players</td>\n",
       "      <td>2</td>\n",
       "      <td>CREATE TABLE players(\\n        player_id TEXT,...</td>\n",
       "    </tr>\n",
       "    <tr>\n",
       "      <th>2</th>\n",
       "      <td>table</td>\n",
       "      <td>teams</td>\n",
       "      <td>teams</td>\n",
       "      <td>6</td>\n",
       "      <td>CREATE TABLE teams(\\n    team_id TEXT,\\n    te...</td>\n",
       "    </tr>\n",
       "    <tr>\n",
       "      <th>3</th>\n",
       "      <td>table</td>\n",
       "      <td>plyrLogs</td>\n",
       "      <td>plyrLogs</td>\n",
       "      <td>123</td>\n",
       "      <td>CREATE TABLE plyrLogs (player_id TEXT,\\nteam_i...</td>\n",
       "    </tr>\n",
       "    <tr>\n",
       "      <th>4</th>\n",
       "      <td>view</td>\n",
       "      <td>team_game</td>\n",
       "      <td>team_game</td>\n",
       "      <td>0</td>\n",
       "      <td>CREATE VIEW team_game as \\nSELECT season, game...</td>\n",
       "    </tr>\n",
       "    <tr>\n",
       "      <th>5</th>\n",
       "      <td>table</td>\n",
       "      <td>shotsAllowed</td>\n",
       "      <td>shotsAllowed</td>\n",
       "      <td>582</td>\n",
       "      <td>CREATE TABLE shotsAllowed (team_id TEXT,\\ngame...</td>\n",
       "    </tr>\n",
       "    <tr>\n",
       "      <th>6</th>\n",
       "      <td>view</td>\n",
       "      <td>team_def</td>\n",
       "      <td>team_def</td>\n",
       "      <td>0</td>\n",
       "      <td>CREATE VIEW team_def AS\\nselect \\nseason, subs...</td>\n",
       "    </tr>\n",
       "    <tr>\n",
       "      <th>7</th>\n",
       "      <td>table</td>\n",
       "      <td>teamLog</td>\n",
       "      <td>teamLog</td>\n",
       "      <td>7</td>\n",
       "      <td>CREATE TABLE teamLog(\\n        game_id TEXT,\\n...</td>\n",
       "    </tr>\n",
       "    <tr>\n",
       "      <th>8</th>\n",
       "      <td>table</td>\n",
       "      <td>preds</td>\n",
       "      <td>preds</td>\n",
       "      <td>11580</td>\n",
       "      <td>CREATE TABLE preds\\n                    (game_...</td>\n",
       "    </tr>\n",
       "    <tr>\n",
       "      <th>9</th>\n",
       "      <td>view</td>\n",
       "      <td>pgames</td>\n",
       "      <td>pgames</td>\n",
       "      <td>0</td>\n",
       "      <td>CREATE VIEW pgames \\n    AS\\nSELECT \\n--identi...</td>\n",
       "    </tr>\n",
       "    <tr>\n",
       "      <th>10</th>\n",
       "      <td>view</td>\n",
       "      <td>roster_view</td>\n",
       "      <td>roster_view</td>\n",
       "      <td>0</td>\n",
       "      <td>CREATE VIEW roster_view AS\\nSELECT name, playe...</td>\n",
       "    </tr>\n",
       "  </tbody>\n",
       "</table>\n",
       "</div>"
      ],
      "text/plain": [
       "     type          name      tbl_name  rootpage  \\\n",
       "0   table       rosters       rosters         4   \n",
       "1   table       players       players         2   \n",
       "2   table         teams         teams         6   \n",
       "3   table      plyrLogs      plyrLogs       123   \n",
       "4    view     team_game     team_game         0   \n",
       "5   table  shotsAllowed  shotsAllowed       582   \n",
       "6    view      team_def      team_def         0   \n",
       "7   table       teamLog       teamLog         7   \n",
       "8   table         preds         preds     11580   \n",
       "9    view        pgames        pgames         0   \n",
       "10   view   roster_view   roster_view         0   \n",
       "\n",
       "                                                  sql  \n",
       "0   CREATE TABLE rosters(\\n    teamId TEXT,\\n    s...  \n",
       "1   CREATE TABLE players(\\n        player_id TEXT,...  \n",
       "2   CREATE TABLE teams(\\n    team_id TEXT,\\n    te...  \n",
       "3   CREATE TABLE plyrLogs (player_id TEXT,\\nteam_i...  \n",
       "4   CREATE VIEW team_game as \\nSELECT season, game...  \n",
       "5   CREATE TABLE shotsAllowed (team_id TEXT,\\ngame...  \n",
       "6   CREATE VIEW team_def AS\\nselect \\nseason, subs...  \n",
       "7   CREATE TABLE teamLog(\\n        game_id TEXT,\\n...  \n",
       "8   CREATE TABLE preds\\n                    (game_...  \n",
       "9   CREATE VIEW pgames \\n    AS\\nSELECT \\n--identi...  \n",
       "10  CREATE VIEW roster_view AS\\nSELECT name, playe...  "
      ]
     },
     "execution_count": 8,
     "metadata": {},
     "output_type": "execute_result"
    }
   ],
   "source": [
    "nba.showTables"
   ]
  },
  {
   "cell_type": "code",
   "execution_count": 7,
   "id": "bd736904-9ff8-47dc-83c2-72a1be2b5d9d",
   "metadata": {},
   "outputs": [
    {
     "ename": "DatabaseError",
     "evalue": "Execution failed on sql 'select * from playerLog': no such table: playerLog",
     "output_type": "error",
     "traceback": [
      "\u001b[0;31m---------------------------------------------------------------------------\u001b[0m",
      "\u001b[0;31mOperationalError\u001b[0m                          Traceback (most recent call last)",
      "File \u001b[0;32m/opt/anaconda3/lib/python3.11/site-packages/pandas/io/sql.py:2262\u001b[0m, in \u001b[0;36mSQLiteDatabase.execute\u001b[0;34m(self, sql, params)\u001b[0m\n\u001b[1;32m   2261\u001b[0m \u001b[38;5;28;01mtry\u001b[39;00m:\n\u001b[0;32m-> 2262\u001b[0m     cur\u001b[38;5;241m.\u001b[39mexecute(sql, \u001b[38;5;241m*\u001b[39margs)\n\u001b[1;32m   2263\u001b[0m     \u001b[38;5;28;01mreturn\u001b[39;00m cur\n",
      "\u001b[0;31mOperationalError\u001b[0m: no such table: playerLog",
      "\nThe above exception was the direct cause of the following exception:\n",
      "\u001b[0;31mDatabaseError\u001b[0m                             Traceback (most recent call last)",
      "Cell \u001b[0;32mIn[7], line 1\u001b[0m\n\u001b[0;32m----> 1\u001b[0m plog \u001b[38;5;241m=\u001b[39m pd\u001b[38;5;241m.\u001b[39mread_sql(\u001b[38;5;124m'\u001b[39m\u001b[38;5;124mselect * from playerLog\u001b[39m\u001b[38;5;124m'\u001b[39m,nba\u001b[38;5;241m.\u001b[39mconn)\n",
      "File \u001b[0;32m/opt/anaconda3/lib/python3.11/site-packages/pandas/io/sql.py:654\u001b[0m, in \u001b[0;36mread_sql\u001b[0;34m(sql, con, index_col, coerce_float, params, parse_dates, columns, chunksize, dtype_backend, dtype)\u001b[0m\n\u001b[1;32m    652\u001b[0m \u001b[38;5;28;01mwith\u001b[39;00m pandasSQL_builder(con) \u001b[38;5;28;01mas\u001b[39;00m pandas_sql:\n\u001b[1;32m    653\u001b[0m     \u001b[38;5;28;01mif\u001b[39;00m \u001b[38;5;28misinstance\u001b[39m(pandas_sql, SQLiteDatabase):\n\u001b[0;32m--> 654\u001b[0m         \u001b[38;5;28;01mreturn\u001b[39;00m pandas_sql\u001b[38;5;241m.\u001b[39mread_query(\n\u001b[1;32m    655\u001b[0m             sql,\n\u001b[1;32m    656\u001b[0m             index_col\u001b[38;5;241m=\u001b[39mindex_col,\n\u001b[1;32m    657\u001b[0m             params\u001b[38;5;241m=\u001b[39mparams,\n\u001b[1;32m    658\u001b[0m             coerce_float\u001b[38;5;241m=\u001b[39mcoerce_float,\n\u001b[1;32m    659\u001b[0m             parse_dates\u001b[38;5;241m=\u001b[39mparse_dates,\n\u001b[1;32m    660\u001b[0m             chunksize\u001b[38;5;241m=\u001b[39mchunksize,\n\u001b[1;32m    661\u001b[0m             dtype_backend\u001b[38;5;241m=\u001b[39mdtype_backend,\n\u001b[1;32m    662\u001b[0m             dtype\u001b[38;5;241m=\u001b[39mdtype,\n\u001b[1;32m    663\u001b[0m         )\n\u001b[1;32m    665\u001b[0m     \u001b[38;5;28;01mtry\u001b[39;00m:\n\u001b[1;32m    666\u001b[0m         _is_table_name \u001b[38;5;241m=\u001b[39m pandas_sql\u001b[38;5;241m.\u001b[39mhas_table(sql)\n",
      "File \u001b[0;32m/opt/anaconda3/lib/python3.11/site-packages/pandas/io/sql.py:2326\u001b[0m, in \u001b[0;36mSQLiteDatabase.read_query\u001b[0;34m(self, sql, index_col, coerce_float, parse_dates, params, chunksize, dtype, dtype_backend)\u001b[0m\n\u001b[1;32m   2315\u001b[0m \u001b[38;5;28;01mdef\u001b[39;00m \u001b[38;5;21mread_query\u001b[39m(\n\u001b[1;32m   2316\u001b[0m     \u001b[38;5;28mself\u001b[39m,\n\u001b[1;32m   2317\u001b[0m     sql,\n\u001b[0;32m   (...)\u001b[0m\n\u001b[1;32m   2324\u001b[0m     dtype_backend: DtypeBackend \u001b[38;5;241m|\u001b[39m Literal[\u001b[38;5;124m\"\u001b[39m\u001b[38;5;124mnumpy\u001b[39m\u001b[38;5;124m\"\u001b[39m] \u001b[38;5;241m=\u001b[39m \u001b[38;5;124m\"\u001b[39m\u001b[38;5;124mnumpy\u001b[39m\u001b[38;5;124m\"\u001b[39m,\n\u001b[1;32m   2325\u001b[0m ) \u001b[38;5;241m-\u001b[39m\u001b[38;5;241m>\u001b[39m DataFrame \u001b[38;5;241m|\u001b[39m Iterator[DataFrame]:\n\u001b[0;32m-> 2326\u001b[0m     cursor \u001b[38;5;241m=\u001b[39m \u001b[38;5;28mself\u001b[39m\u001b[38;5;241m.\u001b[39mexecute(sql, params)\n\u001b[1;32m   2327\u001b[0m     columns \u001b[38;5;241m=\u001b[39m [col_desc[\u001b[38;5;241m0\u001b[39m] \u001b[38;5;28;01mfor\u001b[39;00m col_desc \u001b[38;5;129;01min\u001b[39;00m cursor\u001b[38;5;241m.\u001b[39mdescription]\n\u001b[1;32m   2329\u001b[0m     \u001b[38;5;28;01mif\u001b[39;00m chunksize \u001b[38;5;129;01mis\u001b[39;00m \u001b[38;5;129;01mnot\u001b[39;00m \u001b[38;5;28;01mNone\u001b[39;00m:\n",
      "File \u001b[0;32m/opt/anaconda3/lib/python3.11/site-packages/pandas/io/sql.py:2274\u001b[0m, in \u001b[0;36mSQLiteDatabase.execute\u001b[0;34m(self, sql, params)\u001b[0m\n\u001b[1;32m   2271\u001b[0m     \u001b[38;5;28;01mraise\u001b[39;00m ex \u001b[38;5;28;01mfrom\u001b[39;00m \u001b[38;5;21;01minner_exc\u001b[39;00m\n\u001b[1;32m   2273\u001b[0m ex \u001b[38;5;241m=\u001b[39m DatabaseError(\u001b[38;5;124mf\u001b[39m\u001b[38;5;124m\"\u001b[39m\u001b[38;5;124mExecution failed on sql \u001b[39m\u001b[38;5;124m'\u001b[39m\u001b[38;5;132;01m{\u001b[39;00msql\u001b[38;5;132;01m}\u001b[39;00m\u001b[38;5;124m'\u001b[39m\u001b[38;5;124m: \u001b[39m\u001b[38;5;132;01m{\u001b[39;00mexc\u001b[38;5;132;01m}\u001b[39;00m\u001b[38;5;124m\"\u001b[39m)\n\u001b[0;32m-> 2274\u001b[0m \u001b[38;5;28;01mraise\u001b[39;00m ex \u001b[38;5;28;01mfrom\u001b[39;00m \u001b[38;5;21;01mexc\u001b[39;00m\n",
      "\u001b[0;31mDatabaseError\u001b[0m: Execution failed on sql 'select * from playerLog': no such table: playerLog"
     ]
    }
   ],
   "source": [
    "plog = pd.read_sql('select * from playerLog',nba.conn)"
   ]
  },
  {
   "cell_type": "code",
   "execution_count": null,
   "id": "85215673-2499-4ef6-96d1-cd0c880f6d18",
   "metadata": {},
   "outputs": [],
   "source": []
  }
 ],
 "metadata": {
  "kernelspec": {
   "display_name": "Python 3 (ipykernel)",
   "language": "python",
   "name": "python3"
  },
  "language_info": {
   "codemirror_mode": {
    "name": "ipython",
    "version": 3
   },
   "file_extension": ".py",
   "mimetype": "text/x-python",
   "name": "python",
   "nbconvert_exporter": "python",
   "pygments_lexer": "ipython3",
   "version": "3.11.7"
  }
 },
 "nbformat": 4,
 "nbformat_minor": 5
}
