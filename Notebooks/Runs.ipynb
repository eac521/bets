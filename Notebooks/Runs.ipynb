{
 "cells": [
  {
   "cell_type": "code",
   "execution_count": 1,
   "id": "58d8d457-5cdf-4fd1-9dee-2d66c0d9208d",
   "metadata": {},
   "outputs": [],
   "source": [
    "%load_ext autoreload\n",
    "%autoreload 2"
   ]
  },
  {
   "cell_type": "code",
   "execution_count": 2,
   "id": "f984f5b8-448e-48aa-9b89-c32e69c6f6a2",
   "metadata": {},
   "outputs": [],
   "source": [
    "import pandas as pd\n",
    "import numpy as np\n",
    "import sys\n",
    "sys.path.append('..')\n",
    "import bets\n",
    "import sqlite3\n",
    "import os\n",
    "import glob\n",
    "import datetime as dt\n",
    "import time\n",
    "#import ot\n",
    "import json\n",
    "import requests\n",
    "import statsmodels.api as sm \n",
    "from tqdm import tqdm\n",
    "pd.set_option('display.float_format', lambda x: '%.3f' % x)\n",
    "\n",
    "nba = bets.nba()\n",
    "import seaborn as sns\n",
    "import matplotlib.pyplot as plt\n",
    "import re\n",
    "from warnings import simplefilter\n",
    "simplefilter(action=\"ignore\", category=pd.errors.PerformanceWarning)\n",
    "from nba_api.stats.endpoints import BoxScoreAdvancedV3,leaguegamefinder,BoxScoreSummaryV2,PlayByPlayV2,LeagueDashOppPtShot,PlayerProfileV2,GameRotation,LeagueDashPlayerShotLocations"
   ]
  },
  {
   "cell_type": "code",
   "execution_count": 3,
   "id": "322e94d4-a382-46ff-93ff-e6332f7261e4",
   "metadata": {},
   "outputs": [],
   "source": [
    "def runDay(date,toDb = False,useNew = False):\n",
    "    yst = (pd.to_datetime(today) + pd.to_timedelta(-1,unit='day')).strftime(format='%Y-%m-%d')\n",
    "    if useNew:\n",
    "        data =  nba.threeData() #there will need to be an edit to only get data for today\n",
    "        model = pd.read_pickle('data/model/ThrMod2.pkl')\n",
    "    else:\n",
    "        data =  nba.threeData() #there will need to be an edit to only get data for today\n",
    "        model = pd.read_pickle('data/model/upThrLog.pkl')\n",
    "    #create model data and scale\n",
    "    X = nba.cleanNaThr(data)\n",
    "    X = nba.scaleData(X)\n",
    "    idx = data[data.game_date==date].index\n",
    "    #make day's predictions\n",
    "    preds = model.predict(X.loc[idx].filter(model.params.index))\n",
    "    upload =  data.loc[idx][['game_date','game_id','player_id','name','team']].join(preds)\n",
    "    preds = preds.join(data[['name']])\n",
    "    if len(upload) <19:\n",
    "        for i in range(1,(19 - len(upload))+1):\n",
    "            upload['add_{}'.format(i)] = 0.0000\n",
    "\n",
    "    # if toDb:\n",
    "    #     nba.conn.execute(\"DELETE FROM preds where game_date = '{}' \".format(yst))\n",
    "    #     nba.conn.commit()\n",
    "    #     try:\n",
    "    #         nba.insert_data(upload,'preds')\n",
    "    #         print('updated prediction table')\n",
    "    #     except:\n",
    "    #         print('PREDS NOT SAVED')\n",
    "    #         return upload,preds,model\n",
    "\n",
    "    #create a data frame of the predictions\n",
    "    #df = nba.probDf(preds.values,y.loc[valInd],data[['name','game_date']],valInd)\n",
    "    \n",
    "    #convert into odds\n",
    "    c = [10,9,8,7,6,5,4,3,2,1,0]\n",
    "    finalo = pd.DataFrame(np.array([nba.convertPercentToOdds(v) for r in preds[c].cumsum(axis=1).values for v in r]).reshape(preds[c].shape),\n",
    "                         columns=c,index=preds.index)\n",
    "    finalu = pd.DataFrame(np.array([nba.convertPercentToOdds(v) for r in preds.iloc[:,:-1].cumsum(axis=1).values for v in r]).reshape(preds[sorted(c)].shape),\n",
    "                          columns = c,index=preds.index)\n",
    "    overs = data[data.game_date==date][['name','team','game_id']].join(finalo.filter(preds.columns))\n",
    "    unders = data[data.game_date==date][['name','team','game_id']].join(finalu.filter(preds.columns))\n",
    "    return overs,unders,preds,model,data[data.game_date==date]"
   ]
  },
  {
   "cell_type": "code",
   "execution_count": null,
   "id": "a3dec98e-95a6-437b-94e0-e3dd925dba5b",
   "metadata": {},
   "outputs": [],
   "source": [
    "etl.curr.execute("
   ]
  },
  {
   "cell_type": "markdown",
   "id": "ce23132d-0ec6-4c16-aefb-0b6b5d966086",
   "metadata": {},
   "source": [
    "### This notebook is to just run the current model and get our predictions"
   ]
  },
  {
   "cell_type": "code",
   "execution_count": 244,
   "id": "80fd1893-ccb2-40aa-b4b1-f7b61137648c",
   "metadata": {},
   "outputs": [],
   "source": [
    "today = dt.datetime.today().strftime(format='%Y-%m-%d')\n",
    "yst = (pd.to_datetime(today) + pd.to_timedelta(-1,unit='day')).strftime(format='%Y-%m-%d')\n",
    "gids = nba.get_games(yst,yst)"
   ]
  },
  {
   "cell_type": "code",
   "execution_count": 245,
   "id": "69d2fba0-effb-4c26-a161-ad20960647eb",
   "metadata": {},
   "outputs": [
    {
     "name": "stdout",
     "output_type": "stream",
     "text": [
      "Updating for 2025-04-13\n",
      "started player logs at 06:38\n",
      "getting first buckets : at 06:38\n"
     ]
    },
    {
     "name": "stderr",
     "output_type": "stream",
     "text": [
      "100%|███████████████████████████████████████████| 15/15 [00:38<00:00,  2.55s/it]\n"
     ]
    },
    {
     "name": "stdout",
     "output_type": "stream",
     "text": [
      "\tcompleted at 06:39\n",
      "started rebounds at 06:39\n",
      "ended rebounds at 06:39\n",
      "starting advanced box at 06:39\n"
     ]
    },
    {
     "name": "stderr",
     "output_type": "stream",
     "text": [
      "100%|███████████████████████████████████████████| 15/15 [00:36<00:00,  2.47s/it]\n"
     ]
    },
    {
     "name": "stdout",
     "output_type": "stream",
     "text": [
      "completed adv box at 06:40\n",
      "start player shots at 06:40\n"
     ]
    },
    {
     "name": "stderr",
     "output_type": "stream",
     "text": [
      "100%|█████████████████████████████████████████████| 1/1 [00:07<00:00,  7.85s/it]\n"
     ]
    },
    {
     "name": "stdout",
     "output_type": "stream",
     "text": [
      "completed player shots at 06:40\n",
      "plyrLogs has been updated with 299 rows\n"
     ]
    },
    {
     "name": "stderr",
     "output_type": "stream",
     "text": [
      "100%|█████████████████████████████████████████████| 1/1 [00:03<00:00,  3.85s/it]\n"
     ]
    },
    {
     "name": "stdout",
     "output_type": "stream",
     "text": [
      "Completed dribble data\n"
     ]
    },
    {
     "name": "stderr",
     "output_type": "stream",
     "text": [
      "100%|█████████████████████████████████████████████| 1/1 [00:09<00:00,  9.95s/it]\n"
     ]
    },
    {
     "name": "stdout",
     "output_type": "stream",
     "text": [
      "Completed spot data\n"
     ]
    },
    {
     "name": "stderr",
     "output_type": "stream",
     "text": [
      "100%|█████████████████████████████████████████████| 1/1 [00:01<00:00,  1.54s/it]"
     ]
    },
    {
     "name": "stdout",
     "output_type": "stream",
     "text": [
      "2025-04-13 no distance from shooter data\n",
      "Completed open shot data\n",
      "shots not updated yet\n"
     ]
    },
    {
     "name": "stderr",
     "output_type": "stream",
     "text": [
      "\n",
      "100%|███████████████████████████████████████████| 15/15 [00:15<00:00,  1.02s/it]"
     ]
    },
    {
     "name": "stdout",
     "output_type": "stream",
     "text": [
      "teamLog has been updated with 30 rows\n"
     ]
    },
    {
     "name": "stderr",
     "output_type": "stream",
     "text": [
      "\n"
     ]
    }
   ],
   "source": [
    "print('Updating for {}'.format(yst))\n",
    "nba.update_player_log([yst])\n",
    "time.sleep(np.random.randint(5,15))\n",
    "try:\n",
    "    nba.update_shots_allowed([yst])\n",
    "except:\n",
    "    print('shots not updated yet')\n",
    "time.sleep(np.random.randint(5,15)) \n",
    "nba.update_teamLog(gids.GAME_ID.unique())"
   ]
  },
  {
   "cell_type": "code",
   "execution_count": 239,
   "id": "6bc76ebd-64e6-42d5-a6b7-f7e94ed2f0ac",
   "metadata": {},
   "outputs": [],
   "source": [
    "def oddsData(today,tomorrow):\n",
    "    '''ISO Formatted dates for today and tomorrow returns the games that will be played today ids for odds pulls\n",
    "    Inputs: isoformatted dates for today and tomorrow\n",
    "    Output: list of game ids\n",
    "    '''\n",
    "    dct = json.loads(open('config.json','r').read())\n",
    "    eventURL = 'https://api.the-odds-api.com/v4/sports/basketball_nba/events?apiKey={}&dateFormat=iso&commenceTimeFrom={}&commenceTimeTo={}'\n",
    "    fr = dct.get('oddsApi').get('free')\n",
    "    pd = dct.get('oddsApi').get('paid')\n",
    "    if int(requests.get(eventURL.format(fr,today,tomorrow)).headers['x-requests-used'])>=490:\n",
    "        print('Free is out')\n",
    "        r = requests.get(eventURL.format(pd,today,tomorrow))\n",
    "        print(r.headers)\n",
    "        key = pd\n",
    "    else:\n",
    "        r= requests.get(eventURL.format(fr,today,tomorrow))\n",
    "        print('Free:',r.headers)\n",
    "        key = fr\n",
    "    \n",
    "    return [d['id'] for d in r.json()],key"
   ]
  },
  {
   "cell_type": "code",
   "execution_count": 240,
   "id": "8301b0a5-7d0e-4de8-a110-7894694d7e4f",
   "metadata": {},
   "outputs": [
    {
     "name": "stdout",
     "output_type": "stream",
     "text": [
      "Free: {'Date': 'Sun, 13 Apr 2025 10:41:57 GMT', 'Content-Type': 'application/json; charset=utf-8', 'Content-Length': '862', 'Connection': 'keep-alive', 'X-Requests-Last': '0', 'vary': 'Accept-Encoding', 'content-encoding': 'gzip', 'X-Requests-Used': '270', 'X-Requests-Remaining': '230', 'Apigw-Requestid': 'I9Q2fjgWIAMEahg='}\n"
     ]
    }
   ],
   "source": [
    "todayIso = (dt.datetime.now()).strftime('%Y-%m-%dT%H:%M:00Z')\n",
    "tomor = (dt.datetime.now() + dt.timedelta(1)).strftime('%Y-%m-%dT%H:%M:00z')\n",
    "events,akey = oddsData(todayIso,tomor)"
   ]
  },
  {
   "cell_type": "code",
   "execution_count": 241,
   "id": "92693e9c-3481-4aba-9947-85b8a5bb900d",
   "metadata": {},
   "outputs": [],
   "source": [
    "url = 'https://api.the-odds-api.com/v4/sports/basketball_nba/events/{}/odds?apiKey={}&regions=us&markets=player_threes,player_threes_alternate&dateFormat=iso&oddsFormat=american&bookmakers=draftkings%2Cfanduel%2cbetmgm'"
   ]
  },
  {
   "cell_type": "code",
   "execution_count": 242,
   "id": "11fa14c0-29a3-4e4d-98d2-ee57fa1f1cfa",
   "metadata": {},
   "outputs": [],
   "source": [
    "df = pd.DataFrame()\n",
    "for event in events:\n",
    "    r = requests.get(url.format(event,akey))\n",
    "    game = r.json()\n",
    "    for key in game.get('bookmakers'):\n",
    "        bk = key.get('title')\n",
    "        for mrkt in key.get('markets'):\n",
    "            temp = pd.DataFrame(mrkt.get('outcomes'))\n",
    "            temp.columns = ['over_under','name','price','threesMade']\n",
    "            temp['book'] = bk\n",
    "            temp['mrkt'] = mrkt\n",
    "            df = pd.concat([temp,df])   \n",
    "odds = df.pivot_table(index=['name','threesMade','over_under'],columns=['book']).reset_index()\n",
    "odds.columns = [col[1] if col[1]!= '' else col[0] for col in odds.columns]\n",
    "#Name changes\n",
    "odds.name = np.where(odds.name=='Herb Jones','Herbert Jones',odds.name)\n",
    "odds.name = np.where(odds.name =='Alex Sarr','Alexandre Sarr',odds.name)\n",
    "odds.name = np.where(odds.name.str.contains('\\.'),odds.name.str.replace('.',''),odds.name)\n",
    "#over.name = np.where(over.name.str.contains('\\.'),over.name.str.replace('.',''),over.name)"
   ]
  },
  {
   "cell_type": "code",
   "execution_count": 243,
   "id": "9bd5f9ea-d4b6-4d4c-a0d6-bc93b1dbf5f9",
   "metadata": {},
   "outputs": [],
   "source": [
    "odds.to_csv('data/csv/{}odds.csv'.format(today),index=False)"
   ]
  },
  {
   "cell_type": "code",
   "execution_count": 85,
   "id": "0ab8cd9c-f9ff-49dc-93d4-90f45cda19cf",
   "metadata": {},
   "outputs": [],
   "source": [
    "def check_table(minDate=None):\n",
    "    '''\n",
    "    Go through table and check the following:\n",
    "    NA count by column\n",
    "    number of instances by team(gp for shotsAllowed and teamLog, number of players with stats in the time period for plyrlog\n",
    "    will check the following columns for each table against nba api:\n",
    "    teamLog: gp, home, win, q1_pts\n",
    "    shotsAllowed: gp,  ra_fga, wide_fg3a, drb0_fg2a\n",
    "    plyrLog: gp, min, tam_first, dreb, ra_fga,starter\n",
    "    Date will default to beginning of current season\n",
    "    '''\n",
    "    yst = (dt.datetime.today() + dt.timedelta(-1)).strftime('%Y-%m-%d')\n",
    "    date = minDate if minDate!=None else \"2024-10-01\"##nba.curSeasonStart replace when next instanstansioation occurs\n",
    "    tl = pd.read_sql('''SELECT teamAbrv, teamLog.*\n",
    "                    FROM teamLog\n",
    "                    LEFT join teams using(team_id)\n",
    "                    WHERE game_date BETWEEN \"{}\" AND \"{}\"\n",
    "                    '''.format(date,yst)\n",
    "                     ,nba.conn)"
   ]
  },
  {
   "cell_type": "code",
   "execution_count": null,
   "id": "c71736ba-3bb6-4bd6-9174-3d3b70c745c0",
   "metadata": {
    "scrolled": true
   },
   "outputs": [],
   "source": [
    "over,under,preds,model,data = runDay(today,True)"
   ]
  },
  {
   "cell_type": "code",
   "execution_count": 211,
   "id": "bdc94092-b572-425a-a241-16e8d8d422b1",
   "metadata": {},
   "outputs": [
    {
     "data": {
      "text/html": [
       "<div>\n",
       "<style scoped>\n",
       "    .dataframe tbody tr th:only-of-type {\n",
       "        vertical-align: middle;\n",
       "    }\n",
       "\n",
       "    .dataframe tbody tr th {\n",
       "        vertical-align: top;\n",
       "    }\n",
       "\n",
       "    .dataframe thead th {\n",
       "        text-align: right;\n",
       "    }\n",
       "</style>\n",
       "<table border=\"1\" class=\"dataframe\">\n",
       "  <thead>\n",
       "    <tr style=\"text-align: right;\">\n",
       "      <th></th>\n",
       "      <th>name</th>\n",
       "      <th>threesMade</th>\n",
       "      <th>over_under</th>\n",
       "      <th>DraftKings</th>\n",
       "      <th>ESPN BET</th>\n",
       "      <th>FanDuel</th>\n",
       "    </tr>\n",
       "  </thead>\n",
       "  <tbody>\n",
       "    <tr>\n",
       "      <th>0</th>\n",
       "      <td>AJ Green</td>\n",
       "      <td>1.500</td>\n",
       "      <td>Over</td>\n",
       "      <td>-191.500</td>\n",
       "      <td>-160.000</td>\n",
       "      <td>NaN</td>\n",
       "    </tr>\n",
       "    <tr>\n",
       "      <th>1</th>\n",
       "      <td>AJ Green</td>\n",
       "      <td>1.500</td>\n",
       "      <td>Under</td>\n",
       "      <td>145.000</td>\n",
       "      <td>120.000</td>\n",
       "      <td>NaN</td>\n",
       "    </tr>\n",
       "    <tr>\n",
       "      <th>2</th>\n",
       "      <td>AJ Green</td>\n",
       "      <td>2.500</td>\n",
       "      <td>Over</td>\n",
       "      <td>145.000</td>\n",
       "      <td>NaN</td>\n",
       "      <td>NaN</td>\n",
       "    </tr>\n",
       "    <tr>\n",
       "      <th>3</th>\n",
       "      <td>AJ Green</td>\n",
       "      <td>3.500</td>\n",
       "      <td>Over</td>\n",
       "      <td>370.000</td>\n",
       "      <td>NaN</td>\n",
       "      <td>NaN</td>\n",
       "    </tr>\n",
       "    <tr>\n",
       "      <th>4</th>\n",
       "      <td>AJ Green</td>\n",
       "      <td>4.500</td>\n",
       "      <td>Over</td>\n",
       "      <td>850.000</td>\n",
       "      <td>NaN</td>\n",
       "      <td>NaN</td>\n",
       "    </tr>\n",
       "    <tr>\n",
       "      <th>126</th>\n",
       "      <td>Draymond Green</td>\n",
       "      <td>0.500</td>\n",
       "      <td>Over</td>\n",
       "      <td>-525.000</td>\n",
       "      <td>NaN</td>\n",
       "      <td>NaN</td>\n",
       "    </tr>\n",
       "    <tr>\n",
       "      <th>127</th>\n",
       "      <td>Draymond Green</td>\n",
       "      <td>1.500</td>\n",
       "      <td>Over</td>\n",
       "      <td>-115.000</td>\n",
       "      <td>-110.000</td>\n",
       "      <td>NaN</td>\n",
       "    </tr>\n",
       "    <tr>\n",
       "      <th>128</th>\n",
       "      <td>Draymond Green</td>\n",
       "      <td>1.500</td>\n",
       "      <td>Under</td>\n",
       "      <td>-115.000</td>\n",
       "      <td>-120.000</td>\n",
       "      <td>NaN</td>\n",
       "    </tr>\n",
       "    <tr>\n",
       "      <th>129</th>\n",
       "      <td>Draymond Green</td>\n",
       "      <td>2.500</td>\n",
       "      <td>Over</td>\n",
       "      <td>255.000</td>\n",
       "      <td>NaN</td>\n",
       "      <td>NaN</td>\n",
       "    </tr>\n",
       "    <tr>\n",
       "      <th>130</th>\n",
       "      <td>Draymond Green</td>\n",
       "      <td>3.500</td>\n",
       "      <td>Over</td>\n",
       "      <td>650.000</td>\n",
       "      <td>NaN</td>\n",
       "      <td>NaN</td>\n",
       "    </tr>\n",
       "  </tbody>\n",
       "</table>\n",
       "</div>"
      ],
      "text/plain": [
       "               name  threesMade over_under  DraftKings  ESPN BET  FanDuel\n",
       "0          AJ Green       1.500       Over    -191.500  -160.000      NaN\n",
       "1          AJ Green       1.500      Under     145.000   120.000      NaN\n",
       "2          AJ Green       2.500       Over     145.000       NaN      NaN\n",
       "3          AJ Green       3.500       Over     370.000       NaN      NaN\n",
       "4          AJ Green       4.500       Over     850.000       NaN      NaN\n",
       "126  Draymond Green       0.500       Over    -525.000       NaN      NaN\n",
       "127  Draymond Green       1.500       Over    -115.000  -110.000      NaN\n",
       "128  Draymond Green       1.500      Under    -115.000  -120.000      NaN\n",
       "129  Draymond Green       2.500       Over     255.000       NaN      NaN\n",
       "130  Draymond Green       3.500       Over     650.000       NaN      NaN"
      ]
     },
     "execution_count": 211,
     "metadata": {},
     "output_type": "execute_result"
    }
   ],
   "source": [
    "odds[odds.name.str.contains('Green')].head(50)"
   ]
  },
  {
   "cell_type": "code",
   "execution_count": 117,
   "id": "009b6c4b-8751-4699-b0bb-b2dee45b92c6",
   "metadata": {},
   "outputs": [
    {
     "ename": "NameError",
     "evalue": "name 'over' is not defined",
     "output_type": "error",
     "traceback": [
      "\u001b[0;31m---------------------------------------------------------------------------\u001b[0m",
      "\u001b[0;31mNameError\u001b[0m                                 Traceback (most recent call last)",
      "Cell \u001b[0;32mIn[117], line 1\u001b[0m\n\u001b[0;32m----> 1\u001b[0m over \u001b[38;5;241m=\u001b[39m over\u001b[38;5;241m.\u001b[39mmelt(id_vars\u001b[38;5;241m=\u001b[39m[\u001b[38;5;124m'\u001b[39m\u001b[38;5;124mname\u001b[39m\u001b[38;5;124m'\u001b[39m,\u001b[38;5;124m'\u001b[39m\u001b[38;5;124mteam\u001b[39m\u001b[38;5;124m'\u001b[39m,\u001b[38;5;124m'\u001b[39m\u001b[38;5;124mgame_id\u001b[39m\u001b[38;5;124m'\u001b[39m,],var_name\u001b[38;5;241m=\u001b[39m\u001b[38;5;124m'\u001b[39m\u001b[38;5;124mthreesMade\u001b[39m\u001b[38;5;124m'\u001b[39m)\n\u001b[1;32m      2\u001b[0m over\u001b[38;5;241m.\u001b[39mthreesMade \u001b[38;5;241m=\u001b[39m over\u001b[38;5;241m.\u001b[39mthreesMade \u001b[38;5;241m-\u001b[39m\u001b[38;5;241m.5\u001b[39m\n\u001b[1;32m      3\u001b[0m final \u001b[38;5;241m=\u001b[39m odds\u001b[38;5;241m.\u001b[39mmerge(over[[\u001b[38;5;124m'\u001b[39m\u001b[38;5;124mname\u001b[39m\u001b[38;5;124m'\u001b[39m,\u001b[38;5;124m'\u001b[39m\u001b[38;5;124mteam\u001b[39m\u001b[38;5;124m'\u001b[39m,\u001b[38;5;124m'\u001b[39m\u001b[38;5;124mthreesMade\u001b[39m\u001b[38;5;124m'\u001b[39m,\u001b[38;5;124m'\u001b[39m\u001b[38;5;124mvalue\u001b[39m\u001b[38;5;124m'\u001b[39m]],how\u001b[38;5;241m=\u001b[39m\u001b[38;5;124m'\u001b[39m\u001b[38;5;124mleft\u001b[39m\u001b[38;5;124m'\u001b[39m,on\u001b[38;5;241m=\u001b[39m[\u001b[38;5;124m'\u001b[39m\u001b[38;5;124mname\u001b[39m\u001b[38;5;124m'\u001b[39m,\u001b[38;5;124m'\u001b[39m\u001b[38;5;124mthreesMade\u001b[39m\u001b[38;5;124m'\u001b[39m])\n",
      "\u001b[0;31mNameError\u001b[0m: name 'over' is not defined"
     ]
    }
   ],
   "source": [
    "over = over.melt(id_vars=['name','team','game_id',],var_name='threesMade')\n",
    "over.threesMade = over.threesMade -.5\n",
    "final = odds.merge(over[['name','team','threesMade','value']],how='left',on=['name','threesMade'])\n",
    "final = final[final.over_under=='Over']\n",
    "final['prob'] = np.where(final.value<0, abs(final.value) / (abs(final.value) + 100), 100/(final.value +100))\n",
    "final['DKKelly'] = [nba.kellyCrit(p,odd) / 8 for p,odd in zip(final.prob,final.DraftKings)]\n",
    "final['FanDuelKelly'] = [nba.kellyCrit(p,odd) / 8 for p,odd in zip(final.prob,final.FanDuel)]\n",
    "final['espnKelly'] = [nba.kellyCrit(p,odd) / 8 for p,odd in zip(final.prob,final['ESPN BET'])]\n",
    "final['dkBet'] = [x * 100 * 5 for x in final.DKKelly.values]\n",
    "final['fdBet'] = [x * 100 * 5 for x in final.FanDuelKelly.values]\n",
    "final['espnBet'] = [x * 100 * 5 for x in final.espnKelly]"
   ]
  },
  {
   "cell_type": "code",
   "execution_count": 45,
   "id": "7262e489-93bc-4557-b9c7-6a6aaa12fd24",
   "metadata": {},
   "outputs": [
    {
     "data": {
      "text/html": [
       "<div>\n",
       "<style scoped>\n",
       "    .dataframe tbody tr th:only-of-type {\n",
       "        vertical-align: middle;\n",
       "    }\n",
       "\n",
       "    .dataframe tbody tr th {\n",
       "        vertical-align: top;\n",
       "    }\n",
       "\n",
       "    .dataframe thead th {\n",
       "        text-align: right;\n",
       "    }\n",
       "</style>\n",
       "<table border=\"1\" class=\"dataframe\">\n",
       "  <thead>\n",
       "    <tr style=\"text-align: right;\">\n",
       "      <th></th>\n",
       "      <th>name</th>\n",
       "      <th>threesMade</th>\n",
       "      <th>over_under</th>\n",
       "      <th>DraftKings</th>\n",
       "      <th>ESPN BET</th>\n",
       "      <th>FanDuel</th>\n",
       "      <th>team</th>\n",
       "      <th>value</th>\n",
       "      <th>prob</th>\n",
       "      <th>DKKelly</th>\n",
       "      <th>FanDuelKelly</th>\n",
       "      <th>espnKelly</th>\n",
       "      <th>dkBet</th>\n",
       "      <th>fdBet</th>\n",
       "      <th>espnBet</th>\n",
       "    </tr>\n",
       "  </thead>\n",
       "  <tbody>\n",
       "    <tr>\n",
       "      <th>0</th>\n",
       "      <td>Aaron Gordon</td>\n",
       "      <td>0.500</td>\n",
       "      <td>Over</td>\n",
       "      <td>-280.000</td>\n",
       "      <td>-250.000</td>\n",
       "      <td>NaN</td>\n",
       "      <td>DEN</td>\n",
       "      <td>718.000</td>\n",
       "      <td>0.122</td>\n",
       "      <td>-0.292</td>\n",
       "      <td>NaN</td>\n",
       "      <td>-0.259</td>\n",
       "      <td>-145.966</td>\n",
       "      <td>NaN</td>\n",
       "      <td>-129.508</td>\n",
       "    </tr>\n",
       "    <tr>\n",
       "      <th>2</th>\n",
       "      <td>Aaron Gordon</td>\n",
       "      <td>1.500</td>\n",
       "      <td>Over</td>\n",
       "      <td>162.500</td>\n",
       "      <td>NaN</td>\n",
       "      <td>NaN</td>\n",
       "      <td>DEN</td>\n",
       "      <td>5114.000</td>\n",
       "      <td>0.019</td>\n",
       "      <td>-0.073</td>\n",
       "      <td>NaN</td>\n",
       "      <td>NaN</td>\n",
       "      <td>-36.525</td>\n",
       "      <td>NaN</td>\n",
       "      <td>NaN</td>\n",
       "    </tr>\n",
       "    <tr>\n",
       "      <th>4</th>\n",
       "      <td>Aaron Gordon</td>\n",
       "      <td>2.500</td>\n",
       "      <td>Over</td>\n",
       "      <td>550.000</td>\n",
       "      <td>NaN</td>\n",
       "      <td>NaN</td>\n",
       "      <td>DEN</td>\n",
       "      <td>9900.000</td>\n",
       "      <td>0.010</td>\n",
       "      <td>-0.021</td>\n",
       "      <td>NaN</td>\n",
       "      <td>NaN</td>\n",
       "      <td>-10.625</td>\n",
       "      <td>NaN</td>\n",
       "      <td>NaN</td>\n",
       "    </tr>\n",
       "    <tr>\n",
       "      <th>5</th>\n",
       "      <td>Ayo Dosunmu</td>\n",
       "      <td>0.500</td>\n",
       "      <td>Over</td>\n",
       "      <td>-500.000</td>\n",
       "      <td>NaN</td>\n",
       "      <td>-450.000</td>\n",
       "      <td>CHI</td>\n",
       "      <td>814.000</td>\n",
       "      <td>0.109</td>\n",
       "      <td>-0.543</td>\n",
       "      <td>-0.487</td>\n",
       "      <td>NaN</td>\n",
       "      <td>-271.472</td>\n",
       "      <td>-243.641</td>\n",
       "      <td>NaN</td>\n",
       "    </tr>\n",
       "    <tr>\n",
       "      <th>6</th>\n",
       "      <td>Ayo Dosunmu</td>\n",
       "      <td>1.500</td>\n",
       "      <td>Over</td>\n",
       "      <td>-110.000</td>\n",
       "      <td>-125.000</td>\n",
       "      <td>-115.000</td>\n",
       "      <td>CHI</td>\n",
       "      <td>6323.000</td>\n",
       "      <td>0.016</td>\n",
       "      <td>-0.133</td>\n",
       "      <td>-0.140</td>\n",
       "      <td>-0.152</td>\n",
       "      <td>-66.707</td>\n",
       "      <td>-69.783</td>\n",
       "      <td>-75.936</td>\n",
       "    </tr>\n",
       "    <tr>\n",
       "      <th>...</th>\n",
       "      <td>...</td>\n",
       "      <td>...</td>\n",
       "      <td>...</td>\n",
       "      <td>...</td>\n",
       "      <td>...</td>\n",
       "      <td>...</td>\n",
       "      <td>...</td>\n",
       "      <td>...</td>\n",
       "      <td>...</td>\n",
       "      <td>...</td>\n",
       "      <td>...</td>\n",
       "      <td>...</td>\n",
       "      <td>...</td>\n",
       "      <td>...</td>\n",
       "      <td>...</td>\n",
       "    </tr>\n",
       "    <tr>\n",
       "      <th>297</th>\n",
       "      <td>Zach LaVine</td>\n",
       "      <td>3.500</td>\n",
       "      <td>Over</td>\n",
       "      <td>130.000</td>\n",
       "      <td>130.000</td>\n",
       "      <td>125.000</td>\n",
       "      <td>CHI</td>\n",
       "      <td>9900.000</td>\n",
       "      <td>0.010</td>\n",
       "      <td>-0.094</td>\n",
       "      <td>-0.098</td>\n",
       "      <td>-0.094</td>\n",
       "      <td>-46.971</td>\n",
       "      <td>-48.875</td>\n",
       "      <td>-46.971</td>\n",
       "    </tr>\n",
       "    <tr>\n",
       "      <th>299</th>\n",
       "      <td>Zach LaVine</td>\n",
       "      <td>4.500</td>\n",
       "      <td>Over</td>\n",
       "      <td>280.000</td>\n",
       "      <td>NaN</td>\n",
       "      <td>250.000</td>\n",
       "      <td>CHI</td>\n",
       "      <td>9900.000</td>\n",
       "      <td>0.010</td>\n",
       "      <td>-0.043</td>\n",
       "      <td>-0.048</td>\n",
       "      <td>NaN</td>\n",
       "      <td>-21.473</td>\n",
       "      <td>-24.125</td>\n",
       "      <td>NaN</td>\n",
       "    </tr>\n",
       "    <tr>\n",
       "      <th>300</th>\n",
       "      <td>Zach LaVine</td>\n",
       "      <td>5.500</td>\n",
       "      <td>Over</td>\n",
       "      <td>600.000</td>\n",
       "      <td>NaN</td>\n",
       "      <td>500.000</td>\n",
       "      <td>CHI</td>\n",
       "      <td>9900.000</td>\n",
       "      <td>0.010</td>\n",
       "      <td>-0.019</td>\n",
       "      <td>-0.024</td>\n",
       "      <td>NaN</td>\n",
       "      <td>-9.688</td>\n",
       "      <td>-11.750</td>\n",
       "      <td>NaN</td>\n",
       "    </tr>\n",
       "    <tr>\n",
       "      <th>301</th>\n",
       "      <td>Zach LaVine</td>\n",
       "      <td>6.500</td>\n",
       "      <td>Over</td>\n",
       "      <td>NaN</td>\n",
       "      <td>NaN</td>\n",
       "      <td>1000.000</td>\n",
       "      <td>CHI</td>\n",
       "      <td>9900.000</td>\n",
       "      <td>0.010</td>\n",
       "      <td>NaN</td>\n",
       "      <td>-0.011</td>\n",
       "      <td>NaN</td>\n",
       "      <td>NaN</td>\n",
       "      <td>-5.562</td>\n",
       "      <td>NaN</td>\n",
       "    </tr>\n",
       "    <tr>\n",
       "      <th>302</th>\n",
       "      <td>Zach LaVine</td>\n",
       "      <td>7.500</td>\n",
       "      <td>Over</td>\n",
       "      <td>NaN</td>\n",
       "      <td>NaN</td>\n",
       "      <td>1900.000</td>\n",
       "      <td>CHI</td>\n",
       "      <td>9900.000</td>\n",
       "      <td>0.010</td>\n",
       "      <td>NaN</td>\n",
       "      <td>-0.005</td>\n",
       "      <td>NaN</td>\n",
       "      <td>NaN</td>\n",
       "      <td>-2.632</td>\n",
       "      <td>NaN</td>\n",
       "    </tr>\n",
       "  </tbody>\n",
       "</table>\n",
       "<p>251 rows × 15 columns</p>\n",
       "</div>"
      ],
      "text/plain": [
       "             name threesMade over_under  DraftKings  ESPN BET  FanDuel team  \\\n",
       "0    Aaron Gordon      0.500       Over    -280.000  -250.000      NaN  DEN   \n",
       "2    Aaron Gordon      1.500       Over     162.500       NaN      NaN  DEN   \n",
       "4    Aaron Gordon      2.500       Over     550.000       NaN      NaN  DEN   \n",
       "5     Ayo Dosunmu      0.500       Over    -500.000       NaN -450.000  CHI   \n",
       "6     Ayo Dosunmu      1.500       Over    -110.000  -125.000 -115.000  CHI   \n",
       "..            ...        ...        ...         ...       ...      ...  ...   \n",
       "297   Zach LaVine      3.500       Over     130.000   130.000  125.000  CHI   \n",
       "299   Zach LaVine      4.500       Over     280.000       NaN  250.000  CHI   \n",
       "300   Zach LaVine      5.500       Over     600.000       NaN  500.000  CHI   \n",
       "301   Zach LaVine      6.500       Over         NaN       NaN 1000.000  CHI   \n",
       "302   Zach LaVine      7.500       Over         NaN       NaN 1900.000  CHI   \n",
       "\n",
       "       value  prob  DKKelly  FanDuelKelly  espnKelly    dkBet    fdBet  \\\n",
       "0    718.000 0.122   -0.292           NaN     -0.259 -145.966      NaN   \n",
       "2   5114.000 0.019   -0.073           NaN        NaN  -36.525      NaN   \n",
       "4   9900.000 0.010   -0.021           NaN        NaN  -10.625      NaN   \n",
       "5    814.000 0.109   -0.543        -0.487        NaN -271.472 -243.641   \n",
       "6   6323.000 0.016   -0.133        -0.140     -0.152  -66.707  -69.783   \n",
       "..       ...   ...      ...           ...        ...      ...      ...   \n",
       "297 9900.000 0.010   -0.094        -0.098     -0.094  -46.971  -48.875   \n",
       "299 9900.000 0.010   -0.043        -0.048        NaN  -21.473  -24.125   \n",
       "300 9900.000 0.010   -0.019        -0.024        NaN   -9.688  -11.750   \n",
       "301 9900.000 0.010      NaN        -0.011        NaN      NaN   -5.562   \n",
       "302 9900.000 0.010      NaN        -0.005        NaN      NaN   -2.632   \n",
       "\n",
       "     espnBet  \n",
       "0   -129.508  \n",
       "2        NaN  \n",
       "4        NaN  \n",
       "5        NaN  \n",
       "6    -75.936  \n",
       "..       ...  \n",
       "297  -46.971  \n",
       "299      NaN  \n",
       "300      NaN  \n",
       "301      NaN  \n",
       "302      NaN  \n",
       "\n",
       "[251 rows x 15 columns]"
      ]
     },
     "execution_count": 45,
     "metadata": {},
     "output_type": "execute_result"
    }
   ],
   "source": [
    "final"
   ]
  },
  {
   "cell_type": "code",
   "execution_count": 21,
   "id": "688db7e3-7441-4aef-b9fa-54cd5ce51f33",
   "metadata": {},
   "outputs": [],
   "source": [
    "fd = ['name','threesMade','FanDuel','ESPN BET','DraftKings','team','value','prob','fdBet']\n",
    "espn = ['name','threesMade','ESPN BET','FanDuel','DraftKings','team','value','prob','espnBet']\n",
    "dk = ['name','threesMade','DraftKings','team','value','prob','dkBet']"
   ]
  },
  {
   "cell_type": "code",
   "execution_count": 371,
   "id": "473e0322-d34f-4331-9b30-01d72118665e",
   "metadata": {},
   "outputs": [
    {
     "data": {
      "text/plain": [
       "2.392970873786409"
      ]
     },
     "execution_count": 371,
     "metadata": {},
     "output_type": "execute_result"
    }
   ],
   "source": [
    "p =  .446 * .507 \n",
    "nba.kellyCrit(p,412)* 62.5"
   ]
  },
  {
   "cell_type": "code",
   "execution_count": 938,
   "id": "c7c3216b-3250-4b46-86bf-4f284a05bc41",
   "metadata": {},
   "outputs": [],
   "source": [
    "\n",
    "\n",
    "\n",
    "\n",
    "\n",
    "\n",
    "\n",
    "\n",
    "\n",
    "\n",
    "\n",
    "\n",
    "\n",
    "df = pd.read_sql('''select name, abv_fgm + lc_fgm + rc_fgm as ThreesMade,abv_fga + lc_fga + rc_fga as ThreesAtts,\n",
    "                   lc_fga + rc_fga as cornerAtts ,  lc_fgm + rc_fgm as cornerMakes\n",
    "            from plyrLogs plogs \n",
    "            left join players p on plogs.player_id  = p.player_id\n",
    "            where game_date = '{}' and name in ({})'''.format(yst,''''Tristan Da Silva','Toumani Camara' '''),nba.conn)\n",
    "            "
   ]
  },
  {
   "cell_type": "code",
   "execution_count": 939,
   "id": "ca69c1c4-9cfc-40e6-832c-eda1cc97ee90",
   "metadata": {},
   "outputs": [
    {
     "data": {
      "text/html": [
       "<div>\n",
       "<style scoped>\n",
       "    .dataframe tbody tr th:only-of-type {\n",
       "        vertical-align: middle;\n",
       "    }\n",
       "\n",
       "    .dataframe tbody tr th {\n",
       "        vertical-align: top;\n",
       "    }\n",
       "\n",
       "    .dataframe thead th {\n",
       "        text-align: right;\n",
       "    }\n",
       "</style>\n",
       "<table border=\"1\" class=\"dataframe\">\n",
       "  <thead>\n",
       "    <tr style=\"text-align: right;\">\n",
       "      <th></th>\n",
       "      <th>name</th>\n",
       "      <th>ThreesMade</th>\n",
       "      <th>ThreesAtts</th>\n",
       "      <th>cornerAtts</th>\n",
       "      <th>cornerMakes</th>\n",
       "    </tr>\n",
       "  </thead>\n",
       "  <tbody>\n",
       "    <tr>\n",
       "      <th>0</th>\n",
       "      <td>Tristan Da Silva</td>\n",
       "      <td>1</td>\n",
       "      <td>8</td>\n",
       "      <td>3</td>\n",
       "      <td>1</td>\n",
       "    </tr>\n",
       "    <tr>\n",
       "      <th>1</th>\n",
       "      <td>Toumani Camara</td>\n",
       "      <td>1</td>\n",
       "      <td>8</td>\n",
       "      <td>5</td>\n",
       "      <td>0</td>\n",
       "    </tr>\n",
       "  </tbody>\n",
       "</table>\n",
       "</div>"
      ],
      "text/plain": [
       "               name  ThreesMade  ThreesAtts  cornerAtts  cornerMakes\n",
       "0  Tristan Da Silva           1           8           3            1\n",
       "1    Toumani Camara           1           8           5            0"
      ]
     },
     "execution_count": 939,
     "metadata": {},
     "output_type": "execute_result"
    }
   ],
   "source": [
    "df"
   ]
  },
  {
   "cell_type": "code",
   "execution_count": 489,
   "id": "c431a7bf-fea8-42dd-bb82-5629e0664a7d",
   "metadata": {
    "scrolled": true
   },
   "outputs": [
    {
     "name": "stderr",
     "output_type": "stream",
     "text": [
      " 52%|███████████████████████████████████████████████████████████████▍                                                          | 52/100 [04:27<05:57,  7.46s/it]/Users/ericcoxon/code/bets/nba/../bets.py:372: FutureWarning: The behavior of DataFrame concatenation with empty or all-NA entries is deprecated. In a future version, this will no longer exclude empty or all-NA columns when determining the result dtypes. To retain the old behavior, exclude the relevant entries before the concat operation.\n",
      "  season_nullable = season).get_data_frames()[0][logCols]\n",
      "100%|█████████████████████████████████████████████████████████████████████████████████████████████████████████████████████████| 100/100 [10:04<00:00,  6.05s/it]\n",
      " 34%|█████████████████████████████████████████▍                                                                                | 34/100 [04:31<08:47,  8.00s/it]\n",
      "100%|█████████████████████████████████████████████████████████████████████████████████████████████████████████████████████████| 100/100 [12:36<00:00,  7.56s/it]\n",
      "100%|█████████████████████████████████████████████████████████████████████████████████████████████████████████████████████████| 100/100 [13:05<00:00,  7.86s/it]\n",
      " 29%|███████████████████████████████████▍                                                                                      | 29/100 [03:47<09:12,  7.79s/it]/Users/ericcoxon/code/bets/nba/../bets.py:372: FutureWarning: The behavior of DataFrame concatenation with empty or all-NA entries is deprecated. In a future version, this will no longer exclude empty or all-NA columns when determining the result dtypes. To retain the old behavior, exclude the relevant entries before the concat operation.\n",
      "  season_nullable = season).get_data_frames()[0][logCols]\n",
      "100%|█████████████████████████████████████████████████████████████████████████████████████████████████████████████████████████| 100/100 [12:44<00:00,  7.65s/it]\n",
      "100%|█████████████████████████████████████████████████████████████████████████████████████████████████████████████████████████| 100/100 [14:08<00:00,  8.49s/it]\n",
      " 30%|████████████████████████████████████▌                                                                                     | 30/100 [04:55<11:30,  9.86s/it]\n",
      "100%|█████████████████████████████████████████████████████████████████████████████████████████████████████████████████████████| 100/100 [13:38<00:00,  8.18s/it]\n",
      " 26%|███████████████████████████████▋                                                                                          | 26/100 [04:33<12:58, 10.52s/it]\n",
      "100%|█████████████████████████████████████████████████████████████████████████████████████████████████████████████████████████| 100/100 [13:40<00:00,  8.21s/it]\n",
      "100%|█████████████████████████████████████████████████████████████████████████████████████████████████████████████████████████| 100/100 [14:03<00:00,  8.44s/it]\n",
      " 81%|██████████████████████████████████████████████████████████████████████████████████████████████████▊                       | 81/100 [11:35<02:43,  8.59s/it]\n"
     ]
    }
   ],
   "source": [
    "#run in batches of 500\n",
    "batch = int(len(games) / 100)\n",
    "missing = []\n",
    "for i in range(0,batch):\n",
    "    try:\n",
    "        df = nba.get_plyr_drb_shots(games[i*100:i*100+100])\n",
    "    except:\n",
    "        missing.append(i)\n",
    "    df.to_pickle('data/pickle/{}plyrDrb.pkl'.format(i))\n",
    "    time.sleep(np.random.randint(20,45))\n",
    "    "
   ]
  },
  {
   "cell_type": "code",
   "execution_count": 619,
   "id": "2bd189b0-b6e8-4987-8315-7180bdd72868",
   "metadata": {},
   "outputs": [],
   "source": [
    "plogs = pd.read_sql('select player_id,game_date, team_id from plyrLogs',nba.conn)"
   ]
  },
  {
   "cell_type": "code",
   "execution_count": null,
   "id": "9b653a79-bda4-4aea-9b6f-9cec48305d94",
   "metadata": {},
   "outputs": [],
   "source": [
    "BoxScoreAdvancedV3("
   ]
  },
  {
   "cell_type": "code",
   "execution_count": 163,
   "id": "bc851a61-e41d-4279-8250-2c2b8e94a2a4",
   "metadata": {},
   "outputs": [],
   "source": [
    "players = pd.read_sql('select player_id,name,min(game_date) as game_date from plyrLogs JOIN players using (player_id) group by player_id,name',nba.conn)"
   ]
  },
  {
   "cell_type": "code",
   "execution_count": 164,
   "id": "257b2ec2-3ea1-47a8-9f9a-6304689a55ea",
   "metadata": {},
   "outputs": [
    {
     "data": {
      "text/html": [
       "<div>\n",
       "<style scoped>\n",
       "    .dataframe tbody tr th:only-of-type {\n",
       "        vertical-align: middle;\n",
       "    }\n",
       "\n",
       "    .dataframe tbody tr th {\n",
       "        vertical-align: top;\n",
       "    }\n",
       "\n",
       "    .dataframe thead th {\n",
       "        text-align: right;\n",
       "    }\n",
       "</style>\n",
       "<table border=\"1\" class=\"dataframe\">\n",
       "  <thead>\n",
       "    <tr style=\"text-align: right;\">\n",
       "      <th></th>\n",
       "      <th>player_id</th>\n",
       "      <th>name</th>\n",
       "      <th>game_date</th>\n",
       "    </tr>\n",
       "  </thead>\n",
       "  <tbody>\n",
       "    <tr>\n",
       "      <th>236</th>\n",
       "      <td>1628467</td>\n",
       "      <td>Maxi Kleber</td>\n",
       "      <td>2025-01-06</td>\n",
       "    </tr>\n",
       "    <tr>\n",
       "      <th>324</th>\n",
       "      <td>1629029</td>\n",
       "      <td>Luka Doncic</td>\n",
       "      <td>2025-02-04</td>\n",
       "    </tr>\n",
       "    <tr>\n",
       "      <th>708</th>\n",
       "      <td>1631108</td>\n",
       "      <td>Max Christie</td>\n",
       "      <td>2025-02-04</td>\n",
       "    </tr>\n",
       "    <tr>\n",
       "      <th>812</th>\n",
       "      <td>1641740</td>\n",
       "      <td>Jaylen Clark</td>\n",
       "      <td>2025-01-09</td>\n",
       "    </tr>\n",
       "    <tr>\n",
       "      <th>816</th>\n",
       "      <td>1641747</td>\n",
       "      <td>DaRon Holmes II</td>\n",
       "      <td>2025-02-20</td>\n",
       "    </tr>\n",
       "    <tr>\n",
       "      <th>819</th>\n",
       "      <td>1641752</td>\n",
       "      <td>Bobi Klintman</td>\n",
       "      <td>2025-01-08</td>\n",
       "    </tr>\n",
       "    <tr>\n",
       "      <th>822</th>\n",
       "      <td>1641755</td>\n",
       "      <td>Kevin McCullar Jr.</td>\n",
       "      <td>2025-02-20</td>\n",
       "    </tr>\n",
       "    <tr>\n",
       "      <th>844</th>\n",
       "      <td>1641817</td>\n",
       "      <td>Anton Watson</td>\n",
       "      <td>2025-02-20</td>\n",
       "    </tr>\n",
       "    <tr>\n",
       "      <th>868</th>\n",
       "      <td>1642269</td>\n",
       "      <td>Devin Carter</td>\n",
       "      <td>2025-01-03</td>\n",
       "    </tr>\n",
       "    <tr>\n",
       "      <th>1042</th>\n",
       "      <td>203076</td>\n",
       "      <td>Anthony Davis</td>\n",
       "      <td>2025-02-04</td>\n",
       "    </tr>\n",
       "  </tbody>\n",
       "</table>\n",
       "</div>"
      ],
      "text/plain": [
       "     player_id                name   game_date\n",
       "236    1628467         Maxi Kleber  2025-01-06\n",
       "324    1629029         Luka Doncic  2025-02-04\n",
       "708    1631108        Max Christie  2025-02-04\n",
       "812    1641740        Jaylen Clark  2025-01-09\n",
       "816    1641747     DaRon Holmes II  2025-02-20\n",
       "819    1641752       Bobi Klintman  2025-01-08\n",
       "822    1641755  Kevin McCullar Jr.  2025-02-20\n",
       "844    1641817        Anton Watson  2025-02-20\n",
       "868    1642269        Devin Carter  2025-01-03\n",
       "1042    203076       Anthony Davis  2025-02-04"
      ]
     },
     "execution_count": 164,
     "metadata": {},
     "output_type": "execute_result"
    }
   ],
   "source": [
    "players[players.game_date>\"2025-01-01\"]"
   ]
  },
  {
   "cell_type": "code",
   "execution_count": 2,
   "id": "beaaae6c-4ea8-456b-a034-15e6dc2de5d5",
   "metadata": {},
   "outputs": [],
   "source": [
    "from nba_api.stats.endpoints import BoxScoreAdvancedV3"
   ]
  },
  {
   "cell_type": "code",
   "execution_count": null,
   "id": "7654541b-314f-48ff-9d8b-2723a7224339",
   "metadata": {},
   "outputs": [],
   "source": [
    "BoxScoreAdvancedV3("
   ]
  }
 ],
 "metadata": {
  "kernelspec": {
   "display_name": "Python 3 (ipykernel)",
   "language": "python",
   "name": "python3"
  },
  "language_info": {
   "codemirror_mode": {
    "name": "ipython",
    "version": 3
   },
   "file_extension": ".py",
   "mimetype": "text/x-python",
   "name": "python",
   "nbconvert_exporter": "python",
   "pygments_lexer": "ipython3",
   "version": "3.11.7"
  }
 },
 "nbformat": 4,
 "nbformat_minor": 5
}
